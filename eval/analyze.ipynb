{
 "cells": [
  {
   "cell_type": "code",
   "execution_count": 74,
   "metadata": {},
   "outputs": [
    {
     "name": "stdout",
     "output_type": "stream",
     "text": [
      "The autoreload extension is already loaded. To reload it, use:\n",
      "  %reload_ext autoreload\n"
     ]
    }
   ],
   "source": [
    "%load_ext autoreload\n",
    "%autoreload 2\n",
    "\n",
    "from process_results import MetricsReader\n",
    "import yaml\n",
    "import plotly.graph_objects as go\n",
    "import plotly.io as pio\n",
    "import pandas as pd\n",
    "import numpy as np\n",
    "from pathlib import Path\n",
    "pio.templates.default = \"plotly_white\"\n",
    "pio.renderers.default = \"browser\""
   ]
  },
  {
   "cell_type": "code",
   "execution_count": 75,
   "metadata": {},
   "outputs": [],
   "source": [
    "filepath = Path('results')/'250225_np_hf_k_sweep_r4'/'2025-02-25-06-37-52_velocity_heuristic_force_0.00100.result'"
   ]
  },
  {
   "cell_type": "code",
   "execution_count": 157,
   "metadata": {},
   "outputs": [
    {
     "name": "stderr",
     "output_type": "stream",
     "text": [
      "Processing records: 100%|██████████| 1938/1938 [00:00<00:00, 474771.40it/s]\n"
     ]
    },
    {
     "name": "stdout",
     "output_type": "stream",
     "text": [
      "File: 2025-02-25-06-37-52_velocity_heuristic_force_0.00100.result took 5.185 seconds to process\n",
      "\n",
      "Experiment Info:\n",
      "--------------------------------------------------\n",
      "label: velocity_heuristic_force_0.00100\n",
      "success: True\n",
      "num_agents: 1.000\n",
      "num_obstacles: 6000.000\n",
      "num_collisions: 0.000\n",
      "detection_shell_radius: {'agent_1': 5.0}\n",
      "agent_switches: 0.000\n",
      "agent_residency_pct: {'agent_1': 100.0}\n",
      "agent_positions:\n",
      "  min: -0.276\n",
      "  max: 1.602\n",
      "  mean: 0.303\n",
      "  std: 0.589\n",
      "distances_to_obstacles:\n",
      "  min: 0.240\n",
      "  max: 4.403\n",
      "  mean: 2.537\n",
      "  std: 0.770\n",
      "min_distances_to_obstacles:\n",
      "  min: 0.240\n",
      "  max: 0.605\n",
      "  mean: 0.446\n",
      "  std: 0.132\n",
      "max_distances_to_obstacles:\n",
      "  min: 4.187\n",
      "  max: 4.403\n",
      "  mean: 4.332\n",
      "  std: 0.043\n",
      "distance_to_target:\n",
      "  min: 0.023\n",
      "  max: 1.500\n",
      "  mean: 0.621\n",
      "  std: 0.542\n",
      "path_length: 2.048\n",
      "motion_start_timestamp: 1740483479.756\n",
      "motion_start_pos:\n",
      "  min: 0.000\n",
      "  max: 0.001\n",
      "  mean: 0.001\n",
      "  std: 0.000\n",
      "experiment_start_timestamp: 1740483474.244\n",
      "experiment_end_timestamp: 1740483572.400\n",
      "elapsed_experiment_runtime: 98.156\n",
      "elapsed_motion_runtime: 56.082\n",
      "min_distances_to_target: 0.023\n",
      "min_distances_to_target_timestamp: 1740483535.838\n",
      "average_planning_time: 0.044\n",
      "--------------------------------------------------\n"
     ]
    }
   ],
   "source": [
    "reader = MetricsReader(filepath, success_time_limit=None, acceptable_min_distances_to_target=None)\n",
    "reader.print_stats()"
   ]
  },
  {
   "cell_type": "code",
   "execution_count": 166,
   "metadata": {},
   "outputs": [
    {
     "data": {
      "text/plain": [
       "['label: velocity_heuristic_force_0.00100',\n",
       " \"success: 'True'\",\n",
       " 'num_agents: 1.0',\n",
       " 'num_obstacles: 6000.0',\n",
       " 'num_collisions: 0.0',\n",
       " 'detection_shell_radius:',\n",
       " '  agent_1: 5.0',\n",
       " 'agent_switches: 0.0',\n",
       " 'agent_residency_pct:',\n",
       " '  agent_1: 100.0',\n",
       " 'agent_positions:',\n",
       " '  min: -0.276',\n",
       " '  max: 1.602',\n",
       " '  mean: 0.303',\n",
       " '  std: 0.589',\n",
       " 'distances_to_obstacles:',\n",
       " '  min: 0.24',\n",
       " '  max: 4.403',\n",
       " '  mean: 2.537',\n",
       " '  std: 0.77',\n",
       " 'min_distances_to_obstacles:',\n",
       " '  min: 0.24',\n",
       " '  max: 0.605',\n",
       " '  mean: 0.446',\n",
       " '  std: 0.132',\n",
       " 'max_distances_to_obstacles:',\n",
       " '  min: 4.187',\n",
       " '  max: 4.403',\n",
       " '  mean: 4.332',\n",
       " '  std: 0.043',\n",
       " 'distance_to_target:',\n",
       " '  min: 0.023',\n",
       " '  max: 1.5',\n",
       " '  mean: 0.621',\n",
       " '  std: 0.542',\n",
       " 'path_length: 2.048',\n",
       " 'motion_start_timestamp: 1740483479.756',\n",
       " 'motion_start_pos:',\n",
       " '  min: 0.0',\n",
       " '  max: 0.001',\n",
       " '  mean: 0.001',\n",
       " '  std: 0.0',\n",
       " 'experiment_start_timestamp: 1740483474.244',\n",
       " 'experiment_end_timestamp: 1740483572.4',\n",
       " 'elapsed_experiment_runtime: 98.156',\n",
       " 'elapsed_motion_runtime: 56.082',\n",
       " 'min_distances_to_target: 0.023',\n",
       " 'min_distances_to_target_timestamp: 1740483535.838',\n",
       " 'average_planning_time: 0.044',\n",
       " '']"
      ]
     },
     "execution_count": 166,
     "metadata": {},
     "output_type": "execute_result"
    }
   ],
   "source": [
    "reader.format_stats()"
   ]
  },
  {
   "cell_type": "code",
   "execution_count": 167,
   "metadata": {},
   "outputs": [],
   "source": [
    "reader.save_stats()"
   ]
  },
  {
   "cell_type": "code",
   "execution_count": 133,
   "metadata": {},
   "outputs": [
    {
     "data": {
      "text/plain": [
       "{'agent_switch_factor': 0.9,\n",
       " 'agents': [{'approach_distance': 0.25,\n",
       "   'forces': {'attractor_force': {'k_damping_angular': 0.025,\n",
       "     'k_damping_linear': 2.5,\n",
       "     'k_gain': 1.0,\n",
       "     'k_stiffness_angular': 0.01,\n",
       "     'k_stiffness_linear': 1.0},\n",
       "    'velocity_heuristic_force': {'detect_shell_radius': 5.0, 'k_gain': 1.0}},\n",
       "   'mass': 1.0,\n",
       "   'max_velocity': 0.1,\n",
       "   'radius': 0.05}],\n",
       " 'delta_t': 0.01,\n",
       " 'experiment_type': 'oriented_pointmass',\n",
       " 'goal_distance_cost_weight': 1.0,\n",
       " 'loop_frequency': 1000,\n",
       " 'max_prediction_steps': 30,\n",
       " 'obstacle_distance_cost_weight': 1.0,\n",
       " 'path_length_cost_weight': 1.0,\n",
       " 'planning_frequency': 30,\n",
       " 'poses': {'goal_orientation': [1.0, 0.0, 0.0, 0.0],\n",
       "  'goal_pos': [0.0, 1.5, 0.0],\n",
       "  'start_orientation': [1.0, 0.0, 0.0, 0.0],\n",
       "  'start_pos': [0.0, 0.0, 0.0]},\n",
       " 'service_timeout': 5000}"
      ]
     },
     "execution_count": 133,
     "metadata": {},
     "output_type": "execute_result"
    }
   ],
   "source": [
    "reader.workload_config['planner_config']"
   ]
  },
  {
   "cell_type": "code",
   "execution_count": null,
   "metadata": {},
   "outputs": [
    {
     "name": "stdout",
     "output_type": "stream",
     "text": [
      "Min Distance to Obstacle: 0.2403327867432024\n",
      "Max Distance to Obstacle: 4.402977299201549\n",
      "Min Distance to Target: 0.0232813780726471\n",
      "Max Distance to Target: 1.5\n",
      "Total Path Length: 2.0483136122105927\n",
      "Time taken to process stats:  0.3724508285522461\n"
     ]
    }
   ],
   "source": [
    "reader.process_info_and_analysis()"
   ]
  },
  {
   "cell_type": "code",
   "execution_count": 139,
   "metadata": {},
   "outputs": [
    {
     "data": {
      "text/html": [
       "<div>\n",
       "<style scoped>\n",
       "    .dataframe tbody tr th:only-of-type {\n",
       "        vertical-align: middle;\n",
       "    }\n",
       "\n",
       "    .dataframe tbody tr th {\n",
       "        vertical-align: top;\n",
       "    }\n",
       "\n",
       "    .dataframe thead th {\n",
       "        text-align: right;\n",
       "    }\n",
       "</style>\n",
       "<table border=\"1\" class=\"dataframe\">\n",
       "  <thead>\n",
       "    <tr style=\"text-align: right;\">\n",
       "      <th></th>\n",
       "      <th>timestamp</th>\n",
       "      <th>agent_id</th>\n",
       "      <th>type</th>\n",
       "    </tr>\n",
       "  </thead>\n",
       "  <tbody>\n",
       "    <tr>\n",
       "      <th>0</th>\n",
       "      <td>1.740483e+09</td>\n",
       "      <td>1</td>\n",
       "      <td>best_agent_name</td>\n",
       "    </tr>\n",
       "    <tr>\n",
       "      <th>1</th>\n",
       "      <td>1.740483e+09</td>\n",
       "      <td>1</td>\n",
       "      <td>best_agent_name</td>\n",
       "    </tr>\n",
       "    <tr>\n",
       "      <th>2</th>\n",
       "      <td>1.740483e+09</td>\n",
       "      <td>1</td>\n",
       "      <td>best_agent_name</td>\n",
       "    </tr>\n",
       "    <tr>\n",
       "      <th>3</th>\n",
       "      <td>1.740483e+09</td>\n",
       "      <td>1</td>\n",
       "      <td>best_agent_name</td>\n",
       "    </tr>\n",
       "    <tr>\n",
       "      <th>4</th>\n",
       "      <td>1.740483e+09</td>\n",
       "      <td>1</td>\n",
       "      <td>best_agent_name</td>\n",
       "    </tr>\n",
       "    <tr>\n",
       "      <th>...</th>\n",
       "      <td>...</td>\n",
       "      <td>...</td>\n",
       "      <td>...</td>\n",
       "    </tr>\n",
       "    <tr>\n",
       "      <th>766</th>\n",
       "      <td>1.740484e+09</td>\n",
       "      <td>1</td>\n",
       "      <td>best_agent_name</td>\n",
       "    </tr>\n",
       "    <tr>\n",
       "      <th>767</th>\n",
       "      <td>1.740484e+09</td>\n",
       "      <td>1</td>\n",
       "      <td>best_agent_name</td>\n",
       "    </tr>\n",
       "    <tr>\n",
       "      <th>768</th>\n",
       "      <td>1.740484e+09</td>\n",
       "      <td>1</td>\n",
       "      <td>best_agent_name</td>\n",
       "    </tr>\n",
       "    <tr>\n",
       "      <th>769</th>\n",
       "      <td>1.740484e+09</td>\n",
       "      <td>1</td>\n",
       "      <td>best_agent_name</td>\n",
       "    </tr>\n",
       "    <tr>\n",
       "      <th>770</th>\n",
       "      <td>1.740484e+09</td>\n",
       "      <td>1</td>\n",
       "      <td>best_agent_name</td>\n",
       "    </tr>\n",
       "  </tbody>\n",
       "</table>\n",
       "<p>771 rows × 3 columns</p>\n",
       "</div>"
      ],
      "text/plain": [
       "        timestamp  agent_id             type\n",
       "0    1.740483e+09         1  best_agent_name\n",
       "1    1.740483e+09         1  best_agent_name\n",
       "2    1.740483e+09         1  best_agent_name\n",
       "3    1.740483e+09         1  best_agent_name\n",
       "4    1.740483e+09         1  best_agent_name\n",
       "..            ...       ...              ...\n",
       "766  1.740484e+09         1  best_agent_name\n",
       "767  1.740484e+09         1  best_agent_name\n",
       "768  1.740484e+09         1  best_agent_name\n",
       "769  1.740484e+09         1  best_agent_name\n",
       "770  1.740484e+09         1  best_agent_name\n",
       "\n",
       "[771 rows x 3 columns]"
      ]
     },
     "execution_count": 139,
     "metadata": {},
     "output_type": "execute_result"
    }
   ],
   "source": [
    "reader.best_agent"
   ]
  }
 ],
 "metadata": {
  "kernelspec": {
   "display_name": "percept_env",
   "language": "python",
   "name": "python3"
  },
  "language_info": {
   "codemirror_mode": {
    "name": "ipython",
    "version": 3
   },
   "file_extension": ".py",
   "mimetype": "text/x-python",
   "name": "python",
   "nbconvert_exporter": "python",
   "pygments_lexer": "ipython3",
   "version": "3.10.16"
  }
 },
 "nbformat": 4,
 "nbformat_minor": 2
}
