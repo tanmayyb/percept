{
 "cells": [
  {
   "cell_type": "code",
   "execution_count": 1,
   "metadata": {},
   "outputs": [],
   "source": [
    "%load_ext autoreload\n",
    "%autoreload 2\n",
    "\n",
    "from process_results import MetricsReader\n",
    "import yaml\n",
    "import plotly.graph_objects as go\n",
    "import plotly.io as pio\n",
    "import pandas as pd\n",
    "import numpy as np\n",
    "from pathlib import Path\n",
    "pio.templates.default = \"plotly_white\"\n",
    "pio.renderers.default = \"browser\""
   ]
  },
  {
   "cell_type": "code",
   "execution_count": 2,
   "metadata": {},
   "outputs": [],
   "source": [
    "plan ='250226_freq_predsteps_prof_r1'\n",
    "dir_path = Path('results')/plan"
   ]
  },
  {
   "cell_type": "code",
   "execution_count": 3,
   "metadata": {},
   "outputs": [
    {
     "name": "stderr",
     "output_type": "stream",
     "text": [
      "Processing records: 100%|██████████| 1124/1124 [00:00<00:00, 552425.32it/s]\n"
     ]
    },
    {
     "name": "stdout",
     "output_type": "stream",
     "text": [
      "File: 2025-02-26-05-17-27_freq_10_steps_10.result took 0.058 seconds to process\n"
     ]
    },
    {
     "name": "stderr",
     "output_type": "stream",
     "text": [
      "Processing records: 100%|██████████| 1095/1095 [00:00<00:00, 565959.69it/s]\n"
     ]
    },
    {
     "name": "stdout",
     "output_type": "stream",
     "text": [
      "File: 2025-02-26-05-18-38_freq_10_steps_20.result took 0.047 seconds to process\n"
     ]
    },
    {
     "name": "stderr",
     "output_type": "stream",
     "text": [
      "Processing records: 100%|██████████| 1093/1093 [00:00<00:00, 518594.37it/s]\n"
     ]
    },
    {
     "name": "stdout",
     "output_type": "stream",
     "text": [
      "File: 2025-02-26-05-19-49_freq_10_steps_30.result took 0.048 seconds to process\n"
     ]
    },
    {
     "name": "stderr",
     "output_type": "stream",
     "text": [
      "Processing records: 100%|██████████| 1093/1093 [00:00<00:00, 403696.22it/s]\n"
     ]
    },
    {
     "name": "stdout",
     "output_type": "stream",
     "text": [
      "File: 2025-02-26-05-21-00_freq_10_steps_40.result took 0.045 seconds to process\n"
     ]
    },
    {
     "name": "stderr",
     "output_type": "stream",
     "text": [
      "Processing records: 100%|██████████| 1093/1093 [00:00<00:00, 558933.71it/s]\n"
     ]
    },
    {
     "name": "stdout",
     "output_type": "stream",
     "text": [
      "File: 2025-02-26-05-22-12_freq_10_steps_50.result took 0.046 seconds to process\n"
     ]
    },
    {
     "name": "stderr",
     "output_type": "stream",
     "text": [
      "Processing records: 100%|██████████| 1092/1092 [00:00<00:00, 589166.45it/s]\n"
     ]
    },
    {
     "name": "stdout",
     "output_type": "stream",
     "text": [
      "File: 2025-02-26-05-23-23_freq_10_steps_60.result took 0.048 seconds to process\n"
     ]
    },
    {
     "name": "stderr",
     "output_type": "stream",
     "text": [
      "Processing records: 100%|██████████| 1093/1093 [00:00<00:00, 568287.38it/s]\n"
     ]
    },
    {
     "name": "stdout",
     "output_type": "stream",
     "text": [
      "File: 2025-02-26-05-24-34_freq_10_steps_70.result took 0.044 seconds to process\n"
     ]
    },
    {
     "name": "stderr",
     "output_type": "stream",
     "text": [
      "Processing records: 100%|██████████| 1092/1092 [00:00<00:00, 484829.04it/s]\n"
     ]
    },
    {
     "name": "stdout",
     "output_type": "stream",
     "text": [
      "File: 2025-02-26-05-25-45_freq_10_steps_80.result took 0.047 seconds to process\n"
     ]
    },
    {
     "name": "stderr",
     "output_type": "stream",
     "text": [
      "Processing records: 100%|██████████| 1093/1093 [00:00<00:00, 439074.25it/s]\n"
     ]
    },
    {
     "name": "stdout",
     "output_type": "stream",
     "text": [
      "File: 2025-02-26-05-26-57_freq_10_steps_90.result took 0.046 seconds to process\n"
     ]
    },
    {
     "name": "stderr",
     "output_type": "stream",
     "text": [
      "Processing records: 100%|██████████| 1094/1094 [00:00<00:00, 572712.00it/s]\n"
     ]
    },
    {
     "name": "stdout",
     "output_type": "stream",
     "text": [
      "File: 2025-02-26-05-28-07_freq_10_steps_100.result took 0.043 seconds to process\n"
     ]
    },
    {
     "name": "stderr",
     "output_type": "stream",
     "text": [
      "Processing records: 100%|██████████| 1093/1093 [00:00<00:00, 605917.83it/s]\n"
     ]
    },
    {
     "name": "stdout",
     "output_type": "stream",
     "text": [
      "File: 2025-02-26-05-29-19_freq_20_steps_10.result took 0.044 seconds to process\n"
     ]
    },
    {
     "name": "stderr",
     "output_type": "stream",
     "text": [
      "Processing records: 100%|██████████| 1094/1094 [00:00<00:00, 525789.91it/s]\n"
     ]
    },
    {
     "name": "stdout",
     "output_type": "stream",
     "text": [
      "File: 2025-02-26-05-30-30_freq_20_steps_20.result took 0.047 seconds to process\n"
     ]
    },
    {
     "name": "stderr",
     "output_type": "stream",
     "text": [
      "Processing records: 100%|██████████| 1095/1095 [00:00<00:00, 554681.51it/s]\n"
     ]
    },
    {
     "name": "stdout",
     "output_type": "stream",
     "text": [
      "File: 2025-02-26-05-31-41_freq_20_steps_30.result took 0.046 seconds to process\n"
     ]
    },
    {
     "name": "stderr",
     "output_type": "stream",
     "text": [
      "Processing records: 100%|██████████| 1094/1094 [00:00<00:00, 472658.49it/s]\n"
     ]
    },
    {
     "name": "stdout",
     "output_type": "stream",
     "text": [
      "File: 2025-02-26-05-32-52_freq_20_steps_40.result took 0.045 seconds to process\n"
     ]
    },
    {
     "name": "stderr",
     "output_type": "stream",
     "text": [
      "Processing records: 100%|██████████| 1093/1093 [00:00<00:00, 501627.56it/s]\n"
     ]
    },
    {
     "name": "stdout",
     "output_type": "stream",
     "text": [
      "File: 2025-02-26-05-34-04_freq_20_steps_50.result took 0.064 seconds to process\n"
     ]
    },
    {
     "name": "stderr",
     "output_type": "stream",
     "text": [
      "Processing records: 100%|██████████| 1094/1094 [00:00<00:00, 506576.35it/s]\n"
     ]
    },
    {
     "name": "stdout",
     "output_type": "stream",
     "text": [
      "File: 2025-02-26-05-35-15_freq_20_steps_60.result took 0.047 seconds to process\n"
     ]
    },
    {
     "name": "stderr",
     "output_type": "stream",
     "text": [
      "Processing records: 100%|██████████| 1095/1095 [00:00<00:00, 481119.09it/s]\n"
     ]
    },
    {
     "name": "stdout",
     "output_type": "stream",
     "text": [
      "File: 2025-02-26-05-36-26_freq_20_steps_70.result took 0.046 seconds to process\n"
     ]
    },
    {
     "name": "stderr",
     "output_type": "stream",
     "text": [
      "Processing records: 100%|██████████| 1094/1094 [00:00<00:00, 110549.27it/s]\n"
     ]
    },
    {
     "name": "stdout",
     "output_type": "stream",
     "text": [
      "File: 2025-02-26-05-37-37_freq_20_steps_80.result took 0.044 seconds to process\n"
     ]
    },
    {
     "name": "stderr",
     "output_type": "stream",
     "text": [
      "Processing records: 100%|██████████| 1093/1093 [00:00<00:00, 514635.64it/s]\n"
     ]
    },
    {
     "name": "stdout",
     "output_type": "stream",
     "text": [
      "File: 2025-02-26-05-38-48_freq_20_steps_90.result took 0.044 seconds to process\n"
     ]
    },
    {
     "name": "stderr",
     "output_type": "stream",
     "text": [
      "Processing records: 100%|██████████| 1094/1094 [00:00<00:00, 500389.16it/s]\n"
     ]
    },
    {
     "name": "stdout",
     "output_type": "stream",
     "text": [
      "File: 2025-02-26-05-40-00_freq_20_steps_100.result took 0.044 seconds to process\n"
     ]
    },
    {
     "name": "stderr",
     "output_type": "stream",
     "text": [
      "Processing records: 100%|██████████| 1094/1094 [00:00<00:00, 456392.34it/s]\n"
     ]
    },
    {
     "name": "stdout",
     "output_type": "stream",
     "text": [
      "File: 2025-02-26-05-41-11_freq_30_steps_10.result took 0.044 seconds to process\n"
     ]
    },
    {
     "name": "stderr",
     "output_type": "stream",
     "text": [
      "Processing records: 100%|██████████| 1095/1095 [00:00<00:00, 591393.62it/s]\n"
     ]
    },
    {
     "name": "stdout",
     "output_type": "stream",
     "text": [
      "File: 2025-02-26-05-42-22_freq_30_steps_20.result took 0.046 seconds to process\n"
     ]
    },
    {
     "name": "stderr",
     "output_type": "stream",
     "text": [
      "Processing records: 100%|██████████| 1092/1092 [00:00<00:00, 438294.73it/s]\n"
     ]
    },
    {
     "name": "stdout",
     "output_type": "stream",
     "text": [
      "File: 2025-02-26-05-43-33_freq_30_steps_30.result took 0.045 seconds to process\n"
     ]
    },
    {
     "name": "stderr",
     "output_type": "stream",
     "text": [
      "Processing records: 100%|██████████| 1094/1094 [00:00<00:00, 580097.17it/s]\n"
     ]
    },
    {
     "name": "stdout",
     "output_type": "stream",
     "text": [
      "File: 2025-02-26-05-44-44_freq_30_steps_40.result took 0.044 seconds to process\n"
     ]
    },
    {
     "name": "stderr",
     "output_type": "stream",
     "text": [
      "Processing records: 100%|██████████| 1093/1093 [00:00<00:00, 597701.99it/s]\n"
     ]
    },
    {
     "name": "stdout",
     "output_type": "stream",
     "text": [
      "File: 2025-02-26-05-45-55_freq_30_steps_50.result took 0.046 seconds to process\n"
     ]
    },
    {
     "name": "stderr",
     "output_type": "stream",
     "text": [
      "Processing records: 100%|██████████| 1092/1092 [00:00<00:00, 637996.93it/s]\n"
     ]
    },
    {
     "name": "stdout",
     "output_type": "stream",
     "text": [
      "File: 2025-02-26-05-47-07_freq_30_steps_60.result took 0.045 seconds to process\n"
     ]
    },
    {
     "name": "stderr",
     "output_type": "stream",
     "text": [
      "Processing records: 100%|██████████| 1096/1096 [00:00<00:00, 668648.32it/s]\n"
     ]
    },
    {
     "name": "stdout",
     "output_type": "stream",
     "text": [
      "File: 2025-02-26-05-48-18_freq_30_steps_70.result took 0.045 seconds to process\n"
     ]
    },
    {
     "name": "stderr",
     "output_type": "stream",
     "text": [
      "Processing records: 100%|██████████| 1094/1094 [00:00<00:00, 591767.94it/s]\n"
     ]
    },
    {
     "name": "stdout",
     "output_type": "stream",
     "text": [
      "File: 2025-02-26-05-49-29_freq_30_steps_80.result took 0.045 seconds to process\n"
     ]
    },
    {
     "name": "stderr",
     "output_type": "stream",
     "text": [
      "Processing records: 100%|██████████| 1094/1094 [00:00<00:00, 463679.12it/s]\n"
     ]
    },
    {
     "name": "stdout",
     "output_type": "stream",
     "text": [
      "File: 2025-02-26-05-50-40_freq_30_steps_90.result took 0.047 seconds to process\n"
     ]
    },
    {
     "name": "stderr",
     "output_type": "stream",
     "text": [
      "Processing records: 100%|██████████| 1093/1093 [00:00<00:00, 574051.37it/s]\n"
     ]
    },
    {
     "name": "stdout",
     "output_type": "stream",
     "text": [
      "File: 2025-02-26-05-51-52_freq_30_steps_100.result took 0.046 seconds to process\n"
     ]
    },
    {
     "name": "stderr",
     "output_type": "stream",
     "text": [
      "Processing records: 100%|██████████| 1094/1094 [00:00<00:00, 501099.55it/s]\n"
     ]
    },
    {
     "name": "stdout",
     "output_type": "stream",
     "text": [
      "File: 2025-02-26-05-53-03_freq_40_steps_10.result took 0.048 seconds to process\n"
     ]
    },
    {
     "name": "stderr",
     "output_type": "stream",
     "text": [
      "Processing records: 100%|██████████| 1092/1092 [00:00<00:00, 568401.58it/s]\n"
     ]
    },
    {
     "name": "stdout",
     "output_type": "stream",
     "text": [
      "File: 2025-02-26-05-54-14_freq_40_steps_20.result took 0.048 seconds to process\n"
     ]
    },
    {
     "name": "stderr",
     "output_type": "stream",
     "text": [
      "Processing records: 100%|██████████| 1094/1094 [00:00<00:00, 557338.59it/s]\n"
     ]
    },
    {
     "name": "stdout",
     "output_type": "stream",
     "text": [
      "File: 2025-02-26-05-55-25_freq_40_steps_30.result took 0.051 seconds to process\n"
     ]
    },
    {
     "name": "stderr",
     "output_type": "stream",
     "text": [
      "Processing records: 100%|██████████| 1092/1092 [00:00<00:00, 606325.12it/s]\n"
     ]
    },
    {
     "name": "stdout",
     "output_type": "stream",
     "text": [
      "File: 2025-02-26-05-56-36_freq_40_steps_40.result took 0.045 seconds to process\n"
     ]
    },
    {
     "name": "stderr",
     "output_type": "stream",
     "text": [
      "Processing records: 100%|██████████| 1094/1094 [00:00<00:00, 447316.10it/s]\n"
     ]
    },
    {
     "name": "stdout",
     "output_type": "stream",
     "text": [
      "File: 2025-02-26-05-57-48_freq_40_steps_50.result took 0.044 seconds to process\n"
     ]
    },
    {
     "name": "stderr",
     "output_type": "stream",
     "text": [
      "Processing records: 100%|██████████| 1094/1094 [00:00<00:00, 433620.16it/s]\n"
     ]
    },
    {
     "name": "stdout",
     "output_type": "stream",
     "text": [
      "File: 2025-02-26-05-58-59_freq_40_steps_60.result took 0.045 seconds to process\n"
     ]
    },
    {
     "name": "stderr",
     "output_type": "stream",
     "text": [
      "Processing records: 100%|██████████| 1116/1116 [00:00<00:00, 503100.09it/s]\n"
     ]
    },
    {
     "name": "stdout",
     "output_type": "stream",
     "text": [
      "File: 2025-02-26-06-00-10_freq_40_steps_70.result took 0.046 seconds to process\n"
     ]
    },
    {
     "name": "stderr",
     "output_type": "stream",
     "text": [
      "Processing records: 100%|██████████| 1102/1102 [00:00<00:00, 476999.28it/s]\n"
     ]
    },
    {
     "name": "stdout",
     "output_type": "stream",
     "text": [
      "File: 2025-02-26-06-01-21_freq_40_steps_80.result took 0.045 seconds to process\n"
     ]
    },
    {
     "name": "stderr",
     "output_type": "stream",
     "text": [
      "Processing records: 100%|██████████| 1092/1092 [00:00<00:00, 462784.68it/s]\n"
     ]
    },
    {
     "name": "stdout",
     "output_type": "stream",
     "text": [
      "File: 2025-02-26-06-02-33_freq_40_steps_90.result took 0.048 seconds to process\n"
     ]
    },
    {
     "name": "stderr",
     "output_type": "stream",
     "text": [
      "Processing records: 100%|██████████| 1094/1094 [00:00<00:00, 530654.40it/s]\n"
     ]
    },
    {
     "name": "stdout",
     "output_type": "stream",
     "text": [
      "File: 2025-02-26-06-03-44_freq_40_steps_100.result took 0.046 seconds to process\n"
     ]
    },
    {
     "name": "stderr",
     "output_type": "stream",
     "text": [
      "Processing records: 100%|██████████| 1094/1094 [00:00<00:00, 372116.50it/s]\n"
     ]
    },
    {
     "name": "stdout",
     "output_type": "stream",
     "text": [
      "File: 2025-02-26-06-04-55_freq_50_steps_10.result took 0.046 seconds to process\n"
     ]
    },
    {
     "name": "stderr",
     "output_type": "stream",
     "text": [
      "Processing records: 100%|██████████| 1094/1094 [00:00<00:00, 398105.90it/s]\n"
     ]
    },
    {
     "name": "stdout",
     "output_type": "stream",
     "text": [
      "File: 2025-02-26-06-06-06_freq_50_steps_20.result took 0.044 seconds to process\n"
     ]
    },
    {
     "name": "stderr",
     "output_type": "stream",
     "text": [
      "Processing records: 100%|██████████| 1093/1093 [00:00<00:00, 542979.30it/s]\n"
     ]
    },
    {
     "name": "stdout",
     "output_type": "stream",
     "text": [
      "File: 2025-02-26-06-07-17_freq_50_steps_30.result took 0.046 seconds to process\n"
     ]
    },
    {
     "name": "stderr",
     "output_type": "stream",
     "text": [
      "Processing records: 100%|██████████| 1095/1095 [00:00<00:00, 526149.95it/s]\n"
     ]
    },
    {
     "name": "stdout",
     "output_type": "stream",
     "text": [
      "File: 2025-02-26-06-08-29_freq_50_steps_40.result took 0.047 seconds to process\n"
     ]
    },
    {
     "name": "stderr",
     "output_type": "stream",
     "text": [
      "Processing records: 100%|██████████| 1094/1094 [00:00<00:00, 598482.92it/s]\n"
     ]
    },
    {
     "name": "stdout",
     "output_type": "stream",
     "text": [
      "File: 2025-02-26-06-09-40_freq_50_steps_50.result took 0.045 seconds to process\n"
     ]
    },
    {
     "name": "stderr",
     "output_type": "stream",
     "text": [
      "Processing records: 100%|██████████| 1094/1094 [00:00<00:00, 545933.20it/s]\n"
     ]
    },
    {
     "name": "stdout",
     "output_type": "stream",
     "text": [
      "File: 2025-02-26-06-10-51_freq_50_steps_60.result took 0.047 seconds to process\n"
     ]
    },
    {
     "name": "stderr",
     "output_type": "stream",
     "text": [
      "Processing records: 100%|██████████| 1094/1094 [00:00<00:00, 587750.55it/s]\n"
     ]
    },
    {
     "name": "stdout",
     "output_type": "stream",
     "text": [
      "File: 2025-02-26-06-12-02_freq_50_steps_70.result took 0.044 seconds to process\n"
     ]
    },
    {
     "name": "stderr",
     "output_type": "stream",
     "text": [
      "Processing records: 100%|██████████| 1095/1095 [00:00<00:00, 564221.48it/s]\n"
     ]
    },
    {
     "name": "stdout",
     "output_type": "stream",
     "text": [
      "File: 2025-02-26-06-13-13_freq_50_steps_80.result took 0.043 seconds to process\n"
     ]
    },
    {
     "name": "stderr",
     "output_type": "stream",
     "text": [
      "Processing records: 100%|██████████| 1094/1094 [00:00<00:00, 540594.79it/s]\n"
     ]
    },
    {
     "name": "stdout",
     "output_type": "stream",
     "text": [
      "File: 2025-02-26-06-14-24_freq_50_steps_90.result took 0.046 seconds to process\n"
     ]
    },
    {
     "name": "stderr",
     "output_type": "stream",
     "text": [
      "Processing records: 100%|██████████| 1094/1094 [00:00<00:00, 509614.46it/s]\n"
     ]
    },
    {
     "name": "stdout",
     "output_type": "stream",
     "text": [
      "File: 2025-02-26-06-15-36_freq_50_steps_100.result took 0.045 seconds to process\n"
     ]
    },
    {
     "name": "stderr",
     "output_type": "stream",
     "text": [
      "Processing records: 100%|██████████| 1136/1136 [00:00<00:00, 376598.90it/s]\n"
     ]
    },
    {
     "name": "stdout",
     "output_type": "stream",
     "text": [
      "File: 2025-02-26-06-16-47_freq_60_steps_10.result took 0.045 seconds to process\n"
     ]
    },
    {
     "name": "stderr",
     "output_type": "stream",
     "text": [
      "Processing records: 100%|██████████| 1092/1092 [00:00<00:00, 497089.21it/s]\n"
     ]
    },
    {
     "name": "stdout",
     "output_type": "stream",
     "text": [
      "File: 2025-02-26-06-17-58_freq_60_steps_20.result took 0.046 seconds to process\n"
     ]
    },
    {
     "name": "stderr",
     "output_type": "stream",
     "text": [
      "Processing records: 100%|██████████| 1099/1099 [00:00<00:00, 578071.24it/s]\n"
     ]
    },
    {
     "name": "stdout",
     "output_type": "stream",
     "text": [
      "File: 2025-02-26-06-19-09_freq_60_steps_30.result took 0.051 seconds to process\n"
     ]
    },
    {
     "name": "stderr",
     "output_type": "stream",
     "text": [
      "Processing records: 100%|██████████| 1094/1094 [00:00<00:00, 473585.36it/s]\n"
     ]
    },
    {
     "name": "stdout",
     "output_type": "stream",
     "text": [
      "File: 2025-02-26-06-20-20_freq_60_steps_40.result took 0.059 seconds to process\n"
     ]
    },
    {
     "name": "stderr",
     "output_type": "stream",
     "text": [
      "Processing records: 100%|██████████| 1094/1094 [00:00<00:00, 522913.80it/s]\n"
     ]
    },
    {
     "name": "stdout",
     "output_type": "stream",
     "text": [
      "File: 2025-02-26-06-21-32_freq_60_steps_50.result took 0.046 seconds to process\n"
     ]
    },
    {
     "name": "stderr",
     "output_type": "stream",
     "text": [
      "Processing records: 100%|██████████| 1093/1093 [00:00<00:00, 567022.17it/s]\n"
     ]
    },
    {
     "name": "stdout",
     "output_type": "stream",
     "text": [
      "File: 2025-02-26-06-22-43_freq_60_steps_60.result took 0.049 seconds to process\n"
     ]
    },
    {
     "name": "stderr",
     "output_type": "stream",
     "text": [
      "Processing records: 100%|██████████| 1094/1094 [00:00<00:00, 480679.72it/s]\n"
     ]
    },
    {
     "name": "stdout",
     "output_type": "stream",
     "text": [
      "File: 2025-02-26-06-23-54_freq_60_steps_70.result took 0.046 seconds to process\n"
     ]
    },
    {
     "name": "stderr",
     "output_type": "stream",
     "text": [
      "Processing records: 100%|██████████| 1093/1093 [00:00<00:00, 521781.73it/s]\n"
     ]
    },
    {
     "name": "stdout",
     "output_type": "stream",
     "text": [
      "File: 2025-02-26-06-25-05_freq_60_steps_80.result took 0.045 seconds to process\n"
     ]
    },
    {
     "name": "stderr",
     "output_type": "stream",
     "text": [
      "Processing records: 100%|██████████| 1094/1094 [00:00<00:00, 586848.52it/s]\n"
     ]
    },
    {
     "name": "stdout",
     "output_type": "stream",
     "text": [
      "File: 2025-02-26-06-26-17_freq_60_steps_90.result took 0.044 seconds to process\n"
     ]
    },
    {
     "name": "stderr",
     "output_type": "stream",
     "text": [
      "Processing records: 100%|██████████| 1094/1094 [00:00<00:00, 500170.98it/s]\n"
     ]
    },
    {
     "name": "stdout",
     "output_type": "stream",
     "text": [
      "File: 2025-02-26-06-27-28_freq_60_steps_100.result took 0.046 seconds to process\n"
     ]
    },
    {
     "name": "stderr",
     "output_type": "stream",
     "text": [
      "Processing records: 100%|██████████| 1094/1094 [00:00<00:00, 573858.00it/s]\n"
     ]
    },
    {
     "name": "stdout",
     "output_type": "stream",
     "text": [
      "File: 2025-02-26-06-28-39_freq_70_steps_10.result took 0.048 seconds to process\n"
     ]
    },
    {
     "name": "stderr",
     "output_type": "stream",
     "text": [
      "Processing records: 100%|██████████| 1093/1093 [00:00<00:00, 574267.10it/s]\n"
     ]
    },
    {
     "name": "stdout",
     "output_type": "stream",
     "text": [
      "File: 2025-02-26-06-29-50_freq_70_steps_20.result took 0.045 seconds to process\n"
     ]
    },
    {
     "name": "stderr",
     "output_type": "stream",
     "text": [
      "Processing records: 100%|██████████| 1093/1093 [00:00<00:00, 560163.03it/s]\n"
     ]
    },
    {
     "name": "stdout",
     "output_type": "stream",
     "text": [
      "File: 2025-02-26-06-31-01_freq_70_steps_30.result took 0.047 seconds to process\n"
     ]
    },
    {
     "name": "stderr",
     "output_type": "stream",
     "text": [
      "Processing records: 100%|██████████| 1092/1092 [00:00<00:00, 537264.51it/s]\n"
     ]
    },
    {
     "name": "stdout",
     "output_type": "stream",
     "text": [
      "File: 2025-02-26-06-32-13_freq_70_steps_40.result took 0.046 seconds to process\n"
     ]
    },
    {
     "name": "stderr",
     "output_type": "stream",
     "text": [
      "Processing records: 100%|██████████| 1095/1095 [00:00<00:00, 400171.03it/s]\n"
     ]
    },
    {
     "name": "stdout",
     "output_type": "stream",
     "text": [
      "File: 2025-02-26-06-33-24_freq_70_steps_50.result took 0.049 seconds to process\n"
     ]
    },
    {
     "name": "stderr",
     "output_type": "stream",
     "text": [
      "Processing records: 100%|██████████| 1094/1094 [00:00<00:00, 555920.59it/s]\n"
     ]
    },
    {
     "name": "stdout",
     "output_type": "stream",
     "text": [
      "File: 2025-02-26-06-34-35_freq_70_steps_60.result took 0.044 seconds to process\n"
     ]
    },
    {
     "name": "stderr",
     "output_type": "stream",
     "text": [
      "Processing records: 100%|██████████| 1095/1095 [00:00<00:00, 583282.05it/s]\n"
     ]
    },
    {
     "name": "stdout",
     "output_type": "stream",
     "text": [
      "File: 2025-02-26-06-35-46_freq_70_steps_70.result took 0.045 seconds to process\n"
     ]
    },
    {
     "name": "stderr",
     "output_type": "stream",
     "text": [
      "Processing records: 100%|██████████| 1093/1093 [00:00<00:00, 536686.29it/s]\n"
     ]
    },
    {
     "name": "stdout",
     "output_type": "stream",
     "text": [
      "File: 2025-02-26-06-36-57_freq_70_steps_80.result took 0.050 seconds to process\n"
     ]
    },
    {
     "name": "stderr",
     "output_type": "stream",
     "text": [
      "Processing records: 100%|██████████| 1092/1092 [00:00<00:00, 471551.53it/s]\n"
     ]
    },
    {
     "name": "stdout",
     "output_type": "stream",
     "text": [
      "File: 2025-02-26-06-38-08_freq_70_steps_90.result took 0.059 seconds to process\n"
     ]
    },
    {
     "name": "stderr",
     "output_type": "stream",
     "text": [
      "Processing records: 100%|██████████| 1093/1093 [00:00<00:00, 449008.25it/s]\n"
     ]
    },
    {
     "name": "stdout",
     "output_type": "stream",
     "text": [
      "File: 2025-02-26-06-39-20_freq_70_steps_100.result took 0.048 seconds to process\n"
     ]
    },
    {
     "name": "stderr",
     "output_type": "stream",
     "text": [
      "Processing records: 100%|██████████| 1095/1095 [00:00<00:00, 548324.13it/s]\n"
     ]
    },
    {
     "name": "stdout",
     "output_type": "stream",
     "text": [
      "File: 2025-02-26-06-40-31_freq_80_steps_10.result took 0.046 seconds to process\n"
     ]
    },
    {
     "name": "stderr",
     "output_type": "stream",
     "text": [
      "Processing records: 100%|██████████| 1092/1092 [00:00<00:00, 445672.86it/s]\n"
     ]
    },
    {
     "name": "stdout",
     "output_type": "stream",
     "text": [
      "File: 2025-02-26-06-41-42_freq_80_steps_20.result took 0.050 seconds to process\n"
     ]
    },
    {
     "name": "stderr",
     "output_type": "stream",
     "text": [
      "Processing records: 100%|██████████| 1092/1092 [00:00<00:00, 577430.66it/s]\n"
     ]
    },
    {
     "name": "stdout",
     "output_type": "stream",
     "text": [
      "File: 2025-02-26-06-42-53_freq_80_steps_30.result took 0.061 seconds to process\n"
     ]
    },
    {
     "name": "stderr",
     "output_type": "stream",
     "text": [
      "Processing records: 100%|██████████| 1093/1093 [00:00<00:00, 545174.73it/s]\n"
     ]
    },
    {
     "name": "stdout",
     "output_type": "stream",
     "text": [
      "File: 2025-02-26-06-44-04_freq_80_steps_40.result took 0.048 seconds to process\n"
     ]
    },
    {
     "name": "stderr",
     "output_type": "stream",
     "text": [
      "Processing records: 100%|██████████| 1094/1094 [00:00<00:00, 557948.51it/s]\n"
     ]
    },
    {
     "name": "stdout",
     "output_type": "stream",
     "text": [
      "File: 2025-02-26-06-45-16_freq_80_steps_50.result took 0.045 seconds to process\n"
     ]
    },
    {
     "name": "stderr",
     "output_type": "stream",
     "text": [
      "Processing records: 100%|██████████| 1093/1093 [00:00<00:00, 533563.11it/s]\n"
     ]
    },
    {
     "name": "stdout",
     "output_type": "stream",
     "text": [
      "File: 2025-02-26-06-46-27_freq_80_steps_60.result took 0.047 seconds to process\n"
     ]
    },
    {
     "name": "stderr",
     "output_type": "stream",
     "text": [
      "Processing records: 100%|██████████| 1094/1094 [00:00<00:00, 282182.44it/s]\n"
     ]
    },
    {
     "name": "stdout",
     "output_type": "stream",
     "text": [
      "File: 2025-02-26-06-47-38_freq_80_steps_70.result took 0.047 seconds to process\n"
     ]
    },
    {
     "name": "stderr",
     "output_type": "stream",
     "text": [
      "Processing records: 100%|██████████| 1094/1094 [00:00<00:00, 468699.55it/s]\n"
     ]
    },
    {
     "name": "stdout",
     "output_type": "stream",
     "text": [
      "File: 2025-02-26-06-48-49_freq_80_steps_80.result took 0.046 seconds to process\n"
     ]
    },
    {
     "name": "stderr",
     "output_type": "stream",
     "text": [
      "Processing records: 100%|██████████| 1093/1093 [00:00<00:00, 558049.21it/s]\n"
     ]
    },
    {
     "name": "stdout",
     "output_type": "stream",
     "text": [
      "File: 2025-02-26-06-50-00_freq_80_steps_90.result took 0.048 seconds to process\n"
     ]
    },
    {
     "name": "stderr",
     "output_type": "stream",
     "text": [
      "Processing records: 100%|██████████| 1093/1093 [00:00<00:00, 493580.35it/s]\n"
     ]
    },
    {
     "name": "stdout",
     "output_type": "stream",
     "text": [
      "File: 2025-02-26-06-51-11_freq_80_steps_100.result took 0.047 seconds to process\n"
     ]
    },
    {
     "name": "stderr",
     "output_type": "stream",
     "text": [
      "Processing records: 100%|██████████| 1093/1093 [00:00<00:00, 538008.95it/s]\n"
     ]
    },
    {
     "name": "stdout",
     "output_type": "stream",
     "text": [
      "File: 2025-02-26-06-52-23_freq_90_steps_10.result took 0.046 seconds to process\n"
     ]
    },
    {
     "name": "stderr",
     "output_type": "stream",
     "text": [
      "Processing records: 100%|██████████| 1092/1092 [00:00<00:00, 559582.16it/s]\n"
     ]
    },
    {
     "name": "stdout",
     "output_type": "stream",
     "text": [
      "File: 2025-02-26-06-53-34_freq_90_steps_20.result took 0.048 seconds to process\n"
     ]
    },
    {
     "name": "stderr",
     "output_type": "stream",
     "text": [
      "Processing records: 100%|██████████| 1094/1094 [00:00<00:00, 513664.90it/s]\n"
     ]
    },
    {
     "name": "stdout",
     "output_type": "stream",
     "text": [
      "File: 2025-02-26-06-54-45_freq_90_steps_30.result took 0.051 seconds to process\n"
     ]
    },
    {
     "name": "stderr",
     "output_type": "stream",
     "text": [
      "Processing records: 100%|██████████| 1094/1094 [00:00<00:00, 466270.56it/s]\n"
     ]
    },
    {
     "name": "stdout",
     "output_type": "stream",
     "text": [
      "File: 2025-02-26-06-55-56_freq_90_steps_40.result took 0.048 seconds to process\n"
     ]
    },
    {
     "name": "stderr",
     "output_type": "stream",
     "text": [
      "Processing records: 100%|██████████| 1092/1092 [00:00<00:00, 547213.86it/s]\n"
     ]
    },
    {
     "name": "stdout",
     "output_type": "stream",
     "text": [
      "File: 2025-02-26-06-57-07_freq_90_steps_50.result took 0.044 seconds to process\n"
     ]
    },
    {
     "name": "stderr",
     "output_type": "stream",
     "text": [
      "Processing records: 100%|██████████| 1094/1094 [00:00<00:00, 437798.74it/s]\n"
     ]
    },
    {
     "name": "stdout",
     "output_type": "stream",
     "text": [
      "File: 2025-02-26-06-58-19_freq_90_steps_60.result took 0.044 seconds to process\n"
     ]
    },
    {
     "name": "stderr",
     "output_type": "stream",
     "text": [
      "Processing records: 100%|██████████| 1093/1093 [00:00<00:00, 543043.62it/s]\n"
     ]
    },
    {
     "name": "stdout",
     "output_type": "stream",
     "text": [
      "File: 2025-02-26-06-59-30_freq_90_steps_70.result took 0.050 seconds to process\n"
     ]
    },
    {
     "name": "stderr",
     "output_type": "stream",
     "text": [
      "Processing records: 100%|██████████| 1093/1093 [00:00<00:00, 424715.05it/s]\n"
     ]
    },
    {
     "name": "stdout",
     "output_type": "stream",
     "text": [
      "File: 2025-02-26-07-00-41_freq_90_steps_80.result took 0.048 seconds to process\n"
     ]
    },
    {
     "name": "stderr",
     "output_type": "stream",
     "text": [
      "Processing records: 100%|██████████| 1093/1093 [00:00<00:00, 561329.04it/s]\n"
     ]
    },
    {
     "name": "stdout",
     "output_type": "stream",
     "text": [
      "File: 2025-02-26-07-01-52_freq_90_steps_90.result took 0.048 seconds to process\n"
     ]
    },
    {
     "name": "stderr",
     "output_type": "stream",
     "text": [
      "Processing records: 100%|██████████| 1093/1093 [00:00<00:00, 479787.99it/s]\n"
     ]
    },
    {
     "name": "stdout",
     "output_type": "stream",
     "text": [
      "File: 2025-02-26-07-03-03_freq_90_steps_100.result took 0.058 seconds to process\n"
     ]
    },
    {
     "name": "stderr",
     "output_type": "stream",
     "text": [
      "Processing records: 100%|██████████| 1092/1092 [00:00<00:00, 501497.86it/s]\n"
     ]
    },
    {
     "name": "stdout",
     "output_type": "stream",
     "text": [
      "File: 2025-02-26-07-04-14_freq_100_steps_10.result took 0.046 seconds to process\n"
     ]
    },
    {
     "name": "stderr",
     "output_type": "stream",
     "text": [
      "Processing records: 100%|██████████| 1093/1093 [00:00<00:00, 434496.66it/s]\n"
     ]
    },
    {
     "name": "stdout",
     "output_type": "stream",
     "text": [
      "File: 2025-02-26-07-05-26_freq_100_steps_20.result took 0.052 seconds to process\n"
     ]
    },
    {
     "name": "stderr",
     "output_type": "stream",
     "text": [
      "Processing records: 100%|██████████| 1093/1093 [00:00<00:00, 485478.58it/s]\n"
     ]
    },
    {
     "name": "stdout",
     "output_type": "stream",
     "text": [
      "File: 2025-02-26-07-06-37_freq_100_steps_30.result took 0.048 seconds to process\n"
     ]
    },
    {
     "name": "stderr",
     "output_type": "stream",
     "text": [
      "Processing records: 100%|██████████| 1094/1094 [00:00<00:00, 521843.35it/s]\n"
     ]
    },
    {
     "name": "stdout",
     "output_type": "stream",
     "text": [
      "File: 2025-02-26-07-07-48_freq_100_steps_40.result took 0.046 seconds to process\n"
     ]
    },
    {
     "name": "stderr",
     "output_type": "stream",
     "text": [
      "Processing records: 100%|██████████| 1092/1092 [00:00<00:00, 556117.04it/s]\n"
     ]
    },
    {
     "name": "stdout",
     "output_type": "stream",
     "text": [
      "File: 2025-02-26-07-08-59_freq_100_steps_50.result took 0.046 seconds to process\n"
     ]
    },
    {
     "name": "stderr",
     "output_type": "stream",
     "text": [
      "Processing records: 100%|██████████| 1094/1094 [00:00<00:00, 558423.83it/s]\n"
     ]
    },
    {
     "name": "stdout",
     "output_type": "stream",
     "text": [
      "File: 2025-02-26-07-10-10_freq_100_steps_60.result took 0.048 seconds to process\n"
     ]
    },
    {
     "name": "stderr",
     "output_type": "stream",
     "text": [
      "Processing records: 100%|██████████| 1093/1093 [00:00<00:00, 430902.74it/s]\n"
     ]
    },
    {
     "name": "stdout",
     "output_type": "stream",
     "text": [
      "File: 2025-02-26-07-11-21_freq_100_steps_70.result took 0.052 seconds to process\n"
     ]
    },
    {
     "name": "stderr",
     "output_type": "stream",
     "text": [
      "Processing records: 100%|██████████| 1094/1094 [00:00<00:00, 415631.21it/s]\n"
     ]
    },
    {
     "name": "stdout",
     "output_type": "stream",
     "text": [
      "File: 2025-02-26-07-12-33_freq_100_steps_80.result took 0.047 seconds to process\n"
     ]
    },
    {
     "name": "stderr",
     "output_type": "stream",
     "text": [
      "Processing records: 100%|██████████| 1094/1094 [00:00<00:00, 554442.80it/s]\n"
     ]
    },
    {
     "name": "stdout",
     "output_type": "stream",
     "text": [
      "File: 2025-02-26-07-13-44_freq_100_steps_90.result took 0.054 seconds to process\n"
     ]
    },
    {
     "name": "stderr",
     "output_type": "stream",
     "text": [
      "Processing records: 100%|██████████| 1093/1093 [00:00<00:00, 538767.69it/s]"
     ]
    },
    {
     "name": "stdout",
     "output_type": "stream",
     "text": [
      "File: 2025-02-26-07-14-55_freq_100_steps_100.result took 0.051 seconds to process\n"
     ]
    },
    {
     "name": "stderr",
     "output_type": "stream",
     "text": [
      "\n"
     ]
    }
   ],
   "source": [
    "filepaths = sorted(list(dir_path.glob('*.result')))\n",
    "results_str = {}\n",
    "results = {}\n",
    "for filepath in filepaths:\n",
    "    reader = MetricsReader(\n",
    "        filepath, \n",
    "        success_time_limit=65.0, \n",
    "        acceptable_min_distances_to_target=0.10\n",
    "    )\n",
    "    results[reader.info['label']] = reader\n",
    "    results_str[reader.info['label']] = reader.format_stats()"
   ]
  },
  {
   "cell_type": "code",
   "execution_count": 4,
   "metadata": {},
   "outputs": [
    {
     "data": {
      "text/plain": [
       "dict_keys(['freq_10_steps_10', 'freq_10_steps_20', 'freq_10_steps_30', 'freq_10_steps_40', 'freq_10_steps_50', 'freq_10_steps_60', 'freq_10_steps_70', 'freq_10_steps_80', 'freq_10_steps_90', 'freq_10_steps_100', 'freq_20_steps_10', 'freq_20_steps_20', 'freq_20_steps_30', 'freq_20_steps_40', 'freq_20_steps_50', 'freq_20_steps_60', 'freq_20_steps_70', 'freq_20_steps_80', 'freq_20_steps_90', 'freq_20_steps_100', 'freq_30_steps_10', 'freq_30_steps_20', 'freq_30_steps_30', 'freq_30_steps_40', 'freq_30_steps_50', 'freq_30_steps_60', 'freq_30_steps_70', 'freq_30_steps_80', 'freq_30_steps_90', 'freq_30_steps_100', 'freq_40_steps_10', 'freq_40_steps_20', 'freq_40_steps_30', 'freq_40_steps_40', 'freq_40_steps_50', 'freq_40_steps_60', 'freq_40_steps_70', 'freq_40_steps_80', 'freq_40_steps_90', 'freq_40_steps_100', 'freq_50_steps_10', 'freq_50_steps_20', 'freq_50_steps_30', 'freq_50_steps_40', 'freq_50_steps_50', 'freq_50_steps_60', 'freq_50_steps_70', 'freq_50_steps_80', 'freq_50_steps_90', 'freq_50_steps_100', 'freq_60_steps_10', 'freq_60_steps_20', 'freq_60_steps_30', 'freq_60_steps_40', 'freq_60_steps_50', 'freq_60_steps_60', 'freq_60_steps_70', 'freq_60_steps_80', 'freq_60_steps_90', 'freq_60_steps_100', 'freq_70_steps_10', 'freq_70_steps_20', 'freq_70_steps_30', 'freq_70_steps_40', 'freq_70_steps_50', 'freq_70_steps_60', 'freq_70_steps_70', 'freq_70_steps_80', 'freq_70_steps_90', 'freq_70_steps_100', 'freq_80_steps_10', 'freq_80_steps_20', 'freq_80_steps_30', 'freq_80_steps_40', 'freq_80_steps_50', 'freq_80_steps_60', 'freq_80_steps_70', 'freq_80_steps_80', 'freq_80_steps_90', 'freq_80_steps_100', 'freq_90_steps_10', 'freq_90_steps_20', 'freq_90_steps_30', 'freq_90_steps_40', 'freq_90_steps_50', 'freq_90_steps_60', 'freq_90_steps_70', 'freq_90_steps_80', 'freq_90_steps_90', 'freq_90_steps_100', 'freq_100_steps_10', 'freq_100_steps_20', 'freq_100_steps_30', 'freq_100_steps_40', 'freq_100_steps_50', 'freq_100_steps_60', 'freq_100_steps_70', 'freq_100_steps_80', 'freq_100_steps_90', 'freq_100_steps_100'])"
      ]
     },
     "execution_count": 4,
     "metadata": {},
     "output_type": "execute_result"
    }
   ],
   "source": [
    "results.keys()"
   ]
  },
  {
   "cell_type": "code",
   "execution_count": 9,
   "metadata": {},
   "outputs": [
    {
     "name": "stdout",
     "output_type": "stream",
     "text": [
      "10 10\n",
      "10 20\n",
      "10 30\n",
      "10 40\n",
      "10 50\n",
      "10 60\n",
      "10 70\n",
      "10 80\n",
      "10 90\n",
      "10 100\n",
      "20 10\n",
      "20 20\n",
      "20 30\n",
      "20 40\n",
      "20 50\n",
      "20 60\n",
      "20 70\n",
      "20 80\n",
      "20 90\n",
      "20 100\n",
      "30 10\n",
      "30 20\n",
      "30 30\n",
      "30 40\n",
      "30 50\n",
      "30 60\n",
      "30 70\n",
      "30 80\n",
      "30 90\n",
      "30 100\n",
      "40 10\n",
      "40 20\n",
      "40 30\n",
      "40 40\n",
      "40 50\n",
      "40 60\n",
      "40 70\n",
      "40 80\n",
      "40 90\n",
      "40 100\n",
      "50 10\n",
      "50 20\n",
      "50 30\n",
      "50 40\n",
      "50 50\n",
      "50 60\n",
      "50 70\n",
      "50 80\n",
      "50 90\n",
      "50 100\n",
      "60 10\n",
      "60 20\n",
      "60 30\n",
      "60 40\n",
      "60 50\n",
      "60 60\n",
      "60 70\n",
      "60 80\n",
      "60 90\n",
      "60 100\n",
      "70 10\n",
      "70 20\n",
      "70 30\n",
      "70 40\n",
      "70 50\n",
      "70 60\n",
      "70 70\n",
      "70 80\n",
      "70 90\n",
      "70 100\n",
      "80 10\n",
      "80 20\n",
      "80 30\n",
      "80 40\n",
      "80 50\n",
      "80 60\n",
      "80 70\n",
      "80 80\n",
      "80 90\n",
      "80 100\n",
      "90 10\n",
      "90 20\n",
      "90 30\n",
      "90 40\n",
      "90 50\n",
      "90 60\n",
      "90 70\n",
      "90 80\n",
      "90 90\n",
      "90 100\n",
      "100 10\n",
      "100 20\n",
      "100 30\n",
      "100 40\n",
      "100 50\n",
      "100 60\n",
      "100 70\n",
      "100 80\n",
      "100 90\n",
      "100 100\n"
     ]
    }
   ],
   "source": [
    "for key in list(results.keys()):\n",
    "    key_split = key.split('_')\n",
    "    print(key_split[1], key_split[3])"
   ]
  },
  {
   "cell_type": "code",
   "execution_count": 12,
   "metadata": {},
   "outputs": [
    {
     "data": {
      "text/plain": [
       "<process_results.MetricsReader at 0x7deb4c7032e0>"
      ]
     },
     "execution_count": 12,
     "metadata": {},
     "output_type": "execute_result"
    }
   ],
   "source": [
    "results['freq_10_steps_10']"
   ]
  },
  {
   "cell_type": "code",
   "execution_count": 40,
   "metadata": {},
   "outputs": [
    {
     "name": "stdout",
     "output_type": "stream",
     "text": [
      "Success rates:\n",
      "freq_10: 100.0%\n",
      "freq_20: 100.0%\n",
      "freq_30: 100.0%\n",
      "freq_40: 100.0%\n",
      "freq_50: 100.0%\n",
      "freq_60: 100.0%\n",
      "freq_70: 100.0%\n",
      "freq_80: 100.0%\n",
      "freq_90: 100.0%\n",
      "freq_100: 100.0%\n"
     ]
    }
   ],
   "source": [
    "class ResultsAnalyzer:\n",
    "    def __init__(self, results):\n",
    "        self.results = results\n",
    "        self.ret = {}\n",
    "        self.process_cases()\n",
    "        self._process_success_rate()\n",
    "\n",
    "    def _process_success_rate(self):\n",
    "        success = {}\n",
    "        # Updated heuristic names to include new cases\n",
    "        for outer_key in self.ret.keys():\n",
    "            success[outer_key] = {float(k.split('_')[-1]): v for k, v in analysis.ret[outer_key]['success'].items()}\n",
    "\n",
    "        # self.success = success\n",
    "        success_df = pd.DataFrame({k: {kk: v=='True' for kk,v in vv.items()} for k,vv in success.items()})\n",
    "\n",
    "        print(\"Success rates:\")\n",
    "        for column in success_df.columns:\n",
    "            success_rate = success_df[column].apply(lambda x: 1.0 if x==True else 0.0).sum() / float(len(success_df)) * 100.0\n",
    "            print(f\"{column}: {success_rate:.1f}%\")\n",
    "\n",
    "        self.success = success\n",
    "        self.success_df = success_df\n",
    "\n",
    "\n",
    "    def process_cases(self):\n",
    "\n",
    "        ret = {}\n",
    "        outer_idx = 1\n",
    "        inner_idx = 3\n",
    "        outer_label = 'freq_'\n",
    "        inner_label = 'steps_'\n",
    "        for key in list(results.keys()):\n",
    "            key_split = key.split('_')\n",
    "\n",
    "            outer_key = f'{outer_label}{key_split[outer_idx]}'\n",
    "            inner_key = f'{inner_label}{key_split[inner_idx]}'\n",
    "\n",
    "            if not outer_key in ret:\n",
    "                ret[outer_key] = {}\n",
    "            ret[outer_key][inner_key] = None\n",
    "        self.ret = ret\n",
    "\n",
    "        for outer_key in list(ret.keys()):\n",
    "            self.process_case(outer_key)\n",
    "\n",
    "\n",
    "    def process_case(self, freq_id):\n",
    "        pose_traces = []\n",
    "        min_obstacle_distances = {}\n",
    "        timestamps = {}\n",
    "        success = {}\n",
    "\n",
    "        # Make sure we match the exact frequency value by checking the split components\n",
    "        filenames = [k for k in self.results.keys() if k.split('_')[1] == freq_id.split('_')[1]]\n",
    "        for filename in filenames:\n",
    "\n",
    "            # did the agent satisfy the success criteria?\n",
    "            success[filename] = self.results[filename].info['success']\n",
    "\n",
    "            # pose traces\n",
    "            poses = self.results[filename].agent_poses['position']\n",
    "            poses_df = pd.DataFrame(poses.values.tolist(), columns=['x', 'y', 'z'])\n",
    "            pose_traces.append(go.Scatter3d(\n",
    "                x=poses_df['x'],\n",
    "                y=poses_df['y'],\n",
    "                z=poses_df['z'],\n",
    "                name=freq_id,\n",
    "            ))\n",
    "            # min obstacle distances\n",
    "            min_d2obs = self.results[filename].info['min_distances_to_obstacles']\n",
    "            min_obstacle_distances[filename] = min_d2obs\n",
    "            timestamps[filename] = self.results[filename].info['timestamps']\n",
    "\n",
    "        ret = {\n",
    "            'pose_traces': pose_traces,\n",
    "            'min_obstacle_distances': min_obstacle_distances,\n",
    "            'timestamps': timestamps,\n",
    "            'success': success,\n",
    "        }\n",
    "        self.ret[freq_id] = ret\n",
    "        # return ret\n",
    "\n",
    "    def plot_heuristic_performance_heatmap(self):\n",
    "        \n",
    "        success_df = self.success_df\n",
    "        # Create a heatmap using plotly\n",
    "        import plotly.graph_objects as go\n",
    "\n",
    "        # Convert success rates to numeric values (0 for False, 1 for True)\n",
    "        heatmap_data = success_df.astype(int)\n",
    "\n",
    "        # Create heatmap\n",
    "        fig = go.Figure(data=go.Heatmap(\n",
    "            z=heatmap_data.T,  # Transpose to get heuristics as y-axis\n",
    "            x=heatmap_data.index,  # Force values\n",
    "            y=heatmap_data.columns,  # Heuristic names\n",
    "            colorscale='RdYlGn',  # Red (0) to Green (1) colorscale\n",
    "            showscale=True,\n",
    "            colorbar=dict(title='Success'),\n",
    "            text=heatmap_data.T,  # Add text values\n",
    "            texttemplate=\"%{text}\",  # Show the actual values\n",
    "            textfont={\"size\": 10},\n",
    "        ))\n",
    "\n",
    "        # Update layout\n",
    "        fig.update_layout(\n",
    "            title=f'Success Heatmap (Heuristic vs K Value), {plan}',\n",
    "            xaxis_title='K Value',\n",
    "            yaxis_title='Heuristic',\n",
    "            xaxis=dict(\n",
    "                # type='log',  # Use log scale for force values\n",
    "                type='linear',\n",
    "                ticktext=[f\"{x:.1e}\" for x in heatmap_data.index],  # Show actual values\n",
    "                tickvals=heatmap_data.index,  # Position ticks at index values\n",
    "            )\n",
    "        )\n",
    "\n",
    "        return fig\n",
    "        \n",
    "\n",
    "analysis = ResultsAnalyzer(results)\n",
    "# analysis.process_heuristics()"
   ]
  },
  {
   "cell_type": "code",
   "execution_count": 41,
   "metadata": {},
   "outputs": [
    {
     "data": {
      "text/html": [
       "<div>\n",
       "<style scoped>\n",
       "    .dataframe tbody tr th:only-of-type {\n",
       "        vertical-align: middle;\n",
       "    }\n",
       "\n",
       "    .dataframe tbody tr th {\n",
       "        vertical-align: top;\n",
       "    }\n",
       "\n",
       "    .dataframe thead th {\n",
       "        text-align: right;\n",
       "    }\n",
       "</style>\n",
       "<table border=\"1\" class=\"dataframe\">\n",
       "  <thead>\n",
       "    <tr style=\"text-align: right;\">\n",
       "      <th></th>\n",
       "      <th>freq_10</th>\n",
       "      <th>freq_20</th>\n",
       "      <th>freq_30</th>\n",
       "      <th>freq_40</th>\n",
       "      <th>freq_50</th>\n",
       "      <th>freq_60</th>\n",
       "      <th>freq_70</th>\n",
       "      <th>freq_80</th>\n",
       "      <th>freq_90</th>\n",
       "      <th>freq_100</th>\n",
       "    </tr>\n",
       "  </thead>\n",
       "  <tbody>\n",
       "    <tr>\n",
       "      <th>10.0</th>\n",
       "      <td>True</td>\n",
       "      <td>True</td>\n",
       "      <td>True</td>\n",
       "      <td>True</td>\n",
       "      <td>True</td>\n",
       "      <td>True</td>\n",
       "      <td>True</td>\n",
       "      <td>True</td>\n",
       "      <td>True</td>\n",
       "      <td>True</td>\n",
       "    </tr>\n",
       "    <tr>\n",
       "      <th>20.0</th>\n",
       "      <td>True</td>\n",
       "      <td>True</td>\n",
       "      <td>True</td>\n",
       "      <td>True</td>\n",
       "      <td>True</td>\n",
       "      <td>True</td>\n",
       "      <td>True</td>\n",
       "      <td>True</td>\n",
       "      <td>True</td>\n",
       "      <td>True</td>\n",
       "    </tr>\n",
       "    <tr>\n",
       "      <th>30.0</th>\n",
       "      <td>True</td>\n",
       "      <td>True</td>\n",
       "      <td>True</td>\n",
       "      <td>True</td>\n",
       "      <td>True</td>\n",
       "      <td>True</td>\n",
       "      <td>True</td>\n",
       "      <td>True</td>\n",
       "      <td>True</td>\n",
       "      <td>True</td>\n",
       "    </tr>\n",
       "    <tr>\n",
       "      <th>40.0</th>\n",
       "      <td>True</td>\n",
       "      <td>True</td>\n",
       "      <td>True</td>\n",
       "      <td>True</td>\n",
       "      <td>True</td>\n",
       "      <td>True</td>\n",
       "      <td>True</td>\n",
       "      <td>True</td>\n",
       "      <td>True</td>\n",
       "      <td>True</td>\n",
       "    </tr>\n",
       "    <tr>\n",
       "      <th>50.0</th>\n",
       "      <td>True</td>\n",
       "      <td>True</td>\n",
       "      <td>True</td>\n",
       "      <td>True</td>\n",
       "      <td>True</td>\n",
       "      <td>True</td>\n",
       "      <td>True</td>\n",
       "      <td>True</td>\n",
       "      <td>True</td>\n",
       "      <td>True</td>\n",
       "    </tr>\n",
       "    <tr>\n",
       "      <th>60.0</th>\n",
       "      <td>True</td>\n",
       "      <td>True</td>\n",
       "      <td>True</td>\n",
       "      <td>True</td>\n",
       "      <td>True</td>\n",
       "      <td>True</td>\n",
       "      <td>True</td>\n",
       "      <td>True</td>\n",
       "      <td>True</td>\n",
       "      <td>True</td>\n",
       "    </tr>\n",
       "    <tr>\n",
       "      <th>70.0</th>\n",
       "      <td>True</td>\n",
       "      <td>True</td>\n",
       "      <td>True</td>\n",
       "      <td>True</td>\n",
       "      <td>True</td>\n",
       "      <td>True</td>\n",
       "      <td>True</td>\n",
       "      <td>True</td>\n",
       "      <td>True</td>\n",
       "      <td>True</td>\n",
       "    </tr>\n",
       "    <tr>\n",
       "      <th>80.0</th>\n",
       "      <td>True</td>\n",
       "      <td>True</td>\n",
       "      <td>True</td>\n",
       "      <td>True</td>\n",
       "      <td>True</td>\n",
       "      <td>True</td>\n",
       "      <td>True</td>\n",
       "      <td>True</td>\n",
       "      <td>True</td>\n",
       "      <td>True</td>\n",
       "    </tr>\n",
       "    <tr>\n",
       "      <th>90.0</th>\n",
       "      <td>True</td>\n",
       "      <td>True</td>\n",
       "      <td>True</td>\n",
       "      <td>True</td>\n",
       "      <td>True</td>\n",
       "      <td>True</td>\n",
       "      <td>True</td>\n",
       "      <td>True</td>\n",
       "      <td>True</td>\n",
       "      <td>True</td>\n",
       "    </tr>\n",
       "    <tr>\n",
       "      <th>100.0</th>\n",
       "      <td>True</td>\n",
       "      <td>True</td>\n",
       "      <td>True</td>\n",
       "      <td>True</td>\n",
       "      <td>True</td>\n",
       "      <td>True</td>\n",
       "      <td>True</td>\n",
       "      <td>True</td>\n",
       "      <td>True</td>\n",
       "      <td>True</td>\n",
       "    </tr>\n",
       "  </tbody>\n",
       "</table>\n",
       "</div>"
      ],
      "text/plain": [
       "       freq_10  freq_20  freq_30  freq_40  freq_50  freq_60  freq_70  freq_80  \\\n",
       "10.0      True     True     True     True     True     True     True     True   \n",
       "20.0      True     True     True     True     True     True     True     True   \n",
       "30.0      True     True     True     True     True     True     True     True   \n",
       "40.0      True     True     True     True     True     True     True     True   \n",
       "50.0      True     True     True     True     True     True     True     True   \n",
       "60.0      True     True     True     True     True     True     True     True   \n",
       "70.0      True     True     True     True     True     True     True     True   \n",
       "80.0      True     True     True     True     True     True     True     True   \n",
       "90.0      True     True     True     True     True     True     True     True   \n",
       "100.0     True     True     True     True     True     True     True     True   \n",
       "\n",
       "       freq_90  freq_100  \n",
       "10.0      True      True  \n",
       "20.0      True      True  \n",
       "30.0      True      True  \n",
       "40.0      True      True  \n",
       "50.0      True      True  \n",
       "60.0      True      True  \n",
       "70.0      True      True  \n",
       "80.0      True      True  \n",
       "90.0      True      True  \n",
       "100.0     True      True  "
      ]
     },
     "execution_count": 41,
     "metadata": {},
     "output_type": "execute_result"
    }
   ],
   "source": [
    "analysis.success_df"
   ]
  },
  {
   "cell_type": "code",
   "execution_count": 34,
   "metadata": {},
   "outputs": [
    {
     "data": {
      "text/plain": [
       "dict_keys(['pose_traces', 'min_obstacle_distances', 'timestamps', 'success'])"
      ]
     },
     "execution_count": 34,
     "metadata": {},
     "output_type": "execute_result"
    }
   ],
   "source": [
    "analysis.ret['freq_10'].keys()"
   ]
  },
  {
   "cell_type": "code",
   "execution_count": 61,
   "metadata": {},
   "outputs": [],
   "source": [
    "analysis.plot_heuristic_performance_heatmap()"
   ]
  },
  {
   "cell_type": "markdown",
   "metadata": {},
   "source": [
    "## Analysis"
   ]
  },
  {
   "cell_type": "code",
   "execution_count": 44,
   "metadata": {},
   "outputs": [
    {
     "name": "stdout",
     "output_type": "stream",
     "text": [
      "freq_100_steps_100\n"
     ]
    }
   ],
   "source": [
    "filenames = [k for k in results.keys() if k.split('_')[1] == '100']\n",
    "file_id = 9\n",
    "\n",
    "filename = filenames[file_id]\n",
    "print(results[filename].info['label'])\n",
    "results[filename].plot_scene().show()\n",
    "results[filename].plot_distance_to_goal().show()\n",
    "results[filename].plot_distance_to_closest_obstacle().show()"
   ]
  },
  {
   "cell_type": "code",
   "execution_count": 76,
   "metadata": {},
   "outputs": [
    {
     "name": "stdout",
     "output_type": "stream",
     "text": [
      "['label',\n",
      " 'success',\n",
      " 'timestamps',\n",
      " 'num_agents',\n",
      " 'num_obstacles',\n",
      " 'num_collisions',\n",
      " 'collision_timestamps',\n",
      " 'collision_indices',\n",
      " 'detection_shell_radius',\n",
      " 'agent_switches',\n",
      " 'agent_residency_pct',\n",
      " 'agent_positions',\n",
      " 'distances_to_obstacles',\n",
      " 'min_distances_to_obstacles',\n",
      " 'max_distances_to_obstacles',\n",
      " 'distance_to_target',\n",
      " 'path_length',\n",
      " 'motion_start_timestamp',\n",
      " 'motion_start_pos',\n",
      " 'experiment_start_timestamp',\n",
      " 'experiment_end_timestamp',\n",
      " 'elapsed_experiment_runtime',\n",
      " 'elapsed_motion_runtime',\n",
      " 'min_distances_to_target',\n",
      " 'min_distances_to_target_timestamp',\n",
      " 'average_planning_time']\n"
     ]
    }
   ],
   "source": [
    "from pprint import pprint\n",
    "pprint(list(results[filename].info.keys()))"
   ]
  },
  {
   "cell_type": "code",
   "execution_count": 79,
   "metadata": {},
   "outputs": [
    {
     "data": {
      "text/plain": [
       "65.58363318443298"
      ]
     },
     "execution_count": 79,
     "metadata": {},
     "output_type": "execute_result"
    }
   ],
   "source": [
    "results[filename].info['elapsed_motion_runtime']"
   ]
  },
  {
   "cell_type": "code",
   "execution_count": 66,
   "metadata": {},
   "outputs": [
    {
     "data": {
      "text/plain": [
       "'goalobstacle_heuristic_force_0.01663'"
      ]
     },
     "execution_count": 66,
     "metadata": {},
     "output_type": "execute_result"
    }
   ],
   "source": [
    "filename"
   ]
  },
  {
   "cell_type": "code",
   "execution_count": null,
   "metadata": {},
   "outputs": [],
   "source": [
    "\n",
    "# traces = []\n",
    "\n",
    "# heuristic_name = 'velocity'\n",
    "# filenames = [k for k in results.keys() if k.split('_')[0] == heuristic_name]\n",
    "\n",
    "# for filename in filenames:\n",
    "#     poses = results[filename].agent_poses['position']\n",
    "#     poses_df = pd.DataFrame(poses.values.tolist(), columns=['x', 'y', 'z'])\n",
    "\n",
    "#     traces.append(go.Scatter3d(\n",
    "#         x=poses_df['x'],\n",
    "#         y=poses_df['y'],\n",
    "#         z=poses_df['z'],\n",
    "#         name=filename.split('_')[-1],\n",
    "#         mode='lines+markers',\n",
    "#         marker=dict(size=1, \n",
    "#                 #color='blue', \n",
    "#         symbol='circle'),\n",
    "#     ))\n",
    "\n",
    "# sample_result = results[filename]\n",
    "# pcd_df = pd.DataFrame(sample_result.pointclouds.iloc[0]['points'])\n",
    "# traces.append(go.Scatter3d(\n",
    "#     x=pcd_df[0],\n",
    "#     y=pcd_df[1],\n",
    "#     z=pcd_df[2],\n",
    "#     name='Pointcloud',\n",
    "#     mode='markers',\n",
    "#     marker=dict(size=2, color='red', symbol='circle'),\n",
    "# ))\n",
    "# # Create start and goal markers.\n",
    "# traces.append(go.Scatter3d(\n",
    "#     x=[sample_result.start_pos[0]],\n",
    "#     y=[sample_result.start_pos[1]],\n",
    "#     z=[sample_result.start_pos[2]],\n",
    "#     name='Start',\n",
    "#     mode='markers',\n",
    "#     marker=dict(size=8, color='blue', symbol='diamond'),\n",
    "# ))\n",
    "# traces.append(go.Scatter3d(\n",
    "#     x=[sample_result.goal_pos[0]],\n",
    "#     y=[sample_result.goal_pos[1]],\n",
    "#     z=[sample_result.goal_pos[2]],\n",
    "#     mode='markers',\n",
    "#     marker=dict(size=8, color='green', symbol='diamond'),\n",
    "#     name='Goal'\n",
    "# ))\n",
    "\n",
    "# fig = go.Figure(data=traces)\n",
    "# fig.update_layout(\n",
    "#     title=f'Visualization: {heuristic_name}, param sweep',\n",
    "#     scene=dict(\n",
    "#         xaxis_title='X Position',\n",
    "#         yaxis_title='Y Position',\n",
    "#         zaxis_title='Z Position',\n",
    "#         aspectmode='data'\n",
    "#     )\n",
    "# )\n",
    "# fig.show()"
   ]
  },
  {
   "cell_type": "code",
   "execution_count": 17,
   "metadata": {},
   "outputs": [],
   "source": [
    "traces = []\n",
    "\n",
    "heuristic_name = 'goal'\n",
    "timestamps = results[filename].info['timestamps']\n",
    "\n",
    "\n",
    "for filename in [k for k in results.keys() if k.split('_')[0] == heuristic_name]:\n",
    "    poses = results[filename].agent_poses['position']\n",
    "    # poses_df = pd.DataFrame(poses.values.tolist(), columns=['x', 'y', 'z'])\n",
    "\n",
    "    # traces.append(go.Scatter3d(\n",
    "    #     x=poses_df['x'],\n",
    "    #     y=poses_df['y'],\n",
    "    #     z=poses_df['z'],\n",
    "    #     name=filename.split('_')[-1],\n",
    "    #     mode='lines+markers',\n",
    "    #     marker=dict(size=1, \n",
    "    #             #color='blue', \n",
    "    #     symbol='circle'),\n",
    "    # ))\n",
    "    distances = results[filename].info['min_distances_to_obstacles']\n",
    "    traces.append(go.Scattergl(\n",
    "        x=timestamps,\n",
    "        y=distances,\n",
    "        name=filename.split('_')[-1],\n",
    "\n",
    "    ))\n",
    "\n",
    "# sample_result = results[filename]\n",
    "# pcd_df = pd.DataFrame(sample_result.pointclouds.iloc[0]['points'])\n",
    "# traces.append(go.Scatter3d(\n",
    "#     x=pcd_df[0],\n",
    "#     y=pcd_df[1],\n",
    "#     z=pcd_df[2],\n",
    "#     name='Pointcloud',\n",
    "#     mode='markers',\n",
    "#     marker=dict(size=2, color='red', symbol='circle'),\n",
    "# ))\n",
    "# # Create start and goal markers.\n",
    "# traces.append(go.Scatter3d(\n",
    "#     x=[sample_result.start_pos[0]],\n",
    "#     y=[sample_result.start_pos[1]],\n",
    "#     z=[sample_result.start_pos[2]],\n",
    "#     name='Start',\n",
    "#     mode='markers',\n",
    "#     marker=dict(size=8, color='blue', symbol='diamond'),\n",
    "# ))\n",
    "# traces.append(go.Scatter3d(\n",
    "#     x=[sample_result.goal_pos[0]],\n",
    "#     y=[sample_result.goal_pos[1]],\n",
    "#     z=[sample_result.goal_pos[2]],\n",
    "#     mode='markers',\n",
    "#     marker=dict(size=8, color='green', symbol='diamond'),\n",
    "#     name='Goal'\n",
    "# ))\n",
    "\n",
    "fig = go.Figure(data=traces)\n",
    "# fig.update_layout(\n",
    "#     title=f'Visualization: {heuristic_name}, param sweep',\n",
    "#     scene=dict(\n",
    "#         xaxis_title='X Position',\n",
    "#         yaxis_title='Y Position',\n",
    "#         zaxis_title='Z Position',\n",
    "#         aspectmode='data'\n",
    "#     )\n",
    "# )\n",
    "fig.show()"
   ]
  }
 ],
 "metadata": {
  "kernelspec": {
   "display_name": "percept_env",
   "language": "python",
   "name": "python3"
  },
  "language_info": {
   "codemirror_mode": {
    "name": "ipython",
    "version": 3
   },
   "file_extension": ".py",
   "mimetype": "text/x-python",
   "name": "python",
   "nbconvert_exporter": "python",
   "pygments_lexer": "ipython3",
   "version": "3.10.16"
  }
 },
 "nbformat": 4,
 "nbformat_minor": 2
}
