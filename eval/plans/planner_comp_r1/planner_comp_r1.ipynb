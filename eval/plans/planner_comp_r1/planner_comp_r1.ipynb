{
 "cells": [
  {
   "cell_type": "code",
   "execution_count": 2,
   "metadata": {},
   "outputs": [],
   "source": [
    "\"\"\"\n",
    "Intructions to run this notebook:\n",
    "1. Source the environment using . env.sh and cd to percept/eval directory. \n",
    "2. Run the notebook server using `jupyter notebook` command in terminal.\n",
    "3. Connect to the notebook server using the provided URL.\n",
    "\"\"\"\n",
    "%load_ext autoreload\n",
    "%autoreload 2\n",
    "\n",
    "\n",
    "import psutil\n",
    "import time\n",
    "\n",
    "from process_results import MetricsReader\n",
    "import yaml\n",
    "import plotly.graph_objects as go\n",
    "import plotly.io as pio\n",
    "import pandas as pd\n",
    "import numpy as np\n",
    "from pathlib import Path\n",
    "import traceback\n",
    "\n",
    "pio.templates.default = \"plotly_white\"\n",
    "pio.renderers.default = \"browser\""
   ]
  },
  {
   "cell_type": "code",
   "execution_count": 3,
   "metadata": {},
   "outputs": [],
   "source": [
    "plan = 'planner_comp_r1'\n",
    "results_dir = Path('results') / plan\n",
    "plan_dir = Path('plans') / 'planner_comp_r1'\n",
    "cache_filepath = plan_dir / \"results.msgpack\"\n",
    "\n",
    "LOAD_CACHE = False # Flip this to True when only doing analysis\n",
    "SUCCESS_TIME_LIMIT = 120.0\n",
    "ACCEPTABLE_MIN_DISTANCES_TO_TARGET = 0.10"
   ]
  },
  {
   "cell_type": "code",
   "execution_count": 30,
   "metadata": {},
   "outputs": [
    {
     "name": "stderr",
     "output_type": "stream",
     "text": [
      "Processing records: 100%|███████████████| 8248/8248 [00:00<00:00, 504566.89it/s]\n"
     ]
    },
    {
     "name": "stdout",
     "output_type": "stream",
     "text": [
      "File: 250628-17-21-03~scene_3-planner_0-pose_0.result took 0.432 seconds to process\n"
     ]
    },
    {
     "name": "stderr",
     "output_type": "stream",
     "text": [
      "Processing records: 100%|███████████████| 8173/8173 [00:00<00:00, 432588.54it/s]\n"
     ]
    },
    {
     "name": "stdout",
     "output_type": "stream",
     "text": [
      "File: 250628-17-23-14~scene_3-planner_0-pose_1.result took 0.431 seconds to process\n"
     ]
    },
    {
     "name": "stderr",
     "output_type": "stream",
     "text": [
      "Processing records: 100%|███████████████| 8313/8313 [00:00<00:00, 511257.48it/s]\n"
     ]
    },
    {
     "name": "stdout",
     "output_type": "stream",
     "text": [
      "File: 250628-17-25-24~scene_3-planner_0-pose_2.result took 0.435 seconds to process\n"
     ]
    },
    {
     "name": "stderr",
     "output_type": "stream",
     "text": [
      "Processing records: 100%|███████████████| 8082/8082 [00:00<00:00, 471859.20it/s]\n"
     ]
    },
    {
     "name": "stdout",
     "output_type": "stream",
     "text": [
      "File: 250628-17-27-35~scene_3-planner_0-pose_3.result took 0.430 seconds to process\n"
     ]
    },
    {
     "name": "stderr",
     "output_type": "stream",
     "text": [
      "Processing records: 100%|███████████████| 8131/8131 [00:00<00:00, 543991.03it/s]\n"
     ]
    },
    {
     "name": "stdout",
     "output_type": "stream",
     "text": [
      "File: 250628-17-29-46~scene_3-planner_0-pose_4.result took 0.432 seconds to process\n"
     ]
    },
    {
     "name": "stderr",
     "output_type": "stream",
     "text": [
      "Processing records: 100%|███████████████| 8208/8208 [00:00<00:00, 496923.31it/s]\n"
     ]
    },
    {
     "name": "stdout",
     "output_type": "stream",
     "text": [
      "File: 250628-17-31-56~scene_3-planner_0-pose_5.result took 0.430 seconds to process\n"
     ]
    },
    {
     "name": "stderr",
     "output_type": "stream",
     "text": [
      "Processing records: 100%|███████████████| 8131/8131 [00:00<00:00, 498296.14it/s]\n"
     ]
    },
    {
     "name": "stdout",
     "output_type": "stream",
     "text": [
      "File: 250628-17-34-07~scene_3-planner_0-pose_6.result took 0.473 seconds to process\n"
     ]
    },
    {
     "name": "stderr",
     "output_type": "stream",
     "text": [
      "Processing records: 100%|███████████████| 8089/8089 [00:00<00:00, 432492.32it/s]\n"
     ]
    },
    {
     "name": "stdout",
     "output_type": "stream",
     "text": [
      "File: 250628-17-36-18~scene_3-planner_0-pose_7.result took 0.431 seconds to process\n"
     ]
    },
    {
     "name": "stderr",
     "output_type": "stream",
     "text": [
      "Processing records: 100%|███████████████| 7956/7956 [00:00<00:00, 493148.55it/s]\n"
     ]
    },
    {
     "name": "stdout",
     "output_type": "stream",
     "text": [
      "File: 250628-17-38-28~scene_3-planner_0-pose_8.result took 0.421 seconds to process\n"
     ]
    },
    {
     "name": "stderr",
     "output_type": "stream",
     "text": [
      "Processing records: 100%|███████████████| 8243/8243 [00:00<00:00, 488632.03it/s]\n"
     ]
    },
    {
     "name": "stdout",
     "output_type": "stream",
     "text": [
      "File: 250628-17-40-39~scene_3-planner_0-pose_9.result took 0.422 seconds to process\n"
     ]
    },
    {
     "name": "stderr",
     "output_type": "stream",
     "text": [
      "Processing records: 100%|███████████████| 8257/8257 [00:00<00:00, 528520.58it/s]\n"
     ]
    },
    {
     "name": "stdout",
     "output_type": "stream",
     "text": [
      "File: 250628-17-42-50~scene_3-planner_0-pose_10.result took 0.432 seconds to process\n"
     ]
    },
    {
     "name": "stderr",
     "output_type": "stream",
     "text": [
      "Processing records: 100%|███████████████| 8229/8229 [00:00<00:00, 472192.73it/s]\n"
     ]
    },
    {
     "name": "stdout",
     "output_type": "stream",
     "text": [
      "File: 250628-17-45-00~scene_3-planner_0-pose_11.result took 0.431 seconds to process\n"
     ]
    },
    {
     "name": "stderr",
     "output_type": "stream",
     "text": [
      "Processing records: 100%|███████████████| 8040/8040 [00:00<00:00, 520484.71it/s]\n"
     ]
    },
    {
     "name": "stdout",
     "output_type": "stream",
     "text": [
      "File: 250628-17-47-11~scene_3-planner_0-pose_12.result took 0.433 seconds to process\n"
     ]
    },
    {
     "name": "stderr",
     "output_type": "stream",
     "text": [
      "Processing records: 100%|███████████████| 8236/8236 [00:00<00:00, 453593.07it/s]\n"
     ]
    },
    {
     "name": "stdout",
     "output_type": "stream",
     "text": [
      "File: 250628-17-49-21~scene_3-planner_0-pose_13.result took 0.428 seconds to process\n"
     ]
    },
    {
     "name": "stderr",
     "output_type": "stream",
     "text": [
      "Processing records: 100%|███████████████| 8236/8236 [00:00<00:00, 479775.11it/s]\n"
     ]
    },
    {
     "name": "stdout",
     "output_type": "stream",
     "text": [
      "File: 250628-17-51-32~scene_3-planner_0-pose_14.result took 0.432 seconds to process\n"
     ]
    },
    {
     "name": "stderr",
     "output_type": "stream",
     "text": [
      "Processing records: 100%|███████████████| 8159/8159 [00:00<00:00, 494078.03it/s]\n"
     ]
    },
    {
     "name": "stdout",
     "output_type": "stream",
     "text": [
      "File: 250628-17-53-43~scene_3-planner_0-pose_15.result took 0.437 seconds to process\n"
     ]
    },
    {
     "name": "stderr",
     "output_type": "stream",
     "text": [
      "Processing records: 100%|███████████████| 8026/8026 [00:00<00:00, 469413.00it/s]\n"
     ]
    },
    {
     "name": "stdout",
     "output_type": "stream",
     "text": [
      "File: 250628-17-55-53~scene_3-planner_0-pose_16.result took 0.547 seconds to process\n"
     ]
    },
    {
     "name": "stderr",
     "output_type": "stream",
     "text": [
      "Processing records: 100%|███████████████| 8243/8243 [00:00<00:00, 482986.85it/s]\n"
     ]
    },
    {
     "name": "stdout",
     "output_type": "stream",
     "text": [
      "File: 250628-17-58-04~scene_3-planner_0-pose_17.result took 0.426 seconds to process\n"
     ]
    },
    {
     "name": "stderr",
     "output_type": "stream",
     "text": [
      "Processing records: 100%|███████████████| 7956/7956 [00:00<00:00, 438189.49it/s]\n"
     ]
    },
    {
     "name": "stdout",
     "output_type": "stream",
     "text": [
      "File: 250628-18-00-15~scene_3-planner_0-pose_18.result took 0.451 seconds to process\n"
     ]
    },
    {
     "name": "stderr",
     "output_type": "stream",
     "text": [
      "Processing records: 100%|███████████████| 8054/8054 [00:00<00:00, 479359.23it/s]\n"
     ]
    },
    {
     "name": "stdout",
     "output_type": "stream",
     "text": [
      "File: 250628-18-02-25~scene_3-planner_0-pose_19.result took 0.470 seconds to process\n"
     ]
    },
    {
     "name": "stderr",
     "output_type": "stream",
     "text": [
      "Processing records: 100%|███████████████| 8061/8061 [00:00<00:00, 472197.49it/s]\n"
     ]
    },
    {
     "name": "stdout",
     "output_type": "stream",
     "text": [
      "File: 250628-18-04-36~scene_3-planner_0-pose_20.result took 0.428 seconds to process\n"
     ]
    },
    {
     "name": "stderr",
     "output_type": "stream",
     "text": [
      "Processing records: 100%|███████████████| 8005/8005 [00:00<00:00, 479902.28it/s]\n"
     ]
    },
    {
     "name": "stdout",
     "output_type": "stream",
     "text": [
      "File: 250628-18-06-47~scene_3-planner_0-pose_21.result took 0.426 seconds to process\n"
     ]
    },
    {
     "name": "stderr",
     "output_type": "stream",
     "text": [
      "Processing records: 100%|███████████████| 8250/8250 [00:00<00:00, 503741.45it/s]\n"
     ]
    },
    {
     "name": "stdout",
     "output_type": "stream",
     "text": [
      "File: 250628-18-08-57~scene_3-planner_0-pose_22.result took 0.427 seconds to process\n"
     ]
    },
    {
     "name": "stderr",
     "output_type": "stream",
     "text": [
      "Processing records: 100%|███████████████| 8166/8166 [00:00<00:00, 473710.45it/s]\n"
     ]
    },
    {
     "name": "stdout",
     "output_type": "stream",
     "text": [
      "File: 250628-18-11-08~scene_3-planner_0-pose_23.result took 0.427 seconds to process\n"
     ]
    },
    {
     "name": "stderr",
     "output_type": "stream",
     "text": [
      "Processing records: 100%|███████████████| 8166/8166 [00:00<00:00, 497179.37it/s]\n"
     ]
    },
    {
     "name": "stdout",
     "output_type": "stream",
     "text": [
      "File: 250628-18-13-19~scene_3-planner_0-pose_24.result took 0.432 seconds to process\n"
     ]
    },
    {
     "name": "stderr",
     "output_type": "stream",
     "text": [
      "Processing records: 100%|███████████████| 8215/8215 [00:00<00:00, 420818.61it/s]\n"
     ]
    },
    {
     "name": "stdout",
     "output_type": "stream",
     "text": [
      "File: 250628-18-15-29~scene_3-planner_0-pose_25.result took 0.429 seconds to process\n"
     ]
    },
    {
     "name": "stderr",
     "output_type": "stream",
     "text": [
      "Processing records: 100%|███████████████| 8278/8278 [00:00<00:00, 454212.38it/s]\n"
     ]
    },
    {
     "name": "stdout",
     "output_type": "stream",
     "text": [
      "File: 250628-18-17-40~scene_3-planner_0-pose_26.result took 0.428 seconds to process\n"
     ]
    },
    {
     "name": "stderr",
     "output_type": "stream",
     "text": [
      "Processing records: 100%|███████████████| 8208/8208 [00:00<00:00, 512411.03it/s]\n"
     ]
    },
    {
     "name": "stdout",
     "output_type": "stream",
     "text": [
      "File: 250628-18-19-50~scene_3-planner_0-pose_27.result took 0.439 seconds to process\n"
     ]
    },
    {
     "name": "stderr",
     "output_type": "stream",
     "text": [
      "Processing records: 100%|███████████████| 8187/8187 [00:00<00:00, 507264.56it/s]\n"
     ]
    },
    {
     "name": "stdout",
     "output_type": "stream",
     "text": [
      "File: 250628-18-22-01~scene_3-planner_0-pose_28.result took 0.430 seconds to process\n"
     ]
    },
    {
     "name": "stderr",
     "output_type": "stream",
     "text": [
      "Processing records: 100%|███████████████| 8019/8019 [00:00<00:00, 448090.54it/s]\n"
     ]
    },
    {
     "name": "stdout",
     "output_type": "stream",
     "text": [
      "File: 250628-18-24-12~scene_3-planner_0-pose_29.result took 0.431 seconds to process\n"
     ]
    },
    {
     "name": "stderr",
     "output_type": "stream",
     "text": [
      "Processing records: 100%|███████████████| 8082/8082 [00:00<00:00, 501054.85it/s]\n"
     ]
    },
    {
     "name": "stdout",
     "output_type": "stream",
     "text": [
      "File: 250628-18-26-22~scene_3-planner_1-pose_0.result took 0.426 seconds to process\n"
     ]
    },
    {
     "name": "stderr",
     "output_type": "stream",
     "text": [
      "Processing records: 100%|███████████████| 8208/8208 [00:00<00:00, 530190.31it/s]\n"
     ]
    },
    {
     "name": "stdout",
     "output_type": "stream",
     "text": [
      "File: 250628-18-28-33~scene_3-planner_1-pose_1.result took 0.424 seconds to process\n"
     ]
    },
    {
     "name": "stderr",
     "output_type": "stream",
     "text": [
      "Processing records: 100%|███████████████| 8096/8096 [00:00<00:00, 488556.01it/s]\n"
     ]
    },
    {
     "name": "stdout",
     "output_type": "stream",
     "text": [
      "File: 250628-18-30-44~scene_3-planner_1-pose_2.result took 0.428 seconds to process\n"
     ]
    },
    {
     "name": "stderr",
     "output_type": "stream",
     "text": [
      "Processing records: 100%|███████████████| 8180/8180 [00:00<00:00, 555635.92it/s]\n"
     ]
    },
    {
     "name": "stdout",
     "output_type": "stream",
     "text": [
      "File: 250628-18-32-54~scene_3-planner_1-pose_3.result took 0.430 seconds to process\n"
     ]
    },
    {
     "name": "stderr",
     "output_type": "stream",
     "text": [
      "Processing records: 100%|███████████████| 8166/8166 [00:00<00:00, 501078.01it/s]\n"
     ]
    },
    {
     "name": "stdout",
     "output_type": "stream",
     "text": [
      "File: 250628-18-35-05~scene_3-planner_1-pose_4.result took 0.426 seconds to process\n"
     ]
    },
    {
     "name": "stderr",
     "output_type": "stream",
     "text": [
      "Processing records: 100%|███████████████| 8180/8180 [00:00<00:00, 428808.62it/s]\n"
     ]
    },
    {
     "name": "stdout",
     "output_type": "stream",
     "text": [
      "File: 250628-18-37-16~scene_3-planner_1-pose_5.result took 0.431 seconds to process\n"
     ]
    },
    {
     "name": "stderr",
     "output_type": "stream",
     "text": [
      "Processing records: 100%|███████████████| 8201/8201 [00:00<00:00, 488143.03it/s]\n"
     ]
    },
    {
     "name": "stdout",
     "output_type": "stream",
     "text": [
      "File: 250628-18-39-26~scene_3-planner_1-pose_6.result took 0.424 seconds to process\n"
     ]
    },
    {
     "name": "stderr",
     "output_type": "stream",
     "text": [
      "Processing records: 100%|███████████████| 8166/8166 [00:00<00:00, 480657.42it/s]\n"
     ]
    },
    {
     "name": "stdout",
     "output_type": "stream",
     "text": [
      "File: 250628-18-41-37~scene_3-planner_1-pose_7.result took 0.419 seconds to process\n"
     ]
    },
    {
     "name": "stderr",
     "output_type": "stream",
     "text": [
      "Processing records: 100%|███████████████| 8068/8068 [00:00<00:00, 488377.03it/s]\n"
     ]
    },
    {
     "name": "stdout",
     "output_type": "stream",
     "text": [
      "File: 250628-18-43-47~scene_3-planner_1-pose_8.result took 0.431 seconds to process\n"
     ]
    },
    {
     "name": "stderr",
     "output_type": "stream",
     "text": [
      "Processing records: 100%|███████████████| 7977/7977 [00:00<00:00, 495196.67it/s]\n"
     ]
    },
    {
     "name": "stdout",
     "output_type": "stream",
     "text": [
      "File: 250628-18-45-58~scene_3-planner_1-pose_9.result took 0.434 seconds to process\n"
     ]
    },
    {
     "name": "stderr",
     "output_type": "stream",
     "text": [
      "Processing records: 100%|███████████████| 8075/8075 [00:00<00:00, 491225.34it/s]\n"
     ]
    },
    {
     "name": "stdout",
     "output_type": "stream",
     "text": [
      "File: 250628-18-48-09~scene_3-planner_1-pose_10.result took 0.459 seconds to process\n"
     ]
    },
    {
     "name": "stderr",
     "output_type": "stream",
     "text": [
      "Processing records: 100%|███████████████| 8236/8236 [00:00<00:00, 330115.61it/s]\n"
     ]
    },
    {
     "name": "stdout",
     "output_type": "stream",
     "text": [
      "File: 250628-18-50-19~scene_3-planner_1-pose_11.result took 0.508 seconds to process\n"
     ]
    },
    {
     "name": "stderr",
     "output_type": "stream",
     "text": [
      "Processing records: 100%|███████████████| 8320/8320 [00:00<00:00, 478356.83it/s]\n"
     ]
    },
    {
     "name": "stdout",
     "output_type": "stream",
     "text": [
      "File: 250628-18-52-30~scene_3-planner_1-pose_12.result took 0.568 seconds to process\n"
     ]
    },
    {
     "name": "stderr",
     "output_type": "stream",
     "text": [
      "Processing records: 100%|███████████████| 8273/8273 [00:00<00:00, 500815.13it/s]\n"
     ]
    },
    {
     "name": "stdout",
     "output_type": "stream",
     "text": [
      "File: 250628-18-54-41~scene_3-planner_1-pose_13.result took 0.626 seconds to process\n"
     ]
    },
    {
     "name": "stderr",
     "output_type": "stream",
     "text": [
      "Processing records: 100%|███████████████| 8110/8110 [00:00<00:00, 444070.57it/s]\n"
     ]
    },
    {
     "name": "stdout",
     "output_type": "stream",
     "text": [
      "File: 250628-18-56-51~scene_3-planner_1-pose_14.result took 0.620 seconds to process\n"
     ]
    },
    {
     "name": "stderr",
     "output_type": "stream",
     "text": [
      "Processing records: 100%|███████████████| 8299/8299 [00:00<00:00, 475851.39it/s]\n"
     ]
    },
    {
     "name": "stdout",
     "output_type": "stream",
     "text": [
      "File: 250628-18-59-02~scene_3-planner_1-pose_15.result took 0.579 seconds to process\n"
     ]
    },
    {
     "name": "stderr",
     "output_type": "stream",
     "text": [
      "Processing records: 100%|███████████████| 8215/8215 [00:00<00:00, 486504.68it/s]\n"
     ]
    },
    {
     "name": "stdout",
     "output_type": "stream",
     "text": [
      "File: 250628-19-01-13~scene_3-planner_1-pose_16.result took 0.572 seconds to process\n"
     ]
    },
    {
     "name": "stderr",
     "output_type": "stream",
     "text": [
      "Processing records: 100%|███████████████| 8180/8180 [00:00<00:00, 455394.30it/s]\n"
     ]
    },
    {
     "name": "stdout",
     "output_type": "stream",
     "text": [
      "File: 250628-19-03-23~scene_3-planner_1-pose_17.result took 0.590 seconds to process\n"
     ]
    },
    {
     "name": "stderr",
     "output_type": "stream",
     "text": [
      "Processing records: 100%|███████████████| 8145/8145 [00:00<00:00, 500111.35it/s]\n"
     ]
    },
    {
     "name": "stdout",
     "output_type": "stream",
     "text": [
      "File: 250628-19-05-34~scene_3-planner_1-pose_18.result took 0.597 seconds to process\n"
     ]
    },
    {
     "name": "stderr",
     "output_type": "stream",
     "text": [
      "Processing records: 100%|███████████████| 8005/8005 [00:00<00:00, 416083.02it/s]\n"
     ]
    },
    {
     "name": "stdout",
     "output_type": "stream",
     "text": [
      "File: 250628-19-07-44~scene_3-planner_1-pose_19.result took 0.619 seconds to process\n"
     ]
    },
    {
     "name": "stderr",
     "output_type": "stream",
     "text": [
      "Processing records: 100%|███████████████| 8264/8264 [00:00<00:00, 483406.95it/s]\n"
     ]
    },
    {
     "name": "stdout",
     "output_type": "stream",
     "text": [
      "File: 250628-19-09-55~scene_3-planner_1-pose_20.result took 0.669 seconds to process\n"
     ]
    },
    {
     "name": "stderr",
     "output_type": "stream",
     "text": [
      "Processing records: 100%|███████████████| 8173/8173 [00:00<00:00, 481522.20it/s]\n"
     ]
    },
    {
     "name": "stdout",
     "output_type": "stream",
     "text": [
      "File: 250628-19-12-06~scene_3-planner_1-pose_21.result took 0.565 seconds to process\n"
     ]
    },
    {
     "name": "stderr",
     "output_type": "stream",
     "text": [
      "Processing records: 100%|███████████████| 8201/8201 [00:00<00:00, 494309.10it/s]\n"
     ]
    },
    {
     "name": "stdout",
     "output_type": "stream",
     "text": [
      "File: 250628-19-14-16~scene_3-planner_1-pose_22.result took 0.554 seconds to process\n"
     ]
    },
    {
     "name": "stderr",
     "output_type": "stream",
     "text": [
      "Processing records: 100%|███████████████| 8180/8180 [00:00<00:00, 431820.15it/s]\n"
     ]
    },
    {
     "name": "stdout",
     "output_type": "stream",
     "text": [
      "File: 250628-19-16-27~scene_3-planner_1-pose_23.result took 0.537 seconds to process\n"
     ]
    },
    {
     "name": "stderr",
     "output_type": "stream",
     "text": [
      "Processing records: 100%|███████████████| 8005/8005 [00:00<00:00, 442696.14it/s]\n"
     ]
    },
    {
     "name": "stdout",
     "output_type": "stream",
     "text": [
      "File: 250628-19-18-38~scene_3-planner_1-pose_24.result took 0.590 seconds to process\n"
     ]
    },
    {
     "name": "stderr",
     "output_type": "stream",
     "text": [
      "Processing records: 100%|███████████████| 8110/8110 [00:00<00:00, 490438.10it/s]\n"
     ]
    },
    {
     "name": "stdout",
     "output_type": "stream",
     "text": [
      "File: 250628-19-20-48~scene_3-planner_1-pose_25.result took 0.548 seconds to process\n"
     ]
    },
    {
     "name": "stderr",
     "output_type": "stream",
     "text": [
      "Processing records: 100%|███████████████| 8131/8131 [00:00<00:00, 482818.52it/s]\n"
     ]
    },
    {
     "name": "stdout",
     "output_type": "stream",
     "text": [
      "File: 250628-19-22-59~scene_3-planner_1-pose_26.result took 0.550 seconds to process\n"
     ]
    },
    {
     "name": "stderr",
     "output_type": "stream",
     "text": [
      "Processing records: 100%|███████████████| 8299/8299 [00:00<00:00, 469864.86it/s]\n"
     ]
    },
    {
     "name": "stdout",
     "output_type": "stream",
     "text": [
      "File: 250628-19-25-09~scene_3-planner_1-pose_27.result took 0.552 seconds to process\n"
     ]
    },
    {
     "name": "stderr",
     "output_type": "stream",
     "text": [
      "Processing records: 100%|███████████████| 8075/8075 [00:00<00:00, 492210.50it/s]\n"
     ]
    },
    {
     "name": "stdout",
     "output_type": "stream",
     "text": [
      "File: 250628-19-27-20~scene_3-planner_1-pose_28.result took 0.537 seconds to process\n"
     ]
    },
    {
     "name": "stderr",
     "output_type": "stream",
     "text": [
      "Processing records: 100%|███████████████| 8138/8138 [00:00<00:00, 492671.20it/s]\n"
     ]
    },
    {
     "name": "stdout",
     "output_type": "stream",
     "text": [
      "File: 250628-19-29-31~scene_3-planner_1-pose_29.result took 0.484 seconds to process\n"
     ]
    },
    {
     "name": "stderr",
     "output_type": "stream",
     "text": [
      "Processing records: 100%|█████████████| 10248/10248 [00:00<00:00, 474554.27it/s]\n"
     ]
    },
    {
     "name": "stdout",
     "output_type": "stream",
     "text": [
      "File: 250628-19-31-41~scene_3-planner_2-pose_0.result took 0.554 seconds to process\n"
     ]
    },
    {
     "name": "stderr",
     "output_type": "stream",
     "text": [
      "Processing records: 100%|█████████████| 10287/10287 [00:00<00:00, 446635.80it/s]\n"
     ]
    },
    {
     "name": "stdout",
     "output_type": "stream",
     "text": [
      "File: 250628-19-33-52~scene_3-planner_2-pose_1.result took 0.588 seconds to process\n"
     ]
    },
    {
     "name": "stderr",
     "output_type": "stream",
     "text": [
      "Processing records: 100%|█████████████| 10261/10261 [00:00<00:00, 497747.68it/s]\n"
     ]
    },
    {
     "name": "stdout",
     "output_type": "stream",
     "text": [
      "File: 250628-19-36-03~scene_3-planner_2-pose_2.result took 0.562 seconds to process\n"
     ]
    },
    {
     "name": "stderr",
     "output_type": "stream",
     "text": [
      "Processing records: 100%|█████████████| 10300/10300 [00:00<00:00, 479737.61it/s]\n"
     ]
    },
    {
     "name": "stdout",
     "output_type": "stream",
     "text": [
      "File: 250628-19-38-13~scene_3-planner_2-pose_3.result took 0.560 seconds to process\n"
     ]
    },
    {
     "name": "stderr",
     "output_type": "stream",
     "text": [
      "Processing records: 100%|█████████████| 10261/10261 [00:00<00:00, 451730.85it/s]\n"
     ]
    },
    {
     "name": "stdout",
     "output_type": "stream",
     "text": [
      "File: 250628-19-40-24~scene_3-planner_2-pose_4.result took 0.574 seconds to process\n"
     ]
    },
    {
     "name": "stderr",
     "output_type": "stream",
     "text": [
      "Processing records: 100%|█████████████| 10261/10261 [00:00<00:00, 513742.53it/s]\n"
     ]
    },
    {
     "name": "stdout",
     "output_type": "stream",
     "text": [
      "File: 250628-19-42-35~scene_3-planner_2-pose_5.result took 0.585 seconds to process\n"
     ]
    },
    {
     "name": "stderr",
     "output_type": "stream",
     "text": [
      "Processing records: 100%|█████████████| 10326/10326 [00:00<00:00, 446788.98it/s]\n"
     ]
    },
    {
     "name": "stdout",
     "output_type": "stream",
     "text": [
      "File: 250628-19-44-45~scene_3-planner_2-pose_6.result took 0.560 seconds to process\n"
     ]
    },
    {
     "name": "stderr",
     "output_type": "stream",
     "text": [
      "Processing records: 100%|█████████████| 10287/10287 [00:00<00:00, 470357.18it/s]\n"
     ]
    },
    {
     "name": "stdout",
     "output_type": "stream",
     "text": [
      "File: 250628-19-46-56~scene_3-planner_2-pose_7.result took 0.542 seconds to process\n"
     ]
    },
    {
     "name": "stderr",
     "output_type": "stream",
     "text": [
      "Processing records: 100%|█████████████| 10300/10300 [00:00<00:00, 454583.38it/s]\n"
     ]
    },
    {
     "name": "stdout",
     "output_type": "stream",
     "text": [
      "File: 250628-19-49-07~scene_3-planner_2-pose_8.result took 0.564 seconds to process\n"
     ]
    },
    {
     "name": "stderr",
     "output_type": "stream",
     "text": [
      "Processing records: 100%|█████████████| 10352/10352 [00:00<00:00, 529802.51it/s]\n"
     ]
    },
    {
     "name": "stdout",
     "output_type": "stream",
     "text": [
      "File: 250628-19-51-17~scene_3-planner_2-pose_9.result took 0.554 seconds to process\n"
     ]
    },
    {
     "name": "stderr",
     "output_type": "stream",
     "text": [
      "Processing records: 100%|█████████████| 10274/10274 [00:00<00:00, 411488.21it/s]\n"
     ]
    },
    {
     "name": "stdout",
     "output_type": "stream",
     "text": [
      "File: 250628-19-53-28~scene_3-planner_2-pose_10.result took 0.643 seconds to process\n"
     ]
    },
    {
     "name": "stderr",
     "output_type": "stream",
     "text": [
      "Processing records: 100%|█████████████| 10274/10274 [00:00<00:00, 396597.30it/s]\n"
     ]
    },
    {
     "name": "stdout",
     "output_type": "stream",
     "text": [
      "File: 250628-19-55-39~scene_3-planner_2-pose_11.result took 0.642 seconds to process\n"
     ]
    },
    {
     "name": "stderr",
     "output_type": "stream",
     "text": [
      "Processing records: 100%|█████████████| 10274/10274 [00:00<00:00, 467479.71it/s]\n"
     ]
    },
    {
     "name": "stdout",
     "output_type": "stream",
     "text": [
      "File: 250628-19-57-49~scene_3-planner_2-pose_12.result took 0.548 seconds to process\n"
     ]
    },
    {
     "name": "stderr",
     "output_type": "stream",
     "text": [
      "Processing records: 100%|█████████████| 10365/10365 [00:00<00:00, 465514.79it/s]\n"
     ]
    },
    {
     "name": "stdout",
     "output_type": "stream",
     "text": [
      "File: 250628-20-00-00~scene_3-planner_2-pose_13.result took 0.546 seconds to process\n"
     ]
    },
    {
     "name": "stderr",
     "output_type": "stream",
     "text": [
      "Processing records: 100%|█████████████| 10352/10352 [00:00<00:00, 496120.06it/s]\n"
     ]
    },
    {
     "name": "stdout",
     "output_type": "stream",
     "text": [
      "File: 250628-20-02-10~scene_3-planner_2-pose_14.result took 0.565 seconds to process\n"
     ]
    },
    {
     "name": "stderr",
     "output_type": "stream",
     "text": [
      "Processing records: 100%|█████████████| 10313/10313 [00:00<00:00, 462238.93it/s]\n"
     ]
    },
    {
     "name": "stdout",
     "output_type": "stream",
     "text": [
      "File: 250628-20-04-21~scene_3-planner_2-pose_15.result took 0.552 seconds to process\n"
     ]
    },
    {
     "name": "stderr",
     "output_type": "stream",
     "text": [
      "Processing records: 100%|█████████████| 10300/10300 [00:00<00:00, 513824.44it/s]\n"
     ]
    },
    {
     "name": "stdout",
     "output_type": "stream",
     "text": [
      "File: 250628-20-06-32~scene_3-planner_2-pose_16.result took 0.558 seconds to process\n"
     ]
    },
    {
     "name": "stderr",
     "output_type": "stream",
     "text": [
      "Processing records: 100%|█████████████| 10248/10248 [00:00<00:00, 455953.87it/s]\n"
     ]
    },
    {
     "name": "stdout",
     "output_type": "stream",
     "text": [
      "File: 250628-20-08-42~scene_3-planner_2-pose_17.result took 0.546 seconds to process\n"
     ]
    },
    {
     "name": "stderr",
     "output_type": "stream",
     "text": [
      "Processing records: 100%|█████████████| 10261/10261 [00:00<00:00, 458780.64it/s]\n"
     ]
    },
    {
     "name": "stdout",
     "output_type": "stream",
     "text": [
      "File: 250628-20-10-53~scene_3-planner_2-pose_18.result took 0.569 seconds to process\n"
     ]
    },
    {
     "name": "stderr",
     "output_type": "stream",
     "text": [
      "Processing records: 100%|█████████████| 10287/10287 [00:00<00:00, 484001.58it/s]\n"
     ]
    },
    {
     "name": "stdout",
     "output_type": "stream",
     "text": [
      "File: 250628-20-13-04~scene_3-planner_2-pose_19.result took 0.551 seconds to process\n"
     ]
    },
    {
     "name": "stderr",
     "output_type": "stream",
     "text": [
      "Processing records: 100%|█████████████| 10313/10313 [00:00<00:00, 470279.71it/s]\n"
     ]
    },
    {
     "name": "stdout",
     "output_type": "stream",
     "text": [
      "File: 250628-20-15-14~scene_3-planner_2-pose_20.result took 0.533 seconds to process\n"
     ]
    },
    {
     "name": "stderr",
     "output_type": "stream",
     "text": [
      "Processing records: 100%|█████████████| 10339/10339 [00:00<00:00, 471870.61it/s]\n"
     ]
    },
    {
     "name": "stdout",
     "output_type": "stream",
     "text": [
      "File: 250628-20-17-25~scene_3-planner_2-pose_21.result took 0.559 seconds to process\n"
     ]
    },
    {
     "name": "stderr",
     "output_type": "stream",
     "text": [
      "Processing records: 100%|█████████████| 10287/10287 [00:00<00:00, 418962.04it/s]\n"
     ]
    },
    {
     "name": "stdout",
     "output_type": "stream",
     "text": [
      "File: 250628-20-19-36~scene_3-planner_2-pose_22.result took 0.561 seconds to process\n"
     ]
    },
    {
     "name": "stderr",
     "output_type": "stream",
     "text": [
      "Processing records: 100%|█████████████| 10287/10287 [00:00<00:00, 494587.28it/s]\n"
     ]
    },
    {
     "name": "stdout",
     "output_type": "stream",
     "text": [
      "File: 250628-20-21-46~scene_3-planner_2-pose_23.result took 0.549 seconds to process\n"
     ]
    },
    {
     "name": "stderr",
     "output_type": "stream",
     "text": [
      "Processing records: 100%|█████████████| 10261/10261 [00:00<00:00, 489326.72it/s]\n"
     ]
    },
    {
     "name": "stdout",
     "output_type": "stream",
     "text": [
      "File: 250628-20-23-57~scene_3-planner_2-pose_24.result took 0.555 seconds to process\n"
     ]
    },
    {
     "name": "stderr",
     "output_type": "stream",
     "text": [
      "Processing records: 100%|█████████████| 10248/10248 [00:00<00:00, 419111.40it/s]\n"
     ]
    },
    {
     "name": "stdout",
     "output_type": "stream",
     "text": [
      "File: 250628-20-26-07~scene_3-planner_2-pose_25.result took 0.549 seconds to process\n"
     ]
    },
    {
     "name": "stderr",
     "output_type": "stream",
     "text": [
      "Processing records: 100%|█████████████| 10235/10235 [00:00<00:00, 475616.85it/s]\n"
     ]
    },
    {
     "name": "stdout",
     "output_type": "stream",
     "text": [
      "File: 250628-20-28-18~scene_3-planner_2-pose_26.result took 0.547 seconds to process\n"
     ]
    },
    {
     "name": "stderr",
     "output_type": "stream",
     "text": [
      "Processing records: 100%|█████████████| 10300/10300 [00:00<00:00, 463011.96it/s]\n"
     ]
    },
    {
     "name": "stdout",
     "output_type": "stream",
     "text": [
      "File: 250628-20-30-29~scene_3-planner_2-pose_27.result took 0.533 seconds to process\n"
     ]
    },
    {
     "name": "stderr",
     "output_type": "stream",
     "text": [
      "Processing records: 100%|█████████████| 10300/10300 [00:00<00:00, 495570.19it/s]\n"
     ]
    },
    {
     "name": "stdout",
     "output_type": "stream",
     "text": [
      "File: 250628-20-32-39~scene_3-planner_2-pose_28.result took 0.559 seconds to process\n"
     ]
    },
    {
     "name": "stderr",
     "output_type": "stream",
     "text": [
      "Processing records: 100%|█████████████| 10274/10274 [00:00<00:00, 480190.32it/s]\n"
     ]
    },
    {
     "name": "stdout",
     "output_type": "stream",
     "text": [
      "File: 250628-20-34-50~scene_3-planner_2-pose_29.result took 0.568 seconds to process\n"
     ]
    }
   ],
   "source": [
    "from mp_eval.classes.scene_generator import SceneGenerator\n",
    "\n",
    "import msgpack\n",
    "import msgpack_numpy as mnp\n",
    "\n",
    "results = {}\n",
    "failed_cases = {}\n",
    "\n",
    "if LOAD_CACHE:\n",
    "  def load_large_msgpack(filename):\n",
    "    with open(filename, \"rb\") as f:\n",
    "      unpacker = msgpack.Unpacker(f, raw=False, object_hook=mnp.decode)\n",
    "      for key, value in unpacker:\n",
    "        results[key] = value  # Load one entry at a time\n",
    "  load_large_msgpack(cache_filepath)\n",
    "else:\n",
    "  filepaths = sorted(list(results_dir.glob('*.result')))\n",
    "  results_str = {}\n",
    "  for filepath in filepaths:\n",
    "    try:\n",
    "      reader = MetricsReader(\n",
    "        filepath, \n",
    "        success_time_limit=SUCCESS_TIME_LIMIT, \n",
    "        acceptable_min_distances_to_target=ACCEPTABLE_MIN_DISTANCES_TO_TARGET\n",
    "      )\n",
    "      reader.pointclouds = None\n",
    "      results[reader.info['label']] = reader\n",
    "      results_str[reader.info['label']] = reader.format_stats()\n",
    "\n",
    "    #   break\n",
    "    except Exception as e:\n",
    "      print(f\"Error reading {filepath}: {e}!\")\n",
    "      failed_cases[filepath] = {'e': str(e), 'traceback': traceback.format_exc()}\n",
    "\n",
    "  def save_large_msgpack(data, filename):\n",
    "    with open(filename, \"wb\") as f:\n",
    "      packer = msgpack.Packer(default=mnp.encode)\n",
    "      for _, result in data.items():\n",
    "        key = result.info['label']\n",
    "        val = result.info\n",
    "        f.write(packer.pack((key, val)))\n",
    "  # save_large_msgpack(results, cache_filepath)\n",
    "\n",
    "for k, v in failed_cases.items():\n",
    "  print(k)\n",
    "  print(v['e'])\n",
    "  # print(v['traceback'])\n",
    "  print(\"-\"*100)"
   ]
  },
  {
   "cell_type": "markdown",
   "metadata": {},
   "source": [
    "## Debug"
   ]
  },
  {
   "cell_type": "code",
   "execution_count": 68,
   "metadata": {},
   "outputs": [],
   "source": [
    "from collections import defaultdict\n",
    "\n",
    "def count_agent_switches(agent_series):\n",
    "    \"\"\"\n",
    "    Count the number of times the agent_id switches in the series.\n",
    "    \n",
    "    Args:\n",
    "        agent_series: pandas Series containing agent_id values\n",
    "    \n",
    "    Returns:\n",
    "        int: Number of agent switches\n",
    "    \"\"\"\n",
    "    if len(agent_series) <= 1:\n",
    "        return 0\n",
    "    \n",
    "    # Count switches by comparing consecutive values\n",
    "    switches = (agent_series != agent_series.shift()).sum()\n",
    "    # Subtract 1 because the first row is always considered a \"switch\" from NaN\n",
    "    return max(0, switches - 1)\n",
    "\n",
    "def create_hierarchical_metrics_table(results):\n",
    "    \"\"\"\n",
    "    Create a hierarchical dataframe to visualize metrics for the results data dictionary.\n",
    "    \n",
    "    Args:\n",
    "        results: Dictionary with keys in format 'scene_X-planner_Y-pose_Z'\n",
    "    \n",
    "    Returns:\n",
    "        pd.DataFrame: Hierarchical dataframe with scene and planner as row indices,\n",
    "                     and metrics as columns with mean/std values\n",
    "    \"\"\"\n",
    "    \n",
    "    # Parse labels to extract scene, planner, and pose information\n",
    "    scene_planner_data = defaultdict(lambda: defaultdict(list))\n",
    "    \n",
    "    for key, result in results.items():\n",
    "        # Parse the label: scene_X-planner_Y-pose_Z\n",
    "        parts = key.split('-')\n",
    "        if len(parts) != 3:\n",
    "            print(f\"Warning: Skipping key {key} - unexpected format\")\n",
    "            continue\n",
    "            \n",
    "        scene_part = parts[0]  # scene_X\n",
    "        planner_part = parts[1]  # planner_Y\n",
    "        pose_part = parts[2]  # pose_Z\n",
    "        \n",
    "        # Extract numeric values\n",
    "        try:\n",
    "            scene_id = int(scene_part.split('_')[1])\n",
    "            planner_id = int(planner_part.split('_')[1])\n",
    "            pose_id = int(pose_part.split('_')[1])\n",
    "        except (IndexError, ValueError) as e:\n",
    "            print(f\"Warning: Could not parse key {key}: {e}\")\n",
    "            continue\n",
    "        \n",
    "        # Store data for this scene-planner combination\n",
    "        scene_planner_data[scene_id][planner_id].append({\n",
    "            'pose_id': pose_id,\n",
    "            'result': result\n",
    "        })\n",
    "    \n",
    "    # Prepare data for hierarchical dataframe\n",
    "    hierarchical_data = []\n",
    "    \n",
    "    for scene_id in sorted(scene_planner_data.keys()):\n",
    "        for planner_id in sorted(scene_planner_data[scene_id].keys()):\n",
    "            pose_data = scene_planner_data[scene_id][planner_id]\n",
    "            \n",
    "            # Initialize cost lists\n",
    "            path_length_costs = []\n",
    "            trajectory_smoothness_costs = []\n",
    "            obstacle_distance_costs = []\n",
    "            goal_distance_costs = []\n",
    "            total_costs = []\n",
    "            motion_durations = []\n",
    "            agent_switches = []\n",
    "            planning_times = []\n",
    "            success_count = 0\n",
    "            \n",
    "            # Collect data across all poses for this scene-planner combination\n",
    "            for pose_info in pose_data:\n",
    "                result = pose_info['result']\n",
    "                \n",
    "                # Check success\n",
    "                success = result.info.get('success', False)\n",
    "                if success == 'True' or success is True:\n",
    "                    success_count += 1\n",
    "                else:\n",
    "                    continue\n",
    "                \n",
    "                # Collect motion duration\n",
    "                motion_duration = result.info.get('elapsed_motion_runtime')\n",
    "                if motion_duration is not None:\n",
    "                    motion_durations.append(motion_duration)\n",
    "                \n",
    "                # Collect agent switches\n",
    "                if hasattr(result, 'best_agent') and result.best_agent is not None:\n",
    "                    try:\n",
    "                        agent_series = result.best_agent['agent_id']\n",
    "                        num_switches = count_agent_switches(agent_series)\n",
    "                        agent_switches.append(num_switches)\n",
    "                    except (KeyError, AttributeError) as e:\n",
    "                        print(f\"Warning: Could not extract agent switches for {result.info.get('label', 'unknown')}: {e}\")\n",
    "                        agent_switches.append(0)\n",
    "                else:\n",
    "                    agent_switches.append(0)\n",
    "                \n",
    "                # Collect cost data\n",
    "                # Path length cost\n",
    "                if hasattr(result, 'agent_path_length_costs') and len(result.agent_path_length_costs) > 0:\n",
    "                    # Take the mean across all agents for this pose\n",
    "                    # path_length_cost = result.agent_path_length_costs['data'].mean()\n",
    "                    path_length_cost = result.agent_path_length_costs['path_length_cost'].mean()\n",
    "                    path_length_costs.append(path_length_cost)\n",
    "                \n",
    "                # Trajectory smoothness cost\n",
    "                if hasattr(result, 'agent_trajectory_smoothness_costs') and len(result.agent_trajectory_smoothness_costs) > 0:\n",
    "                    # trajectory_smoothness_cost = result.agent_trajectory_smoothness_costs['data'].mean()\n",
    "                    trajectory_smoothness_cost = result.agent_trajectory_smoothness_costs['trajectory_smoothness_cost'].mean()\n",
    "                    trajectory_smoothness_costs.append(trajectory_smoothness_cost)\n",
    "                \n",
    "                # Obstacle distance cost\n",
    "                if hasattr(result, 'agent_obstacle_distance_costs') and len(result.agent_obstacle_distance_costs) > 0:\n",
    "                    # obstacle_distance_cost = result.agent_obstacle_distance_costs['data'].mean()\n",
    "                    obstacle_distance_cost = result.agent_obstacle_distance_costs['obstacle_distance_cost'].mean()\n",
    "                    obstacle_distance_costs.append(obstacle_distance_cost)\n",
    "                \n",
    "                # Goal distance cost\n",
    "                if hasattr(result, 'agent_goal_distance_costs') and len(result.agent_goal_distance_costs) > 0:\n",
    "                    # goal_distance_cost = result.agent_goal_distance_costs['data'].mean()\n",
    "                    goal_distance_cost = result.agent_goal_distance_costs['goal_distance_cost'].mean()\n",
    "                    goal_distance_costs.append(goal_distance_cost)\n",
    "                \n",
    "                # Total cost (sum of all costs)\n",
    "                if (len(path_length_costs) > 0 and len(trajectory_smoothness_costs) > 0 and \n",
    "                    len(obstacle_distance_costs) > 0 and len(goal_distance_costs) > 0):\n",
    "                    total_cost = (path_length_costs[-1] + trajectory_smoothness_costs[-1] + \n",
    "                                obstacle_distance_costs[-1] + goal_distance_costs[-1])\n",
    "                    total_costs.append(total_cost)\n",
    "\n",
    "                # Planning time\n",
    "                if hasattr(result, 'agent_planning_times') and len(result.agent_planning_times) > 0:\n",
    "                    planning_time = result.agent_planning_times['planning_time'].mean()\n",
    "                    planning_times.append(planning_time)\n",
    "            \n",
    "            # Calculate statistics\n",
    "            num_poses = len(pose_data)\n",
    "            success_rate = (success_count / num_poses * 100) if num_poses > 0 else 0.0\n",
    "            \n",
    "            # Calculate mean and std for costs\n",
    "            path_length_cost_mean = np.mean(path_length_costs) if path_length_costs else np.nan\n",
    "            path_length_cost_std = np.std(path_length_costs) if path_length_costs else np.nan\n",
    "            \n",
    "            trajectory_smoothness_cost_mean = np.mean(trajectory_smoothness_costs) if trajectory_smoothness_costs else np.nan\n",
    "            trajectory_smoothness_cost_std = np.std(trajectory_smoothness_costs) if trajectory_smoothness_costs else np.nan\n",
    "            \n",
    "            obstacle_distance_cost_mean = np.mean(obstacle_distance_costs) if obstacle_distance_costs else np.nan\n",
    "            obstacle_distance_cost_std = np.std(obstacle_distance_costs) if obstacle_distance_costs else np.nan\n",
    "            \n",
    "            goal_distance_cost_mean = np.mean(goal_distance_costs) if goal_distance_costs else np.nan\n",
    "            goal_distance_cost_std = np.std(goal_distance_costs) if goal_distance_costs else np.nan\n",
    "            \n",
    "            total_cost_mean = np.mean(total_costs) if total_costs else np.nan\n",
    "            total_cost_std = np.std(total_costs) if total_costs else np.nan\n",
    "            \n",
    "            # Calculate mean and std for motion duration\n",
    "            motion_duration_mean = np.mean(motion_durations) if motion_durations else np.nan\n",
    "            motion_duration_std = np.std(motion_durations) if motion_durations else np.nan\n",
    "            \n",
    "            # Calculate mean and std for agent switches\n",
    "            agent_switches_mean = np.mean(agent_switches) if agent_switches else np.nan\n",
    "            agent_switches_std = np.std(agent_switches) if agent_switches else np.nan\n",
    "\n",
    "            # Calculate mean and std for planning time\n",
    "            planning_time_mean = np.mean(planning_times) if planning_times else np.nan\n",
    "            planning_time_std = np.std(planning_times) if planning_times else np.nan\n",
    "\n",
    "\n",
    "            print(f'scene_{scene_id}/planner_{planner_id}/switches:\\t', agent_switches)\n",
    "            # print(success_count)\n",
    "\n",
    "\n",
    "            # Add to hierarchical data\n",
    "            hierarchical_data.append({\n",
    "                'scene_id': scene_id,\n",
    "                'planner_id': planner_id,\n",
    "                'num_poses': num_poses,\n",
    "                'success_rate': success_rate,\n",
    "                'path_length_cost_mean': path_length_cost_mean,\n",
    "                'path_length_cost_std': path_length_cost_std,\n",
    "                'trajectory_smoothness_cost_mean': trajectory_smoothness_cost_mean,\n",
    "                'trajectory_smoothness_cost_std': trajectory_smoothness_cost_std,\n",
    "                'obstacle_distance_cost_mean': obstacle_distance_cost_mean,\n",
    "                'obstacle_distance_cost_std': obstacle_distance_cost_std,\n",
    "                'goal_distance_cost_mean': goal_distance_cost_mean,\n",
    "                'goal_distance_cost_std': goal_distance_cost_std,\n",
    "                'total_cost_mean': total_cost_mean,\n",
    "                'total_cost_std': total_cost_std,\n",
    "                'motion_duration_mean': motion_duration_mean,\n",
    "                'motion_duration_std': motion_duration_std,\n",
    "                'agent_switches_mean': agent_switches_mean,\n",
    "                'agent_switches_std': agent_switches_std,\n",
    "                'planning_time_mean': planning_time_mean,\n",
    "                'planning_time_std': planning_time_std\n",
    "            })\n",
    "    \n",
    "    # Create DataFrame\n",
    "    df = pd.DataFrame(hierarchical_data)\n",
    "    \n",
    "    # Create hierarchical index\n",
    "    df.set_index(['scene_id', 'planner_id'], inplace=True)\n",
    "    \n",
    "    # Sort by scene_id and planner_id\n",
    "    df.sort_index(inplace=True)\n",
    "    \n",
    "    return df\n",
    "\n",
    "def format_hierarchical_table(df):\n",
    "    \"\"\"\n",
    "    Format the hierarchical dataframe for better display with mean ± std format.\n",
    "    \n",
    "    Args:\n",
    "        df: The hierarchical dataframe from create_hierarchical_metrics_table\n",
    "    \n",
    "    Returns:\n",
    "        pd.DataFrame: Formatted dataframe with mean ± std display\n",
    "    \"\"\"\n",
    "    \n",
    "    # Create a copy for formatting\n",
    "    formatted_df = df.copy()\n",
    "    \n",
    "    # Format cost columns with mean ± std\n",
    "    cost_columns = ['path_length_cost', 'trajectory_smoothness_cost', \n",
    "                   'obstacle_distance_cost', 'goal_distance_cost', 'total_cost']\n",
    "    \n",
    "    for cost_col in cost_columns:\n",
    "        mean_col = f'{cost_col}_mean'\n",
    "        std_col = f'{cost_col}_std'\n",
    "        \n",
    "        if mean_col in formatted_df.columns and std_col in formatted_df.columns:\n",
    "            formatted_df[f'{cost_col}'] = formatted_df.apply(\n",
    "                lambda row: f\"{row[mean_col]:.2f} ± {row[std_col]:.2f}\" \n",
    "                if not (pd.isna(row[mean_col]) or pd.isna(row[std_col])) else \"N/A\", \n",
    "                axis=1\n",
    "            )\n",
    "            # Drop the individual mean and std columns\n",
    "            formatted_df.drop(columns=[mean_col, std_col], inplace=True)\n",
    "    \n",
    "    # Format motion duration\n",
    "    if 'motion_duration_mean' in formatted_df.columns and 'motion_duration_std' in formatted_df.columns:\n",
    "        formatted_df['motion_duration'] = formatted_df.apply(\n",
    "            lambda row: f\"{row['motion_duration_mean']:.2f} ± {row['motion_duration_std']:.2f}\" \n",
    "            if not (pd.isna(row['motion_duration_mean']) or pd.isna(row['motion_duration_std'])) else \"N/A\", \n",
    "            axis=1\n",
    "        )\n",
    "        formatted_df.drop(columns=['motion_duration_mean', 'motion_duration_std'], inplace=True)\n",
    "    \n",
    "    # Format agent switches\n",
    "    if 'agent_switches_mean' in formatted_df.columns and 'agent_switches_std' in formatted_df.columns:\n",
    "        formatted_df['agent_switches'] = formatted_df.apply(\n",
    "            lambda row: f\"{row['agent_switches_mean']:.1f} ± {row['agent_switches_std']:.1f}\" \n",
    "            if not (pd.isna(row['agent_switches_mean']) or pd.isna(row['agent_switches_std'])) else \"N/A\", \n",
    "            axis=1\n",
    "        )\n",
    "        formatted_df.drop(columns=['agent_switches_mean', 'agent_switches_std'], inplace=True)\n",
    "    \n",
    "    # Format success rate\n",
    "    if 'success_rate' in formatted_df.columns:\n",
    "        formatted_df['success_rate'] = formatted_df['success_rate'].apply(\n",
    "            lambda x: f\"{x:.1f}%\" if not pd.isna(x) else \"N/A\"\n",
    "        )\n",
    "    \n",
    "    # Format planning time\n",
    "    if 'planning_time_mean' in formatted_df.columns and 'planning_time_std' in formatted_df.columns:\n",
    "        formatted_df['planning_time'] = formatted_df.apply(\n",
    "            lambda row: f\"{row['planning_time_mean']:.2f} ± {row['planning_time_std']:.2f}\" \n",
    "            if not (pd.isna(row['planning_time_mean']) or pd.isna(row['planning_time_std'])) else \"N/A\", \n",
    "            axis=1\n",
    "        )\n",
    "        formatted_df.drop(columns=['planning_time_mean', 'planning_time_std'], inplace=True)\n",
    "    \n",
    "    return formatted_df"
   ]
  },
  {
   "cell_type": "code",
   "execution_count": 69,
   "metadata": {},
   "outputs": [
    {
     "name": "stdout",
     "output_type": "stream",
     "text": [
      "scene_3/planner_0/switches:\t [0, 0, 0, 0, 0, 0, 0, 0, 0, 0, 0, 0, 0, 0, 0, 0, 0, 0, 0, 0, 0, 0, 0, 0, 0, 0, 0]\n",
      "scene_3/planner_1/switches:\t [0, 0, 0, 0, 0, 0, 0, 0, 0, 0, 0, 0, 0, 0, 0, 0, 0, 0, 0, 0, 0, 0, 0, 0, 0, 0, 0, 0, 0]\n",
      "scene_3/planner_2/switches:\t [10, 8, 5, 6, 8, 60, 7, 10, 7, 11, 22, 8, 10, 8, 9, 17, 9, 9, 10, 8, 8, 6, 6, 16, 3, 8, 9, 11, 18]\n"
     ]
    },
    {
     "data": {
      "text/html": [
       "<div>\n",
       "<style scoped>\n",
       "    .dataframe tbody tr th:only-of-type {\n",
       "        vertical-align: middle;\n",
       "    }\n",
       "\n",
       "    .dataframe tbody tr th {\n",
       "        vertical-align: top;\n",
       "    }\n",
       "\n",
       "    .dataframe thead th {\n",
       "        text-align: right;\n",
       "    }\n",
       "</style>\n",
       "<table border=\"1\" class=\"dataframe\">\n",
       "  <thead>\n",
       "    <tr style=\"text-align: right;\">\n",
       "      <th></th>\n",
       "      <th></th>\n",
       "      <th>num_poses</th>\n",
       "      <th>success_rate</th>\n",
       "      <th>path_length_cost</th>\n",
       "      <th>trajectory_smoothness_cost</th>\n",
       "      <th>obstacle_distance_cost</th>\n",
       "      <th>goal_distance_cost</th>\n",
       "      <th>total_cost</th>\n",
       "      <th>motion_duration</th>\n",
       "      <th>agent_switches</th>\n",
       "      <th>planning_time</th>\n",
       "    </tr>\n",
       "    <tr>\n",
       "      <th>scene_id</th>\n",
       "      <th>planner_id</th>\n",
       "      <th></th>\n",
       "      <th></th>\n",
       "      <th></th>\n",
       "      <th></th>\n",
       "      <th></th>\n",
       "      <th></th>\n",
       "      <th></th>\n",
       "      <th></th>\n",
       "      <th></th>\n",
       "      <th></th>\n",
       "    </tr>\n",
       "  </thead>\n",
       "  <tbody>\n",
       "    <tr>\n",
       "      <th rowspan=\"3\" valign=\"top\">3</th>\n",
       "      <th>0</th>\n",
       "      <td>30</td>\n",
       "      <td>90.0%</td>\n",
       "      <td>0.08 ± 0.01</td>\n",
       "      <td>0.00 ± 0.01</td>\n",
       "      <td>2.94 ± 2.18</td>\n",
       "      <td>4.79 ± 0.94</td>\n",
       "      <td>7.81 ± 3.05</td>\n",
       "      <td>113.45 ± 0.85</td>\n",
       "      <td>0.0 ± 0.0</td>\n",
       "      <td>100.98 ± 1.33</td>\n",
       "    </tr>\n",
       "    <tr>\n",
       "      <th>1</th>\n",
       "      <td>30</td>\n",
       "      <td>96.7%</td>\n",
       "      <td>0.10 ± 0.02</td>\n",
       "      <td>0.04 ± 0.02</td>\n",
       "      <td>0.06 ± 0.04</td>\n",
       "      <td>2.17 ± 0.91</td>\n",
       "      <td>2.38 ± 0.93</td>\n",
       "      <td>105.44 ± 19.04</td>\n",
       "      <td>0.0 ± 0.0</td>\n",
       "      <td>100.82 ± 1.13</td>\n",
       "    </tr>\n",
       "    <tr>\n",
       "      <th>2</th>\n",
       "      <td>30</td>\n",
       "      <td>96.7%</td>\n",
       "      <td>0.09 ± 0.01</td>\n",
       "      <td>0.02 ± 0.01</td>\n",
       "      <td>0.38 ± 0.18</td>\n",
       "      <td>2.99 ± 0.71</td>\n",
       "      <td>3.48 ± 0.80</td>\n",
       "      <td>100.84 ± 28.11</td>\n",
       "      <td>11.3 ± 10.0</td>\n",
       "      <td>120.04 ± 0.48</td>\n",
       "    </tr>\n",
       "  </tbody>\n",
       "</table>\n",
       "</div>"
      ],
      "text/plain": [
       "                     num_poses success_rate path_length_cost  \\\n",
       "scene_id planner_id                                            \n",
       "3        0                  30        90.0%      0.08 ± 0.01   \n",
       "         1                  30        96.7%      0.10 ± 0.02   \n",
       "         2                  30        96.7%      0.09 ± 0.01   \n",
       "\n",
       "                    trajectory_smoothness_cost obstacle_distance_cost  \\\n",
       "scene_id planner_id                                                     \n",
       "3        0                         0.00 ± 0.01            2.94 ± 2.18   \n",
       "         1                         0.04 ± 0.02            0.06 ± 0.04   \n",
       "         2                         0.02 ± 0.01            0.38 ± 0.18   \n",
       "\n",
       "                    goal_distance_cost   total_cost motion_duration  \\\n",
       "scene_id planner_id                                                   \n",
       "3        0                 4.79 ± 0.94  7.81 ± 3.05   113.45 ± 0.85   \n",
       "         1                 2.17 ± 0.91  2.38 ± 0.93  105.44 ± 19.04   \n",
       "         2                 2.99 ± 0.71  3.48 ± 0.80  100.84 ± 28.11   \n",
       "\n",
       "                    agent_switches  planning_time  \n",
       "scene_id planner_id                                \n",
       "3        0               0.0 ± 0.0  100.98 ± 1.33  \n",
       "         1               0.0 ± 0.0  100.82 ± 1.13  \n",
       "         2             11.3 ± 10.0  120.04 ± 0.48  "
      ]
     },
     "execution_count": 69,
     "metadata": {},
     "output_type": "execute_result"
    }
   ],
   "source": [
    "hierarchical_df = create_hierarchical_metrics_table(results)\n",
    "formatted_df = format_hierarchical_table(hierarchical_df)\n",
    "formatted_df"
   ]
  },
  {
   "cell_type": "code",
   "execution_count": 70,
   "metadata": {},
   "outputs": [
    {
     "data": {
      "text/html": [
       "<div>\n",
       "<style scoped>\n",
       "    .dataframe tbody tr th:only-of-type {\n",
       "        vertical-align: middle;\n",
       "    }\n",
       "\n",
       "    .dataframe tbody tr th {\n",
       "        vertical-align: top;\n",
       "    }\n",
       "\n",
       "    .dataframe thead th {\n",
       "        text-align: right;\n",
       "    }\n",
       "</style>\n",
       "<table border=\"1\" class=\"dataframe\">\n",
       "  <thead>\n",
       "    <tr style=\"text-align: right;\">\n",
       "      <th></th>\n",
       "      <th></th>\n",
       "      <th>num_poses</th>\n",
       "      <th>success_rate</th>\n",
       "      <th>path_length_cost_mean</th>\n",
       "      <th>path_length_cost_std</th>\n",
       "      <th>trajectory_smoothness_cost_mean</th>\n",
       "      <th>trajectory_smoothness_cost_std</th>\n",
       "      <th>obstacle_distance_cost_mean</th>\n",
       "      <th>obstacle_distance_cost_std</th>\n",
       "      <th>goal_distance_cost_mean</th>\n",
       "      <th>goal_distance_cost_std</th>\n",
       "      <th>total_cost_mean</th>\n",
       "      <th>total_cost_std</th>\n",
       "      <th>motion_duration_mean</th>\n",
       "      <th>motion_duration_std</th>\n",
       "      <th>agent_switches_mean</th>\n",
       "      <th>agent_switches_std</th>\n",
       "      <th>planning_time_mean</th>\n",
       "      <th>planning_time_std</th>\n",
       "    </tr>\n",
       "    <tr>\n",
       "      <th>scene_id</th>\n",
       "      <th>planner_id</th>\n",
       "      <th></th>\n",
       "      <th></th>\n",
       "      <th></th>\n",
       "      <th></th>\n",
       "      <th></th>\n",
       "      <th></th>\n",
       "      <th></th>\n",
       "      <th></th>\n",
       "      <th></th>\n",
       "      <th></th>\n",
       "      <th></th>\n",
       "      <th></th>\n",
       "      <th></th>\n",
       "      <th></th>\n",
       "      <th></th>\n",
       "      <th></th>\n",
       "      <th></th>\n",
       "      <th></th>\n",
       "    </tr>\n",
       "  </thead>\n",
       "  <tbody>\n",
       "    <tr>\n",
       "      <th rowspan=\"3\" valign=\"top\">3</th>\n",
       "      <th>0</th>\n",
       "      <td>30</td>\n",
       "      <td>90.000000</td>\n",
       "      <td>0.078991</td>\n",
       "      <td>0.005101</td>\n",
       "      <td>0.002847</td>\n",
       "      <td>0.009079</td>\n",
       "      <td>2.936301</td>\n",
       "      <td>2.179453</td>\n",
       "      <td>4.788837</td>\n",
       "      <td>0.940951</td>\n",
       "      <td>7.806976</td>\n",
       "      <td>3.050775</td>\n",
       "      <td>113.454146</td>\n",
       "      <td>0.852813</td>\n",
       "      <td>0.000000</td>\n",
       "      <td>0.000000</td>\n",
       "      <td>100.981835</td>\n",
       "      <td>1.328082</td>\n",
       "    </tr>\n",
       "    <tr>\n",
       "      <th>1</th>\n",
       "      <td>30</td>\n",
       "      <td>96.666667</td>\n",
       "      <td>0.104533</td>\n",
       "      <td>0.018778</td>\n",
       "      <td>0.040719</td>\n",
       "      <td>0.018948</td>\n",
       "      <td>0.057553</td>\n",
       "      <td>0.036937</td>\n",
       "      <td>2.174977</td>\n",
       "      <td>0.910664</td>\n",
       "      <td>2.377782</td>\n",
       "      <td>0.931754</td>\n",
       "      <td>105.439094</td>\n",
       "      <td>19.036519</td>\n",
       "      <td>0.000000</td>\n",
       "      <td>0.000000</td>\n",
       "      <td>100.817394</td>\n",
       "      <td>1.131525</td>\n",
       "    </tr>\n",
       "    <tr>\n",
       "      <th>2</th>\n",
       "      <td>30</td>\n",
       "      <td>96.666667</td>\n",
       "      <td>0.094558</td>\n",
       "      <td>0.012418</td>\n",
       "      <td>0.021506</td>\n",
       "      <td>0.012651</td>\n",
       "      <td>0.380102</td>\n",
       "      <td>0.179999</td>\n",
       "      <td>2.986292</td>\n",
       "      <td>0.712611</td>\n",
       "      <td>3.482458</td>\n",
       "      <td>0.803719</td>\n",
       "      <td>100.835992</td>\n",
       "      <td>28.111282</td>\n",
       "      <td>11.275862</td>\n",
       "      <td>10.034068</td>\n",
       "      <td>120.039312</td>\n",
       "      <td>0.476552</td>\n",
       "    </tr>\n",
       "  </tbody>\n",
       "</table>\n",
       "</div>"
      ],
      "text/plain": [
       "                     num_poses  success_rate  path_length_cost_mean  \\\n",
       "scene_id planner_id                                                   \n",
       "3        0                  30     90.000000               0.078991   \n",
       "         1                  30     96.666667               0.104533   \n",
       "         2                  30     96.666667               0.094558   \n",
       "\n",
       "                     path_length_cost_std  trajectory_smoothness_cost_mean  \\\n",
       "scene_id planner_id                                                          \n",
       "3        0                       0.005101                         0.002847   \n",
       "         1                       0.018778                         0.040719   \n",
       "         2                       0.012418                         0.021506   \n",
       "\n",
       "                     trajectory_smoothness_cost_std  \\\n",
       "scene_id planner_id                                   \n",
       "3        0                                 0.009079   \n",
       "         1                                 0.018948   \n",
       "         2                                 0.012651   \n",
       "\n",
       "                     obstacle_distance_cost_mean  obstacle_distance_cost_std  \\\n",
       "scene_id planner_id                                                            \n",
       "3        0                              2.936301                    2.179453   \n",
       "         1                              0.057553                    0.036937   \n",
       "         2                              0.380102                    0.179999   \n",
       "\n",
       "                     goal_distance_cost_mean  goal_distance_cost_std  \\\n",
       "scene_id planner_id                                                    \n",
       "3        0                          4.788837                0.940951   \n",
       "         1                          2.174977                0.910664   \n",
       "         2                          2.986292                0.712611   \n",
       "\n",
       "                     total_cost_mean  total_cost_std  motion_duration_mean  \\\n",
       "scene_id planner_id                                                          \n",
       "3        0                  7.806976        3.050775            113.454146   \n",
       "         1                  2.377782        0.931754            105.439094   \n",
       "         2                  3.482458        0.803719            100.835992   \n",
       "\n",
       "                     motion_duration_std  agent_switches_mean  \\\n",
       "scene_id planner_id                                             \n",
       "3        0                      0.852813             0.000000   \n",
       "         1                     19.036519             0.000000   \n",
       "         2                     28.111282            11.275862   \n",
       "\n",
       "                     agent_switches_std  planning_time_mean  planning_time_std  \n",
       "scene_id planner_id                                                             \n",
       "3        0                     0.000000          100.981835           1.328082  \n",
       "         1                     0.000000          100.817394           1.131525  \n",
       "         2                    10.034068          120.039312           0.476552  "
      ]
     },
     "execution_count": 70,
     "metadata": {},
     "output_type": "execute_result"
    }
   ],
   "source": [
    "hierarchical_df"
   ]
  }
 ],
 "metadata": {
  "kernelspec": {
   "display_name": "Python 3 (ipykernel)",
   "language": "python",
   "name": "python3"
  },
  "language_info": {
   "codemirror_mode": {
    "name": "ipython",
    "version": 3
   },
   "file_extension": ".py",
   "mimetype": "text/x-python",
   "name": "python",
   "nbconvert_exporter": "python",
   "pygments_lexer": "ipython3",
   "version": "3.10.16"
  }
 },
 "nbformat": 4,
 "nbformat_minor": 2
}
