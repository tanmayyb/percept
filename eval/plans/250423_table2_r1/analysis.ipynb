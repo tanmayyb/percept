{
 "cells": [
  {
   "cell_type": "code",
   "execution_count": 1,
   "metadata": {},
   "outputs": [],
   "source": [
    "%load_ext autoreload\n",
    "%autoreload 2\n",
    "import os\n",
    "os.chdir('../../')\n",
    "\n",
    "import psutil\n",
    "import time\n",
    "\n",
    "def monitor_memory(threshold=90, check_interval=1):\n",
    "    \"\"\"\n",
    "    Monitors memory usage and kills the Jupyter process if it exceeds the threshold.\n",
    "    \n",
    "    Args:\n",
    "        threshold (int): Percentage of memory usage before terminating the process.\n",
    "        check_interval (int): Time (in seconds) between memory checks.\n",
    "    \"\"\"\n",
    "    process = psutil.Process(os.getpid())  # Get current Jupyter process\n",
    "    while True:\n",
    "        mem_usage = psutil.virtual_memory().percent\n",
    "        if mem_usage > threshold:\n",
    "            print(f\"⚠️ Memory usage exceeded {threshold}%! Killing process to prevent OOM...\")\n",
    "            process.terminate()  # Force kill Jupyter process\n",
    "            break\n",
    "        time.sleep(check_interval)  # Wait before next check\n",
    "\n",
    "# Run the memory monitor in the background\n",
    "import threading\n",
    "memory_thread = threading.Thread(target=monitor_memory, args=(90, 5), daemon=True)\n",
    "memory_thread.start()\n"
   ]
  },
  {
   "cell_type": "code",
   "execution_count": 2,
   "metadata": {},
   "outputs": [],
   "source": [
    "from process_results import MetricsReader\n",
    "import yaml\n",
    "import plotly.graph_objects as go\n",
    "import plotly.io as pio\n",
    "import pandas as pd\n",
    "import numpy as np\n",
    "from pathlib import Path\n",
    "pio.templates.default = \"plotly_white\"\n",
    "pio.renderers.default = \"browser\""
   ]
  },
  {
   "cell_type": "code",
   "execution_count": 3,
   "metadata": {},
   "outputs": [],
   "source": [
    "plan = '250423_table2_r1'\n",
    "results_dir = Path('results') / plan\n",
    "plan_dir = Path('plans') / '250423_table2_r1'\n",
    "cache_filepath = plan_dir / \"results.msgpack\"\n",
    "LOAD_CACHE = False"
   ]
  },
  {
   "cell_type": "code",
   "execution_count": 4,
   "metadata": {},
   "outputs": [],
   "source": [
    "SUCCESS_TIME_LIMIT = 120.0\n",
    "ACCEPTABLE_MIN_DISTANCES_TO_TARGET = 0.10"
   ]
  },
  {
   "cell_type": "code",
   "execution_count": 5,
   "metadata": {},
   "outputs": [
    {
     "name": "stderr",
     "output_type": "stream",
     "text": [
      "Processing records: 100%|██████████| 3661/3661 [00:00<00:00, 495126.14it/s]\n"
     ]
    },
    {
     "name": "stdout",
     "output_type": "stream",
     "text": [
      "File: 2025-04-23-03-46-31_scene_0-use_cpu_0-pred_steps_0-pose_0.result took 0.238 seconds to process\n"
     ]
    },
    {
     "name": "stderr",
     "output_type": "stream",
     "text": [
      "Processing records: 100%|██████████| 3631/3631 [00:00<00:00, 493887.59it/s]\n"
     ]
    },
    {
     "name": "stdout",
     "output_type": "stream",
     "text": [
      "File: 2025-04-23-03-48-41_scene_0-use_cpu_0-pred_steps_0-pose_1.result took 0.215 seconds to process\n"
     ]
    },
    {
     "name": "stderr",
     "output_type": "stream",
     "text": [
      "Processing records: 100%|██████████| 3649/3649 [00:00<00:00, 540698.63it/s]\n"
     ]
    },
    {
     "name": "stdout",
     "output_type": "stream",
     "text": [
      "File: 2025-04-23-03-50-52_scene_0-use_cpu_0-pred_steps_0-pose_2.result took 0.187 seconds to process\n"
     ]
    },
    {
     "name": "stderr",
     "output_type": "stream",
     "text": [
      "Processing records: 100%|██████████| 3652/3652 [00:00<00:00, 558995.63it/s]\n"
     ]
    },
    {
     "name": "stdout",
     "output_type": "stream",
     "text": [
      "File: 2025-04-23-03-53-03_scene_0-use_cpu_0-pred_steps_0-pose_3.result took 0.181 seconds to process\n"
     ]
    },
    {
     "name": "stderr",
     "output_type": "stream",
     "text": [
      "Processing records: 100%|██████████| 3721/3721 [00:00<00:00, 494518.54it/s]\n"
     ]
    },
    {
     "name": "stdout",
     "output_type": "stream",
     "text": [
      "File: 2025-04-23-03-55-13_scene_0-use_cpu_0-pred_steps_0-pose_4.result took 0.181 seconds to process\n"
     ]
    },
    {
     "name": "stderr",
     "output_type": "stream",
     "text": [
      "Processing records: 100%|██████████| 3694/3694 [00:00<00:00, 512732.77it/s]\n"
     ]
    },
    {
     "name": "stdout",
     "output_type": "stream",
     "text": [
      "File: 2025-04-23-03-57-24_scene_0-use_cpu_0-pred_steps_0-pose_5.result took 0.180 seconds to process\n"
     ]
    },
    {
     "name": "stderr",
     "output_type": "stream",
     "text": [
      "Processing records: 100%|██████████| 3724/3724 [00:00<00:00, 564434.22it/s]\n"
     ]
    },
    {
     "name": "stdout",
     "output_type": "stream",
     "text": [
      "File: 2025-04-23-03-59-35_scene_0-use_cpu_0-pred_steps_0-pose_6.result took 0.178 seconds to process\n"
     ]
    },
    {
     "name": "stderr",
     "output_type": "stream",
     "text": [
      "Processing records: 100%|██████████| 3673/3673 [00:00<00:00, 552590.79it/s]\n"
     ]
    },
    {
     "name": "stdout",
     "output_type": "stream",
     "text": [
      "File: 2025-04-23-04-01-45_scene_0-use_cpu_0-pred_steps_0-pose_7.result took 0.182 seconds to process\n"
     ]
    },
    {
     "name": "stderr",
     "output_type": "stream",
     "text": [
      "Processing records: 100%|██████████| 3769/3769 [00:00<00:00, 564704.29it/s]\n"
     ]
    },
    {
     "name": "stdout",
     "output_type": "stream",
     "text": [
      "File: 2025-04-23-04-03-56_scene_0-use_cpu_0-pred_steps_0-pose_8.result took 0.177 seconds to process\n"
     ]
    },
    {
     "name": "stderr",
     "output_type": "stream",
     "text": [
      "Processing records: 100%|██████████| 3634/3634 [00:00<00:00, 502310.20it/s]\n"
     ]
    },
    {
     "name": "stdout",
     "output_type": "stream",
     "text": [
      "File: 2025-04-23-04-06-07_scene_0-use_cpu_0-pred_steps_0-pose_9.result took 0.183 seconds to process\n"
     ]
    },
    {
     "name": "stderr",
     "output_type": "stream",
     "text": [
      "Processing records: 100%|██████████| 2068/2068 [00:00<00:00, 549323.67it/s]\n"
     ]
    },
    {
     "name": "stdout",
     "output_type": "stream",
     "text": [
      "File: 2025-04-23-04-08-17_scene_0-use_cpu_0-pred_steps_1-pose_0.result took 0.160 seconds to process\n"
     ]
    },
    {
     "name": "stderr",
     "output_type": "stream",
     "text": [
      "Processing records: 100%|██████████| 2053/2053 [00:00<00:00, 497999.31it/s]\n"
     ]
    },
    {
     "name": "stdout",
     "output_type": "stream",
     "text": [
      "File: 2025-04-23-04-10-28_scene_0-use_cpu_0-pred_steps_1-pose_1.result took 0.176 seconds to process\n"
     ]
    },
    {
     "name": "stderr",
     "output_type": "stream",
     "text": [
      "Processing records: 100%|██████████| 2035/2035 [00:00<00:00, 530380.21it/s]\n"
     ]
    },
    {
     "name": "stdout",
     "output_type": "stream",
     "text": [
      "File: 2025-04-23-04-12-39_scene_0-use_cpu_0-pred_steps_1-pose_2.result took 0.169 seconds to process\n"
     ]
    },
    {
     "name": "stderr",
     "output_type": "stream",
     "text": [
      "Processing records: 100%|██████████| 2089/2089 [00:00<00:00, 523192.28it/s]\n"
     ]
    },
    {
     "name": "stdout",
     "output_type": "stream",
     "text": [
      "File: 2025-04-23-04-14-49_scene_0-use_cpu_0-pred_steps_1-pose_3.result took 0.162 seconds to process\n"
     ]
    },
    {
     "name": "stderr",
     "output_type": "stream",
     "text": [
      "Processing records: 100%|██████████| 2068/2068 [00:00<00:00, 549358.46it/s]\n"
     ]
    },
    {
     "name": "stdout",
     "output_type": "stream",
     "text": [
      "File: 2025-04-23-04-17-00_scene_0-use_cpu_0-pred_steps_1-pose_4.result took 0.163 seconds to process\n"
     ]
    },
    {
     "name": "stderr",
     "output_type": "stream",
     "text": [
      "Processing records: 100%|██████████| 2065/2065 [00:00<00:00, 487792.17it/s]\n"
     ]
    },
    {
     "name": "stdout",
     "output_type": "stream",
     "text": [
      "File: 2025-04-23-04-19-11_scene_0-use_cpu_0-pred_steps_1-pose_5.result took 0.159 seconds to process\n"
     ]
    },
    {
     "name": "stderr",
     "output_type": "stream",
     "text": [
      "Processing records: 100%|██████████| 2095/2095 [00:00<00:00, 538159.41it/s]\n"
     ]
    },
    {
     "name": "stdout",
     "output_type": "stream",
     "text": [
      "File: 2025-04-23-04-21-21_scene_0-use_cpu_0-pred_steps_1-pose_6.result took 0.159 seconds to process\n"
     ]
    },
    {
     "name": "stderr",
     "output_type": "stream",
     "text": [
      "Processing records: 100%|██████████| 2062/2062 [00:00<00:00, 503942.13it/s]\n"
     ]
    },
    {
     "name": "stdout",
     "output_type": "stream",
     "text": [
      "File: 2025-04-23-04-23-32_scene_0-use_cpu_0-pred_steps_1-pose_7.result took 0.158 seconds to process\n"
     ]
    },
    {
     "name": "stderr",
     "output_type": "stream",
     "text": [
      "Processing records: 100%|██████████| 2086/2086 [00:00<00:00, 585630.40it/s]\n"
     ]
    },
    {
     "name": "stdout",
     "output_type": "stream",
     "text": [
      "File: 2025-04-23-04-25-43_scene_0-use_cpu_0-pred_steps_1-pose_8.result took 0.160 seconds to process\n"
     ]
    },
    {
     "name": "stderr",
     "output_type": "stream",
     "text": [
      "Processing records: 100%|██████████| 2050/2050 [00:00<00:00, 589370.29it/s]\n"
     ]
    },
    {
     "name": "stdout",
     "output_type": "stream",
     "text": [
      "File: 2025-04-23-04-27-53_scene_0-use_cpu_0-pred_steps_1-pose_9.result took 0.153 seconds to process\n"
     ]
    },
    {
     "name": "stderr",
     "output_type": "stream",
     "text": [
      "Processing records: 100%|██████████| 1525/1525 [00:00<00:00, 362089.65it/s]\n"
     ]
    },
    {
     "name": "stdout",
     "output_type": "stream",
     "text": [
      "File: 2025-04-23-04-30-04_scene_0-use_cpu_0-pred_steps_2-pose_0.result took 0.165 seconds to process\n"
     ]
    },
    {
     "name": "stderr",
     "output_type": "stream",
     "text": [
      "Processing records: 100%|██████████| 1552/1552 [00:00<00:00, 494271.82it/s]\n"
     ]
    },
    {
     "name": "stdout",
     "output_type": "stream",
     "text": [
      "File: 2025-04-23-04-32-14_scene_0-use_cpu_0-pred_steps_2-pose_1.result took 0.150 seconds to process\n"
     ]
    },
    {
     "name": "stderr",
     "output_type": "stream",
     "text": [
      "Processing records: 100%|██████████| 1549/1549 [00:00<00:00, 545597.66it/s]\n"
     ]
    },
    {
     "name": "stdout",
     "output_type": "stream",
     "text": [
      "File: 2025-04-23-04-34-25_scene_0-use_cpu_0-pred_steps_2-pose_2.result took 0.154 seconds to process\n"
     ]
    },
    {
     "name": "stderr",
     "output_type": "stream",
     "text": [
      "Processing records: 100%|██████████| 1519/1519 [00:00<00:00, 597893.00it/s]\n"
     ]
    },
    {
     "name": "stdout",
     "output_type": "stream",
     "text": [
      "File: 2025-04-23-04-36-36_scene_0-use_cpu_0-pred_steps_2-pose_3.result took 0.151 seconds to process\n"
     ]
    },
    {
     "name": "stderr",
     "output_type": "stream",
     "text": [
      "Processing records: 100%|██████████| 1534/1534 [00:00<00:00, 501134.23it/s]\n"
     ]
    },
    {
     "name": "stdout",
     "output_type": "stream",
     "text": [
      "File: 2025-04-23-04-38-46_scene_0-use_cpu_0-pred_steps_2-pose_4.result took 0.154 seconds to process\n"
     ]
    },
    {
     "name": "stderr",
     "output_type": "stream",
     "text": [
      "Processing records: 100%|██████████| 1534/1534 [00:00<00:00, 561093.78it/s]\n"
     ]
    },
    {
     "name": "stdout",
     "output_type": "stream",
     "text": [
      "File: 2025-04-23-04-40-57_scene_0-use_cpu_0-pred_steps_2-pose_5.result took 0.153 seconds to process\n"
     ]
    },
    {
     "name": "stderr",
     "output_type": "stream",
     "text": [
      "Processing records: 100%|██████████| 1516/1516 [00:00<00:00, 573722.36it/s]\n"
     ]
    },
    {
     "name": "stdout",
     "output_type": "stream",
     "text": [
      "File: 2025-04-23-04-43-08_scene_0-use_cpu_0-pred_steps_2-pose_6.result took 0.155 seconds to process\n"
     ]
    },
    {
     "name": "stderr",
     "output_type": "stream",
     "text": [
      "Processing records: 100%|██████████| 1552/1552 [00:00<00:00, 530440.01it/s]\n"
     ]
    },
    {
     "name": "stdout",
     "output_type": "stream",
     "text": [
      "File: 2025-04-23-04-45-18_scene_0-use_cpu_0-pred_steps_2-pose_7.result took 0.152 seconds to process\n"
     ]
    },
    {
     "name": "stderr",
     "output_type": "stream",
     "text": [
      "Processing records: 100%|██████████| 1510/1510 [00:00<00:00, 482838.99it/s]\n"
     ]
    },
    {
     "name": "stdout",
     "output_type": "stream",
     "text": [
      "File: 2025-04-23-04-47-29_scene_0-use_cpu_0-pred_steps_2-pose_8.result took 0.152 seconds to process\n"
     ]
    },
    {
     "name": "stderr",
     "output_type": "stream",
     "text": [
      "Processing records: 100%|██████████| 1531/1531 [00:00<00:00, 514912.95it/s]\n"
     ]
    },
    {
     "name": "stdout",
     "output_type": "stream",
     "text": [
      "File: 2025-04-23-04-49-40_scene_0-use_cpu_0-pred_steps_2-pose_9.result took 0.154 seconds to process\n"
     ]
    },
    {
     "name": "stderr",
     "output_type": "stream",
     "text": [
      "Processing records: 100%|██████████| 1369/1369 [00:00<00:00, 523046.29it/s]\n"
     ]
    },
    {
     "name": "stdout",
     "output_type": "stream",
     "text": [
      "File: 2025-04-23-04-51-50_scene_0-use_cpu_1-pred_steps_0-pose_0.result took 0.151 seconds to process\n"
     ]
    },
    {
     "name": "stderr",
     "output_type": "stream",
     "text": [
      "Processing records: 100%|██████████| 1366/1366 [00:00<00:00, 570375.24it/s]\n"
     ]
    },
    {
     "name": "stdout",
     "output_type": "stream",
     "text": [
      "File: 2025-04-23-04-54-01_scene_0-use_cpu_1-pred_steps_0-pose_1.result took 0.148 seconds to process\n"
     ]
    },
    {
     "name": "stderr",
     "output_type": "stream",
     "text": [
      "Processing records: 100%|██████████| 1372/1372 [00:00<00:00, 566284.70it/s]\n"
     ]
    },
    {
     "name": "stdout",
     "output_type": "stream",
     "text": [
      "File: 2025-04-23-04-56-12_scene_0-use_cpu_1-pred_steps_0-pose_2.result took 0.151 seconds to process\n"
     ]
    },
    {
     "name": "stderr",
     "output_type": "stream",
     "text": [
      "Processing records: 100%|██████████| 1405/1405 [00:00<00:00, 556625.78it/s]\n"
     ]
    },
    {
     "name": "stdout",
     "output_type": "stream",
     "text": [
      "File: 2025-04-23-04-58-22_scene_0-use_cpu_1-pred_steps_0-pose_3.result took 0.151 seconds to process\n"
     ]
    },
    {
     "name": "stderr",
     "output_type": "stream",
     "text": [
      "Processing records: 100%|██████████| 1417/1417 [00:00<00:00, 559740.89it/s]\n"
     ]
    },
    {
     "name": "stdout",
     "output_type": "stream",
     "text": [
      "File: 2025-04-23-05-00-33_scene_0-use_cpu_1-pred_steps_0-pose_4.result took 0.151 seconds to process\n"
     ]
    },
    {
     "name": "stderr",
     "output_type": "stream",
     "text": [
      "Processing records: 100%|██████████| 1402/1402 [00:00<00:00, 507939.38it/s]\n"
     ]
    },
    {
     "name": "stdout",
     "output_type": "stream",
     "text": [
      "File: 2025-04-23-05-02-44_scene_0-use_cpu_1-pred_steps_0-pose_5.result took 0.176 seconds to process\n"
     ]
    },
    {
     "name": "stderr",
     "output_type": "stream",
     "text": [
      "Processing records: 100%|██████████| 1390/1390 [00:00<00:00, 564930.48it/s]\n"
     ]
    },
    {
     "name": "stdout",
     "output_type": "stream",
     "text": [
      "File: 2025-04-23-05-04-54_scene_0-use_cpu_1-pred_steps_0-pose_6.result took 0.148 seconds to process\n"
     ]
    },
    {
     "name": "stderr",
     "output_type": "stream",
     "text": [
      "Processing records: 100%|██████████| 1333/1333 [00:00<00:00, 527453.51it/s]\n"
     ]
    },
    {
     "name": "stdout",
     "output_type": "stream",
     "text": [
      "File: 2025-04-23-05-07-05_scene_0-use_cpu_1-pred_steps_0-pose_7.result took 0.152 seconds to process\n"
     ]
    },
    {
     "name": "stderr",
     "output_type": "stream",
     "text": [
      "Processing records: 100%|██████████| 1387/1387 [00:00<00:00, 489647.31it/s]\n"
     ]
    },
    {
     "name": "stdout",
     "output_type": "stream",
     "text": [
      "File: 2025-04-23-05-09-16_scene_0-use_cpu_1-pred_steps_0-pose_8.result took 0.150 seconds to process\n"
     ]
    },
    {
     "name": "stderr",
     "output_type": "stream",
     "text": [
      "Processing records: 100%|██████████| 1339/1339 [00:00<00:00, 492646.76it/s]\n"
     ]
    },
    {
     "name": "stdout",
     "output_type": "stream",
     "text": [
      "File: 2025-04-23-05-11-26_scene_0-use_cpu_1-pred_steps_0-pose_9.result took 0.152 seconds to process\n"
     ]
    },
    {
     "name": "stderr",
     "output_type": "stream",
     "text": [
      "Processing records: 100%|██████████| 913/913 [00:00<00:00, 365226.47it/s]\n"
     ]
    },
    {
     "name": "stdout",
     "output_type": "stream",
     "text": [
      "File: 2025-04-23-05-13-37_scene_0-use_cpu_1-pred_steps_1-pose_0.result took 0.144 seconds to process\n"
     ]
    },
    {
     "name": "stderr",
     "output_type": "stream",
     "text": [
      "Processing records: 100%|██████████| 913/913 [00:00<00:00, 566646.87it/s]\n"
     ]
    },
    {
     "name": "stdout",
     "output_type": "stream",
     "text": [
      "File: 2025-04-23-05-15-47_scene_0-use_cpu_1-pred_steps_1-pose_1.result took 0.145 seconds to process\n"
     ]
    },
    {
     "name": "stderr",
     "output_type": "stream",
     "text": [
      "Processing records: 100%|██████████| 916/916 [00:00<00:00, 462054.42it/s]\n"
     ]
    },
    {
     "name": "stdout",
     "output_type": "stream",
     "text": [
      "File: 2025-04-23-05-17-58_scene_0-use_cpu_1-pred_steps_1-pose_2.result took 0.146 seconds to process\n"
     ]
    },
    {
     "name": "stderr",
     "output_type": "stream",
     "text": [
      "Processing records: 100%|██████████| 925/925 [00:00<00:00, 618382.40it/s]\n"
     ]
    },
    {
     "name": "stdout",
     "output_type": "stream",
     "text": [
      "File: 2025-04-23-05-20-09_scene_0-use_cpu_1-pred_steps_1-pose_3.result took 0.145 seconds to process\n"
     ]
    },
    {
     "name": "stderr",
     "output_type": "stream",
     "text": [
      "Processing records: 100%|██████████| 934/934 [00:00<00:00, 595814.44it/s]\n"
     ]
    },
    {
     "name": "stdout",
     "output_type": "stream",
     "text": [
      "File: 2025-04-23-05-22-19_scene_0-use_cpu_1-pred_steps_1-pose_4.result took 0.141 seconds to process\n"
     ]
    },
    {
     "name": "stderr",
     "output_type": "stream",
     "text": [
      "Processing records: 100%|██████████| 931/931 [00:00<00:00, 487198.63it/s]\n"
     ]
    },
    {
     "name": "stdout",
     "output_type": "stream",
     "text": [
      "File: 2025-04-23-05-24-30_scene_0-use_cpu_1-pred_steps_1-pose_5.result took 0.143 seconds to process\n"
     ]
    },
    {
     "name": "stderr",
     "output_type": "stream",
     "text": [
      "Processing records: 100%|██████████| 922/922 [00:00<00:00, 594214.55it/s]\n"
     ]
    },
    {
     "name": "stdout",
     "output_type": "stream",
     "text": [
      "File: 2025-04-23-05-26-41_scene_0-use_cpu_1-pred_steps_1-pose_6.result took 0.144 seconds to process\n"
     ]
    },
    {
     "name": "stderr",
     "output_type": "stream",
     "text": [
      "Processing records: 100%|██████████| 895/895 [00:00<00:00, 594348.02it/s]\n"
     ]
    },
    {
     "name": "stdout",
     "output_type": "stream",
     "text": [
      "File: 2025-04-23-05-28-51_scene_0-use_cpu_1-pred_steps_1-pose_7.result took 0.143 seconds to process\n"
     ]
    },
    {
     "name": "stderr",
     "output_type": "stream",
     "text": [
      "Processing records: 100%|██████████| 913/913 [00:00<00:00, 551230.68it/s]\n"
     ]
    },
    {
     "name": "stdout",
     "output_type": "stream",
     "text": [
      "File: 2025-04-23-05-31-02_scene_0-use_cpu_1-pred_steps_1-pose_8.result took 0.146 seconds to process\n"
     ]
    },
    {
     "name": "stderr",
     "output_type": "stream",
     "text": [
      "Processing records: 100%|██████████| 895/895 [00:00<00:00, 514374.09it/s]\n"
     ]
    },
    {
     "name": "stdout",
     "output_type": "stream",
     "text": [
      "File: 2025-04-23-05-33-13_scene_0-use_cpu_1-pred_steps_1-pose_9.result took 0.147 seconds to process\n"
     ]
    },
    {
     "name": "stderr",
     "output_type": "stream",
     "text": [
      "Processing records: 100%|██████████| 760/760 [00:00<00:00, 572807.02it/s]\n"
     ]
    },
    {
     "name": "stdout",
     "output_type": "stream",
     "text": [
      "File: 2025-04-23-05-35-23_scene_0-use_cpu_1-pred_steps_2-pose_0.result took 0.146 seconds to process\n"
     ]
    },
    {
     "name": "stderr",
     "output_type": "stream",
     "text": [
      "Processing records: 100%|██████████| 754/754 [00:00<00:00, 531602.83it/s]\n"
     ]
    },
    {
     "name": "stdout",
     "output_type": "stream",
     "text": [
      "File: 2025-04-23-05-37-34_scene_0-use_cpu_1-pred_steps_2-pose_1.result took 0.142 seconds to process\n"
     ]
    },
    {
     "name": "stderr",
     "output_type": "stream",
     "text": [
      "Processing records: 100%|██████████| 760/760 [00:00<00:00, 572601.23it/s]\n"
     ]
    },
    {
     "name": "stdout",
     "output_type": "stream",
     "text": [
      "File: 2025-04-23-05-39-45_scene_0-use_cpu_1-pred_steps_2-pose_2.result took 0.167 seconds to process\n"
     ]
    },
    {
     "name": "stderr",
     "output_type": "stream",
     "text": [
      "Processing records: 100%|██████████| 769/769 [00:00<00:00, 440992.59it/s]\n"
     ]
    },
    {
     "name": "stdout",
     "output_type": "stream",
     "text": [
      "File: 2025-04-23-05-41-55_scene_0-use_cpu_1-pred_steps_2-pose_3.result took 0.144 seconds to process\n"
     ]
    },
    {
     "name": "stderr",
     "output_type": "stream",
     "text": [
      "Processing records: 100%|██████████| 778/778 [00:00<00:00, 402363.56it/s]\n"
     ]
    },
    {
     "name": "stdout",
     "output_type": "stream",
     "text": [
      "File: 2025-04-23-05-44-06_scene_0-use_cpu_1-pred_steps_2-pose_4.result took 0.140 seconds to process\n"
     ]
    },
    {
     "name": "stderr",
     "output_type": "stream",
     "text": [
      "Processing records: 100%|██████████| 775/775 [00:00<00:00, 499628.90it/s]\n"
     ]
    },
    {
     "name": "stdout",
     "output_type": "stream",
     "text": [
      "File: 2025-04-23-05-46-17_scene_0-use_cpu_1-pred_steps_2-pose_5.result took 0.142 seconds to process\n"
     ]
    },
    {
     "name": "stderr",
     "output_type": "stream",
     "text": [
      "Processing records: 100%|██████████| 766/766 [00:00<00:00, 459370.44it/s]\n"
     ]
    },
    {
     "name": "stdout",
     "output_type": "stream",
     "text": [
      "File: 2025-04-23-05-48-27_scene_0-use_cpu_1-pred_steps_2-pose_6.result took 0.143 seconds to process\n"
     ]
    },
    {
     "name": "stderr",
     "output_type": "stream",
     "text": [
      "Processing records: 100%|██████████| 754/754 [00:00<00:00, 494064.24it/s]\n"
     ]
    },
    {
     "name": "stdout",
     "output_type": "stream",
     "text": [
      "File: 2025-04-23-05-50-38_scene_0-use_cpu_1-pred_steps_2-pose_7.result took 0.146 seconds to process\n"
     ]
    },
    {
     "name": "stderr",
     "output_type": "stream",
     "text": [
      "Processing records: 100%|██████████| 760/760 [00:00<00:00, 631847.58it/s]\n"
     ]
    },
    {
     "name": "stdout",
     "output_type": "stream",
     "text": [
      "File: 2025-04-23-05-52-48_scene_0-use_cpu_1-pred_steps_2-pose_8.result took 0.143 seconds to process\n"
     ]
    },
    {
     "name": "stderr",
     "output_type": "stream",
     "text": [
      "Processing records: 100%|██████████| 748/748 [00:00<00:00, 566613.58it/s]\n"
     ]
    },
    {
     "name": "stdout",
     "output_type": "stream",
     "text": [
      "File: 2025-04-23-05-54-59_scene_0-use_cpu_1-pred_steps_2-pose_9.result took 0.142 seconds to process\n"
     ]
    },
    {
     "name": "stderr",
     "output_type": "stream",
     "text": [
      "Processing records: 100%|██████████| 3712/3712 [00:00<00:00, 494262.11it/s]\n"
     ]
    },
    {
     "name": "stdout",
     "output_type": "stream",
     "text": [
      "File: 2025-04-23-05-57-10_scene_1-use_cpu_0-pred_steps_0-pose_0.result took 0.053 seconds to process\n"
     ]
    },
    {
     "name": "stderr",
     "output_type": "stream",
     "text": [
      "Processing records: 100%|██████████| 3739/3739 [00:00<00:00, 563409.47it/s]\n"
     ]
    },
    {
     "name": "stdout",
     "output_type": "stream",
     "text": [
      "File: 2025-04-23-05-59-20_scene_1-use_cpu_0-pred_steps_0-pose_1.result took 0.053 seconds to process\n"
     ]
    },
    {
     "name": "stderr",
     "output_type": "stream",
     "text": [
      "Processing records: 100%|██████████| 3790/3790 [00:00<00:00, 547547.95it/s]\n"
     ]
    },
    {
     "name": "stdout",
     "output_type": "stream",
     "text": [
      "File: 2025-04-23-06-01-31_scene_1-use_cpu_0-pred_steps_0-pose_2.result took 0.056 seconds to process\n"
     ]
    },
    {
     "name": "stderr",
     "output_type": "stream",
     "text": [
      "Processing records: 100%|██████████| 3808/3808 [00:00<00:00, 492185.44it/s]\n"
     ]
    },
    {
     "name": "stdout",
     "output_type": "stream",
     "text": [
      "File: 2025-04-23-06-03-42_scene_1-use_cpu_0-pred_steps_0-pose_3.result took 0.051 seconds to process\n"
     ]
    },
    {
     "name": "stderr",
     "output_type": "stream",
     "text": [
      "Processing records: 100%|██████████| 3787/3787 [00:00<00:00, 499585.75it/s]\n"
     ]
    },
    {
     "name": "stdout",
     "output_type": "stream",
     "text": [
      "File: 2025-04-23-06-05-52_scene_1-use_cpu_0-pred_steps_0-pose_4.result took 0.053 seconds to process\n"
     ]
    },
    {
     "name": "stderr",
     "output_type": "stream",
     "text": [
      "Processing records: 100%|██████████| 3742/3742 [00:00<00:00, 267050.39it/s]\n"
     ]
    },
    {
     "name": "stdout",
     "output_type": "stream",
     "text": [
      "File: 2025-04-23-06-08-03_scene_1-use_cpu_0-pred_steps_0-pose_5.result took 0.052 seconds to process\n"
     ]
    },
    {
     "name": "stderr",
     "output_type": "stream",
     "text": [
      "Processing records: 100%|██████████| 3730/3730 [00:00<00:00, 468251.59it/s]\n"
     ]
    },
    {
     "name": "stdout",
     "output_type": "stream",
     "text": [
      "File: 2025-04-23-06-10-14_scene_1-use_cpu_0-pred_steps_0-pose_6.result took 0.051 seconds to process\n"
     ]
    },
    {
     "name": "stderr",
     "output_type": "stream",
     "text": [
      "Processing records: 100%|██████████| 3784/3784 [00:00<00:00, 545309.96it/s]\n"
     ]
    },
    {
     "name": "stdout",
     "output_type": "stream",
     "text": [
      "File: 2025-04-23-06-12-24_scene_1-use_cpu_0-pred_steps_0-pose_7.result took 0.053 seconds to process\n"
     ]
    },
    {
     "name": "stderr",
     "output_type": "stream",
     "text": [
      "Processing records: 100%|██████████| 3769/3769 [00:00<00:00, 491094.49it/s]\n"
     ]
    },
    {
     "name": "stdout",
     "output_type": "stream",
     "text": [
      "File: 2025-04-23-06-14-35_scene_1-use_cpu_0-pred_steps_0-pose_8.result took 0.076 seconds to process\n"
     ]
    },
    {
     "name": "stderr",
     "output_type": "stream",
     "text": [
      "Processing records: 100%|██████████| 3670/3670 [00:00<00:00, 483785.77it/s]\n"
     ]
    },
    {
     "name": "stdout",
     "output_type": "stream",
     "text": [
      "File: 2025-04-23-06-16-46_scene_1-use_cpu_0-pred_steps_0-pose_9.result took 0.052 seconds to process\n"
     ]
    },
    {
     "name": "stderr",
     "output_type": "stream",
     "text": [
      "Processing records: 100%|██████████| 2092/2092 [00:00<00:00, 518739.81it/s]\n"
     ]
    },
    {
     "name": "stdout",
     "output_type": "stream",
     "text": [
      "File: 2025-04-23-06-18-56_scene_1-use_cpu_0-pred_steps_1-pose_0.result took 0.031 seconds to process\n"
     ]
    },
    {
     "name": "stderr",
     "output_type": "stream",
     "text": [
      "Processing records: 100%|██████████| 2092/2092 [00:00<00:00, 520771.79it/s]\n"
     ]
    },
    {
     "name": "stdout",
     "output_type": "stream",
     "text": [
      "File: 2025-04-23-06-21-07_scene_1-use_cpu_0-pred_steps_1-pose_1.result took 0.032 seconds to process\n"
     ]
    },
    {
     "name": "stderr",
     "output_type": "stream",
     "text": [
      "Processing records: 100%|██████████| 2095/2095 [00:00<00:00, 504539.90it/s]\n"
     ]
    },
    {
     "name": "stdout",
     "output_type": "stream",
     "text": [
      "File: 2025-04-23-06-23-18_scene_1-use_cpu_0-pred_steps_1-pose_2.result took 0.033 seconds to process\n"
     ]
    },
    {
     "name": "stderr",
     "output_type": "stream",
     "text": [
      "Processing records: 100%|██████████| 2104/2104 [00:00<00:00, 521006.94it/s]\n"
     ]
    },
    {
     "name": "stdout",
     "output_type": "stream",
     "text": [
      "File: 2025-04-23-06-25-28_scene_1-use_cpu_0-pred_steps_1-pose_3.result took 0.034 seconds to process\n"
     ]
    },
    {
     "name": "stderr",
     "output_type": "stream",
     "text": [
      "Processing records: 100%|██████████| 2080/2080 [00:00<00:00, 537930.22it/s]\n"
     ]
    },
    {
     "name": "stdout",
     "output_type": "stream",
     "text": [
      "File: 2025-04-23-06-27-39_scene_1-use_cpu_0-pred_steps_1-pose_4.result took 0.031 seconds to process\n"
     ]
    },
    {
     "name": "stderr",
     "output_type": "stream",
     "text": [
      "Processing records: 100%|██████████| 2107/2107 [00:00<00:00, 503412.05it/s]\n"
     ]
    },
    {
     "name": "stdout",
     "output_type": "stream",
     "text": [
      "File: 2025-04-23-06-29-50_scene_1-use_cpu_0-pred_steps_1-pose_5.result took 0.032 seconds to process\n"
     ]
    },
    {
     "name": "stderr",
     "output_type": "stream",
     "text": [
      "Processing records: 100%|██████████| 2104/2104 [00:00<00:00, 547852.97it/s]\n"
     ]
    },
    {
     "name": "stdout",
     "output_type": "stream",
     "text": [
      "File: 2025-04-23-06-32-00_scene_1-use_cpu_0-pred_steps_1-pose_6.result took 0.031 seconds to process\n"
     ]
    },
    {
     "name": "stderr",
     "output_type": "stream",
     "text": [
      "Processing records: 100%|██████████| 2071/2071 [00:00<00:00, 586522.86it/s]\n"
     ]
    },
    {
     "name": "stdout",
     "output_type": "stream",
     "text": [
      "File: 2025-04-23-06-34-11_scene_1-use_cpu_0-pred_steps_1-pose_7.result took 0.033 seconds to process\n"
     ]
    },
    {
     "name": "stderr",
     "output_type": "stream",
     "text": [
      "Processing records: 100%|██████████| 2101/2101 [00:00<00:00, 510144.30it/s]\n"
     ]
    },
    {
     "name": "stdout",
     "output_type": "stream",
     "text": [
      "File: 2025-04-23-06-36-21_scene_1-use_cpu_0-pred_steps_1-pose_8.result took 0.033 seconds to process\n"
     ]
    },
    {
     "name": "stderr",
     "output_type": "stream",
     "text": [
      "Processing records: 100%|██████████| 2089/2089 [00:00<00:00, 508113.03it/s]\n"
     ]
    },
    {
     "name": "stdout",
     "output_type": "stream",
     "text": [
      "File: 2025-04-23-06-38-32_scene_1-use_cpu_0-pred_steps_1-pose_9.result took 0.031 seconds to process\n"
     ]
    },
    {
     "name": "stderr",
     "output_type": "stream",
     "text": [
      "Processing records: 100%|██████████| 1567/1567 [00:00<00:00, 551613.46it/s]\n"
     ]
    },
    {
     "name": "stdout",
     "output_type": "stream",
     "text": [
      "File: 2025-04-23-06-40-43_scene_1-use_cpu_0-pred_steps_2-pose_0.result took 0.025 seconds to process\n"
     ]
    },
    {
     "name": "stderr",
     "output_type": "stream",
     "text": [
      "Processing records: 100%|██████████| 1534/1534 [00:00<00:00, 396576.82it/s]\n"
     ]
    },
    {
     "name": "stdout",
     "output_type": "stream",
     "text": [
      "File: 2025-04-23-06-42-53_scene_1-use_cpu_0-pred_steps_2-pose_1.result took 0.033 seconds to process\n"
     ]
    },
    {
     "name": "stderr",
     "output_type": "stream",
     "text": [
      "Processing records: 100%|██████████| 1558/1558 [00:00<00:00, 345899.09it/s]\n"
     ]
    },
    {
     "name": "stdout",
     "output_type": "stream",
     "text": [
      "File: 2025-04-23-06-45-04_scene_1-use_cpu_0-pred_steps_2-pose_2.result took 0.039 seconds to process\n"
     ]
    },
    {
     "name": "stderr",
     "output_type": "stream",
     "text": [
      "Processing records: 100%|██████████| 1567/1567 [00:00<00:00, 428230.02it/s]\n"
     ]
    },
    {
     "name": "stdout",
     "output_type": "stream",
     "text": [
      "File: 2025-04-23-06-47-15_scene_1-use_cpu_0-pred_steps_2-pose_3.result took 0.038 seconds to process\n"
     ]
    },
    {
     "name": "stderr",
     "output_type": "stream",
     "text": [
      "Processing records: 100%|██████████| 1576/1576 [00:00<00:00, 445312.79it/s]\n"
     ]
    },
    {
     "name": "stdout",
     "output_type": "stream",
     "text": [
      "File: 2025-04-23-06-49-25_scene_1-use_cpu_0-pred_steps_2-pose_4.result took 0.030 seconds to process\n"
     ]
    },
    {
     "name": "stderr",
     "output_type": "stream",
     "text": [
      "Processing records: 100%|██████████| 1543/1543 [00:00<00:00, 353766.87it/s]\n"
     ]
    },
    {
     "name": "stdout",
     "output_type": "stream",
     "text": [
      "File: 2025-04-23-06-51-36_scene_1-use_cpu_0-pred_steps_2-pose_5.result took 0.039 seconds to process\n"
     ]
    },
    {
     "name": "stderr",
     "output_type": "stream",
     "text": [
      "Processing records: 100%|██████████| 1558/1558 [00:00<00:00, 318316.80it/s]\n"
     ]
    },
    {
     "name": "stdout",
     "output_type": "stream",
     "text": [
      "File: 2025-04-23-06-53-47_scene_1-use_cpu_0-pred_steps_2-pose_6.result took 0.042 seconds to process\n"
     ]
    },
    {
     "name": "stderr",
     "output_type": "stream",
     "text": [
      "Processing records: 100%|██████████| 1534/1534 [00:00<00:00, 452720.40it/s]\n"
     ]
    },
    {
     "name": "stdout",
     "output_type": "stream",
     "text": [
      "File: 2025-04-23-06-55-57_scene_1-use_cpu_0-pred_steps_2-pose_7.result took 0.038 seconds to process\n"
     ]
    },
    {
     "name": "stderr",
     "output_type": "stream",
     "text": [
      "Processing records: 100%|██████████| 1573/1573 [00:00<00:00, 473798.22it/s]\n"
     ]
    },
    {
     "name": "stdout",
     "output_type": "stream",
     "text": [
      "File: 2025-04-23-06-58-08_scene_1-use_cpu_0-pred_steps_2-pose_8.result took 0.038 seconds to process\n"
     ]
    },
    {
     "name": "stderr",
     "output_type": "stream",
     "text": [
      "Processing records: 100%|██████████| 1546/1546 [00:00<00:00, 324625.48it/s]\n"
     ]
    },
    {
     "name": "stdout",
     "output_type": "stream",
     "text": [
      "File: 2025-04-23-07-00-19_scene_1-use_cpu_0-pred_steps_2-pose_9.result took 0.030 seconds to process\n"
     ]
    },
    {
     "name": "stderr",
     "output_type": "stream",
     "text": [
      "Processing records: 100%|██████████| 3607/3607 [00:00<00:00, 116195.25it/s]\n"
     ]
    },
    {
     "name": "stdout",
     "output_type": "stream",
     "text": [
      "File: 2025-04-23-07-02-29_scene_1-use_cpu_1-pred_steps_0-pose_0.result took 0.073 seconds to process\n"
     ]
    },
    {
     "name": "stderr",
     "output_type": "stream",
     "text": [
      "Processing records: 100%|██████████| 3556/3556 [00:00<00:00, 479533.97it/s]\n"
     ]
    },
    {
     "name": "stdout",
     "output_type": "stream",
     "text": [
      "File: 2025-04-23-07-04-40_scene_1-use_cpu_1-pred_steps_0-pose_1.result took 0.078 seconds to process\n"
     ]
    },
    {
     "name": "stderr",
     "output_type": "stream",
     "text": [
      "Processing records: 100%|██████████| 3598/3598 [00:00<00:00, 386357.04it/s]\n"
     ]
    },
    {
     "name": "stdout",
     "output_type": "stream",
     "text": [
      "File: 2025-04-23-07-06-51_scene_1-use_cpu_1-pred_steps_0-pose_2.result took 0.075 seconds to process\n"
     ]
    },
    {
     "name": "stderr",
     "output_type": "stream",
     "text": [
      "Processing records: 100%|██████████| 3616/3616 [00:00<00:00, 264914.21it/s]\n"
     ]
    },
    {
     "name": "stdout",
     "output_type": "stream",
     "text": [
      "File: 2025-04-23-07-09-01_scene_1-use_cpu_1-pred_steps_0-pose_3.result took 0.060 seconds to process\n"
     ]
    },
    {
     "name": "stderr",
     "output_type": "stream",
     "text": [
      "Processing records: 100%|██████████| 3595/3595 [00:00<00:00, 364858.88it/s]\n"
     ]
    },
    {
     "name": "stdout",
     "output_type": "stream",
     "text": [
      "File: 2025-04-23-07-11-12_scene_1-use_cpu_1-pred_steps_0-pose_4.result took 0.058 seconds to process\n"
     ]
    },
    {
     "name": "stderr",
     "output_type": "stream",
     "text": [
      "Processing records: 100%|██████████| 3568/3568 [00:00<00:00, 465309.27it/s]\n"
     ]
    },
    {
     "name": "stdout",
     "output_type": "stream",
     "text": [
      "File: 2025-04-23-07-13-23_scene_1-use_cpu_1-pred_steps_0-pose_5.result took 0.059 seconds to process\n"
     ]
    },
    {
     "name": "stderr",
     "output_type": "stream",
     "text": [
      "Processing records: 100%|██████████| 3562/3562 [00:00<00:00, 448881.14it/s]\n"
     ]
    },
    {
     "name": "stdout",
     "output_type": "stream",
     "text": [
      "File: 2025-04-23-07-15-33_scene_1-use_cpu_1-pred_steps_0-pose_6.result took 0.086 seconds to process\n"
     ]
    },
    {
     "name": "stderr",
     "output_type": "stream",
     "text": [
      "Processing records: 100%|██████████| 3559/3559 [00:00<00:00, 392664.35it/s]\n"
     ]
    },
    {
     "name": "stdout",
     "output_type": "stream",
     "text": [
      "File: 2025-04-23-07-17-44_scene_1-use_cpu_1-pred_steps_0-pose_7.result took 0.070 seconds to process\n"
     ]
    },
    {
     "name": "stderr",
     "output_type": "stream",
     "text": [
      "Processing records: 100%|██████████| 3589/3589 [00:00<00:00, 454454.69it/s]\n"
     ]
    },
    {
     "name": "stdout",
     "output_type": "stream",
     "text": [
      "File: 2025-04-23-07-19-55_scene_1-use_cpu_1-pred_steps_0-pose_8.result took 0.064 seconds to process\n"
     ]
    },
    {
     "name": "stderr",
     "output_type": "stream",
     "text": [
      "Processing records: 100%|██████████| 3571/3571 [00:00<00:00, 403085.73it/s]\n"
     ]
    },
    {
     "name": "stdout",
     "output_type": "stream",
     "text": [
      "File: 2025-04-23-07-22-05_scene_1-use_cpu_1-pred_steps_0-pose_9.result took 0.058 seconds to process\n"
     ]
    },
    {
     "name": "stderr",
     "output_type": "stream",
     "text": [
      "Processing records: 100%|██████████| 2038/2038 [00:00<00:00, 133650.08it/s]\n"
     ]
    },
    {
     "name": "stdout",
     "output_type": "stream",
     "text": [
      "File: 2025-04-23-07-24-16_scene_1-use_cpu_1-pred_steps_1-pose_0.result took 0.040 seconds to process\n"
     ]
    },
    {
     "name": "stderr",
     "output_type": "stream",
     "text": [
      "Processing records: 100%|██████████| 2017/2017 [00:00<00:00, 476400.00it/s]\n"
     ]
    },
    {
     "name": "stdout",
     "output_type": "stream",
     "text": [
      "File: 2025-04-23-07-26-27_scene_1-use_cpu_1-pred_steps_1-pose_1.result took 0.040 seconds to process\n"
     ]
    },
    {
     "name": "stderr",
     "output_type": "stream",
     "text": [
      "Processing records: 100%|██████████| 2032/2032 [00:00<00:00, 422151.95it/s]\n"
     ]
    },
    {
     "name": "stdout",
     "output_type": "stream",
     "text": [
      "File: 2025-04-23-07-28-37_scene_1-use_cpu_1-pred_steps_1-pose_2.result took 0.046 seconds to process\n"
     ]
    },
    {
     "name": "stderr",
     "output_type": "stream",
     "text": [
      "Processing records: 100%|██████████| 2008/2008 [00:00<00:00, 325305.62it/s]\n"
     ]
    },
    {
     "name": "stdout",
     "output_type": "stream",
     "text": [
      "File: 2025-04-23-07-30-48_scene_1-use_cpu_1-pred_steps_1-pose_3.result took 0.052 seconds to process\n"
     ]
    },
    {
     "name": "stderr",
     "output_type": "stream",
     "text": [
      "Processing records: 100%|██████████| 2023/2023 [00:00<00:00, 424678.53it/s]\n"
     ]
    },
    {
     "name": "stdout",
     "output_type": "stream",
     "text": [
      "File: 2025-04-23-07-32-59_scene_1-use_cpu_1-pred_steps_1-pose_4.result took 0.043 seconds to process\n"
     ]
    },
    {
     "name": "stderr",
     "output_type": "stream",
     "text": [
      "Processing records: 100%|██████████| 2029/2029 [00:00<00:00, 396083.16it/s]\n"
     ]
    },
    {
     "name": "stdout",
     "output_type": "stream",
     "text": [
      "File: 2025-04-23-07-35-09_scene_1-use_cpu_1-pred_steps_1-pose_5.result took 0.041 seconds to process\n"
     ]
    },
    {
     "name": "stderr",
     "output_type": "stream",
     "text": [
      "Processing records: 100%|██████████| 2008/2008 [00:00<00:00, 324929.11it/s]\n"
     ]
    },
    {
     "name": "stdout",
     "output_type": "stream",
     "text": [
      "File: 2025-04-23-07-37-20_scene_1-use_cpu_1-pred_steps_1-pose_6.result took 0.051 seconds to process\n"
     ]
    },
    {
     "name": "stderr",
     "output_type": "stream",
     "text": [
      "Processing records: 100%|██████████| 2008/2008 [00:00<00:00, 248536.68it/s]\n"
     ]
    },
    {
     "name": "stdout",
     "output_type": "stream",
     "text": [
      "File: 2025-04-23-07-39-30_scene_1-use_cpu_1-pred_steps_1-pose_7.result took 0.045 seconds to process\n"
     ]
    },
    {
     "name": "stderr",
     "output_type": "stream",
     "text": [
      "Processing records: 100%|██████████| 2020/2020 [00:00<00:00, 381420.52it/s]\n"
     ]
    },
    {
     "name": "stdout",
     "output_type": "stream",
     "text": [
      "File: 2025-04-23-07-41-41_scene_1-use_cpu_1-pred_steps_1-pose_8.result took 0.053 seconds to process\n"
     ]
    },
    {
     "name": "stderr",
     "output_type": "stream",
     "text": [
      "Processing records: 100%|██████████| 2026/2026 [00:00<00:00, 245164.88it/s]\n"
     ]
    },
    {
     "name": "stdout",
     "output_type": "stream",
     "text": [
      "File: 2025-04-23-07-43-52_scene_1-use_cpu_1-pred_steps_1-pose_9.result took 0.043 seconds to process\n"
     ]
    },
    {
     "name": "stderr",
     "output_type": "stream",
     "text": [
      "Processing records: 100%|██████████| 1489/1489 [00:00<00:00, 456029.11it/s]\n"
     ]
    },
    {
     "name": "stdout",
     "output_type": "stream",
     "text": [
      "File: 2025-04-23-07-46-02_scene_1-use_cpu_1-pred_steps_2-pose_0.result took 0.031 seconds to process\n"
     ]
    },
    {
     "name": "stderr",
     "output_type": "stream",
     "text": [
      "Processing records: 100%|██████████| 1507/1507 [00:00<00:00, 492467.17it/s]\n"
     ]
    },
    {
     "name": "stdout",
     "output_type": "stream",
     "text": [
      "File: 2025-04-23-07-48-13_scene_1-use_cpu_1-pred_steps_2-pose_1.result took 0.036 seconds to process\n"
     ]
    },
    {
     "name": "stderr",
     "output_type": "stream",
     "text": [
      "Processing records: 100%|██████████| 1483/1483 [00:00<00:00, 264529.76it/s]\n"
     ]
    },
    {
     "name": "stdout",
     "output_type": "stream",
     "text": [
      "File: 2025-04-23-07-50-24_scene_1-use_cpu_1-pred_steps_2-pose_2.result took 0.032 seconds to process\n"
     ]
    },
    {
     "name": "stderr",
     "output_type": "stream",
     "text": [
      "Processing records: 100%|██████████| 1507/1507 [00:00<00:00, 146883.00it/s]\n"
     ]
    },
    {
     "name": "stdout",
     "output_type": "stream",
     "text": [
      "File: 2025-04-23-07-52-34_scene_1-use_cpu_1-pred_steps_2-pose_3.result took 0.035 seconds to process\n"
     ]
    },
    {
     "name": "stderr",
     "output_type": "stream",
     "text": [
      "Processing records: 100%|██████████| 1507/1507 [00:00<00:00, 62483.97it/s]\n"
     ]
    },
    {
     "name": "stdout",
     "output_type": "stream",
     "text": [
      "File: 2025-04-23-07-54-45_scene_1-use_cpu_1-pred_steps_2-pose_4.result took 0.029 seconds to process\n"
     ]
    },
    {
     "name": "stderr",
     "output_type": "stream",
     "text": [
      "Processing records: 100%|██████████| 1492/1492 [00:00<00:00, 441007.86it/s]\n"
     ]
    },
    {
     "name": "stdout",
     "output_type": "stream",
     "text": [
      "File: 2025-04-23-07-56-56_scene_1-use_cpu_1-pred_steps_2-pose_5.result took 0.027 seconds to process\n"
     ]
    },
    {
     "name": "stderr",
     "output_type": "stream",
     "text": [
      "Processing records: 100%|██████████| 1504/1504 [00:00<00:00, 301295.95it/s]\n"
     ]
    },
    {
     "name": "stdout",
     "output_type": "stream",
     "text": [
      "File: 2025-04-23-07-59-06_scene_1-use_cpu_1-pred_steps_2-pose_6.result took 0.041 seconds to process\n"
     ]
    },
    {
     "name": "stderr",
     "output_type": "stream",
     "text": [
      "Processing records: 100%|██████████| 1495/1495 [00:00<00:00, 251584.20it/s]\n"
     ]
    },
    {
     "name": "stdout",
     "output_type": "stream",
     "text": [
      "File: 2025-04-23-08-01-17_scene_1-use_cpu_1-pred_steps_2-pose_7.result took 0.040 seconds to process\n"
     ]
    },
    {
     "name": "stderr",
     "output_type": "stream",
     "text": [
      "Processing records: 100%|██████████| 1495/1495 [00:00<00:00, 382766.72it/s]\n"
     ]
    },
    {
     "name": "stdout",
     "output_type": "stream",
     "text": [
      "File: 2025-04-23-08-03-28_scene_1-use_cpu_1-pred_steps_2-pose_8.result took 0.040 seconds to process\n"
     ]
    },
    {
     "name": "stderr",
     "output_type": "stream",
     "text": [
      "Processing records: 100%|██████████| 1489/1489 [00:00<00:00, 462753.31it/s]\n"
     ]
    },
    {
     "name": "stdout",
     "output_type": "stream",
     "text": [
      "File: 2025-04-23-08-05-38_scene_1-use_cpu_1-pred_steps_2-pose_9.result took 0.035 seconds to process\n"
     ]
    },
    {
     "name": "stderr",
     "output_type": "stream",
     "text": [
      "Processing records: 100%|██████████| 3764/3764 [00:00<00:00, 373798.04it/s]\n"
     ]
    },
    {
     "name": "stdout",
     "output_type": "stream",
     "text": [
      "File: 2025-04-23-08-07-49_scene_2-use_cpu_0-pred_steps_0-pose_0.result took 0.123 seconds to process\n"
     ]
    },
    {
     "name": "stderr",
     "output_type": "stream",
     "text": [
      "Processing records: 100%|██████████| 3719/3719 [00:00<00:00, 449346.56it/s]\n"
     ]
    },
    {
     "name": "stdout",
     "output_type": "stream",
     "text": [
      "File: 2025-04-23-08-10-00_scene_2-use_cpu_0-pred_steps_0-pose_1.result took 0.083 seconds to process\n"
     ]
    },
    {
     "name": "stderr",
     "output_type": "stream",
     "text": [
      "Processing records: 100%|██████████| 3671/3671 [00:00<00:00, 540958.09it/s]\n"
     ]
    },
    {
     "name": "stdout",
     "output_type": "stream",
     "text": [
      "File: 2025-04-23-08-12-10_scene_2-use_cpu_0-pred_steps_0-pose_2.result took 0.080 seconds to process\n"
     ]
    },
    {
     "name": "stderr",
     "output_type": "stream",
     "text": [
      "Processing records: 100%|██████████| 3698/3698 [00:00<00:00, 525816.54it/s]\n"
     ]
    },
    {
     "name": "stdout",
     "output_type": "stream",
     "text": [
      "File: 2025-04-23-08-14-21_scene_2-use_cpu_0-pred_steps_0-pose_3.result took 0.083 seconds to process\n"
     ]
    },
    {
     "name": "stderr",
     "output_type": "stream",
     "text": [
      "Processing records: 100%|██████████| 3695/3695 [00:00<00:00, 525372.16it/s]\n"
     ]
    },
    {
     "name": "stdout",
     "output_type": "stream",
     "text": [
      "File: 2025-04-23-08-16-31_scene_2-use_cpu_0-pred_steps_0-pose_4.result took 0.100 seconds to process\n"
     ]
    },
    {
     "name": "stderr",
     "output_type": "stream",
     "text": [
      "Processing records: 100%|██████████| 3710/3710 [00:00<00:00, 492121.06it/s]\n"
     ]
    },
    {
     "name": "stdout",
     "output_type": "stream",
     "text": [
      "File: 2025-04-23-08-18-42_scene_2-use_cpu_0-pred_steps_0-pose_5.result took 0.085 seconds to process\n"
     ]
    },
    {
     "name": "stderr",
     "output_type": "stream",
     "text": [
      "Processing records: 100%|██████████| 3701/3701 [00:00<00:00, 522699.14it/s]\n"
     ]
    },
    {
     "name": "stdout",
     "output_type": "stream",
     "text": [
      "File: 2025-04-23-08-20-53_scene_2-use_cpu_0-pred_steps_0-pose_6.result took 0.081 seconds to process\n"
     ]
    },
    {
     "name": "stderr",
     "output_type": "stream",
     "text": [
      "Processing records: 100%|██████████| 3719/3719 [00:00<00:00, 533486.66it/s]\n"
     ]
    },
    {
     "name": "stdout",
     "output_type": "stream",
     "text": [
      "File: 2025-04-23-08-23-03_scene_2-use_cpu_0-pred_steps_0-pose_7.result took 0.080 seconds to process\n"
     ]
    },
    {
     "name": "stderr",
     "output_type": "stream",
     "text": [
      "Processing records: 100%|██████████| 3716/3716 [00:00<00:00, 439414.54it/s]\n"
     ]
    },
    {
     "name": "stdout",
     "output_type": "stream",
     "text": [
      "File: 2025-04-23-08-25-14_scene_2-use_cpu_0-pred_steps_0-pose_8.result took 0.084 seconds to process\n"
     ]
    },
    {
     "name": "stderr",
     "output_type": "stream",
     "text": [
      "Processing records: 100%|██████████| 3743/3743 [00:00<00:00, 569846.82it/s]\n"
     ]
    },
    {
     "name": "stdout",
     "output_type": "stream",
     "text": [
      "File: 2025-04-23-08-27-25_scene_2-use_cpu_0-pred_steps_0-pose_9.result took 0.083 seconds to process\n"
     ]
    },
    {
     "name": "stderr",
     "output_type": "stream",
     "text": [
      "Processing records: 100%|██████████| 2096/2096 [00:00<00:00, 514199.05it/s]\n"
     ]
    },
    {
     "name": "stdout",
     "output_type": "stream",
     "text": [
      "File: 2025-04-23-08-29-35_scene_2-use_cpu_0-pred_steps_1-pose_0.result took 0.063 seconds to process\n"
     ]
    },
    {
     "name": "stderr",
     "output_type": "stream",
     "text": [
      "Processing records: 100%|██████████| 2102/2102 [00:00<00:00, 547400.16it/s]\n"
     ]
    },
    {
     "name": "stdout",
     "output_type": "stream",
     "text": [
      "File: 2025-04-23-08-31-46_scene_2-use_cpu_0-pred_steps_1-pose_1.result took 0.062 seconds to process\n"
     ]
    },
    {
     "name": "stderr",
     "output_type": "stream",
     "text": [
      "Processing records: 100%|██████████| 2084/2084 [00:00<00:00, 570854.85it/s]\n"
     ]
    },
    {
     "name": "stdout",
     "output_type": "stream",
     "text": [
      "File: 2025-04-23-08-33-57_scene_2-use_cpu_0-pred_steps_1-pose_2.result took 0.061 seconds to process\n"
     ]
    },
    {
     "name": "stderr",
     "output_type": "stream",
     "text": [
      "Processing records: 100%|██████████| 2087/2087 [00:00<00:00, 561410.50it/s]\n"
     ]
    },
    {
     "name": "stdout",
     "output_type": "stream",
     "text": [
      "File: 2025-04-23-08-36-07_scene_2-use_cpu_0-pred_steps_1-pose_3.result took 0.061 seconds to process\n"
     ]
    },
    {
     "name": "stderr",
     "output_type": "stream",
     "text": [
      "Processing records: 100%|██████████| 2096/2096 [00:00<00:00, 524914.09it/s]\n"
     ]
    },
    {
     "name": "stdout",
     "output_type": "stream",
     "text": [
      "File: 2025-04-23-08-38-18_scene_2-use_cpu_0-pred_steps_1-pose_4.result took 0.061 seconds to process\n"
     ]
    },
    {
     "name": "stderr",
     "output_type": "stream",
     "text": [
      "Processing records: 100%|██████████| 2081/2081 [00:00<00:00, 546820.36it/s]\n"
     ]
    },
    {
     "name": "stdout",
     "output_type": "stream",
     "text": [
      "File: 2025-04-23-08-40-29_scene_2-use_cpu_0-pred_steps_1-pose_5.result took 0.063 seconds to process\n"
     ]
    },
    {
     "name": "stderr",
     "output_type": "stream",
     "text": [
      "Processing records: 100%|██████████| 2096/2096 [00:00<00:00, 131921.69it/s]\n"
     ]
    },
    {
     "name": "stdout",
     "output_type": "stream",
     "text": [
      "File: 2025-04-23-08-42-39_scene_2-use_cpu_0-pred_steps_1-pose_6.result took 0.060 seconds to process\n"
     ]
    },
    {
     "name": "stderr",
     "output_type": "stream",
     "text": [
      "Processing records: 100%|██████████| 2099/2099 [00:00<00:00, 545264.72it/s]\n"
     ]
    },
    {
     "name": "stdout",
     "output_type": "stream",
     "text": [
      "File: 2025-04-23-08-44-50_scene_2-use_cpu_0-pred_steps_1-pose_7.result took 0.063 seconds to process\n"
     ]
    },
    {
     "name": "stderr",
     "output_type": "stream",
     "text": [
      "Processing records: 100%|██████████| 2075/2075 [00:00<00:00, 510270.92it/s]\n"
     ]
    },
    {
     "name": "stdout",
     "output_type": "stream",
     "text": [
      "File: 2025-04-23-08-47-01_scene_2-use_cpu_0-pred_steps_1-pose_8.result took 0.062 seconds to process\n"
     ]
    },
    {
     "name": "stderr",
     "output_type": "stream",
     "text": [
      "Processing records: 100%|██████████| 2081/2081 [00:00<00:00, 476126.26it/s]\n"
     ]
    },
    {
     "name": "stdout",
     "output_type": "stream",
     "text": [
      "File: 2025-04-23-08-49-11_scene_2-use_cpu_0-pred_steps_1-pose_9.result took 0.062 seconds to process\n"
     ]
    },
    {
     "name": "stderr",
     "output_type": "stream",
     "text": [
      "Processing records: 100%|██████████| 1544/1544 [00:00<00:00, 508081.39it/s]\n"
     ]
    },
    {
     "name": "stdout",
     "output_type": "stream",
     "text": [
      "File: 2025-04-23-08-51-22_scene_2-use_cpu_0-pred_steps_2-pose_0.result took 0.056 seconds to process\n"
     ]
    },
    {
     "name": "stderr",
     "output_type": "stream",
     "text": [
      "Processing records: 100%|██████████| 1538/1538 [00:00<00:00, 495646.53it/s]\n"
     ]
    },
    {
     "name": "stdout",
     "output_type": "stream",
     "text": [
      "File: 2025-04-23-08-53-33_scene_2-use_cpu_0-pred_steps_2-pose_1.result took 0.055 seconds to process\n"
     ]
    },
    {
     "name": "stderr",
     "output_type": "stream",
     "text": [
      "Processing records: 100%|██████████| 1526/1526 [00:00<00:00, 517379.99it/s]\n"
     ]
    },
    {
     "name": "stdout",
     "output_type": "stream",
     "text": [
      "File: 2025-04-23-08-55-43_scene_2-use_cpu_0-pred_steps_2-pose_2.result took 0.054 seconds to process\n"
     ]
    },
    {
     "name": "stderr",
     "output_type": "stream",
     "text": [
      "Processing records: 100%|██████████| 1550/1550 [00:00<00:00, 481532.57it/s]\n"
     ]
    },
    {
     "name": "stdout",
     "output_type": "stream",
     "text": [
      "File: 2025-04-23-08-57-54_scene_2-use_cpu_0-pred_steps_2-pose_3.result took 0.053 seconds to process\n"
     ]
    },
    {
     "name": "stderr",
     "output_type": "stream",
     "text": [
      "Processing records: 100%|██████████| 1562/1562 [00:00<00:00, 521741.09it/s]\n"
     ]
    },
    {
     "name": "stdout",
     "output_type": "stream",
     "text": [
      "File: 2025-04-23-09-00-04_scene_2-use_cpu_0-pred_steps_2-pose_4.result took 0.055 seconds to process\n"
     ]
    },
    {
     "name": "stderr",
     "output_type": "stream",
     "text": [
      "Processing records: 100%|██████████| 1550/1550 [00:00<00:00, 514536.70it/s]\n"
     ]
    },
    {
     "name": "stdout",
     "output_type": "stream",
     "text": [
      "File: 2025-04-23-09-02-15_scene_2-use_cpu_0-pred_steps_2-pose_5.result took 0.060 seconds to process\n"
     ]
    },
    {
     "name": "stderr",
     "output_type": "stream",
     "text": [
      "Processing records: 100%|██████████| 1538/1538 [00:00<00:00, 555101.93it/s]\n"
     ]
    },
    {
     "name": "stdout",
     "output_type": "stream",
     "text": [
      "File: 2025-04-23-09-04-26_scene_2-use_cpu_0-pred_steps_2-pose_6.result took 0.057 seconds to process\n"
     ]
    },
    {
     "name": "stderr",
     "output_type": "stream",
     "text": [
      "Processing records: 100%|██████████| 1532/1532 [00:00<00:00, 536814.85it/s]\n"
     ]
    },
    {
     "name": "stdout",
     "output_type": "stream",
     "text": [
      "File: 2025-04-23-09-06-36_scene_2-use_cpu_0-pred_steps_2-pose_7.result took 0.055 seconds to process\n"
     ]
    },
    {
     "name": "stderr",
     "output_type": "stream",
     "text": [
      "Processing records: 100%|██████████| 1535/1535 [00:00<00:00, 534872.20it/s]\n"
     ]
    },
    {
     "name": "stdout",
     "output_type": "stream",
     "text": [
      "File: 2025-04-23-09-08-47_scene_2-use_cpu_0-pred_steps_2-pose_8.result took 0.054 seconds to process\n"
     ]
    },
    {
     "name": "stderr",
     "output_type": "stream",
     "text": [
      "Processing records: 100%|██████████| 1529/1529 [00:00<00:00, 529089.25it/s]\n"
     ]
    },
    {
     "name": "stdout",
     "output_type": "stream",
     "text": [
      "File: 2025-04-23-09-10-58_scene_2-use_cpu_0-pred_steps_2-pose_9.result took 0.057 seconds to process\n"
     ]
    },
    {
     "name": "stderr",
     "output_type": "stream",
     "text": [
      "Processing records: 100%|██████████| 2492/2492 [00:00<00:00, 566883.91it/s]\n"
     ]
    },
    {
     "name": "stdout",
     "output_type": "stream",
     "text": [
      "File: 2025-04-23-09-13-08_scene_2-use_cpu_1-pred_steps_0-pose_0.result took 0.074 seconds to process\n"
     ]
    },
    {
     "name": "stderr",
     "output_type": "stream",
     "text": [
      "Processing records: 100%|██████████| 2477/2477 [00:00<00:00, 453819.55it/s]\n"
     ]
    },
    {
     "name": "stdout",
     "output_type": "stream",
     "text": [
      "File: 2025-04-23-09-15-19_scene_2-use_cpu_1-pred_steps_0-pose_1.result took 0.069 seconds to process\n"
     ]
    },
    {
     "name": "stderr",
     "output_type": "stream",
     "text": [
      "Processing records: 100%|██████████| 2468/2468 [00:00<00:00, 531393.34it/s]\n"
     ]
    },
    {
     "name": "stdout",
     "output_type": "stream",
     "text": [
      "File: 2025-04-23-09-17-30_scene_2-use_cpu_1-pred_steps_0-pose_2.result took 0.066 seconds to process\n"
     ]
    },
    {
     "name": "stderr",
     "output_type": "stream",
     "text": [
      "Processing records: 100%|██████████| 2501/2501 [00:00<00:00, 528354.70it/s]\n"
     ]
    },
    {
     "name": "stdout",
     "output_type": "stream",
     "text": [
      "File: 2025-04-23-09-19-40_scene_2-use_cpu_1-pred_steps_0-pose_3.result took 0.068 seconds to process\n"
     ]
    },
    {
     "name": "stderr",
     "output_type": "stream",
     "text": [
      "Processing records: 100%|██████████| 2504/2504 [00:00<00:00, 464303.15it/s]\n"
     ]
    },
    {
     "name": "stdout",
     "output_type": "stream",
     "text": [
      "File: 2025-04-23-09-21-51_scene_2-use_cpu_1-pred_steps_0-pose_4.result took 0.069 seconds to process\n"
     ]
    },
    {
     "name": "stderr",
     "output_type": "stream",
     "text": [
      "Processing records: 100%|██████████| 2498/2498 [00:00<00:00, 485558.04it/s]\n"
     ]
    },
    {
     "name": "stdout",
     "output_type": "stream",
     "text": [
      "File: 2025-04-23-09-24-02_scene_2-use_cpu_1-pred_steps_0-pose_5.result took 0.066 seconds to process\n"
     ]
    },
    {
     "name": "stderr",
     "output_type": "stream",
     "text": [
      "Processing records: 100%|██████████| 2486/2486 [00:00<00:00, 493074.18it/s]\n"
     ]
    },
    {
     "name": "stdout",
     "output_type": "stream",
     "text": [
      "File: 2025-04-23-09-26-12_scene_2-use_cpu_1-pred_steps_0-pose_6.result took 0.066 seconds to process\n"
     ]
    },
    {
     "name": "stderr",
     "output_type": "stream",
     "text": [
      "Processing records: 100%|██████████| 2456/2456 [00:00<00:00, 500836.77it/s]\n"
     ]
    },
    {
     "name": "stdout",
     "output_type": "stream",
     "text": [
      "File: 2025-04-23-09-28-23_scene_2-use_cpu_1-pred_steps_0-pose_7.result took 0.074 seconds to process\n"
     ]
    },
    {
     "name": "stderr",
     "output_type": "stream",
     "text": [
      "Processing records: 100%|██████████| 2477/2477 [00:00<00:00, 76606.46it/s]\n"
     ]
    },
    {
     "name": "stdout",
     "output_type": "stream",
     "text": [
      "File: 2025-04-23-09-30-34_scene_2-use_cpu_1-pred_steps_0-pose_8.result took 0.065 seconds to process\n"
     ]
    },
    {
     "name": "stderr",
     "output_type": "stream",
     "text": [
      "Processing records: 100%|██████████| 2483/2483 [00:00<00:00, 539441.46it/s]\n"
     ]
    },
    {
     "name": "stdout",
     "output_type": "stream",
     "text": [
      "File: 2025-04-23-09-32-44_scene_2-use_cpu_1-pred_steps_0-pose_9.result took 0.065 seconds to process\n"
     ]
    },
    {
     "name": "stderr",
     "output_type": "stream",
     "text": [
      "Processing records: 100%|██████████| 1460/1460 [00:00<00:00, 515895.86it/s]\n"
     ]
    },
    {
     "name": "stdout",
     "output_type": "stream",
     "text": [
      "File: 2025-04-23-09-34-55_scene_2-use_cpu_1-pred_steps_1-pose_0.result took 0.054 seconds to process\n"
     ]
    },
    {
     "name": "stderr",
     "output_type": "stream",
     "text": [
      "Processing records: 100%|██████████| 1466/1466 [00:00<00:00, 457708.03it/s]\n"
     ]
    },
    {
     "name": "stdout",
     "output_type": "stream",
     "text": [
      "File: 2025-04-23-09-37-06_scene_2-use_cpu_1-pred_steps_1-pose_1.result took 0.055 seconds to process\n"
     ]
    },
    {
     "name": "stderr",
     "output_type": "stream",
     "text": [
      "Processing records: 100%|██████████| 1463/1463 [00:00<00:00, 422171.78it/s]\n"
     ]
    },
    {
     "name": "stdout",
     "output_type": "stream",
     "text": [
      "File: 2025-04-23-09-39-16_scene_2-use_cpu_1-pred_steps_1-pose_2.result took 0.053 seconds to process\n"
     ]
    },
    {
     "name": "stderr",
     "output_type": "stream",
     "text": [
      "Processing records: 100%|██████████| 1487/1487 [00:00<00:00, 477121.33it/s]\n"
     ]
    },
    {
     "name": "stdout",
     "output_type": "stream",
     "text": [
      "File: 2025-04-23-09-41-27_scene_2-use_cpu_1-pred_steps_1-pose_3.result took 0.060 seconds to process\n"
     ]
    },
    {
     "name": "stderr",
     "output_type": "stream",
     "text": [
      "Processing records: 100%|██████████| 1469/1469 [00:00<00:00, 561662.04it/s]\n"
     ]
    },
    {
     "name": "stdout",
     "output_type": "stream",
     "text": [
      "File: 2025-04-23-09-43-38_scene_2-use_cpu_1-pred_steps_1-pose_4.result took 0.055 seconds to process\n"
     ]
    },
    {
     "name": "stderr",
     "output_type": "stream",
     "text": [
      "Processing records: 100%|██████████| 1472/1472 [00:00<00:00, 513816.20it/s]\n"
     ]
    },
    {
     "name": "stdout",
     "output_type": "stream",
     "text": [
      "File: 2025-04-23-09-45-48_scene_2-use_cpu_1-pred_steps_1-pose_5.result took 0.054 seconds to process\n"
     ]
    },
    {
     "name": "stderr",
     "output_type": "stream",
     "text": [
      "Processing records: 100%|██████████| 1487/1487 [00:00<00:00, 526190.00it/s]\n"
     ]
    },
    {
     "name": "stdout",
     "output_type": "stream",
     "text": [
      "File: 2025-04-23-09-47-59_scene_2-use_cpu_1-pred_steps_1-pose_6.result took 0.056 seconds to process\n"
     ]
    },
    {
     "name": "stderr",
     "output_type": "stream",
     "text": [
      "Processing records: 100%|██████████| 1460/1460 [00:00<00:00, 464548.92it/s]\n"
     ]
    },
    {
     "name": "stdout",
     "output_type": "stream",
     "text": [
      "File: 2025-04-23-09-50-09_scene_2-use_cpu_1-pred_steps_1-pose_7.result took 0.055 seconds to process\n"
     ]
    },
    {
     "name": "stderr",
     "output_type": "stream",
     "text": [
      "Processing records: 100%|██████████| 1481/1481 [00:00<00:00, 525885.90it/s]\n"
     ]
    },
    {
     "name": "stdout",
     "output_type": "stream",
     "text": [
      "File: 2025-04-23-09-52-20_scene_2-use_cpu_1-pred_steps_1-pose_8.result took 0.053 seconds to process\n"
     ]
    },
    {
     "name": "stderr",
     "output_type": "stream",
     "text": [
      "Processing records: 100%|██████████| 1463/1463 [00:00<00:00, 500144.00it/s]\n"
     ]
    },
    {
     "name": "stdout",
     "output_type": "stream",
     "text": [
      "File: 2025-04-23-09-54-31_scene_2-use_cpu_1-pred_steps_1-pose_9.result took 0.069 seconds to process\n"
     ]
    },
    {
     "name": "stderr",
     "output_type": "stream",
     "text": [
      "Processing records: 100%|██████████| 1130/1130 [00:00<00:00, 544339.44it/s]\n"
     ]
    },
    {
     "name": "stdout",
     "output_type": "stream",
     "text": [
      "File: 2025-04-23-09-56-41_scene_2-use_cpu_1-pred_steps_2-pose_0.result took 0.050 seconds to process\n"
     ]
    },
    {
     "name": "stderr",
     "output_type": "stream",
     "text": [
      "Processing records: 100%|██████████| 1139/1139 [00:00<00:00, 559731.96it/s]\n"
     ]
    },
    {
     "name": "stdout",
     "output_type": "stream",
     "text": [
      "File: 2025-04-23-09-58-52_scene_2-use_cpu_1-pred_steps_2-pose_1.result took 0.050 seconds to process\n"
     ]
    },
    {
     "name": "stderr",
     "output_type": "stream",
     "text": [
      "Processing records: 100%|██████████| 1121/1121 [00:00<00:00, 518277.64it/s]\n"
     ]
    },
    {
     "name": "stdout",
     "output_type": "stream",
     "text": [
      "File: 2025-04-23-10-01-03_scene_2-use_cpu_1-pred_steps_2-pose_2.result took 0.053 seconds to process\n"
     ]
    },
    {
     "name": "stderr",
     "output_type": "stream",
     "text": [
      "Processing records: 100%|██████████| 1142/1142 [00:00<00:00, 520697.38it/s]\n"
     ]
    },
    {
     "name": "stdout",
     "output_type": "stream",
     "text": [
      "File: 2025-04-23-10-03-13_scene_2-use_cpu_1-pred_steps_2-pose_3.result took 0.050 seconds to process\n"
     ]
    },
    {
     "name": "stderr",
     "output_type": "stream",
     "text": [
      "Processing records: 100%|██████████| 1136/1136 [00:00<00:00, 519826.46it/s]\n"
     ]
    },
    {
     "name": "stdout",
     "output_type": "stream",
     "text": [
      "File: 2025-04-23-10-05-24_scene_2-use_cpu_1-pred_steps_2-pose_4.result took 0.049 seconds to process\n"
     ]
    },
    {
     "name": "stderr",
     "output_type": "stream",
     "text": [
      "Processing records: 100%|██████████| 1139/1139 [00:00<00:00, 521882.48it/s]\n"
     ]
    },
    {
     "name": "stdout",
     "output_type": "stream",
     "text": [
      "File: 2025-04-23-10-07-35_scene_2-use_cpu_1-pred_steps_2-pose_5.result took 0.049 seconds to process\n"
     ]
    },
    {
     "name": "stderr",
     "output_type": "stream",
     "text": [
      "Processing records: 100%|██████████| 1133/1133 [00:00<00:00, 489508.29it/s]\n"
     ]
    },
    {
     "name": "stdout",
     "output_type": "stream",
     "text": [
      "File: 2025-04-23-10-09-45_scene_2-use_cpu_1-pred_steps_2-pose_6.result took 0.051 seconds to process\n"
     ]
    },
    {
     "name": "stderr",
     "output_type": "stream",
     "text": [
      "Processing records: 100%|██████████| 1118/1118 [00:00<00:00, 566948.60it/s]\n"
     ]
    },
    {
     "name": "stdout",
     "output_type": "stream",
     "text": [
      "File: 2025-04-23-10-11-56_scene_2-use_cpu_1-pred_steps_2-pose_7.result took 0.052 seconds to process\n"
     ]
    },
    {
     "name": "stderr",
     "output_type": "stream",
     "text": [
      "Processing records: 100%|██████████| 1136/1136 [00:00<00:00, 493805.51it/s]\n"
     ]
    },
    {
     "name": "stdout",
     "output_type": "stream",
     "text": [
      "File: 2025-04-23-10-14-07_scene_2-use_cpu_1-pred_steps_2-pose_8.result took 0.050 seconds to process\n"
     ]
    },
    {
     "name": "stderr",
     "output_type": "stream",
     "text": [
      "Processing records: 100%|██████████| 1130/1130 [00:00<00:00, 566391.43it/s]\n"
     ]
    },
    {
     "name": "stdout",
     "output_type": "stream",
     "text": [
      "File: 2025-04-23-10-16-17_scene_2-use_cpu_1-pred_steps_2-pose_9.result took 0.048 seconds to process\n"
     ]
    },
    {
     "name": "stderr",
     "output_type": "stream",
     "text": [
      "Processing records: 100%|██████████| 3744/3744 [00:00<00:00, 485484.27it/s]\n"
     ]
    },
    {
     "name": "stdout",
     "output_type": "stream",
     "text": [
      "File: 2025-04-23-10-18-28_scene_3-use_cpu_0-pred_steps_0-pose_0.result took 0.117 seconds to process\n"
     ]
    },
    {
     "name": "stderr",
     "output_type": "stream",
     "text": [
      "Processing records: 100%|██████████| 3708/3708 [00:00<00:00, 519611.08it/s]\n"
     ]
    },
    {
     "name": "stdout",
     "output_type": "stream",
     "text": [
      "File: 2025-04-23-10-20-39_scene_3-use_cpu_0-pred_steps_0-pose_1.result took 0.124 seconds to process\n"
     ]
    },
    {
     "name": "stderr",
     "output_type": "stream",
     "text": [
      "Processing records: 100%|██████████| 3711/3711 [00:00<00:00, 563849.38it/s]\n"
     ]
    },
    {
     "name": "stdout",
     "output_type": "stream",
     "text": [
      "File: 2025-04-23-10-22-49_scene_3-use_cpu_0-pred_steps_0-pose_2.result took 0.120 seconds to process\n"
     ]
    },
    {
     "name": "stderr",
     "output_type": "stream",
     "text": [
      "Processing records: 100%|██████████| 3726/3726 [00:00<00:00, 535168.03it/s]\n"
     ]
    },
    {
     "name": "stdout",
     "output_type": "stream",
     "text": [
      "File: 2025-04-23-10-25-00_scene_3-use_cpu_0-pred_steps_0-pose_3.result took 0.122 seconds to process\n"
     ]
    },
    {
     "name": "stderr",
     "output_type": "stream",
     "text": [
      "Processing records: 100%|██████████| 3732/3732 [00:00<00:00, 505494.49it/s]\n"
     ]
    },
    {
     "name": "stdout",
     "output_type": "stream",
     "text": [
      "File: 2025-04-23-10-27-11_scene_3-use_cpu_0-pred_steps_0-pose_4.result took 0.124 seconds to process\n"
     ]
    },
    {
     "name": "stderr",
     "output_type": "stream",
     "text": [
      "Processing records: 100%|██████████| 3750/3750 [00:00<00:00, 484823.38it/s]\n"
     ]
    },
    {
     "name": "stdout",
     "output_type": "stream",
     "text": [
      "File: 2025-04-23-10-29-21_scene_3-use_cpu_0-pred_steps_0-pose_5.result took 0.126 seconds to process\n"
     ]
    },
    {
     "name": "stderr",
     "output_type": "stream",
     "text": [
      "Processing records: 100%|██████████| 3723/3723 [00:00<00:00, 534517.48it/s]\n"
     ]
    },
    {
     "name": "stdout",
     "output_type": "stream",
     "text": [
      "File: 2025-04-23-10-31-32_scene_3-use_cpu_0-pred_steps_0-pose_6.result took 0.119 seconds to process\n"
     ]
    },
    {
     "name": "stderr",
     "output_type": "stream",
     "text": [
      "Processing records: 100%|██████████| 3741/3741 [00:00<00:00, 485260.28it/s]\n"
     ]
    },
    {
     "name": "stdout",
     "output_type": "stream",
     "text": [
      "File: 2025-04-23-10-33-42_scene_3-use_cpu_0-pred_steps_0-pose_7.result took 0.120 seconds to process\n"
     ]
    },
    {
     "name": "stderr",
     "output_type": "stream",
     "text": [
      "Processing records: 100%|██████████| 3657/3657 [00:00<00:00, 442008.23it/s]\n"
     ]
    },
    {
     "name": "stdout",
     "output_type": "stream",
     "text": [
      "File: 2025-04-23-10-35-53_scene_3-use_cpu_0-pred_steps_0-pose_8.result took 0.128 seconds to process\n"
     ]
    },
    {
     "name": "stderr",
     "output_type": "stream",
     "text": [
      "Processing records: 100%|██████████| 3666/3666 [00:00<00:00, 503497.77it/s]\n"
     ]
    },
    {
     "name": "stdout",
     "output_type": "stream",
     "text": [
      "File: 2025-04-23-10-38-04_scene_3-use_cpu_0-pred_steps_0-pose_9.result took 0.150 seconds to process\n"
     ]
    },
    {
     "name": "stderr",
     "output_type": "stream",
     "text": [
      "Processing records: 100%|██████████| 2115/2115 [00:00<00:00, 414704.92it/s]\n"
     ]
    },
    {
     "name": "stdout",
     "output_type": "stream",
     "text": [
      "File: 2025-04-23-10-40-14_scene_3-use_cpu_0-pred_steps_1-pose_0.result took 0.105 seconds to process\n"
     ]
    },
    {
     "name": "stderr",
     "output_type": "stream",
     "text": [
      "Processing records: 100%|██████████| 2073/2073 [00:00<00:00, 524129.98it/s]\n"
     ]
    },
    {
     "name": "stdout",
     "output_type": "stream",
     "text": [
      "File: 2025-04-23-10-42-25_scene_3-use_cpu_0-pred_steps_1-pose_1.result took 0.117 seconds to process\n"
     ]
    },
    {
     "name": "stderr",
     "output_type": "stream",
     "text": [
      "Processing records: 100%|██████████| 2073/2073 [00:00<00:00, 591160.74it/s]\n"
     ]
    },
    {
     "name": "stdout",
     "output_type": "stream",
     "text": [
      "File: 2025-04-23-10-44-36_scene_3-use_cpu_0-pred_steps_1-pose_2.result took 0.136 seconds to process\n"
     ]
    },
    {
     "name": "stderr",
     "output_type": "stream",
     "text": [
      "Processing records: 100%|██████████| 2073/2073 [00:00<00:00, 472286.38it/s]\n"
     ]
    },
    {
     "name": "stdout",
     "output_type": "stream",
     "text": [
      "File: 2025-04-23-10-46-46_scene_3-use_cpu_0-pred_steps_1-pose_3.result took 0.153 seconds to process\n"
     ]
    },
    {
     "name": "stderr",
     "output_type": "stream",
     "text": [
      "Processing records: 100%|██████████| 2079/2079 [00:00<00:00, 562070.26it/s]\n"
     ]
    },
    {
     "name": "stdout",
     "output_type": "stream",
     "text": [
      "File: 2025-04-23-10-48-57_scene_3-use_cpu_0-pred_steps_1-pose_4.result took 0.135 seconds to process\n"
     ]
    },
    {
     "name": "stderr",
     "output_type": "stream",
     "text": [
      "Processing records: 100%|██████████| 2079/2079 [00:00<00:00, 527587.00it/s]\n"
     ]
    },
    {
     "name": "stdout",
     "output_type": "stream",
     "text": [
      "File: 2025-04-23-10-51-08_scene_3-use_cpu_0-pred_steps_1-pose_5.result took 0.121 seconds to process\n"
     ]
    },
    {
     "name": "stderr",
     "output_type": "stream",
     "text": [
      "Processing records: 100%|██████████| 2064/2064 [00:00<00:00, 462893.99it/s]\n"
     ]
    },
    {
     "name": "stdout",
     "output_type": "stream",
     "text": [
      "File: 2025-04-23-10-53-18_scene_3-use_cpu_0-pred_steps_1-pose_6.result took 0.126 seconds to process\n"
     ]
    },
    {
     "name": "stderr",
     "output_type": "stream",
     "text": [
      "Processing records: 100%|██████████| 2076/2076 [00:00<00:00, 512590.52it/s]\n"
     ]
    },
    {
     "name": "stdout",
     "output_type": "stream",
     "text": [
      "File: 2025-04-23-10-55-29_scene_3-use_cpu_0-pred_steps_1-pose_7.result took 0.131 seconds to process\n"
     ]
    },
    {
     "name": "stderr",
     "output_type": "stream",
     "text": [
      "Processing records: 100%|██████████| 2082/2082 [00:00<00:00, 464299.28it/s]\n"
     ]
    },
    {
     "name": "stdout",
     "output_type": "stream",
     "text": [
      "File: 2025-04-23-10-57-40_scene_3-use_cpu_0-pred_steps_1-pose_8.result took 0.118 seconds to process\n"
     ]
    },
    {
     "name": "stderr",
     "output_type": "stream",
     "text": [
      "Processing records: 100%|██████████| 2091/2091 [00:00<00:00, 495188.85it/s]\n"
     ]
    },
    {
     "name": "stdout",
     "output_type": "stream",
     "text": [
      "File: 2025-04-23-10-59-50_scene_3-use_cpu_0-pred_steps_1-pose_9.result took 0.128 seconds to process\n"
     ]
    },
    {
     "name": "stderr",
     "output_type": "stream",
     "text": [
      "Processing records: 100%|██████████| 1539/1539 [00:00<00:00, 600747.68it/s]\n"
     ]
    },
    {
     "name": "stdout",
     "output_type": "stream",
     "text": [
      "File: 2025-04-23-11-02-01_scene_3-use_cpu_0-pred_steps_2-pose_0.result took 0.128 seconds to process\n"
     ]
    },
    {
     "name": "stderr",
     "output_type": "stream",
     "text": [
      "Processing records: 100%|██████████| 1542/1542 [00:00<00:00, 515882.33it/s]\n"
     ]
    },
    {
     "name": "stdout",
     "output_type": "stream",
     "text": [
      "File: 2025-04-23-11-04-12_scene_3-use_cpu_0-pred_steps_2-pose_1.result took 0.119 seconds to process\n"
     ]
    },
    {
     "name": "stderr",
     "output_type": "stream",
     "text": [
      "Processing records: 100%|██████████| 1518/1518 [00:00<00:00, 560126.11it/s]\n"
     ]
    },
    {
     "name": "stdout",
     "output_type": "stream",
     "text": [
      "File: 2025-04-23-11-06-22_scene_3-use_cpu_0-pred_steps_2-pose_2.result took 0.114 seconds to process\n"
     ]
    },
    {
     "name": "stderr",
     "output_type": "stream",
     "text": [
      "Processing records: 100%|██████████| 1527/1527 [00:00<00:00, 575083.25it/s]\n"
     ]
    },
    {
     "name": "stdout",
     "output_type": "stream",
     "text": [
      "File: 2025-04-23-11-08-33_scene_3-use_cpu_0-pred_steps_2-pose_3.result took 0.113 seconds to process\n"
     ]
    },
    {
     "name": "stderr",
     "output_type": "stream",
     "text": [
      "Processing records: 100%|██████████| 1515/1515 [00:00<00:00, 565838.87it/s]\n"
     ]
    },
    {
     "name": "stdout",
     "output_type": "stream",
     "text": [
      "File: 2025-04-23-11-10-44_scene_3-use_cpu_0-pred_steps_2-pose_4.result took 0.113 seconds to process\n"
     ]
    },
    {
     "name": "stderr",
     "output_type": "stream",
     "text": [
      "Processing records: 100%|██████████| 1542/1542 [00:00<00:00, 475909.99it/s]\n"
     ]
    },
    {
     "name": "stdout",
     "output_type": "stream",
     "text": [
      "File: 2025-04-23-11-12-55_scene_3-use_cpu_0-pred_steps_2-pose_5.result took 0.114 seconds to process\n"
     ]
    },
    {
     "name": "stderr",
     "output_type": "stream",
     "text": [
      "Processing records: 100%|██████████| 1533/1533 [00:00<00:00, 551257.55it/s]\n"
     ]
    },
    {
     "name": "stdout",
     "output_type": "stream",
     "text": [
      "File: 2025-04-23-11-15-05_scene_3-use_cpu_0-pred_steps_2-pose_6.result took 0.114 seconds to process\n"
     ]
    },
    {
     "name": "stderr",
     "output_type": "stream",
     "text": [
      "Processing records: 100%|██████████| 1539/1539 [00:00<00:00, 554842.17it/s]\n"
     ]
    },
    {
     "name": "stdout",
     "output_type": "stream",
     "text": [
      "File: 2025-04-23-11-17-15_scene_3-use_cpu_0-pred_steps_2-pose_7.result took 0.116 seconds to process\n"
     ]
    },
    {
     "name": "stderr",
     "output_type": "stream",
     "text": [
      "Processing records: 100%|██████████| 1519/1519 [00:00<00:00, 539653.38it/s]\n"
     ]
    },
    {
     "name": "stdout",
     "output_type": "stream",
     "text": [
      "File: 2025-04-23-11-19-26_scene_3-use_cpu_0-pred_steps_2-pose_8.result took 0.112 seconds to process\n"
     ]
    },
    {
     "name": "stderr",
     "output_type": "stream",
     "text": [
      "Processing records: 100%|██████████| 1530/1530 [00:00<00:00, 598459.86it/s]\n"
     ]
    },
    {
     "name": "stdout",
     "output_type": "stream",
     "text": [
      "File: 2025-04-23-11-21-37_scene_3-use_cpu_0-pred_steps_2-pose_9.result took 0.112 seconds to process\n"
     ]
    },
    {
     "name": "stderr",
     "output_type": "stream",
     "text": [
      "Processing records: 100%|██████████| 1836/1836 [00:00<00:00, 139213.65it/s]\n"
     ]
    },
    {
     "name": "stdout",
     "output_type": "stream",
     "text": [
      "File: 2025-04-23-11-23-47_scene_3-use_cpu_1-pred_steps_0-pose_0.result took 0.124 seconds to process\n"
     ]
    },
    {
     "name": "stderr",
     "output_type": "stream",
     "text": [
      "Processing records: 100%|██████████| 1851/1851 [00:00<00:00, 528103.99it/s]\n"
     ]
    },
    {
     "name": "stdout",
     "output_type": "stream",
     "text": [
      "File: 2025-04-23-11-25-58_scene_3-use_cpu_1-pred_steps_0-pose_1.result took 0.116 seconds to process\n"
     ]
    },
    {
     "name": "stderr",
     "output_type": "stream",
     "text": [
      "Processing records: 100%|██████████| 1899/1899 [00:00<00:00, 439447.35it/s]\n"
     ]
    },
    {
     "name": "stdout",
     "output_type": "stream",
     "text": [
      "File: 2025-04-23-11-28-09_scene_3-use_cpu_1-pred_steps_0-pose_2.result took 0.138 seconds to process\n"
     ]
    },
    {
     "name": "stderr",
     "output_type": "stream",
     "text": [
      "Processing records: 100%|██████████| 1860/1860 [00:00<00:00, 388826.03it/s]\n"
     ]
    },
    {
     "name": "stdout",
     "output_type": "stream",
     "text": [
      "File: 2025-04-23-11-30-19_scene_3-use_cpu_1-pred_steps_0-pose_3.result took 0.123 seconds to process\n"
     ]
    },
    {
     "name": "stderr",
     "output_type": "stream",
     "text": [
      "Processing records: 100%|██████████| 1848/1848 [00:00<00:00, 604136.69it/s]\n"
     ]
    },
    {
     "name": "stdout",
     "output_type": "stream",
     "text": [
      "File: 2025-04-23-11-32-30_scene_3-use_cpu_1-pred_steps_0-pose_4.result took 0.115 seconds to process\n"
     ]
    },
    {
     "name": "stderr",
     "output_type": "stream",
     "text": [
      "Processing records: 100%|██████████| 1833/1833 [00:00<00:00, 515085.03it/s]\n"
     ]
    },
    {
     "name": "stdout",
     "output_type": "stream",
     "text": [
      "File: 2025-04-23-11-34-41_scene_3-use_cpu_1-pred_steps_0-pose_5.result took 0.098 seconds to process\n"
     ]
    },
    {
     "name": "stderr",
     "output_type": "stream",
     "text": [
      "Processing records: 100%|██████████| 1872/1872 [00:00<00:00, 554814.66it/s]\n"
     ]
    },
    {
     "name": "stdout",
     "output_type": "stream",
     "text": [
      "File: 2025-04-23-11-36-51_scene_3-use_cpu_1-pred_steps_0-pose_6.result took 0.126 seconds to process\n"
     ]
    },
    {
     "name": "stderr",
     "output_type": "stream",
     "text": [
      "Processing records: 100%|██████████| 1860/1860 [00:00<00:00, 441580.66it/s]\n"
     ]
    },
    {
     "name": "stdout",
     "output_type": "stream",
     "text": [
      "File: 2025-04-23-11-39-02_scene_3-use_cpu_1-pred_steps_0-pose_7.result took 0.138 seconds to process\n"
     ]
    },
    {
     "name": "stderr",
     "output_type": "stream",
     "text": [
      "Processing records: 100%|██████████| 1899/1899 [00:00<00:00, 522191.26it/s]\n"
     ]
    },
    {
     "name": "stdout",
     "output_type": "stream",
     "text": [
      "File: 2025-04-23-11-41-13_scene_3-use_cpu_1-pred_steps_0-pose_8.result took 0.114 seconds to process\n"
     ]
    },
    {
     "name": "stderr",
     "output_type": "stream",
     "text": [
      "Processing records: 100%|██████████| 1875/1875 [00:00<00:00, 554606.49it/s]\n"
     ]
    },
    {
     "name": "stdout",
     "output_type": "stream",
     "text": [
      "File: 2025-04-23-11-43-23_scene_3-use_cpu_1-pred_steps_0-pose_9.result took 0.119 seconds to process\n"
     ]
    },
    {
     "name": "stderr",
     "output_type": "stream",
     "text": [
      "Processing records: 100%|██████████| 1149/1149 [00:00<00:00, 503158.83it/s]\n"
     ]
    },
    {
     "name": "stdout",
     "output_type": "stream",
     "text": [
      "File: 2025-04-23-11-45-34_scene_3-use_cpu_1-pred_steps_1-pose_0.result took 0.127 seconds to process\n"
     ]
    },
    {
     "name": "stderr",
     "output_type": "stream",
     "text": [
      "Processing records: 100%|██████████| 1158/1158 [00:00<00:00, 555022.74it/s]\n"
     ]
    },
    {
     "name": "stdout",
     "output_type": "stream",
     "text": [
      "File: 2025-04-23-11-47-45_scene_3-use_cpu_1-pred_steps_1-pose_1.result took 0.095 seconds to process\n"
     ]
    },
    {
     "name": "stderr",
     "output_type": "stream",
     "text": [
      "Processing records: 100%|██████████| 1182/1182 [00:00<00:00, 479557.68it/s]\n"
     ]
    },
    {
     "name": "stdout",
     "output_type": "stream",
     "text": [
      "File: 2025-04-23-11-49-55_scene_3-use_cpu_1-pred_steps_1-pose_2.result took 0.114 seconds to process\n"
     ]
    },
    {
     "name": "stderr",
     "output_type": "stream",
     "text": [
      "Processing records: 100%|██████████| 1161/1161 [00:00<00:00, 496896.63it/s]\n"
     ]
    },
    {
     "name": "stdout",
     "output_type": "stream",
     "text": [
      "File: 2025-04-23-11-52-06_scene_3-use_cpu_1-pred_steps_1-pose_3.result took 0.109 seconds to process\n"
     ]
    },
    {
     "name": "stderr",
     "output_type": "stream",
     "text": [
      "Processing records: 100%|██████████| 1155/1155 [00:00<00:00, 408536.10it/s]\n"
     ]
    },
    {
     "name": "stdout",
     "output_type": "stream",
     "text": [
      "File: 2025-04-23-11-54-17_scene_3-use_cpu_1-pred_steps_1-pose_4.result took 0.104 seconds to process\n"
     ]
    },
    {
     "name": "stderr",
     "output_type": "stream",
     "text": [
      "Processing records: 100%|██████████| 1149/1149 [00:00<00:00, 526234.47it/s]\n"
     ]
    },
    {
     "name": "stdout",
     "output_type": "stream",
     "text": [
      "File: 2025-04-23-11-56-27_scene_3-use_cpu_1-pred_steps_1-pose_5.result took 0.122 seconds to process\n"
     ]
    },
    {
     "name": "stderr",
     "output_type": "stream",
     "text": [
      "Processing records: 100%|██████████| 1161/1161 [00:00<00:00, 519035.06it/s]\n"
     ]
    },
    {
     "name": "stdout",
     "output_type": "stream",
     "text": [
      "File: 2025-04-23-11-58-38_scene_3-use_cpu_1-pred_steps_1-pose_6.result took 0.111 seconds to process\n"
     ]
    },
    {
     "name": "stderr",
     "output_type": "stream",
     "text": [
      "Processing records: 100%|██████████| 1155/1155 [00:00<00:00, 538927.70it/s]\n"
     ]
    },
    {
     "name": "stdout",
     "output_type": "stream",
     "text": [
      "File: 2025-04-23-12-00-48_scene_3-use_cpu_1-pred_steps_1-pose_7.result took 0.108 seconds to process\n"
     ]
    },
    {
     "name": "stderr",
     "output_type": "stream",
     "text": [
      "Processing records: 100%|██████████| 1173/1173 [00:00<00:00, 570227.00it/s]\n"
     ]
    },
    {
     "name": "stdout",
     "output_type": "stream",
     "text": [
      "File: 2025-04-23-12-02-59_scene_3-use_cpu_1-pred_steps_1-pose_8.result took 0.112 seconds to process\n"
     ]
    },
    {
     "name": "stderr",
     "output_type": "stream",
     "text": [
      "Processing records: 100%|██████████| 1161/1161 [00:00<00:00, 463240.77it/s]\n"
     ]
    },
    {
     "name": "stdout",
     "output_type": "stream",
     "text": [
      "File: 2025-04-23-12-05-10_scene_3-use_cpu_1-pred_steps_1-pose_9.result took 0.119 seconds to process\n"
     ]
    },
    {
     "name": "stderr",
     "output_type": "stream",
     "text": [
      "Processing records: 100%|██████████| 918/918 [00:00<00:00, 537386.05it/s]\n"
     ]
    },
    {
     "name": "stdout",
     "output_type": "stream",
     "text": [
      "File: 2025-04-23-12-07-20_scene_3-use_cpu_1-pred_steps_2-pose_0.result took 0.109 seconds to process\n"
     ]
    },
    {
     "name": "stderr",
     "output_type": "stream",
     "text": [
      "Processing records: 100%|██████████| 921/921 [00:00<00:00, 385601.32it/s]\n"
     ]
    },
    {
     "name": "stdout",
     "output_type": "stream",
     "text": [
      "File: 2025-04-23-12-09-31_scene_3-use_cpu_1-pred_steps_2-pose_1.result took 0.130 seconds to process\n"
     ]
    },
    {
     "name": "stderr",
     "output_type": "stream",
     "text": [
      "Processing records: 100%|██████████| 942/942 [00:00<00:00, 460708.30it/s]\n"
     ]
    },
    {
     "name": "stdout",
     "output_type": "stream",
     "text": [
      "File: 2025-04-23-12-11-42_scene_3-use_cpu_1-pred_steps_2-pose_2.result took 0.136 seconds to process\n"
     ]
    },
    {
     "name": "stderr",
     "output_type": "stream",
     "text": [
      "Processing records: 100%|██████████| 921/921 [00:00<00:00, 388627.16it/s]\n"
     ]
    },
    {
     "name": "stdout",
     "output_type": "stream",
     "text": [
      "File: 2025-04-23-12-13-52_scene_3-use_cpu_1-pred_steps_2-pose_3.result took 0.135 seconds to process\n"
     ]
    },
    {
     "name": "stderr",
     "output_type": "stream",
     "text": [
      "Processing records: 100%|██████████| 924/924 [00:00<00:00, 239689.34it/s]\n"
     ]
    },
    {
     "name": "stdout",
     "output_type": "stream",
     "text": [
      "File: 2025-04-23-12-16-03_scene_3-use_cpu_1-pred_steps_2-pose_4.result took 0.138 seconds to process\n"
     ]
    },
    {
     "name": "stderr",
     "output_type": "stream",
     "text": [
      "Processing records: 100%|██████████| 915/915 [00:00<00:00, 351124.26it/s]\n"
     ]
    },
    {
     "name": "stdout",
     "output_type": "stream",
     "text": [
      "File: 2025-04-23-12-18-14_scene_3-use_cpu_1-pred_steps_2-pose_5.result took 0.145 seconds to process\n"
     ]
    },
    {
     "name": "stderr",
     "output_type": "stream",
     "text": [
      "Processing records: 100%|██████████| 933/933 [00:00<00:00, 108284.28it/s]\n"
     ]
    },
    {
     "name": "stdout",
     "output_type": "stream",
     "text": [
      "File: 2025-04-23-12-20-24_scene_3-use_cpu_1-pred_steps_2-pose_6.result took 0.139 seconds to process\n"
     ]
    },
    {
     "name": "stderr",
     "output_type": "stream",
     "text": [
      "Processing records: 100%|██████████| 924/924 [00:00<00:00, 330395.30it/s]\n"
     ]
    },
    {
     "name": "stdout",
     "output_type": "stream",
     "text": [
      "File: 2025-04-23-12-22-35_scene_3-use_cpu_1-pred_steps_2-pose_7.result took 0.136 seconds to process\n"
     ]
    },
    {
     "name": "stderr",
     "output_type": "stream",
     "text": [
      "Processing records: 100%|██████████| 933/933 [00:00<00:00, 469613.06it/s]\n"
     ]
    },
    {
     "name": "stdout",
     "output_type": "stream",
     "text": [
      "File: 2025-04-23-12-24-46_scene_3-use_cpu_1-pred_steps_2-pose_8.result took 0.142 seconds to process\n"
     ]
    },
    {
     "name": "stderr",
     "output_type": "stream",
     "text": [
      "Processing records: 100%|██████████| 924/924 [00:00<00:00, 422079.82it/s]\n"
     ]
    },
    {
     "name": "stdout",
     "output_type": "stream",
     "text": [
      "File: 2025-04-23-12-26-56_scene_3-use_cpu_1-pred_steps_2-pose_9.result took 0.140 seconds to process\n"
     ]
    },
    {
     "name": "stderr",
     "output_type": "stream",
     "text": [
      "Processing records: 100%|██████████| 1/1 [00:00<00:00, 14614.30it/s]\n"
     ]
    },
    {
     "name": "stdout",
     "output_type": "stream",
     "text": [
      "Error reading results/250423_table2_r1/2025-04-24-13-30-13_scene_0-use_cpu_0-pred_steps_0-pose_0.result: single positional indexer is out-of-bounds!\n"
     ]
    },
    {
     "name": "stderr",
     "output_type": "stream",
     "text": [
      "Processing records: 100%|██████████| 7218/7218 [00:00<00:00, 204361.26it/s]\n"
     ]
    },
    {
     "name": "stdout",
     "output_type": "stream",
     "text": [
      "Error reading results/250423_table2_r1/2025-04-24-13-32-18_scene_4-use_cpu_0-pred_steps_0-pose_0.result: single positional indexer is out-of-bounds!\n"
     ]
    },
    {
     "name": "stderr",
     "output_type": "stream",
     "text": [
      "Processing records: 100%|██████████| 7259/7259 [00:00<00:00, 294552.82it/s]\n"
     ]
    },
    {
     "name": "stdout",
     "output_type": "stream",
     "text": [
      "Error reading results/250423_table2_r1/2025-04-24-13-36-29_scene_4-use_cpu_0-pred_steps_0-pose_1.result: single positional indexer is out-of-bounds!\n"
     ]
    },
    {
     "name": "stderr",
     "output_type": "stream",
     "text": [
      "Processing records: 100%|██████████| 7178/7178 [00:00<00:00, 464122.74it/s]\n"
     ]
    },
    {
     "name": "stdout",
     "output_type": "stream",
     "text": [
      "Error reading results/250423_table2_r1/2025-04-24-13-40-40_scene_4-use_cpu_0-pred_steps_0-pose_2.result: single positional indexer is out-of-bounds!\n"
     ]
    },
    {
     "name": "stderr",
     "output_type": "stream",
     "text": [
      "Processing records: 100%|██████████| 7205/7205 [00:00<00:00, 444764.38it/s]\n"
     ]
    },
    {
     "name": "stdout",
     "output_type": "stream",
     "text": [
      "Error reading results/250423_table2_r1/2025-04-24-13-44-50_scene_4-use_cpu_0-pred_steps_0-pose_3.result: single positional indexer is out-of-bounds!\n"
     ]
    },
    {
     "name": "stderr",
     "output_type": "stream",
     "text": [
      "Processing records: 100%|██████████| 7487/7487 [00:00<00:00, 443748.56it/s]\n"
     ]
    },
    {
     "name": "stdout",
     "output_type": "stream",
     "text": [
      "Error reading results/250423_table2_r1/2025-04-24-13-49-01_scene_4-use_cpu_0-pred_steps_0-pose_4.result: single positional indexer is out-of-bounds!\n"
     ]
    },
    {
     "name": "stderr",
     "output_type": "stream",
     "text": [
      "Processing records: 100%|██████████| 7328/7328 [00:00<00:00, 310538.51it/s]\n"
     ]
    },
    {
     "name": "stdout",
     "output_type": "stream",
     "text": [
      "Error reading results/250423_table2_r1/2025-04-24-13-53-12_scene_4-use_cpu_0-pred_steps_0-pose_5.result: single positional indexer is out-of-bounds!\n"
     ]
    },
    {
     "name": "stderr",
     "output_type": "stream",
     "text": [
      "Processing records: 100%|██████████| 7262/7262 [00:00<00:00, 379689.05it/s]\n"
     ]
    },
    {
     "name": "stdout",
     "output_type": "stream",
     "text": [
      "Error reading results/250423_table2_r1/2025-04-24-13-57-22_scene_4-use_cpu_0-pred_steps_0-pose_6.result: single positional indexer is out-of-bounds!\n"
     ]
    },
    {
     "name": "stderr",
     "output_type": "stream",
     "text": [
      "Processing records: 100%|██████████| 7178/7178 [00:00<00:00, 451199.14it/s]\n"
     ]
    },
    {
     "name": "stdout",
     "output_type": "stream",
     "text": [
      "Error reading results/250423_table2_r1/2025-04-24-14-01-33_scene_4-use_cpu_0-pred_steps_0-pose_7.result: single positional indexer is out-of-bounds!\n"
     ]
    },
    {
     "name": "stderr",
     "output_type": "stream",
     "text": [
      "Processing records: 100%|██████████| 7166/7166 [00:00<00:00, 468583.98it/s]\n"
     ]
    },
    {
     "name": "stdout",
     "output_type": "stream",
     "text": [
      "Error reading results/250423_table2_r1/2025-04-24-14-05-44_scene_4-use_cpu_0-pred_steps_0-pose_8.result: single positional indexer is out-of-bounds!\n"
     ]
    },
    {
     "name": "stderr",
     "output_type": "stream",
     "text": [
      "Processing records: 100%|██████████| 7394/7394 [00:00<00:00, 350802.37it/s]\n"
     ]
    },
    {
     "name": "stdout",
     "output_type": "stream",
     "text": [
      "Error reading results/250423_table2_r1/2025-04-24-14-09-54_scene_4-use_cpu_0-pred_steps_0-pose_9.result: single positional indexer is out-of-bounds!\n"
     ]
    },
    {
     "name": "stderr",
     "output_type": "stream",
     "text": [
      "Processing records: 100%|██████████| 4058/4058 [00:00<00:00, 467120.94it/s]\n"
     ]
    },
    {
     "name": "stdout",
     "output_type": "stream",
     "text": [
      "Error reading results/250423_table2_r1/2025-04-24-14-14-05_scene_4-use_cpu_0-pred_steps_1-pose_0.result: single positional indexer is out-of-bounds!\n"
     ]
    },
    {
     "name": "stderr",
     "output_type": "stream",
     "text": [
      "Processing records: 100%|██████████| 4046/4046 [00:00<00:00, 534442.54it/s]\n"
     ]
    },
    {
     "name": "stdout",
     "output_type": "stream",
     "text": [
      "Error reading results/250423_table2_r1/2025-04-24-14-18-16_scene_4-use_cpu_0-pred_steps_1-pose_1.result: single positional indexer is out-of-bounds!\n"
     ]
    },
    {
     "name": "stderr",
     "output_type": "stream",
     "text": [
      "Processing records: 100%|██████████| 4121/4121 [00:00<00:00, 525355.67it/s]\n"
     ]
    },
    {
     "name": "stdout",
     "output_type": "stream",
     "text": [
      "Error reading results/250423_table2_r1/2025-04-24-14-22-26_scene_4-use_cpu_0-pred_steps_1-pose_2.result: single positional indexer is out-of-bounds!\n"
     ]
    },
    {
     "name": "stderr",
     "output_type": "stream",
     "text": [
      "Processing records: 100%|██████████| 4085/4085 [00:00<00:00, 547106.42it/s]\n"
     ]
    },
    {
     "name": "stdout",
     "output_type": "stream",
     "text": [
      "Error reading results/250423_table2_r1/2025-04-24-14-26-37_scene_4-use_cpu_0-pred_steps_1-pose_3.result: single positional indexer is out-of-bounds!\n"
     ]
    },
    {
     "name": "stderr",
     "output_type": "stream",
     "text": [
      "Processing records: 100%|██████████| 4094/4094 [00:00<00:00, 210342.01it/s]\n"
     ]
    },
    {
     "name": "stdout",
     "output_type": "stream",
     "text": [
      "Error reading results/250423_table2_r1/2025-04-24-14-30-48_scene_4-use_cpu_0-pred_steps_1-pose_4.result: single positional indexer is out-of-bounds!\n"
     ]
    },
    {
     "name": "stderr",
     "output_type": "stream",
     "text": [
      "Processing records: 100%|██████████| 4136/4136 [00:00<00:00, 483355.85it/s]\n"
     ]
    },
    {
     "name": "stdout",
     "output_type": "stream",
     "text": [
      "Error reading results/250423_table2_r1/2025-04-24-14-34-58_scene_4-use_cpu_0-pred_steps_1-pose_5.result: single positional indexer is out-of-bounds!\n"
     ]
    },
    {
     "name": "stderr",
     "output_type": "stream",
     "text": [
      "Processing records: 100%|██████████| 4141/4141 [00:00<00:00, 575119.63it/s]\n"
     ]
    },
    {
     "name": "stdout",
     "output_type": "stream",
     "text": [
      "Error reading results/250423_table2_r1/2025-04-24-14-39-09_scene_4-use_cpu_0-pred_steps_1-pose_6.result: single positional indexer is out-of-bounds!\n"
     ]
    },
    {
     "name": "stderr",
     "output_type": "stream",
     "text": [
      "Processing records: 100%|██████████| 4115/4115 [00:00<00:00, 592399.55it/s]\n"
     ]
    },
    {
     "name": "stdout",
     "output_type": "stream",
     "text": [
      "Error reading results/250423_table2_r1/2025-04-24-14-43-20_scene_4-use_cpu_0-pred_steps_1-pose_7.result: single positional indexer is out-of-bounds!\n"
     ]
    },
    {
     "name": "stderr",
     "output_type": "stream",
     "text": [
      "Processing records: 100%|██████████| 4097/4097 [00:00<00:00, 501168.44it/s]\n"
     ]
    },
    {
     "name": "stdout",
     "output_type": "stream",
     "text": [
      "Error reading results/250423_table2_r1/2025-04-24-14-47-30_scene_4-use_cpu_0-pred_steps_1-pose_8.result: single positional indexer is out-of-bounds!\n"
     ]
    },
    {
     "name": "stderr",
     "output_type": "stream",
     "text": [
      "Processing records: 100%|██████████| 4157/4157 [00:00<00:00, 549520.05it/s]\n"
     ]
    },
    {
     "name": "stdout",
     "output_type": "stream",
     "text": [
      "Error reading results/250423_table2_r1/2025-04-24-14-51-41_scene_4-use_cpu_0-pred_steps_1-pose_9.result: single positional indexer is out-of-bounds!\n"
     ]
    },
    {
     "name": "stderr",
     "output_type": "stream",
     "text": [
      "Processing records: 100%|██████████| 3038/3038 [00:00<00:00, 487090.81it/s]\n"
     ]
    },
    {
     "name": "stdout",
     "output_type": "stream",
     "text": [
      "Error reading results/250423_table2_r1/2025-04-24-14-55-51_scene_4-use_cpu_0-pred_steps_2-pose_0.result: single positional indexer is out-of-bounds!\n"
     ]
    },
    {
     "name": "stderr",
     "output_type": "stream",
     "text": [
      "Processing records: 100%|██████████| 2998/2998 [00:00<00:00, 497843.19it/s]\n"
     ]
    },
    {
     "name": "stdout",
     "output_type": "stream",
     "text": [
      "Error reading results/250423_table2_r1/2025-04-24-15-00-02_scene_4-use_cpu_0-pred_steps_2-pose_1.result: single positional indexer is out-of-bounds!\n"
     ]
    },
    {
     "name": "stderr",
     "output_type": "stream",
     "text": [
      "Processing records: 100%|██████████| 3026/3026 [00:00<00:00, 524439.65it/s]\n"
     ]
    },
    {
     "name": "stdout",
     "output_type": "stream",
     "text": [
      "Error reading results/250423_table2_r1/2025-04-24-15-04-13_scene_4-use_cpu_0-pred_steps_2-pose_2.result: single positional indexer is out-of-bounds!\n"
     ]
    },
    {
     "name": "stderr",
     "output_type": "stream",
     "text": [
      "Processing records: 100%|██████████| 3053/3053 [00:00<00:00, 522811.01it/s]\n"
     ]
    },
    {
     "name": "stdout",
     "output_type": "stream",
     "text": [
      "Error reading results/250423_table2_r1/2025-04-24-15-08-23_scene_4-use_cpu_0-pred_steps_2-pose_3.result: single positional indexer is out-of-bounds!\n"
     ]
    },
    {
     "name": "stderr",
     "output_type": "stream",
     "text": [
      "Processing records: 100%|██████████| 3064/3064 [00:00<00:00, 466676.86it/s]\n"
     ]
    },
    {
     "name": "stdout",
     "output_type": "stream",
     "text": [
      "Error reading results/250423_table2_r1/2025-04-24-15-12-34_scene_4-use_cpu_0-pred_steps_2-pose_4.result: single positional indexer is out-of-bounds!\n"
     ]
    },
    {
     "name": "stderr",
     "output_type": "stream",
     "text": [
      "Processing records: 100%|██████████| 3056/3056 [00:00<00:00, 487739.46it/s]\n"
     ]
    },
    {
     "name": "stdout",
     "output_type": "stream",
     "text": [
      "Error reading results/250423_table2_r1/2025-04-24-15-16-45_scene_4-use_cpu_0-pred_steps_2-pose_5.result: single positional indexer is out-of-bounds!\n"
     ]
    },
    {
     "name": "stderr",
     "output_type": "stream",
     "text": [
      "Processing records: 100%|██████████| 3005/3005 [00:00<00:00, 517507.02it/s]\n"
     ]
    },
    {
     "name": "stdout",
     "output_type": "stream",
     "text": [
      "Error reading results/250423_table2_r1/2025-04-24-15-20-55_scene_4-use_cpu_0-pred_steps_2-pose_6.result: single positional indexer is out-of-bounds!\n"
     ]
    },
    {
     "name": "stderr",
     "output_type": "stream",
     "text": [
      "Processing records: 100%|██████████| 3107/3107 [00:00<00:00, 469509.39it/s]\n"
     ]
    },
    {
     "name": "stdout",
     "output_type": "stream",
     "text": [
      "Error reading results/250423_table2_r1/2025-04-24-15-25-06_scene_4-use_cpu_0-pred_steps_2-pose_7.result: single positional indexer is out-of-bounds!\n"
     ]
    },
    {
     "name": "stderr",
     "output_type": "stream",
     "text": [
      "Processing records: 100%|██████████| 3026/3026 [00:00<00:00, 506908.06it/s]\n"
     ]
    },
    {
     "name": "stdout",
     "output_type": "stream",
     "text": [
      "Error reading results/250423_table2_r1/2025-04-24-15-29-17_scene_4-use_cpu_0-pred_steps_2-pose_8.result: single positional indexer is out-of-bounds!\n"
     ]
    },
    {
     "name": "stderr",
     "output_type": "stream",
     "text": [
      "Processing records: 100%|██████████| 3080/3080 [00:00<00:00, 550306.98it/s]\n"
     ]
    },
    {
     "name": "stdout",
     "output_type": "stream",
     "text": [
      "Error reading results/250423_table2_r1/2025-04-24-15-33-27_scene_4-use_cpu_0-pred_steps_2-pose_9.result: single positional indexer is out-of-bounds!\n"
     ]
    },
    {
     "name": "stderr",
     "output_type": "stream",
     "text": [
      "Processing records: 100%|██████████| 1228/1228 [00:00<00:00, 559970.14it/s]\n"
     ]
    },
    {
     "name": "stdout",
     "output_type": "stream",
     "text": [
      "Error reading results/250423_table2_r1/2025-04-24-15-37-38_scene_4-use_cpu_1-pred_steps_0-pose_0.result: single positional indexer is out-of-bounds!\n"
     ]
    },
    {
     "name": "stderr",
     "output_type": "stream",
     "text": [
      "Processing records: 100%|██████████| 1184/1184 [00:00<00:00, 515311.40it/s]\n"
     ]
    },
    {
     "name": "stdout",
     "output_type": "stream",
     "text": [
      "Error reading results/250423_table2_r1/2025-04-24-15-41-49_scene_4-use_cpu_1-pred_steps_0-pose_1.result: single positional indexer is out-of-bounds!\n"
     ]
    },
    {
     "name": "stderr",
     "output_type": "stream",
     "text": [
      "Processing records: 100%|██████████| 1220/1220 [00:00<00:00, 553553.75it/s]\n"
     ]
    },
    {
     "name": "stdout",
     "output_type": "stream",
     "text": [
      "Error reading results/250423_table2_r1/2025-04-24-15-45-59_scene_4-use_cpu_1-pred_steps_0-pose_2.result: single positional indexer is out-of-bounds!\n"
     ]
    },
    {
     "name": "stderr",
     "output_type": "stream",
     "text": [
      "Processing records: 100%|██████████| 1210/1210 [00:00<00:00, 555993.41it/s]\n"
     ]
    },
    {
     "name": "stdout",
     "output_type": "stream",
     "text": [
      "Error reading results/250423_table2_r1/2025-04-24-15-50-10_scene_4-use_cpu_1-pred_steps_0-pose_3.result: single positional indexer is out-of-bounds!\n"
     ]
    },
    {
     "name": "stderr",
     "output_type": "stream",
     "text": [
      "Processing records: 100%|██████████| 1214/1214 [00:00<00:00, 512365.17it/s]\n"
     ]
    },
    {
     "name": "stdout",
     "output_type": "stream",
     "text": [
      "Error reading results/250423_table2_r1/2025-04-24-15-54-21_scene_4-use_cpu_1-pred_steps_0-pose_4.result: single positional indexer is out-of-bounds!\n"
     ]
    },
    {
     "name": "stderr",
     "output_type": "stream",
     "text": [
      "Processing records: 100%|██████████| 1186/1186 [00:00<00:00, 541465.61it/s]\n"
     ]
    },
    {
     "name": "stdout",
     "output_type": "stream",
     "text": [
      "Error reading results/250423_table2_r1/2025-04-24-15-58-31_scene_4-use_cpu_1-pred_steps_0-pose_5.result: single positional indexer is out-of-bounds!\n"
     ]
    },
    {
     "name": "stderr",
     "output_type": "stream",
     "text": [
      "Processing records: 100%|██████████| 1214/1214 [00:00<00:00, 529522.16it/s]\n"
     ]
    },
    {
     "name": "stdout",
     "output_type": "stream",
     "text": [
      "Error reading results/250423_table2_r1/2025-04-24-16-02-42_scene_4-use_cpu_1-pred_steps_0-pose_6.result: single positional indexer is out-of-bounds!\n"
     ]
    },
    {
     "name": "stderr",
     "output_type": "stream",
     "text": [
      "Processing records: 100%|██████████| 1187/1187 [00:00<00:00, 527286.47it/s]\n"
     ]
    },
    {
     "name": "stdout",
     "output_type": "stream",
     "text": [
      "Error reading results/250423_table2_r1/2025-04-24-16-06-53_scene_4-use_cpu_1-pred_steps_0-pose_7.result: single positional indexer is out-of-bounds!\n"
     ]
    },
    {
     "name": "stderr",
     "output_type": "stream",
     "text": [
      "Processing records: 100%|██████████| 1193/1193 [00:00<00:00, 541947.87it/s]\n"
     ]
    },
    {
     "name": "stdout",
     "output_type": "stream",
     "text": [
      "Error reading results/250423_table2_r1/2025-04-24-16-11-03_scene_4-use_cpu_1-pred_steps_0-pose_8.result: single positional indexer is out-of-bounds!\n"
     ]
    },
    {
     "name": "stderr",
     "output_type": "stream",
     "text": [
      "Processing records: 100%|██████████| 1184/1184 [00:00<00:00, 528416.25it/s]\n"
     ]
    },
    {
     "name": "stdout",
     "output_type": "stream",
     "text": [
      "Error reading results/250423_table2_r1/2025-04-24-16-15-14_scene_4-use_cpu_1-pred_steps_0-pose_9.result: single positional indexer is out-of-bounds!\n"
     ]
    },
    {
     "name": "stderr",
     "output_type": "stream",
     "text": [
      "Processing records: 100%|██████████| 1055/1055 [00:00<00:00, 536362.51it/s]\n"
     ]
    },
    {
     "name": "stdout",
     "output_type": "stream",
     "text": [
      "Error reading results/250423_table2_r1/2025-04-24-16-19-25_scene_4-use_cpu_1-pred_steps_1-pose_0.result: single positional indexer is out-of-bounds!\n"
     ]
    },
    {
     "name": "stderr",
     "output_type": "stream",
     "text": [
      "Processing records: 100%|██████████| 1058/1058 [00:00<00:00, 553382.42it/s]\n"
     ]
    },
    {
     "name": "stdout",
     "output_type": "stream",
     "text": [
      "Error reading results/250423_table2_r1/2025-04-24-16-23-35_scene_4-use_cpu_1-pred_steps_1-pose_1.result: single positional indexer is out-of-bounds!\n"
     ]
    },
    {
     "name": "stderr",
     "output_type": "stream",
     "text": [
      "Processing records: 100%|██████████| 1058/1058 [00:00<00:00, 469833.10it/s]\n"
     ]
    },
    {
     "name": "stdout",
     "output_type": "stream",
     "text": [
      "Error reading results/250423_table2_r1/2025-04-24-16-27-46_scene_4-use_cpu_1-pred_steps_1-pose_2.result: single positional indexer is out-of-bounds!\n"
     ]
    },
    {
     "name": "stderr",
     "output_type": "stream",
     "text": [
      "Processing records: 100%|██████████| 1064/1064 [00:00<00:00, 529890.70it/s]\n"
     ]
    },
    {
     "name": "stdout",
     "output_type": "stream",
     "text": [
      "Error reading results/250423_table2_r1/2025-04-24-16-31-57_scene_4-use_cpu_1-pred_steps_1-pose_3.result: single positional indexer is out-of-bounds!\n"
     ]
    },
    {
     "name": "stderr",
     "output_type": "stream",
     "text": [
      "Processing records: 100%|██████████| 1058/1058 [00:00<00:00, 410468.38it/s]\n"
     ]
    },
    {
     "name": "stdout",
     "output_type": "stream",
     "text": [
      "Error reading results/250423_table2_r1/2025-04-24-16-36-07_scene_4-use_cpu_1-pred_steps_1-pose_4.result: single positional indexer is out-of-bounds!\n"
     ]
    },
    {
     "name": "stderr",
     "output_type": "stream",
     "text": [
      "Processing records: 100%|██████████| 1052/1052 [00:00<00:00, 523727.93it/s]\n"
     ]
    },
    {
     "name": "stdout",
     "output_type": "stream",
     "text": [
      "Error reading results/250423_table2_r1/2025-04-24-16-40-18_scene_4-use_cpu_1-pred_steps_1-pose_5.result: single positional indexer is out-of-bounds!\n"
     ]
    },
    {
     "name": "stderr",
     "output_type": "stream",
     "text": [
      "Processing records: 100%|██████████| 1061/1061 [00:00<00:00, 521645.36it/s]\n"
     ]
    },
    {
     "name": "stdout",
     "output_type": "stream",
     "text": [
      "Error reading results/250423_table2_r1/2025-04-24-16-44-28_scene_4-use_cpu_1-pred_steps_1-pose_6.result: single positional indexer is out-of-bounds!\n"
     ]
    },
    {
     "name": "stderr",
     "output_type": "stream",
     "text": [
      "Processing records: 100%|██████████| 1052/1052 [00:00<00:00, 613942.93it/s]\n"
     ]
    },
    {
     "name": "stdout",
     "output_type": "stream",
     "text": [
      "Error reading results/250423_table2_r1/2025-04-24-16-48-39_scene_4-use_cpu_1-pred_steps_1-pose_7.result: single positional indexer is out-of-bounds!\n"
     ]
    },
    {
     "name": "stderr",
     "output_type": "stream",
     "text": [
      "Processing records: 100%|██████████| 1055/1055 [00:00<00:00, 505424.41it/s]\n"
     ]
    },
    {
     "name": "stdout",
     "output_type": "stream",
     "text": [
      "Error reading results/250423_table2_r1/2025-04-24-16-52-50_scene_4-use_cpu_1-pred_steps_1-pose_8.result: single positional indexer is out-of-bounds!\n"
     ]
    },
    {
     "name": "stderr",
     "output_type": "stream",
     "text": [
      "Processing records: 100%|██████████| 1049/1049 [00:00<00:00, 556376.44it/s]\n"
     ]
    },
    {
     "name": "stdout",
     "output_type": "stream",
     "text": [
      "Error reading results/250423_table2_r1/2025-04-24-16-57-00_scene_4-use_cpu_1-pred_steps_1-pose_9.result: single positional indexer is out-of-bounds!\n"
     ]
    },
    {
     "name": "stderr",
     "output_type": "stream",
     "text": [
      "Processing records: 100%|██████████| 1007/1007 [00:00<00:00, 480507.86it/s]\n"
     ]
    },
    {
     "name": "stdout",
     "output_type": "stream",
     "text": [
      "Error reading results/250423_table2_r1/2025-04-24-17-01-11_scene_4-use_cpu_1-pred_steps_2-pose_0.result: single positional indexer is out-of-bounds!\n"
     ]
    },
    {
     "name": "stderr",
     "output_type": "stream",
     "text": [
      "Processing records: 100%|██████████| 1006/1006 [00:00<00:00, 572908.33it/s]\n"
     ]
    },
    {
     "name": "stdout",
     "output_type": "stream",
     "text": [
      "Error reading results/250423_table2_r1/2025-04-24-17-05-22_scene_4-use_cpu_1-pred_steps_2-pose_1.result: single positional indexer is out-of-bounds!\n"
     ]
    },
    {
     "name": "stderr",
     "output_type": "stream",
     "text": [
      "Processing records: 100%|██████████| 1019/1019 [00:00<00:00, 523453.25it/s]\n"
     ]
    },
    {
     "name": "stdout",
     "output_type": "stream",
     "text": [
      "Error reading results/250423_table2_r1/2025-04-24-17-09-32_scene_4-use_cpu_1-pred_steps_2-pose_2.result: single positional indexer is out-of-bounds!\n"
     ]
    },
    {
     "name": "stderr",
     "output_type": "stream",
     "text": [
      "Processing records: 100%|██████████| 1007/1007 [00:00<00:00, 596394.26it/s]\n"
     ]
    },
    {
     "name": "stdout",
     "output_type": "stream",
     "text": [
      "Error reading results/250423_table2_r1/2025-04-24-17-13-43_scene_4-use_cpu_1-pred_steps_2-pose_3.result: single positional indexer is out-of-bounds!\n"
     ]
    },
    {
     "name": "stderr",
     "output_type": "stream",
     "text": [
      "Processing records: 100%|██████████| 1013/1013 [00:00<00:00, 520626.14it/s]\n"
     ]
    },
    {
     "name": "stdout",
     "output_type": "stream",
     "text": [
      "Error reading results/250423_table2_r1/2025-04-24-17-17-54_scene_4-use_cpu_1-pred_steps_2-pose_4.result: single positional indexer is out-of-bounds!\n"
     ]
    },
    {
     "name": "stderr",
     "output_type": "stream",
     "text": [
      "Processing records: 100%|██████████| 1007/1007 [00:00<00:00, 499664.51it/s]\n"
     ]
    },
    {
     "name": "stdout",
     "output_type": "stream",
     "text": [
      "Error reading results/250423_table2_r1/2025-04-24-17-22-04_scene_4-use_cpu_1-pred_steps_2-pose_5.result: single positional indexer is out-of-bounds!\n"
     ]
    },
    {
     "name": "stderr",
     "output_type": "stream",
     "text": [
      "Processing records: 100%|██████████| 1010/1010 [00:00<00:00, 466495.65it/s]\n"
     ]
    },
    {
     "name": "stdout",
     "output_type": "stream",
     "text": [
      "Error reading results/250423_table2_r1/2025-04-24-17-26-15_scene_4-use_cpu_1-pred_steps_2-pose_6.result: single positional indexer is out-of-bounds!\n"
     ]
    },
    {
     "name": "stderr",
     "output_type": "stream",
     "text": [
      "Processing records: 100%|██████████| 1004/1004 [00:00<00:00, 531031.68it/s]\n"
     ]
    },
    {
     "name": "stdout",
     "output_type": "stream",
     "text": [
      "Error reading results/250423_table2_r1/2025-04-24-17-30-26_scene_4-use_cpu_1-pred_steps_2-pose_7.result: single positional indexer is out-of-bounds!\n"
     ]
    },
    {
     "name": "stderr",
     "output_type": "stream",
     "text": [
      "Processing records: 100%|██████████| 1007/1007 [00:00<00:00, 520347.93it/s]\n"
     ]
    },
    {
     "name": "stdout",
     "output_type": "stream",
     "text": [
      "Error reading results/250423_table2_r1/2025-04-24-17-34-36_scene_4-use_cpu_1-pred_steps_2-pose_8.result: single positional indexer is out-of-bounds!\n"
     ]
    },
    {
     "name": "stderr",
     "output_type": "stream",
     "text": [
      "Processing records: 100%|██████████| 1004/1004 [00:00<00:00, 266963.43it/s]\n"
     ]
    },
    {
     "name": "stdout",
     "output_type": "stream",
     "text": [
      "Error reading results/250423_table2_r1/2025-04-24-17-38-47_scene_4-use_cpu_1-pred_steps_2-pose_9.result: single positional indexer is out-of-bounds!\n"
     ]
    }
   ],
   "source": [
    "import msgpack\n",
    "import msgpack_numpy as mnp\n",
    "\n",
    "results = {}\n",
    "\n",
    "if LOAD_CACHE:\n",
    "    def load_large_msgpack(filename):\n",
    "        with open(filename, \"rb\") as f:\n",
    "            unpacker = msgpack.Unpacker(f, raw=False, object_hook=mnp.decode)\n",
    "            for key, value in unpacker:\n",
    "                results[key] = value  # Load one entry at a time\n",
    "    load_large_msgpack(cache_filepath)\n",
    "\n",
    "else:\n",
    "    filepaths = sorted(list(results_dir.glob('*.result')))[:]\n",
    "    results_str = {}\n",
    "    for filepath in filepaths:\n",
    "        try:\n",
    "            reader = MetricsReader(\n",
    "                filepath, \n",
    "                success_time_limit=SUCCESS_TIME_LIMIT, \n",
    "                acceptable_min_distances_to_target=ACCEPTABLE_MIN_DISTANCES_TO_TARGET\n",
    "            )\n",
    "            results[reader.info['label']] = reader\n",
    "            results_str[reader.info['label']] = reader.format_stats()\n",
    "        except Exception as e:\n",
    "            print(f\"Error reading {filepath}: {e}!\")\n",
    "\n",
    "    def save_large_msgpack(data, filename):\n",
    "        with open(filename, \"wb\") as f:\n",
    "            packer = msgpack.Packer(default=mnp.encode)\n",
    "            for _, result in data.items():\n",
    "                key = result.info['label']\n",
    "                val = result.info\n",
    "                f.write(packer.pack((key, val)))\n",
    "    save_large_msgpack(results, cache_filepath)"
   ]
  },
  {
   "cell_type": "markdown",
   "metadata": {},
   "source": [
    "## Analysis"
   ]
  },
  {
   "cell_type": "code",
   "execution_count": 6,
   "metadata": {},
   "outputs": [],
   "source": [
    "idx = list(results.keys())[0]\n",
    "\n",
    "result = results[idx]"
   ]
  },
  {
   "cell_type": "code",
   "execution_count": 7,
   "metadata": {},
   "outputs": [
    {
     "data": {
      "text/plain": [
       "1"
      ]
     },
     "execution_count": 7,
     "metadata": {},
     "output_type": "execute_result"
    }
   ],
   "source": [
    "result.info['num_agents']"
   ]
  },
  {
   "cell_type": "code",
   "execution_count": 8,
   "metadata": {},
   "outputs": [
    {
     "data": {
      "text/html": [
       "<div>\n",
       "<style scoped>\n",
       "    .dataframe tbody tr th:only-of-type {\n",
       "        vertical-align: middle;\n",
       "    }\n",
       "\n",
       "    .dataframe tbody tr th {\n",
       "        vertical-align: top;\n",
       "    }\n",
       "\n",
       "    .dataframe thead th {\n",
       "        text-align: right;\n",
       "    }\n",
       "</style>\n",
       "<table border=\"1\" class=\"dataframe\">\n",
       "  <thead>\n",
       "    <tr style=\"text-align: right;\">\n",
       "      <th></th>\n",
       "      <th>agent_id</th>\n",
       "      <th>cost</th>\n",
       "      <th>timestamp</th>\n",
       "      <th>type</th>\n",
       "    </tr>\n",
       "  </thead>\n",
       "  <tbody>\n",
       "    <tr>\n",
       "      <th>0</th>\n",
       "      <td>1</td>\n",
       "      <td>114.395056</td>\n",
       "      <td>1.745394e+09</td>\n",
       "      <td>agent_cost</td>\n",
       "    </tr>\n",
       "    <tr>\n",
       "      <th>1</th>\n",
       "      <td>1</td>\n",
       "      <td>114.395056</td>\n",
       "      <td>1.745394e+09</td>\n",
       "      <td>agent_cost</td>\n",
       "    </tr>\n",
       "    <tr>\n",
       "      <th>2</th>\n",
       "      <td>1</td>\n",
       "      <td>114.301801</td>\n",
       "      <td>1.745394e+09</td>\n",
       "      <td>agent_cost</td>\n",
       "    </tr>\n",
       "    <tr>\n",
       "      <th>3</th>\n",
       "      <td>1</td>\n",
       "      <td>114.084115</td>\n",
       "      <td>1.745394e+09</td>\n",
       "      <td>agent_cost</td>\n",
       "    </tr>\n",
       "    <tr>\n",
       "      <th>4</th>\n",
       "      <td>1</td>\n",
       "      <td>113.765246</td>\n",
       "      <td>1.745394e+09</td>\n",
       "      <td>agent_cost</td>\n",
       "    </tr>\n",
       "    <tr>\n",
       "      <th>...</th>\n",
       "      <td>...</td>\n",
       "      <td>...</td>\n",
       "      <td>...</td>\n",
       "      <td>...</td>\n",
       "    </tr>\n",
       "    <tr>\n",
       "      <th>1064</th>\n",
       "      <td>1</td>\n",
       "      <td>25.988852</td>\n",
       "      <td>1.745395e+09</td>\n",
       "      <td>agent_cost</td>\n",
       "    </tr>\n",
       "    <tr>\n",
       "      <th>1065</th>\n",
       "      <td>1</td>\n",
       "      <td>26.014836</td>\n",
       "      <td>1.745395e+09</td>\n",
       "      <td>agent_cost</td>\n",
       "    </tr>\n",
       "    <tr>\n",
       "      <th>1066</th>\n",
       "      <td>1</td>\n",
       "      <td>26.040038</td>\n",
       "      <td>1.745395e+09</td>\n",
       "      <td>agent_cost</td>\n",
       "    </tr>\n",
       "    <tr>\n",
       "      <th>1067</th>\n",
       "      <td>1</td>\n",
       "      <td>26.065987</td>\n",
       "      <td>1.745395e+09</td>\n",
       "      <td>agent_cost</td>\n",
       "    </tr>\n",
       "    <tr>\n",
       "      <th>1068</th>\n",
       "      <td>1</td>\n",
       "      <td>26.091147</td>\n",
       "      <td>1.745395e+09</td>\n",
       "      <td>agent_cost</td>\n",
       "    </tr>\n",
       "  </tbody>\n",
       "</table>\n",
       "<p>1069 rows × 4 columns</p>\n",
       "</div>"
      ],
      "text/plain": [
       "      agent_id        cost     timestamp        type\n",
       "0            1  114.395056  1.745394e+09  agent_cost\n",
       "1            1  114.395056  1.745394e+09  agent_cost\n",
       "2            1  114.301801  1.745394e+09  agent_cost\n",
       "3            1  114.084115  1.745394e+09  agent_cost\n",
       "4            1  113.765246  1.745394e+09  agent_cost\n",
       "...        ...         ...           ...         ...\n",
       "1064         1   25.988852  1.745395e+09  agent_cost\n",
       "1065         1   26.014836  1.745395e+09  agent_cost\n",
       "1066         1   26.040038  1.745395e+09  agent_cost\n",
       "1067         1   26.065987  1.745395e+09  agent_cost\n",
       "1068         1   26.091147  1.745395e+09  agent_cost\n",
       "\n",
       "[1069 rows x 4 columns]"
      ]
     },
     "execution_count": 8,
     "metadata": {},
     "output_type": "execute_result"
    }
   ],
   "source": [
    "costs = result.agent_costs\n",
    "costs"
   ]
  },
  {
   "cell_type": "code",
   "execution_count": 9,
   "metadata": {},
   "outputs": [
    {
     "data": {
      "text/plain": [
       "agent_id\n",
       "1    17.793459\n",
       "Name: cost, dtype: float64"
      ]
     },
     "execution_count": 9,
     "metadata": {},
     "output_type": "execute_result"
    }
   ],
   "source": [
    "mean_costs = costs.groupby(\"agent_id\")[\"cost\"].mean()\n",
    "mean_costs"
   ]
  },
  {
   "cell_type": "code",
   "execution_count": 10,
   "metadata": {},
   "outputs": [
    {
     "data": {
      "text/plain": [
       "{1: 17.79345888555152}"
      ]
     },
     "execution_count": 10,
     "metadata": {},
     "output_type": "execute_result"
    }
   ],
   "source": [
    "pd.DataFrame(\n",
    "    {\n",
    "        0:mean_costs, \n",
    "        1:mean_costs, \n",
    "        2:mean_costs\n",
    "    }\n",
    ").T.mean().to_dict()"
   ]
  },
  {
   "cell_type": "code",
   "execution_count": 11,
   "metadata": {},
   "outputs": [
    {
     "data": {
      "text/html": [
       "<div>\n",
       "<style scoped>\n",
       "    .dataframe tbody tr th:only-of-type {\n",
       "        vertical-align: middle;\n",
       "    }\n",
       "\n",
       "    .dataframe tbody tr th {\n",
       "        vertical-align: top;\n",
       "    }\n",
       "\n",
       "    .dataframe thead th {\n",
       "        text-align: right;\n",
       "    }\n",
       "</style>\n",
       "<table border=\"1\" class=\"dataframe\">\n",
       "  <thead>\n",
       "    <tr style=\"text-align: right;\">\n",
       "      <th></th>\n",
       "      <th>orientation</th>\n",
       "      <th>position</th>\n",
       "      <th>timestamp</th>\n",
       "      <th>type</th>\n",
       "    </tr>\n",
       "  </thead>\n",
       "  <tbody>\n",
       "    <tr>\n",
       "      <th>0</th>\n",
       "      <td>{'w': 1.0, 'x': -0.0, 'y': 0.0, 'z': -0.0}</td>\n",
       "      <td>{'x': 0.13942679845788375, 'y': -0.0, 'z': -0....</td>\n",
       "      <td>1.745394e+09</td>\n",
       "      <td>agent_pose</td>\n",
       "    </tr>\n",
       "    <tr>\n",
       "      <th>1</th>\n",
       "      <td>{'w': 1.0, 'x': -0.0, 'y': 0.0, 'z': -0.0}</td>\n",
       "      <td>{'x': 0.1356661112104801, 'y': 0.0158283675375...</td>\n",
       "      <td>1.745394e+09</td>\n",
       "      <td>agent_pose</td>\n",
       "    </tr>\n",
       "    <tr>\n",
       "      <th>2</th>\n",
       "      <td>{'w': 1.0, 'x': -0.0, 'y': 0.0, 'z': -0.0}</td>\n",
       "      <td>{'x': 0.11307639916863761, 'y': 0.069901653786...</td>\n",
       "      <td>1.745394e+09</td>\n",
       "      <td>agent_pose</td>\n",
       "    </tr>\n",
       "    <tr>\n",
       "      <th>3</th>\n",
       "      <td>{'w': 1.0, 'x': -0.0, 'y': 0.0, 'z': -0.0}</td>\n",
       "      <td>{'x': 0.08124453315488106, 'y': 0.145656186568...</td>\n",
       "      <td>1.745394e+09</td>\n",
       "      <td>agent_pose</td>\n",
       "    </tr>\n",
       "    <tr>\n",
       "      <th>4</th>\n",
       "      <td>{'w': 1.0, 'x': -0.0, 'y': 0.0, 'z': -0.0}</td>\n",
       "      <td>{'x': 0.045032980356544905, 'y': 0.23935622022...</td>\n",
       "      <td>1.745394e+09</td>\n",
       "      <td>agent_pose</td>\n",
       "    </tr>\n",
       "    <tr>\n",
       "      <th>...</th>\n",
       "      <td>...</td>\n",
       "      <td>...</td>\n",
       "      <td>...</td>\n",
       "      <td>...</td>\n",
       "    </tr>\n",
       "    <tr>\n",
       "      <th>221</th>\n",
       "      <td>{'w': 1.0, 'x': -0.0, 'y': 0.0, 'z': -0.0}</td>\n",
       "      <td>{'x': -0.1996932662063448, 'y': 2.274295490154...</td>\n",
       "      <td>1.745395e+09</td>\n",
       "      <td>agent_pose</td>\n",
       "    </tr>\n",
       "    <tr>\n",
       "      <th>222</th>\n",
       "      <td>{'w': 1.0, 'x': -0.0, 'y': 0.0, 'z': -0.0}</td>\n",
       "      <td>{'x': -0.1991308039709816, 'y': 2.273932673855...</td>\n",
       "      <td>1.745395e+09</td>\n",
       "      <td>agent_pose</td>\n",
       "    </tr>\n",
       "    <tr>\n",
       "      <th>223</th>\n",
       "      <td>{'w': 1.0, 'x': -0.0, 'y': 0.0, 'z': -0.0}</td>\n",
       "      <td>{'x': -0.19854938370431127, 'y': 2.27351247701...</td>\n",
       "      <td>1.745395e+09</td>\n",
       "      <td>agent_pose</td>\n",
       "    </tr>\n",
       "    <tr>\n",
       "      <th>224</th>\n",
       "      <td>{'w': 1.0, 'x': -0.0, 'y': 0.0, 'z': -0.0}</td>\n",
       "      <td>{'x': -0.19799754181981621, 'y': 2.27306991345...</td>\n",
       "      <td>1.745395e+09</td>\n",
       "      <td>agent_pose</td>\n",
       "    </tr>\n",
       "    <tr>\n",
       "      <th>225</th>\n",
       "      <td>{'w': 1.0, 'x': -0.0, 'y': 0.0, 'z': -0.0}</td>\n",
       "      <td>{'x': -0.19743019419827865, 'y': 2.27269692809...</td>\n",
       "      <td>1.745395e+09</td>\n",
       "      <td>agent_pose</td>\n",
       "    </tr>\n",
       "  </tbody>\n",
       "</table>\n",
       "<p>226 rows × 4 columns</p>\n",
       "</div>"
      ],
      "text/plain": [
       "                                    orientation  \\\n",
       "0    {'w': 1.0, 'x': -0.0, 'y': 0.0, 'z': -0.0}   \n",
       "1    {'w': 1.0, 'x': -0.0, 'y': 0.0, 'z': -0.0}   \n",
       "2    {'w': 1.0, 'x': -0.0, 'y': 0.0, 'z': -0.0}   \n",
       "3    {'w': 1.0, 'x': -0.0, 'y': 0.0, 'z': -0.0}   \n",
       "4    {'w': 1.0, 'x': -0.0, 'y': 0.0, 'z': -0.0}   \n",
       "..                                          ...   \n",
       "221  {'w': 1.0, 'x': -0.0, 'y': 0.0, 'z': -0.0}   \n",
       "222  {'w': 1.0, 'x': -0.0, 'y': 0.0, 'z': -0.0}   \n",
       "223  {'w': 1.0, 'x': -0.0, 'y': 0.0, 'z': -0.0}   \n",
       "224  {'w': 1.0, 'x': -0.0, 'y': 0.0, 'z': -0.0}   \n",
       "225  {'w': 1.0, 'x': -0.0, 'y': 0.0, 'z': -0.0}   \n",
       "\n",
       "                                              position     timestamp  \\\n",
       "0    {'x': 0.13942679845788375, 'y': -0.0, 'z': -0....  1.745394e+09   \n",
       "1    {'x': 0.1356661112104801, 'y': 0.0158283675375...  1.745394e+09   \n",
       "2    {'x': 0.11307639916863761, 'y': 0.069901653786...  1.745394e+09   \n",
       "3    {'x': 0.08124453315488106, 'y': 0.145656186568...  1.745394e+09   \n",
       "4    {'x': 0.045032980356544905, 'y': 0.23935622022...  1.745394e+09   \n",
       "..                                                 ...           ...   \n",
       "221  {'x': -0.1996932662063448, 'y': 2.274295490154...  1.745395e+09   \n",
       "222  {'x': -0.1991308039709816, 'y': 2.273932673855...  1.745395e+09   \n",
       "223  {'x': -0.19854938370431127, 'y': 2.27351247701...  1.745395e+09   \n",
       "224  {'x': -0.19799754181981621, 'y': 2.27306991345...  1.745395e+09   \n",
       "225  {'x': -0.19743019419827865, 'y': 2.27269692809...  1.745395e+09   \n",
       "\n",
       "           type  \n",
       "0    agent_pose  \n",
       "1    agent_pose  \n",
       "2    agent_pose  \n",
       "3    agent_pose  \n",
       "4    agent_pose  \n",
       "..          ...  \n",
       "221  agent_pose  \n",
       "222  agent_pose  \n",
       "223  agent_pose  \n",
       "224  agent_pose  \n",
       "225  agent_pose  \n",
       "\n",
       "[226 rows x 4 columns]"
      ]
     },
     "execution_count": 11,
     "metadata": {},
     "output_type": "execute_result"
    }
   ],
   "source": [
    "result.agent_poses"
   ]
  },
  {
   "cell_type": "code",
   "execution_count": 12,
   "metadata": {},
   "outputs": [
    {
     "name": "stdout",
     "output_type": "stream",
     "text": [
      "label\n",
      "success\n",
      "reason\n",
      "timestamps\n",
      "num_agents\n",
      "num_obstacles\n",
      "num_collisions\n",
      "collision_timestamps\n",
      "collision_indices\n",
      "detection_shell_radius\n",
      "agent_switches\n",
      "agent_residency_pct\n",
      "agent_positions\n",
      "distances_to_obstacles\n",
      "min_distances_to_obstacles\n",
      "max_distances_to_obstacles\n",
      "distance_to_target\n",
      "path_length\n",
      "motion_start_timestamp\n",
      "motion_start_pos\n",
      "experiment_start_timestamp\n",
      "experiment_end_timestamp\n",
      "elapsed_experiment_runtime\n",
      "elapsed_motion_runtime\n",
      "min_distances_to_target\n",
      "min_distances_to_target_timestamp\n",
      "mean_planning_time\n",
      "stddev_planning_time\n"
     ]
    }
   ],
   "source": [
    "for key in result.info.keys():\n",
    "    print(key)"
   ]
  },
  {
   "cell_type": "code",
   "execution_count": 13,
   "metadata": {},
   "outputs": [
    {
     "data": {
      "text/plain": [
       "['FORCE_CONFIG_LABEL',\n",
       " '__class__',\n",
       " '__delattr__',\n",
       " '__dict__',\n",
       " '__dir__',\n",
       " '__doc__',\n",
       " '__eq__',\n",
       " '__format__',\n",
       " '__ge__',\n",
       " '__getattribute__',\n",
       " '__gt__',\n",
       " '__hash__',\n",
       " '__init__',\n",
       " '__init_subclass__',\n",
       " '__le__',\n",
       " '__lt__',\n",
       " '__module__',\n",
       " '__ne__',\n",
       " '__new__',\n",
       " '__reduce__',\n",
       " '__reduce_ex__',\n",
       " '__repr__',\n",
       " '__setattr__',\n",
       " '__sizeof__',\n",
       " '__str__',\n",
       " '__subclasshook__',\n",
       " '__weakref__',\n",
       " '_load_data',\n",
       " '_parse_best_agent_record',\n",
       " '_update_2d_layout',\n",
       " 'acceptable_min_distances_to_target',\n",
       " 'agent_costs',\n",
       " 'agent_planning_times',\n",
       " 'agent_poses',\n",
       " 'agent_radius',\n",
       " 'best_agent',\n",
       " 'filename',\n",
       " 'filepath',\n",
       " 'format_stats',\n",
       " 'goal_orientation',\n",
       " 'goal_pos',\n",
       " 'info',\n",
       " 'log',\n",
       " 'mass_radius',\n",
       " 'plot_agent_planning_time',\n",
       " 'plot_best_agent_selection',\n",
       " 'plot_distance_to_closest_obstacle',\n",
       " 'plot_distance_to_goal',\n",
       " 'plot_scene',\n",
       " 'pointclouds',\n",
       " 'print_stats',\n",
       " 'process_info_and_analysis',\n",
       " 'save_stats',\n",
       " 'start_orientation',\n",
       " 'start_pos',\n",
       " 'success_criteria',\n",
       " 'success_time_limit',\n",
       " 'target_poses',\n",
       " 'workload_config']"
      ]
     },
     "execution_count": 13,
     "metadata": {},
     "output_type": "execute_result"
    }
   ],
   "source": [
    "dir(results[idx])"
   ]
  },
  {
   "cell_type": "code",
   "execution_count": null,
   "metadata": {},
   "outputs": [],
   "source": []
  },
  {
   "cell_type": "code",
   "execution_count": 14,
   "metadata": {},
   "outputs": [],
   "source": [
    "scene = 'scene_'\n",
    "use_cpu = 'use_cpu_'\n",
    "pred_steps = 'pred_steps_'\n",
    "pose = 'pose_'\n",
    "DELIMITER = '-'\n",
    "\n",
    "\n",
    "success_dfs = {}\n",
    "mean_computation_times_dfs = {}\n",
    "stddev_computation_times_dfs = {}\n",
    "mean_durations_dfs = {}\n",
    "stddev_durations_dfs = {}\n",
    "\n",
    "# Extract unique values for each parameter\n",
    "scene_ids = sorted(set([int(k.split(DELIMITER)[0].replace(scene, '')) for k in results.keys()]))\n",
    "cpu_values = sorted(set([int(k.split(DELIMITER)[1].replace(use_cpu, '')) for k in results.keys()]))\n",
    "pred_steps_values = sorted(set([int(k.split(DELIMITER)[2].replace(pred_steps, '')) for k in results.keys()]))\n",
    "\n",
    "# For each scene, create a dataframe\n",
    "for scene_id in scene_ids:\n",
    "    # Initialize DataFrame with use_cpu as index and pred_steps as columns\n",
    "    dfs = {}\n",
    "    dfs['success'] = pd.DataFrame(index=cpu_values, columns=pred_steps_values)\n",
    "    dfs['mean_computation_time'] = pd.DataFrame(index=cpu_values, columns=pred_steps_values)\n",
    "    dfs['stddev_computation_time'] = pd.DataFrame(index=cpu_values, columns=pred_steps_values)\n",
    "    dfs['mean_duration'] = pd.DataFrame(index=cpu_values, columns=pred_steps_values)\n",
    "    dfs['stddev_duration'] = pd.DataFrame(index=cpu_values, columns=pred_steps_values)\n",
    "\n",
    "    for df in dfs.values(): \n",
    "        df.index.name = 'use_cpu'\n",
    "        df.columns.name = 'pred_steps'\n",
    "     \n",
    "    # Fill the dataframe with success counts\n",
    "    for cpu_val in cpu_values:\n",
    "        for pred_val in pred_steps_values:\n",
    "            # Count successful poses (0-9) for this combination\n",
    "            success_count = 0\n",
    "            mean_computation_times = []\n",
    "            stddev_computation_times = []\n",
    "            durations = []\n",
    "\n",
    "            for pose_id in range(10):  # poses 0-9\n",
    "                key = f\"{scene}{scene_id}{DELIMITER}{use_cpu}{cpu_val}{DELIMITER}{pred_steps}{pred_val}{DELIMITER}{pose}{pose_id}\"\n",
    "                if key in results: \n",
    "                    result = results[key].info\n",
    "                    if result.get('success', False):\n",
    "                        if result.get('success') == 'True':\n",
    "                            success_count += 1\n",
    "                            if result.get('mean_planning_time', None) is not None:\n",
    "                                mean_computation_times.append(result['mean_planning_time'])\n",
    "                            if result.get('stddev_planning_time', None) is not None:\n",
    "                                stddev_computation_times.append(result['stddev_planning_time'])\n",
    "                            if result.get('elapsed_motion_runtime', None) is not None:\n",
    "                                durations.append(result['elapsed_motion_runtime'])\n",
    "                    \n",
    "            dfs['success'].at[cpu_val, pred_val] = success_count\n",
    "            dfs['mean_computation_time'].at[cpu_val, pred_val] = np.mean(mean_computation_times)\n",
    "            dfs['stddev_computation_time'].at[cpu_val, pred_val] = np.mean(stddev_computation_times)\n",
    "            dfs['mean_duration'].at[cpu_val, pred_val] = np.mean(durations)\n",
    "            dfs['stddev_duration'].at[cpu_val, pred_val] = np.std(durations)\n",
    "    \n",
    "    success_dfs[scene_id] = dfs['success']\n",
    "    mean_computation_times_dfs[scene_id] = dfs['mean_computation_time']\n",
    "    stddev_computation_times_dfs[scene_id] = dfs['stddev_computation_time']\n",
    "    mean_durations_dfs[scene_id] = dfs['mean_duration']\n",
    "    stddev_durations_dfs[scene_id] = dfs['stddev_duration']"
   ]
  },
  {
   "cell_type": "code",
   "execution_count": 15,
   "metadata": {},
   "outputs": [
    {
     "name": "stdout",
     "output_type": "stream",
     "text": [
      "Scene 0 Success Counts (out of 10 poses):\n",
      "pred_steps  0  1  2\n",
      "use_cpu            \n",
      "0           7  7  8\n",
      "1           8  8  7\n",
      "\n",
      "Scene 1 Success Counts (out of 10 poses):\n",
      "pred_steps  0  1  2\n",
      "use_cpu            \n",
      "0           9  9  9\n",
      "1           9  9  9\n",
      "\n",
      "Scene 2 Success Counts (out of 10 poses):\n",
      "pred_steps   0   1   2\n",
      "use_cpu               \n",
      "0           10  10  10\n",
      "1           10  10  10\n",
      "\n",
      "Scene 3 Success Counts (out of 10 poses):\n",
      "pred_steps  0  1  2\n",
      "use_cpu            \n",
      "0           9  9  9\n",
      "1           9  9  9\n",
      "\n"
     ]
    }
   ],
   "source": [
    "for scene_id, df in success_dfs.items():\n",
    "    print(f\"Scene {scene_id} Success Counts (out of 10 poses):\")\n",
    "    print(df)\n",
    "    print()\n"
   ]
  },
  {
   "cell_type": "code",
   "execution_count": 16,
   "metadata": {},
   "outputs": [
    {
     "name": "stdout",
     "output_type": "stream",
     "text": [
      "Hierarchical DataFrame with all metrics:\n"
     ]
    },
    {
     "data": {
      "text/html": [
       "<div>\n",
       "<style scoped>\n",
       "    .dataframe tbody tr th:only-of-type {\n",
       "        vertical-align: middle;\n",
       "    }\n",
       "\n",
       "    .dataframe tbody tr th {\n",
       "        vertical-align: top;\n",
       "    }\n",
       "\n",
       "    .dataframe thead tr th {\n",
       "        text-align: left;\n",
       "    }\n",
       "\n",
       "    .dataframe thead tr:last-of-type th {\n",
       "        text-align: right;\n",
       "    }\n",
       "</style>\n",
       "<table border=\"1\" class=\"dataframe\">\n",
       "  <thead>\n",
       "    <tr>\n",
       "      <th></th>\n",
       "      <th>pred_steps</th>\n",
       "      <th colspan=\"5\" halign=\"left\">0</th>\n",
       "      <th colspan=\"5\" halign=\"left\">1</th>\n",
       "      <th colspan=\"5\" halign=\"left\">2</th>\n",
       "    </tr>\n",
       "    <tr>\n",
       "      <th></th>\n",
       "      <th>metric</th>\n",
       "      <th>success</th>\n",
       "      <th>mean_computation_time</th>\n",
       "      <th>stddev_computation_time</th>\n",
       "      <th>mean_duration</th>\n",
       "      <th>stddev_duration</th>\n",
       "      <th>success</th>\n",
       "      <th>mean_computation_time</th>\n",
       "      <th>stddev_computation_time</th>\n",
       "      <th>mean_duration</th>\n",
       "      <th>stddev_duration</th>\n",
       "      <th>success</th>\n",
       "      <th>mean_computation_time</th>\n",
       "      <th>stddev_computation_time</th>\n",
       "      <th>mean_duration</th>\n",
       "      <th>stddev_duration</th>\n",
       "    </tr>\n",
       "    <tr>\n",
       "      <th>scene_id</th>\n",
       "      <th>use_cpu</th>\n",
       "      <th></th>\n",
       "      <th></th>\n",
       "      <th></th>\n",
       "      <th></th>\n",
       "      <th></th>\n",
       "      <th></th>\n",
       "      <th></th>\n",
       "      <th></th>\n",
       "      <th></th>\n",
       "      <th></th>\n",
       "      <th></th>\n",
       "      <th></th>\n",
       "      <th></th>\n",
       "      <th></th>\n",
       "      <th></th>\n",
       "    </tr>\n",
       "  </thead>\n",
       "  <tbody>\n",
       "    <tr>\n",
       "      <th rowspan=\"2\" valign=\"top\">0</th>\n",
       "      <th>0</th>\n",
       "      <td>7</td>\n",
       "      <td>101.106633</td>\n",
       "      <td>2.738493</td>\n",
       "      <td>21.598505</td>\n",
       "      <td>2.030035</td>\n",
       "      <td>7</td>\n",
       "      <td>202.484142</td>\n",
       "      <td>4.477695</td>\n",
       "      <td>21.810971</td>\n",
       "      <td>1.926518</td>\n",
       "      <td>8</td>\n",
       "      <td>304.449827</td>\n",
       "      <td>5.843552</td>\n",
       "      <td>21.965163</td>\n",
       "      <td>1.828884</td>\n",
       "    </tr>\n",
       "    <tr>\n",
       "      <th>1</th>\n",
       "      <td>8</td>\n",
       "      <td>357.583039</td>\n",
       "      <td>52.667964</td>\n",
       "      <td>25.966461</td>\n",
       "      <td>2.665613</td>\n",
       "      <td>8</td>\n",
       "      <td>714.60248</td>\n",
       "      <td>104.177563</td>\n",
       "      <td>25.777046</td>\n",
       "      <td>2.527423</td>\n",
       "      <td>7</td>\n",
       "      <td>1064.600011</td>\n",
       "      <td>159.952349</td>\n",
       "      <td>25.529119</td>\n",
       "      <td>2.819941</td>\n",
       "    </tr>\n",
       "    <tr>\n",
       "      <th rowspan=\"2\" valign=\"top\">1</th>\n",
       "      <th>0</th>\n",
       "      <td>9</td>\n",
       "      <td>100.783489</td>\n",
       "      <td>2.640674</td>\n",
       "      <td>28.924841</td>\n",
       "      <td>4.052771</td>\n",
       "      <td>9</td>\n",
       "      <td>203.730126</td>\n",
       "      <td>5.103787</td>\n",
       "      <td>28.923478</td>\n",
       "      <td>4.125971</td>\n",
       "      <td>9</td>\n",
       "      <td>303.133647</td>\n",
       "      <td>5.456737</td>\n",
       "      <td>28.979578</td>\n",
       "      <td>4.132444</td>\n",
       "    </tr>\n",
       "    <tr>\n",
       "      <th>1</th>\n",
       "      <td>9</td>\n",
       "      <td>106.410027</td>\n",
       "      <td>4.344787</td>\n",
       "      <td>29.036434</td>\n",
       "      <td>4.181447</td>\n",
       "      <td>9</td>\n",
       "      <td>212.616467</td>\n",
       "      <td>7.787036</td>\n",
       "      <td>29.091172</td>\n",
       "      <td>4.071814</td>\n",
       "      <td>9</td>\n",
       "      <td>320.723663</td>\n",
       "      <td>10.364101</td>\n",
       "      <td>29.202557</td>\n",
       "      <td>4.153774</td>\n",
       "    </tr>\n",
       "    <tr>\n",
       "      <th rowspan=\"2\" valign=\"top\">2</th>\n",
       "      <th>0</th>\n",
       "      <td>10</td>\n",
       "      <td>101.669135</td>\n",
       "      <td>2.966419</td>\n",
       "      <td>24.380144</td>\n",
       "      <td>7.929388</td>\n",
       "      <td>10</td>\n",
       "      <td>202.840743</td>\n",
       "      <td>5.644851</td>\n",
       "      <td>24.629016</td>\n",
       "      <td>7.980295</td>\n",
       "      <td>10</td>\n",
       "      <td>305.96618</td>\n",
       "      <td>7.123665</td>\n",
       "      <td>24.627297</td>\n",
       "      <td>7.948466</td>\n",
       "    </tr>\n",
       "    <tr>\n",
       "      <th>1</th>\n",
       "      <td>10</td>\n",
       "      <td>164.622228</td>\n",
       "      <td>12.436745</td>\n",
       "      <td>25.579582</td>\n",
       "      <td>8.50744</td>\n",
       "      <td>10</td>\n",
       "      <td>329.444067</td>\n",
       "      <td>24.628374</td>\n",
       "      <td>25.630964</td>\n",
       "      <td>8.33131</td>\n",
       "      <td>10</td>\n",
       "      <td>494.615722</td>\n",
       "      <td>37.715554</td>\n",
       "      <td>25.380003</td>\n",
       "      <td>8.433239</td>\n",
       "    </tr>\n",
       "    <tr>\n",
       "      <th rowspan=\"2\" valign=\"top\">3</th>\n",
       "      <th>0</th>\n",
       "      <td>9</td>\n",
       "      <td>101.210659</td>\n",
       "      <td>2.900178</td>\n",
       "      <td>27.588975</td>\n",
       "      <td>23.845512</td>\n",
       "      <td>9</td>\n",
       "      <td>202.917478</td>\n",
       "      <td>5.142565</td>\n",
       "      <td>37.49003</td>\n",
       "      <td>34.27402</td>\n",
       "      <td>9</td>\n",
       "      <td>307.087576</td>\n",
       "      <td>7.584013</td>\n",
       "      <td>27.867386</td>\n",
       "      <td>24.092726</td>\n",
       "    </tr>\n",
       "    <tr>\n",
       "      <th>1</th>\n",
       "      <td>9</td>\n",
       "      <td>237.006813</td>\n",
       "      <td>27.346596</td>\n",
       "      <td>30.979088</td>\n",
       "      <td>27.782771</td>\n",
       "      <td>9</td>\n",
       "      <td>473.235659</td>\n",
       "      <td>55.056505</td>\n",
       "      <td>30.702233</td>\n",
       "      <td>27.522986</td>\n",
       "      <td>9</td>\n",
       "      <td>709.517364</td>\n",
       "      <td>80.843398</td>\n",
       "      <td>30.924193</td>\n",
       "      <td>27.6269</td>\n",
       "    </tr>\n",
       "  </tbody>\n",
       "</table>\n",
       "</div>"
      ],
      "text/plain": [
       "pred_steps             0                                                \\\n",
       "metric           success mean_computation_time stddev_computation_time   \n",
       "scene_id use_cpu                                                         \n",
       "0        0             7            101.106633                2.738493   \n",
       "         1             8            357.583039               52.667964   \n",
       "1        0             9            100.783489                2.640674   \n",
       "         1             9            106.410027                4.344787   \n",
       "2        0            10            101.669135                2.966419   \n",
       "         1            10            164.622228               12.436745   \n",
       "3        0             9            101.210659                2.900178   \n",
       "         1             9            237.006813               27.346596   \n",
       "\n",
       "pred_steps                                           1                        \\\n",
       "metric           mean_duration stddev_duration success mean_computation_time   \n",
       "scene_id use_cpu                                                               \n",
       "0        0           21.598505        2.030035       7            202.484142   \n",
       "         1           25.966461        2.665613       8             714.60248   \n",
       "1        0           28.924841        4.052771       9            203.730126   \n",
       "         1           29.036434        4.181447       9            212.616467   \n",
       "2        0           24.380144        7.929388      10            202.840743   \n",
       "         1           25.579582         8.50744      10            329.444067   \n",
       "3        0           27.588975       23.845512       9            202.917478   \n",
       "         1           30.979088       27.782771       9            473.235659   \n",
       "\n",
       "pred_steps                                                              \\\n",
       "metric           stddev_computation_time mean_duration stddev_duration   \n",
       "scene_id use_cpu                                                         \n",
       "0        0                      4.477695     21.810971        1.926518   \n",
       "         1                    104.177563     25.777046        2.527423   \n",
       "1        0                      5.103787     28.923478        4.125971   \n",
       "         1                      7.787036     29.091172        4.071814   \n",
       "2        0                      5.644851     24.629016        7.980295   \n",
       "         1                     24.628374     25.630964         8.33131   \n",
       "3        0                      5.142565      37.49003        34.27402   \n",
       "         1                     55.056505     30.702233       27.522986   \n",
       "\n",
       "pred_steps             2                                                \\\n",
       "metric           success mean_computation_time stddev_computation_time   \n",
       "scene_id use_cpu                                                         \n",
       "0        0             8            304.449827                5.843552   \n",
       "         1             7           1064.600011              159.952349   \n",
       "1        0             9            303.133647                5.456737   \n",
       "         1             9            320.723663               10.364101   \n",
       "2        0            10             305.96618                7.123665   \n",
       "         1            10            494.615722               37.715554   \n",
       "3        0             9            307.087576                7.584013   \n",
       "         1             9            709.517364               80.843398   \n",
       "\n",
       "pred_steps                                      \n",
       "metric           mean_duration stddev_duration  \n",
       "scene_id use_cpu                                \n",
       "0        0           21.965163        1.828884  \n",
       "         1           25.529119        2.819941  \n",
       "1        0           28.979578        4.132444  \n",
       "         1           29.202557        4.153774  \n",
       "2        0           24.627297        7.948466  \n",
       "         1           25.380003        8.433239  \n",
       "3        0           27.867386       24.092726  \n",
       "         1           30.924193         27.6269  "
      ]
     },
     "execution_count": 16,
     "metadata": {},
     "output_type": "execute_result"
    }
   ],
   "source": [
    "# Define the metrics we want to include\n",
    "metrics = ['success', 'mean_computation_time', 'stddev_computation_time', 'mean_duration', 'stddev_duration']\n",
    "\n",
    "# Create a dictionary to store all data for the hierarchical DataFrame\n",
    "all_data = {}\n",
    "\n",
    "# Iterate through each scene and CPU value\n",
    "for scene_id in scene_ids:\n",
    "    for cpu_val in cpu_values:\n",
    "        # For each prediction step value\n",
    "        for pred_val in pred_steps_values:\n",
    "            # For each metric\n",
    "            for metric in metrics:\n",
    "                # Create a tuple key for the hierarchical index\n",
    "                row_idx = (scene_id, cpu_val)\n",
    "                col_idx = (pred_val, metric)\n",
    "                \n",
    "                # Get the value from the appropriate DataFrame\n",
    "                if metric == 'success':\n",
    "                    value = success_dfs[scene_id].at[cpu_val, pred_val]\n",
    "                elif metric == 'mean_computation_time':\n",
    "                    value = mean_computation_times_dfs[scene_id].at[cpu_val, pred_val]\n",
    "                elif metric == 'stddev_computation_time':\n",
    "                    value = stddev_computation_times_dfs[scene_id].at[cpu_val, pred_val]\n",
    "                elif metric == 'mean_duration':\n",
    "                    value = mean_durations_dfs[scene_id].at[cpu_val, pred_val]\n",
    "                elif metric == 'stddev_duration':\n",
    "                    value = stddev_durations_dfs[scene_id].at[cpu_val, pred_val]\n",
    "                \n",
    "                # Store the value in our data dictionary\n",
    "                all_data[(row_idx, col_idx)] = value\n",
    "\n",
    "# Create MultiIndex for rows and columns\n",
    "row_index = pd.MultiIndex.from_product([scene_ids, cpu_values], names=['scene_id', 'use_cpu'])\n",
    "col_index = pd.MultiIndex.from_product([pred_steps_values, metrics], names=['pred_steps', 'metric'])\n",
    "\n",
    "# Create the hierarchical DataFrame\n",
    "hierarchical_df = pd.DataFrame(index=row_index, columns=col_index)\n",
    "\n",
    "# Fill the DataFrame with values\n",
    "for (row_idx, col_idx), value in all_data.items():\n",
    "    hierarchical_df.at[row_idx, col_idx] = value\n",
    "\n",
    "# Display the hierarchical DataFrame\n",
    "print(\"Hierarchical DataFrame with all metrics:\")\n",
    "hierarchical_df"
   ]
  }
 ],
 "metadata": {
  "kernelspec": {
   "display_name": "percept_env",
   "language": "python",
   "name": "python3"
  },
  "language_info": {
   "codemirror_mode": {
    "name": "ipython",
    "version": 3
   },
   "file_extension": ".py",
   "mimetype": "text/x-python",
   "name": "python",
   "nbconvert_exporter": "python",
   "pygments_lexer": "ipython3",
   "version": "3.10.16"
  }
 },
 "nbformat": 4,
 "nbformat_minor": 2
}
