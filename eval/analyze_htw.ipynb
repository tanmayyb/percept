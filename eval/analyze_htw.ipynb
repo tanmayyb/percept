{
 "cells": [
  {
   "cell_type": "code",
   "execution_count": 1,
   "metadata": {},
   "outputs": [],
   "source": [
    "%load_ext autoreload\n",
    "%autoreload 2\n",
    "\n",
    "from process_results import MetricsReader\n",
    "import yaml\n",
    "import plotly.graph_objects as go\n",
    "import plotly.io as pio\n",
    "import pandas as pd\n",
    "import numpy as np\n",
    "from pathlib import Path\n",
    "pio.templates.default = \"plotly_white\"\n",
    "pio.renderers.default = \"browser\""
   ]
  },
  {
   "cell_type": "code",
   "execution_count": 4,
   "metadata": {},
   "outputs": [],
   "source": [
    "plan ='250227_htw_hfswp_kswp_randswp_r1'\n",
    "dir_path = Path('results')/plan"
   ]
  },
  {
   "cell_type": "code",
   "execution_count": 15,
   "metadata": {},
   "outputs": [
    {
     "name": "stderr",
     "output_type": "stream",
     "text": [
      "Processing records: 100%|██████████| 1117/1117 [00:00<00:00, 399508.62it/s]\n"
     ]
    },
    {
     "name": "stdout",
     "output_type": "stream",
     "text": [
      "File: 2025-02-27-06-29-19_0_velocity_0.000001000.result took 0.019 seconds to process\n"
     ]
    },
    {
     "name": "stderr",
     "output_type": "stream",
     "text": [
      "Processing records: 100%|██████████| 1121/1121 [00:00<00:00, 380559.67it/s]\n"
     ]
    },
    {
     "name": "stdout",
     "output_type": "stream",
     "text": [
      "File: 2025-02-27-06-30-30_0_velocity_0.000112000.result took 0.026 seconds to process\n"
     ]
    },
    {
     "name": "stderr",
     "output_type": "stream",
     "text": [
      "Processing records: 100%|██████████| 1120/1120 [00:00<00:00, 247230.17it/s]\n"
     ]
    },
    {
     "name": "stdout",
     "output_type": "stream",
     "text": [
      "File: 2025-02-27-06-31-41_0_velocity_0.000223000.result took 0.024 seconds to process\n"
     ]
    },
    {
     "name": "stderr",
     "output_type": "stream",
     "text": [
      "Processing records: 100%|██████████| 1123/1123 [00:00<00:00, 365301.95it/s]\n"
     ]
    },
    {
     "name": "stdout",
     "output_type": "stream",
     "text": [
      "File: 2025-02-27-06-32-52_0_velocity_0.000334000.result took 0.020 seconds to process\n"
     ]
    },
    {
     "name": "stderr",
     "output_type": "stream",
     "text": [
      "Processing records: 100%|██████████| 1123/1123 [00:00<00:00, 281592.84it/s]\n"
     ]
    },
    {
     "name": "stdout",
     "output_type": "stream",
     "text": [
      "File: 2025-02-27-06-34-04_0_velocity_0.000445000.result took 0.021 seconds to process\n"
     ]
    },
    {
     "name": "stderr",
     "output_type": "stream",
     "text": [
      "Processing records: 100%|██████████| 1120/1120 [00:00<00:00, 247777.86it/s]\n"
     ]
    },
    {
     "name": "stdout",
     "output_type": "stream",
     "text": [
      "File: 2025-02-27-06-35-14_0_velocity_0.000556000.result took 0.023 seconds to process\n"
     ]
    },
    {
     "name": "stderr",
     "output_type": "stream",
     "text": [
      "Processing records: 100%|██████████| 1120/1120 [00:00<00:00, 258693.79it/s]\n"
     ]
    },
    {
     "name": "stdout",
     "output_type": "stream",
     "text": [
      "File: 2025-02-27-06-36-25_0_velocity_0.000667000.result took 0.021 seconds to process\n"
     ]
    },
    {
     "name": "stderr",
     "output_type": "stream",
     "text": [
      "Processing records: 100%|██████████| 1123/1123 [00:00<00:00, 262890.18it/s]\n"
     ]
    },
    {
     "name": "stdout",
     "output_type": "stream",
     "text": [
      "File: 2025-02-27-06-37-37_0_velocity_0.000778000.result took 0.022 seconds to process\n"
     ]
    },
    {
     "name": "stderr",
     "output_type": "stream",
     "text": [
      "Processing records: 100%|██████████| 1127/1127 [00:00<00:00, 245570.19it/s]\n"
     ]
    },
    {
     "name": "stdout",
     "output_type": "stream",
     "text": [
      "File: 2025-02-27-06-38-48_0_velocity_0.000889000.result took 0.021 seconds to process\n"
     ]
    },
    {
     "name": "stderr",
     "output_type": "stream",
     "text": [
      "Processing records: 100%|██████████| 1126/1126 [00:00<00:00, 389958.41it/s]\n"
     ]
    },
    {
     "name": "stdout",
     "output_type": "stream",
     "text": [
      "File: 2025-02-27-06-39-59_0_velocity_0.001000000.result took 0.020 seconds to process\n"
     ]
    },
    {
     "name": "stderr",
     "output_type": "stream",
     "text": [
      "Processing records: 100%|██████████| 1126/1126 [00:00<00:00, 394815.78it/s]\n"
     ]
    },
    {
     "name": "stdout",
     "output_type": "stream",
     "text": [
      "File: 2025-02-27-06-41-10_0_goal_0.001000000.result took 0.020 seconds to process\n"
     ]
    },
    {
     "name": "stderr",
     "output_type": "stream",
     "text": [
      "Processing records: 100%|██████████| 1124/1124 [00:00<00:00, 349162.92it/s]\n"
     ]
    },
    {
     "name": "stdout",
     "output_type": "stream",
     "text": [
      "File: 2025-02-27-06-42-21_0_goal_0.012000000.result took 0.020 seconds to process\n"
     ]
    },
    {
     "name": "stderr",
     "output_type": "stream",
     "text": [
      "Processing records: 100%|██████████| 1124/1124 [00:00<00:00, 373684.03it/s]\n"
     ]
    },
    {
     "name": "stdout",
     "output_type": "stream",
     "text": [
      "File: 2025-02-27-06-43-32_0_goal_0.023000000.result took 0.022 seconds to process\n"
     ]
    },
    {
     "name": "stderr",
     "output_type": "stream",
     "text": [
      "Processing records: 100%|██████████| 1126/1126 [00:00<00:00, 430243.81it/s]\n"
     ]
    },
    {
     "name": "stdout",
     "output_type": "stream",
     "text": [
      "File: 2025-02-27-06-44-44_0_goal_0.034000000.result took 0.018 seconds to process\n"
     ]
    },
    {
     "name": "stderr",
     "output_type": "stream",
     "text": [
      "Processing records: 100%|██████████| 1207/1207 [00:00<00:00, 398592.62it/s]\n"
     ]
    },
    {
     "name": "stdout",
     "output_type": "stream",
     "text": [
      "File: 2025-02-27-06-45-55_0_goal_0.045000000.result took 0.023 seconds to process\n"
     ]
    },
    {
     "name": "stderr",
     "output_type": "stream",
     "text": [
      "Processing records: 100%|██████████| 1130/1130 [00:00<00:00, 257542.98it/s]\n"
     ]
    },
    {
     "name": "stdout",
     "output_type": "stream",
     "text": [
      "File: 2025-02-27-06-47-06_0_goal_0.056000000.result took 0.021 seconds to process\n"
     ]
    },
    {
     "name": "stderr",
     "output_type": "stream",
     "text": [
      "Processing records: 100%|██████████| 1127/1127 [00:00<00:00, 254686.46it/s]\n"
     ]
    },
    {
     "name": "stdout",
     "output_type": "stream",
     "text": [
      "File: 2025-02-27-06-48-17_0_goal_0.067000000.result took 0.021 seconds to process\n"
     ]
    },
    {
     "name": "stderr",
     "output_type": "stream",
     "text": [
      "Processing records: 100%|██████████| 1136/1136 [00:00<00:00, 380691.06it/s]\n"
     ]
    },
    {
     "name": "stdout",
     "output_type": "stream",
     "text": [
      "File: 2025-02-27-06-49-28_0_goal_0.078000000.result took 0.023 seconds to process\n"
     ]
    },
    {
     "name": "stderr",
     "output_type": "stream",
     "text": [
      "Processing records: 100%|██████████| 1132/1132 [00:00<00:00, 261335.98it/s]\n"
     ]
    },
    {
     "name": "stdout",
     "output_type": "stream",
     "text": [
      "File: 2025-02-27-06-50-39_0_goal_0.089000000.result took 0.020 seconds to process\n"
     ]
    },
    {
     "name": "stderr",
     "output_type": "stream",
     "text": [
      "Processing records: 100%|██████████| 1129/1129 [00:00<00:00, 349990.33it/s]\n"
     ]
    },
    {
     "name": "stdout",
     "output_type": "stream",
     "text": [
      "File: 2025-02-27-06-51-51_0_goal_0.100000000.result took 0.024 seconds to process\n"
     ]
    },
    {
     "name": "stderr",
     "output_type": "stream",
     "text": [
      "Processing records: 100%|██████████| 1129/1129 [00:00<00:00, 411056.36it/s]\n"
     ]
    },
    {
     "name": "stdout",
     "output_type": "stream",
     "text": [
      "File: 2025-02-27-06-53-02_0_obstacle_0.000001000.result took 0.021 seconds to process\n"
     ]
    },
    {
     "name": "stderr",
     "output_type": "stream",
     "text": [
      "Processing records: 100%|██████████| 1132/1132 [00:00<00:00, 430926.86it/s]\n"
     ]
    },
    {
     "name": "stdout",
     "output_type": "stream",
     "text": [
      "File: 2025-02-27-06-54-13_0_obstacle_0.011112000.result took 0.024 seconds to process\n"
     ]
    },
    {
     "name": "stderr",
     "output_type": "stream",
     "text": [
      "Processing records: 100%|██████████| 1136/1136 [00:00<00:00, 364610.45it/s]\n"
     ]
    },
    {
     "name": "stdout",
     "output_type": "stream",
     "text": [
      "File: 2025-02-27-06-55-24_0_obstacle_0.022223000.result took 0.020 seconds to process\n"
     ]
    },
    {
     "name": "stderr",
     "output_type": "stream",
     "text": [
      "Processing records: 100%|██████████| 1141/1141 [00:00<00:00, 412382.67it/s]\n"
     ]
    },
    {
     "name": "stdout",
     "output_type": "stream",
     "text": [
      "File: 2025-02-27-06-56-36_0_obstacle_0.033334000.result took 0.023 seconds to process\n"
     ]
    },
    {
     "name": "stderr",
     "output_type": "stream",
     "text": [
      "Processing records: 100%|██████████| 1132/1132 [00:00<00:00, 386012.37it/s]\n"
     ]
    },
    {
     "name": "stdout",
     "output_type": "stream",
     "text": [
      "File: 2025-02-27-06-57-47_0_obstacle_0.044445000.result took 0.020 seconds to process\n"
     ]
    },
    {
     "name": "stderr",
     "output_type": "stream",
     "text": [
      "Processing records: 100%|██████████| 1133/1133 [00:00<00:00, 426622.36it/s]\n"
     ]
    },
    {
     "name": "stdout",
     "output_type": "stream",
     "text": [
      "File: 2025-02-27-06-58-58_0_obstacle_0.055556000.result took 0.022 seconds to process\n"
     ]
    },
    {
     "name": "stderr",
     "output_type": "stream",
     "text": [
      "Processing records: 100%|██████████| 1138/1138 [00:00<00:00, 470721.69it/s]\n"
     ]
    },
    {
     "name": "stdout",
     "output_type": "stream",
     "text": [
      "File: 2025-02-27-07-00-10_0_obstacle_0.066667000.result took 0.022 seconds to process\n"
     ]
    },
    {
     "name": "stderr",
     "output_type": "stream",
     "text": [
      "Processing records: 100%|██████████| 1136/1136 [00:00<00:00, 374850.86it/s]\n"
     ]
    },
    {
     "name": "stdout",
     "output_type": "stream",
     "text": [
      "File: 2025-02-27-07-01-21_0_obstacle_0.077778000.result took 0.021 seconds to process\n"
     ]
    },
    {
     "name": "stderr",
     "output_type": "stream",
     "text": [
      "Processing records: 100%|██████████| 1136/1136 [00:00<00:00, 400094.83it/s]\n"
     ]
    },
    {
     "name": "stdout",
     "output_type": "stream",
     "text": [
      "File: 2025-02-27-07-02-32_0_obstacle_0.088889000.result took 0.021 seconds to process\n"
     ]
    },
    {
     "name": "stderr",
     "output_type": "stream",
     "text": [
      "Processing records: 100%|██████████| 1138/1138 [00:00<00:00, 262273.64it/s]\n"
     ]
    },
    {
     "name": "stdout",
     "output_type": "stream",
     "text": [
      "File: 2025-02-27-07-03-43_0_obstacle_0.100000000.result took 0.027 seconds to process\n"
     ]
    },
    {
     "name": "stderr",
     "output_type": "stream",
     "text": [
      "Processing records: 100%|██████████| 1138/1138 [00:00<00:00, 447675.67it/s]\n"
     ]
    },
    {
     "name": "stdout",
     "output_type": "stream",
     "text": [
      "File: 2025-02-27-07-04-55_0_goalobstacle_0.000000001.result took 0.020 seconds to process\n"
     ]
    },
    {
     "name": "stderr",
     "output_type": "stream",
     "text": [
      "Processing records: 100%|██████████| 1142/1142 [00:00<00:00, 418660.53it/s]\n"
     ]
    },
    {
     "name": "stdout",
     "output_type": "stream",
     "text": [
      "File: 2025-02-27-07-06-06_0_goalobstacle_0.011111112.result took 0.022 seconds to process\n"
     ]
    },
    {
     "name": "stderr",
     "output_type": "stream",
     "text": [
      "Processing records: 100%|██████████| 1123/1123 [00:00<00:00, 232993.84it/s]\n"
     ]
    },
    {
     "name": "stdout",
     "output_type": "stream",
     "text": [
      "File: 2025-02-27-07-07-17_0_goalobstacle_0.022222223.result took 0.020 seconds to process\n"
     ]
    },
    {
     "name": "stderr",
     "output_type": "stream",
     "text": [
      "Processing records: 100%|██████████| 1142/1142 [00:00<00:00, 450093.51it/s]\n"
     ]
    },
    {
     "name": "stdout",
     "output_type": "stream",
     "text": [
      "File: 2025-02-27-07-08-28_0_goalobstacle_0.033333334.result took 0.025 seconds to process\n"
     ]
    },
    {
     "name": "stderr",
     "output_type": "stream",
     "text": [
      "Processing records: 100%|██████████| 1144/1144 [00:00<00:00, 264339.12it/s]\n"
     ]
    },
    {
     "name": "stdout",
     "output_type": "stream",
     "text": [
      "File: 2025-02-27-07-09-39_0_goalobstacle_0.044444445.result took 0.020 seconds to process\n"
     ]
    },
    {
     "name": "stderr",
     "output_type": "stream",
     "text": [
      "Processing records: 100%|██████████| 1145/1145 [00:00<00:00, 461776.74it/s]\n"
     ]
    },
    {
     "name": "stdout",
     "output_type": "stream",
     "text": [
      "File: 2025-02-27-07-10-50_0_goalobstacle_0.055555556.result took 0.022 seconds to process\n"
     ]
    },
    {
     "name": "stderr",
     "output_type": "stream",
     "text": [
      "Processing records: 100%|██████████| 1234/1234 [00:00<00:00, 370916.66it/s]\n"
     ]
    },
    {
     "name": "stdout",
     "output_type": "stream",
     "text": [
      "File: 2025-02-27-07-12-02_0_goalobstacle_0.066666667.result took 0.029 seconds to process\n"
     ]
    },
    {
     "name": "stderr",
     "output_type": "stream",
     "text": [
      "Processing records: 100%|██████████| 1150/1150 [00:00<00:00, 477285.73it/s]\n"
     ]
    },
    {
     "name": "stdout",
     "output_type": "stream",
     "text": [
      "File: 2025-02-27-07-13-13_0_goalobstacle_0.077777778.result took 0.018 seconds to process\n"
     ]
    },
    {
     "name": "stderr",
     "output_type": "stream",
     "text": [
      "Processing records: 100%|██████████| 1234/1234 [00:00<00:00, 472889.09it/s]\n"
     ]
    },
    {
     "name": "stdout",
     "output_type": "stream",
     "text": [
      "File: 2025-02-27-07-14-24_0_goalobstacle_0.088888889.result took 0.022 seconds to process\n"
     ]
    },
    {
     "name": "stderr",
     "output_type": "stream",
     "text": [
      "Processing records: 100%|██████████| 1153/1153 [00:00<00:00, 400964.47it/s]\n"
     ]
    },
    {
     "name": "stdout",
     "output_type": "stream",
     "text": [
      "File: 2025-02-27-07-15-35_0_goalobstacle_0.100000000.result took 0.022 seconds to process\n"
     ]
    },
    {
     "name": "stderr",
     "output_type": "stream",
     "text": [
      "Processing records: 100%|██████████| 1232/1232 [00:00<00:00, 391024.03it/s]\n"
     ]
    },
    {
     "name": "stdout",
     "output_type": "stream",
     "text": [
      "File: 2025-02-27-07-16-47_1_velocity_0.000001000.result took 0.021 seconds to process\n"
     ]
    },
    {
     "name": "stderr",
     "output_type": "stream",
     "text": [
      "Processing records: 100%|██████████| 1154/1154 [00:00<00:00, 350132.15it/s]\n"
     ]
    },
    {
     "name": "stdout",
     "output_type": "stream",
     "text": [
      "File: 2025-02-27-07-17-58_1_velocity_0.000112000.result took 0.022 seconds to process\n"
     ]
    },
    {
     "name": "stderr",
     "output_type": "stream",
     "text": [
      "Processing records: 100%|██████████| 1153/1153 [00:00<00:00, 320076.28it/s]\n"
     ]
    },
    {
     "name": "stdout",
     "output_type": "stream",
     "text": [
      "File: 2025-02-27-07-19-09_1_velocity_0.000223000.result took 0.024 seconds to process\n"
     ]
    },
    {
     "name": "stderr",
     "output_type": "stream",
     "text": [
      "Processing records: 100%|██████████| 1156/1156 [00:00<00:00, 333696.86it/s]\n"
     ]
    },
    {
     "name": "stdout",
     "output_type": "stream",
     "text": [
      "File: 2025-02-27-07-20-20_1_velocity_0.000334000.result took 0.024 seconds to process\n"
     ]
    },
    {
     "name": "stderr",
     "output_type": "stream",
     "text": [
      "Processing records: 100%|██████████| 1241/1241 [00:00<00:00, 264260.10it/s]\n"
     ]
    },
    {
     "name": "stdout",
     "output_type": "stream",
     "text": [
      "File: 2025-02-27-07-21-32_1_velocity_0.000445000.result took 0.022 seconds to process\n"
     ]
    },
    {
     "name": "stderr",
     "output_type": "stream",
     "text": [
      "Processing records: 100%|██████████| 1157/1157 [00:00<00:00, 448877.04it/s]\n"
     ]
    },
    {
     "name": "stdout",
     "output_type": "stream",
     "text": [
      "File: 2025-02-27-07-22-43_1_velocity_0.000556000.result took 0.021 seconds to process\n"
     ]
    },
    {
     "name": "stderr",
     "output_type": "stream",
     "text": [
      "Processing records: 100%|██████████| 1244/1244 [00:00<00:00, 257296.42it/s]\n"
     ]
    },
    {
     "name": "stdout",
     "output_type": "stream",
     "text": [
      "File: 2025-02-27-07-23-54_1_velocity_0.000667000.result took 0.029 seconds to process\n"
     ]
    },
    {
     "name": "stderr",
     "output_type": "stream",
     "text": [
      "Processing records: 100%|██████████| 1165/1165 [00:00<00:00, 322468.43it/s]\n"
     ]
    },
    {
     "name": "stdout",
     "output_type": "stream",
     "text": [
      "File: 2025-02-27-07-25-05_1_velocity_0.000778000.result took 0.021 seconds to process\n"
     ]
    },
    {
     "name": "stderr",
     "output_type": "stream",
     "text": [
      "Processing records: 100%|██████████| 1247/1247 [00:00<00:00, 446004.70it/s]\n"
     ]
    },
    {
     "name": "stdout",
     "output_type": "stream",
     "text": [
      "File: 2025-02-27-07-26-16_1_velocity_0.000889000.result took 0.026 seconds to process\n"
     ]
    },
    {
     "name": "stderr",
     "output_type": "stream",
     "text": [
      "Processing records: 100%|██████████| 1168/1168 [00:00<00:00, 263511.76it/s]\n"
     ]
    },
    {
     "name": "stdout",
     "output_type": "stream",
     "text": [
      "File: 2025-02-27-07-27-27_1_velocity_0.001000000.result took 0.023 seconds to process\n"
     ]
    },
    {
     "name": "stderr",
     "output_type": "stream",
     "text": [
      "Processing records: 100%|██████████| 1255/1255 [00:00<00:00, 373799.99it/s]\n"
     ]
    },
    {
     "name": "stdout",
     "output_type": "stream",
     "text": [
      "File: 2025-02-27-07-28-38_1_goal_0.001000000.result took 0.024 seconds to process\n"
     ]
    },
    {
     "name": "stderr",
     "output_type": "stream",
     "text": [
      "Processing records: 100%|██████████| 1255/1255 [00:00<00:00, 463448.80it/s]\n"
     ]
    },
    {
     "name": "stdout",
     "output_type": "stream",
     "text": [
      "File: 2025-02-27-07-29-50_1_goal_0.012000000.result took 0.024 seconds to process\n"
     ]
    },
    {
     "name": "stderr",
     "output_type": "stream",
     "text": [
      "Processing records: 100%|██████████| 1255/1255 [00:00<00:00, 374544.72it/s]\n"
     ]
    },
    {
     "name": "stdout",
     "output_type": "stream",
     "text": [
      "File: 2025-02-27-07-31-00_1_goal_0.023000000.result took 0.027 seconds to process\n"
     ]
    },
    {
     "name": "stderr",
     "output_type": "stream",
     "text": [
      "Processing records: 100%|██████████| 1171/1171 [00:00<00:00, 432200.81it/s]\n"
     ]
    },
    {
     "name": "stdout",
     "output_type": "stream",
     "text": [
      "File: 2025-02-27-07-32-12_1_goal_0.034000000.result took 0.026 seconds to process\n"
     ]
    },
    {
     "name": "stderr",
     "output_type": "stream",
     "text": [
      "Processing records: 100%|██████████| 1255/1255 [00:00<00:00, 476754.96it/s]\n"
     ]
    },
    {
     "name": "stdout",
     "output_type": "stream",
     "text": [
      "File: 2025-02-27-07-33-23_1_goal_0.045000000.result took 0.020 seconds to process\n"
     ]
    },
    {
     "name": "stderr",
     "output_type": "stream",
     "text": [
      "Processing records: 100%|██████████| 1178/1178 [00:00<00:00, 428450.41it/s]\n"
     ]
    },
    {
     "name": "stdout",
     "output_type": "stream",
     "text": [
      "File: 2025-02-27-07-34-34_1_goal_0.056000000.result took 0.021 seconds to process\n"
     ]
    },
    {
     "name": "stderr",
     "output_type": "stream",
     "text": [
      "Processing records: 100%|██████████| 1264/1264 [00:00<00:00, 268980.23it/s]\n"
     ]
    },
    {
     "name": "stdout",
     "output_type": "stream",
     "text": [
      "File: 2025-02-27-07-35-46_1_goal_0.067000000.result took 0.023 seconds to process\n"
     ]
    },
    {
     "name": "stderr",
     "output_type": "stream",
     "text": [
      "Processing records: 100%|██████████| 1264/1264 [00:00<00:00, 263958.19it/s]\n"
     ]
    },
    {
     "name": "stdout",
     "output_type": "stream",
     "text": [
      "File: 2025-02-27-07-36-57_1_goal_0.078000000.result took 0.024 seconds to process\n"
     ]
    },
    {
     "name": "stderr",
     "output_type": "stream",
     "text": [
      "Processing records: 100%|██████████| 1183/1183 [00:00<00:00, 436706.71it/s]\n"
     ]
    },
    {
     "name": "stdout",
     "output_type": "stream",
     "text": [
      "File: 2025-02-27-07-38-08_1_goal_0.089000000.result took 0.021 seconds to process\n"
     ]
    },
    {
     "name": "stderr",
     "output_type": "stream",
     "text": [
      "Processing records: 100%|██████████| 1186/1186 [00:00<00:00, 454660.87it/s]\n"
     ]
    },
    {
     "name": "stdout",
     "output_type": "stream",
     "text": [
      "File: 2025-02-27-07-39-19_1_goal_0.100000000.result took 0.020 seconds to process\n"
     ]
    },
    {
     "name": "stderr",
     "output_type": "stream",
     "text": [
      "Processing records: 100%|██████████| 1270/1270 [00:00<00:00, 259374.11it/s]\n"
     ]
    },
    {
     "name": "stdout",
     "output_type": "stream",
     "text": [
      "File: 2025-02-27-07-40-31_1_obstacle_0.000001000.result took 0.026 seconds to process\n"
     ]
    },
    {
     "name": "stderr",
     "output_type": "stream",
     "text": [
      "Processing records: 100%|██████████| 1192/1192 [00:00<00:00, 264305.90it/s]\n"
     ]
    },
    {
     "name": "stdout",
     "output_type": "stream",
     "text": [
      "File: 2025-02-27-07-41-42_1_obstacle_0.011112000.result took 0.021 seconds to process\n"
     ]
    },
    {
     "name": "stderr",
     "output_type": "stream",
     "text": [
      "Processing records: 100%|██████████| 1276/1276 [00:00<00:00, 453016.07it/s]\n"
     ]
    },
    {
     "name": "stdout",
     "output_type": "stream",
     "text": [
      "File: 2025-02-27-07-42-53_1_obstacle_0.022223000.result took 0.024 seconds to process\n"
     ]
    },
    {
     "name": "stderr",
     "output_type": "stream",
     "text": [
      "Processing records: 100%|██████████| 1198/1198 [00:00<00:00, 450087.44it/s]\n"
     ]
    },
    {
     "name": "stdout",
     "output_type": "stream",
     "text": [
      "File: 2025-02-27-07-44-04_1_obstacle_0.033334000.result took 0.022 seconds to process\n"
     ]
    },
    {
     "name": "stderr",
     "output_type": "stream",
     "text": [
      "Processing records: 100%|██████████| 1286/1286 [00:00<00:00, 381004.09it/s]\n"
     ]
    },
    {
     "name": "stdout",
     "output_type": "stream",
     "text": [
      "File: 2025-02-27-07-45-15_1_obstacle_0.044445000.result took 0.024 seconds to process\n"
     ]
    },
    {
     "name": "stderr",
     "output_type": "stream",
     "text": [
      "Processing records: 100%|██████████| 1286/1286 [00:00<00:00, 356549.11it/s]\n"
     ]
    },
    {
     "name": "stdout",
     "output_type": "stream",
     "text": [
      "File: 2025-02-27-07-46-26_1_obstacle_0.055556000.result took 0.022 seconds to process\n"
     ]
    },
    {
     "name": "stderr",
     "output_type": "stream",
     "text": [
      "Processing records: 100%|██████████| 1204/1204 [00:00<00:00, 465904.79it/s]\n"
     ]
    },
    {
     "name": "stdout",
     "output_type": "stream",
     "text": [
      "File: 2025-02-27-07-47-38_1_obstacle_0.066667000.result took 0.022 seconds to process\n"
     ]
    },
    {
     "name": "stderr",
     "output_type": "stream",
     "text": [
      "Processing records: 100%|██████████| 1204/1204 [00:00<00:00, 366735.08it/s]\n"
     ]
    },
    {
     "name": "stdout",
     "output_type": "stream",
     "text": [
      "File: 2025-02-27-07-48-49_1_obstacle_0.077778000.result took 0.021 seconds to process\n"
     ]
    },
    {
     "name": "stderr",
     "output_type": "stream",
     "text": [
      "Processing records: 100%|██████████| 1294/1294 [00:00<00:00, 410919.85it/s]\n"
     ]
    },
    {
     "name": "stdout",
     "output_type": "stream",
     "text": [
      "File: 2025-02-27-07-50-00_1_obstacle_0.088889000.result took 0.027 seconds to process\n"
     ]
    },
    {
     "name": "stderr",
     "output_type": "stream",
     "text": [
      "Processing records: 100%|██████████| 1201/1201 [00:00<00:00, 388415.38it/s]\n"
     ]
    },
    {
     "name": "stdout",
     "output_type": "stream",
     "text": [
      "File: 2025-02-27-07-51-12_1_obstacle_0.100000000.result took 0.020 seconds to process\n"
     ]
    },
    {
     "name": "stderr",
     "output_type": "stream",
     "text": [
      "Processing records: 100%|██████████| 1252/1252 [00:00<00:00, 277331.32it/s]\n"
     ]
    },
    {
     "name": "stdout",
     "output_type": "stream",
     "text": [
      "File: 2025-02-27-07-52-23_1_goalobstacle_0.000000001.result took 0.024 seconds to process\n"
     ]
    },
    {
     "name": "stderr",
     "output_type": "stream",
     "text": [
      "Processing records: 100%|██████████| 1294/1294 [00:00<00:00, 465354.49it/s]\n"
     ]
    },
    {
     "name": "stdout",
     "output_type": "stream",
     "text": [
      "File: 2025-02-27-07-53-34_1_goalobstacle_0.011111112.result took 0.025 seconds to process\n"
     ]
    },
    {
     "name": "stderr",
     "output_type": "stream",
     "text": [
      "Processing records: 100%|██████████| 1211/1211 [00:00<00:00, 394539.55it/s]\n"
     ]
    },
    {
     "name": "stdout",
     "output_type": "stream",
     "text": [
      "File: 2025-02-27-07-54-45_1_goalobstacle_0.022222223.result took 0.023 seconds to process\n"
     ]
    },
    {
     "name": "stderr",
     "output_type": "stream",
     "text": [
      "Processing records: 100%|██████████| 1303/1303 [00:00<00:00, 408001.35it/s]\n"
     ]
    },
    {
     "name": "stdout",
     "output_type": "stream",
     "text": [
      "File: 2025-02-27-07-55-57_1_goalobstacle_0.033333334.result took 0.024 seconds to process\n"
     ]
    },
    {
     "name": "stderr",
     "output_type": "stream",
     "text": [
      "Processing records: 100%|██████████| 1304/1304 [00:00<00:00, 451640.99it/s]\n"
     ]
    },
    {
     "name": "stdout",
     "output_type": "stream",
     "text": [
      "File: 2025-02-27-07-57-08_1_goalobstacle_0.044444445.result took 0.032 seconds to process\n"
     ]
    },
    {
     "name": "stderr",
     "output_type": "stream",
     "text": [
      "Processing records: 100%|██████████| 1306/1306 [00:00<00:00, 416845.07it/s]\n"
     ]
    },
    {
     "name": "stdout",
     "output_type": "stream",
     "text": [
      "File: 2025-02-27-07-58-19_1_goalobstacle_0.055555556.result took 0.025 seconds to process\n"
     ]
    },
    {
     "name": "stderr",
     "output_type": "stream",
     "text": [
      "Processing records: 100%|██████████| 1298/1298 [00:00<00:00, 458768.57it/s]\n"
     ]
    },
    {
     "name": "stdout",
     "output_type": "stream",
     "text": [
      "File: 2025-02-27-07-59-31_1_goalobstacle_0.066666667.result took 0.025 seconds to process\n"
     ]
    },
    {
     "name": "stderr",
     "output_type": "stream",
     "text": [
      "Processing records: 100%|██████████| 1303/1303 [00:00<00:00, 449549.90it/s]\n"
     ]
    },
    {
     "name": "stdout",
     "output_type": "stream",
     "text": [
      "File: 2025-02-27-08-00-42_1_goalobstacle_0.077777778.result took 0.022 seconds to process\n"
     ]
    },
    {
     "name": "stderr",
     "output_type": "stream",
     "text": [
      "Processing records: 100%|██████████| 1283/1283 [00:00<00:00, 360869.91it/s]\n"
     ]
    },
    {
     "name": "stdout",
     "output_type": "stream",
     "text": [
      "File: 2025-02-27-08-01-54_1_goalobstacle_0.088888889.result took 0.022 seconds to process\n"
     ]
    },
    {
     "name": "stderr",
     "output_type": "stream",
     "text": [
      "Processing records: 100%|██████████| 1303/1303 [00:00<00:00, 437179.27it/s]\n"
     ]
    },
    {
     "name": "stdout",
     "output_type": "stream",
     "text": [
      "File: 2025-02-27-08-03-05_1_goalobstacle_0.100000000.result took 0.026 seconds to process\n"
     ]
    },
    {
     "name": "stderr",
     "output_type": "stream",
     "text": [
      "Processing records: 100%|██████████| 1310/1310 [00:00<00:00, 475635.24it/s]\n"
     ]
    },
    {
     "name": "stdout",
     "output_type": "stream",
     "text": [
      "File: 2025-02-27-08-04-16_2_velocity_0.000001000.result took 0.021 seconds to process\n"
     ]
    },
    {
     "name": "stderr",
     "output_type": "stream",
     "text": [
      "Processing records: 100%|██████████| 1220/1220 [00:00<00:00, 265696.60it/s]\n"
     ]
    },
    {
     "name": "stdout",
     "output_type": "stream",
     "text": [
      "File: 2025-02-27-08-05-27_2_velocity_0.000112000.result took 0.028 seconds to process\n"
     ]
    },
    {
     "name": "stderr",
     "output_type": "stream",
     "text": [
      "Processing records: 100%|██████████| 1307/1307 [00:00<00:00, 268171.18it/s]\n"
     ]
    },
    {
     "name": "stdout",
     "output_type": "stream",
     "text": [
      "File: 2025-02-27-08-06-39_2_velocity_0.000223000.result took 0.031 seconds to process\n"
     ]
    },
    {
     "name": "stderr",
     "output_type": "stream",
     "text": [
      "Processing records: 100%|██████████| 1310/1310 [00:00<00:00, 257259.02it/s]\n"
     ]
    },
    {
     "name": "stdout",
     "output_type": "stream",
     "text": [
      "File: 2025-02-27-08-07-50_2_velocity_0.000334000.result took 0.026 seconds to process\n"
     ]
    },
    {
     "name": "stderr",
     "output_type": "stream",
     "text": [
      "Processing records: 100%|██████████| 1306/1306 [00:00<00:00, 476161.42it/s]\n"
     ]
    },
    {
     "name": "stdout",
     "output_type": "stream",
     "text": [
      "File: 2025-02-27-08-09-01_2_velocity_0.000445000.result took 0.024 seconds to process\n"
     ]
    },
    {
     "name": "stderr",
     "output_type": "stream",
     "text": [
      "Processing records: 100%|██████████| 1214/1214 [00:00<00:00, 270816.14it/s]\n"
     ]
    },
    {
     "name": "stdout",
     "output_type": "stream",
     "text": [
      "File: 2025-02-27-08-10-12_2_velocity_0.000556000.result took 0.027 seconds to process\n"
     ]
    },
    {
     "name": "stderr",
     "output_type": "stream",
     "text": [
      "Processing records: 100%|██████████| 1309/1309 [00:00<00:00, 331702.75it/s]\n"
     ]
    },
    {
     "name": "stdout",
     "output_type": "stream",
     "text": [
      "File: 2025-02-27-08-11-23_2_velocity_0.000667000.result took 0.024 seconds to process\n"
     ]
    },
    {
     "name": "stderr",
     "output_type": "stream",
     "text": [
      "Processing records: 100%|██████████| 1310/1310 [00:00<00:00, 401383.46it/s]\n"
     ]
    },
    {
     "name": "stdout",
     "output_type": "stream",
     "text": [
      "File: 2025-02-27-08-12-35_2_velocity_0.000778000.result took 0.026 seconds to process\n"
     ]
    },
    {
     "name": "stderr",
     "output_type": "stream",
     "text": [
      "Processing records: 100%|██████████| 1309/1309 [00:00<00:00, 260799.16it/s]\n"
     ]
    },
    {
     "name": "stdout",
     "output_type": "stream",
     "text": [
      "File: 2025-02-27-08-13-46_2_velocity_0.000889000.result took 0.026 seconds to process\n"
     ]
    },
    {
     "name": "stderr",
     "output_type": "stream",
     "text": [
      "Processing records: 100%|██████████| 1306/1306 [00:00<00:00, 385975.27it/s]\n"
     ]
    },
    {
     "name": "stdout",
     "output_type": "stream",
     "text": [
      "File: 2025-02-27-08-14-57_2_velocity_0.001000000.result took 0.027 seconds to process\n"
     ]
    },
    {
     "name": "stderr",
     "output_type": "stream",
     "text": [
      "Processing records: 100%|██████████| 1309/1309 [00:00<00:00, 436087.68it/s]\n"
     ]
    },
    {
     "name": "stdout",
     "output_type": "stream",
     "text": [
      "File: 2025-02-27-08-16-09_2_goal_0.001000000.result took 0.023 seconds to process\n"
     ]
    },
    {
     "name": "stderr",
     "output_type": "stream",
     "text": [
      "Processing records: 100%|██████████| 1309/1309 [00:00<00:00, 394081.53it/s]\n"
     ]
    },
    {
     "name": "stdout",
     "output_type": "stream",
     "text": [
      "File: 2025-02-27-08-17-20_2_goal_0.012000000.result took 0.025 seconds to process\n"
     ]
    },
    {
     "name": "stderr",
     "output_type": "stream",
     "text": [
      "Processing records: 100%|██████████| 1309/1309 [00:00<00:00, 399733.81it/s]\n"
     ]
    },
    {
     "name": "stdout",
     "output_type": "stream",
     "text": [
      "File: 2025-02-27-08-18-31_2_goal_0.023000000.result took 0.024 seconds to process\n"
     ]
    },
    {
     "name": "stderr",
     "output_type": "stream",
     "text": [
      "Processing records: 100%|██████████| 1220/1220 [00:00<00:00, 434347.75it/s]\n"
     ]
    },
    {
     "name": "stdout",
     "output_type": "stream",
     "text": [
      "File: 2025-02-27-08-19-42_2_goal_0.034000000.result took 0.024 seconds to process\n"
     ]
    },
    {
     "name": "stderr",
     "output_type": "stream",
     "text": [
      "Processing records: 100%|██████████| 1309/1309 [00:00<00:00, 280778.56it/s]\n"
     ]
    },
    {
     "name": "stdout",
     "output_type": "stream",
     "text": [
      "File: 2025-02-27-08-20-53_2_goal_0.045000000.result took 0.030 seconds to process\n"
     ]
    },
    {
     "name": "stderr",
     "output_type": "stream",
     "text": [
      "Processing records: 100%|██████████| 1282/1282 [00:00<00:00, 366462.05it/s]\n"
     ]
    },
    {
     "name": "stdout",
     "output_type": "stream",
     "text": [
      "File: 2025-02-27-08-22-05_2_goal_0.056000000.result took 0.026 seconds to process\n"
     ]
    },
    {
     "name": "stderr",
     "output_type": "stream",
     "text": [
      "Processing records: 100%|██████████| 1298/1298 [00:00<00:00, 339689.69it/s]\n"
     ]
    },
    {
     "name": "stdout",
     "output_type": "stream",
     "text": [
      "File: 2025-02-27-08-23-16_2_goal_0.067000000.result took 0.026 seconds to process\n"
     ]
    },
    {
     "name": "stderr",
     "output_type": "stream",
     "text": [
      "Processing records: 100%|██████████| 1310/1310 [00:00<00:00, 342530.90it/s]\n"
     ]
    },
    {
     "name": "stdout",
     "output_type": "stream",
     "text": [
      "File: 2025-02-27-08-24-27_2_goal_0.078000000.result took 0.024 seconds to process\n"
     ]
    },
    {
     "name": "stderr",
     "output_type": "stream",
     "text": [
      "Processing records: 100%|██████████| 1309/1309 [00:00<00:00, 379245.97it/s]\n"
     ]
    },
    {
     "name": "stdout",
     "output_type": "stream",
     "text": [
      "File: 2025-02-27-08-25-38_2_goal_0.089000000.result took 0.023 seconds to process\n"
     ]
    },
    {
     "name": "stderr",
     "output_type": "stream",
     "text": [
      "Processing records: 100%|██████████| 1309/1309 [00:00<00:00, 463398.37it/s]\n"
     ]
    },
    {
     "name": "stdout",
     "output_type": "stream",
     "text": [
      "File: 2025-02-27-08-26-49_2_goal_0.100000000.result took 0.021 seconds to process\n"
     ]
    },
    {
     "name": "stderr",
     "output_type": "stream",
     "text": [
      "Processing records: 100%|██████████| 1215/1215 [00:00<00:00, 411372.24it/s]\n"
     ]
    },
    {
     "name": "stdout",
     "output_type": "stream",
     "text": [
      "File: 2025-02-27-08-28-01_2_obstacle_0.000001000.result took 0.026 seconds to process\n"
     ]
    },
    {
     "name": "stderr",
     "output_type": "stream",
     "text": [
      "Processing records: 100%|██████████| 1214/1214 [00:00<00:00, 480547.85it/s]\n"
     ]
    },
    {
     "name": "stdout",
     "output_type": "stream",
     "text": [
      "File: 2025-02-27-08-29-12_2_obstacle_0.011112000.result took 0.022 seconds to process\n"
     ]
    },
    {
     "name": "stderr",
     "output_type": "stream",
     "text": [
      "Processing records: 100%|██████████| 1212/1212 [00:00<00:00, 401001.53it/s]\n"
     ]
    },
    {
     "name": "stdout",
     "output_type": "stream",
     "text": [
      "File: 2025-02-27-08-30-24_2_obstacle_0.022223000.result took 0.022 seconds to process\n"
     ]
    },
    {
     "name": "stderr",
     "output_type": "stream",
     "text": [
      "Processing records: 100%|██████████| 1296/1296 [00:00<00:00, 408033.18it/s]\n"
     ]
    },
    {
     "name": "stdout",
     "output_type": "stream",
     "text": [
      "File: 2025-02-27-08-31-35_2_obstacle_0.033334000.result took 0.026 seconds to process\n"
     ]
    },
    {
     "name": "stderr",
     "output_type": "stream",
     "text": [
      "Processing records: 100%|██████████| 1301/1301 [00:00<00:00, 470494.01it/s]\n"
     ]
    },
    {
     "name": "stdout",
     "output_type": "stream",
     "text": [
      "File: 2025-02-27-08-32-46_2_obstacle_0.044445000.result took 0.024 seconds to process\n"
     ]
    },
    {
     "name": "stderr",
     "output_type": "stream",
     "text": [
      "Processing records: 100%|██████████| 1303/1303 [00:00<00:00, 265893.65it/s]\n"
     ]
    },
    {
     "name": "stdout",
     "output_type": "stream",
     "text": [
      "File: 2025-02-27-08-33-57_2_obstacle_0.055556000.result took 0.031 seconds to process\n"
     ]
    },
    {
     "name": "stderr",
     "output_type": "stream",
     "text": [
      "Processing records: 100%|██████████| 1304/1304 [00:00<00:00, 412222.82it/s]\n"
     ]
    },
    {
     "name": "stdout",
     "output_type": "stream",
     "text": [
      "File: 2025-02-27-08-35-08_2_obstacle_0.066667000.result took 0.023 seconds to process\n"
     ]
    },
    {
     "name": "stderr",
     "output_type": "stream",
     "text": [
      "Processing records: 100%|██████████| 1303/1303 [00:00<00:00, 304314.17it/s]\n"
     ]
    },
    {
     "name": "stdout",
     "output_type": "stream",
     "text": [
      "File: 2025-02-27-08-36-19_2_obstacle_0.077778000.result took 0.023 seconds to process\n"
     ]
    },
    {
     "name": "stderr",
     "output_type": "stream",
     "text": [
      "Processing records: 100%|██████████| 1300/1300 [00:00<00:00, 418015.58it/s]\n"
     ]
    },
    {
     "name": "stdout",
     "output_type": "stream",
     "text": [
      "File: 2025-02-27-08-37-31_2_obstacle_0.088889000.result took 0.024 seconds to process\n"
     ]
    },
    {
     "name": "stderr",
     "output_type": "stream",
     "text": [
      "Processing records: 100%|██████████| 1215/1215 [00:00<00:00, 367947.97it/s]\n"
     ]
    },
    {
     "name": "stdout",
     "output_type": "stream",
     "text": [
      "File: 2025-02-27-08-38-42_2_obstacle_0.100000000.result took 0.023 seconds to process\n"
     ]
    },
    {
     "name": "stderr",
     "output_type": "stream",
     "text": [
      "Processing records: 100%|██████████| 1288/1288 [00:00<00:00, 281192.15it/s]\n"
     ]
    },
    {
     "name": "stdout",
     "output_type": "stream",
     "text": [
      "File: 2025-02-27-08-39-53_2_goalobstacle_0.000000001.result took 0.030 seconds to process\n"
     ]
    },
    {
     "name": "stderr",
     "output_type": "stream",
     "text": [
      "Processing records: 100%|██████████| 1307/1307 [00:00<00:00, 374604.03it/s]\n"
     ]
    },
    {
     "name": "stdout",
     "output_type": "stream",
     "text": [
      "File: 2025-02-27-08-41-05_2_goalobstacle_0.011111112.result took 0.023 seconds to process\n"
     ]
    },
    {
     "name": "stderr",
     "output_type": "stream",
     "text": [
      "Processing records: 100%|██████████| 1306/1306 [00:00<00:00, 386274.66it/s]\n"
     ]
    },
    {
     "name": "stdout",
     "output_type": "stream",
     "text": [
      "File: 2025-02-27-08-42-16_2_goalobstacle_0.022222223.result took 0.022 seconds to process\n"
     ]
    },
    {
     "name": "stderr",
     "output_type": "stream",
     "text": [
      "Processing records: 100%|██████████| 1306/1306 [00:00<00:00, 437311.27it/s]\n"
     ]
    },
    {
     "name": "stdout",
     "output_type": "stream",
     "text": [
      "File: 2025-02-27-08-43-27_2_goalobstacle_0.033333334.result took 0.022 seconds to process\n"
     ]
    },
    {
     "name": "stderr",
     "output_type": "stream",
     "text": [
      "Processing records: 100%|██████████| 1300/1300 [00:00<00:00, 390028.27it/s]\n"
     ]
    },
    {
     "name": "stdout",
     "output_type": "stream",
     "text": [
      "File: 2025-02-27-08-44-38_2_goalobstacle_0.044444445.result took 0.021 seconds to process\n"
     ]
    },
    {
     "name": "stderr",
     "output_type": "stream",
     "text": [
      "Processing records: 100%|██████████| 1304/1304 [00:00<00:00, 329698.74it/s]\n"
     ]
    },
    {
     "name": "stdout",
     "output_type": "stream",
     "text": [
      "File: 2025-02-27-08-45-50_2_goalobstacle_0.055555556.result took 0.023 seconds to process\n"
     ]
    },
    {
     "name": "stderr",
     "output_type": "stream",
     "text": [
      "Processing records: 100%|██████████| 1303/1303 [00:00<00:00, 442739.64it/s]\n"
     ]
    },
    {
     "name": "stdout",
     "output_type": "stream",
     "text": [
      "File: 2025-02-27-08-47-01_2_goalobstacle_0.066666667.result took 0.024 seconds to process\n"
     ]
    },
    {
     "name": "stderr",
     "output_type": "stream",
     "text": [
      "Processing records: 100%|██████████| 1303/1303 [00:00<00:00, 431381.96it/s]\n"
     ]
    },
    {
     "name": "stdout",
     "output_type": "stream",
     "text": [
      "File: 2025-02-27-08-48-12_2_goalobstacle_0.077777778.result took 0.026 seconds to process\n"
     ]
    },
    {
     "name": "stderr",
     "output_type": "stream",
     "text": [
      "Processing records: 100%|██████████| 1300/1300 [00:00<00:00, 403955.79it/s]\n"
     ]
    },
    {
     "name": "stdout",
     "output_type": "stream",
     "text": [
      "File: 2025-02-27-08-49-23_2_goalobstacle_0.088888889.result took 0.024 seconds to process\n"
     ]
    },
    {
     "name": "stderr",
     "output_type": "stream",
     "text": [
      "Processing records: 100%|██████████| 1304/1304 [00:00<00:00, 439095.41it/s]\n"
     ]
    },
    {
     "name": "stdout",
     "output_type": "stream",
     "text": [
      "File: 2025-02-27-08-50-34_2_goalobstacle_0.100000000.result took 0.030 seconds to process\n"
     ]
    },
    {
     "name": "stderr",
     "output_type": "stream",
     "text": [
      "Processing records: 100%|██████████| 1306/1306 [00:00<00:00, 463823.96it/s]\n"
     ]
    },
    {
     "name": "stdout",
     "output_type": "stream",
     "text": [
      "File: 2025-02-27-08-51-45_3_velocity_0.000001000.result took 0.029 seconds to process\n"
     ]
    },
    {
     "name": "stderr",
     "output_type": "stream",
     "text": [
      "Processing records: 100%|██████████| 1306/1306 [00:00<00:00, 389460.44it/s]\n"
     ]
    },
    {
     "name": "stdout",
     "output_type": "stream",
     "text": [
      "File: 2025-02-27-08-52-57_3_velocity_0.000112000.result took 0.028 seconds to process\n"
     ]
    },
    {
     "name": "stderr",
     "output_type": "stream",
     "text": [
      "Processing records: 100%|██████████| 1211/1211 [00:00<00:00, 266994.44it/s]\n"
     ]
    },
    {
     "name": "stdout",
     "output_type": "stream",
     "text": [
      "File: 2025-02-27-08-54-08_3_velocity_0.000223000.result took 0.025 seconds to process\n"
     ]
    },
    {
     "name": "stderr",
     "output_type": "stream",
     "text": [
      "Processing records: 100%|██████████| 1307/1307 [00:00<00:00, 435767.51it/s]\n"
     ]
    },
    {
     "name": "stdout",
     "output_type": "stream",
     "text": [
      "File: 2025-02-27-08-55-20_3_velocity_0.000334000.result took 0.028 seconds to process\n"
     ]
    },
    {
     "name": "stderr",
     "output_type": "stream",
     "text": [
      "Processing records: 100%|██████████| 1296/1296 [00:00<00:00, 425304.59it/s]\n"
     ]
    },
    {
     "name": "stdout",
     "output_type": "stream",
     "text": [
      "File: 2025-02-27-08-56-31_3_velocity_0.000445000.result took 0.023 seconds to process\n"
     ]
    },
    {
     "name": "stderr",
     "output_type": "stream",
     "text": [
      "Processing records: 100%|██████████| 1295/1295 [00:00<00:00, 407534.79it/s]\n"
     ]
    },
    {
     "name": "stdout",
     "output_type": "stream",
     "text": [
      "File: 2025-02-27-08-57-43_3_velocity_0.000556000.result took 0.027 seconds to process\n"
     ]
    },
    {
     "name": "stderr",
     "output_type": "stream",
     "text": [
      "Processing records: 100%|██████████| 1217/1217 [00:00<00:00, 458416.52it/s]\n"
     ]
    },
    {
     "name": "stdout",
     "output_type": "stream",
     "text": [
      "File: 2025-02-27-08-58-54_3_velocity_0.000667000.result took 0.022 seconds to process\n"
     ]
    },
    {
     "name": "stderr",
     "output_type": "stream",
     "text": [
      "Processing records: 100%|██████████| 1285/1285 [00:00<00:00, 484814.31it/s]\n"
     ]
    },
    {
     "name": "stdout",
     "output_type": "stream",
     "text": [
      "File: 2025-02-27-09-00-05_3_velocity_0.000778000.result took 0.026 seconds to process\n"
     ]
    },
    {
     "name": "stderr",
     "output_type": "stream",
     "text": [
      "Processing records: 100%|██████████| 1303/1303 [00:00<00:00, 474325.47it/s]\n"
     ]
    },
    {
     "name": "stdout",
     "output_type": "stream",
     "text": [
      "File: 2025-02-27-09-01-17_3_velocity_0.000889000.result took 0.028 seconds to process\n"
     ]
    },
    {
     "name": "stderr",
     "output_type": "stream",
     "text": [
      "Processing records: 100%|██████████| 1215/1215 [00:00<00:00, 449389.71it/s]\n"
     ]
    },
    {
     "name": "stdout",
     "output_type": "stream",
     "text": [
      "File: 2025-02-27-09-02-28_3_velocity_0.001000000.result took 0.026 seconds to process\n"
     ]
    },
    {
     "name": "stderr",
     "output_type": "stream",
     "text": [
      "Processing records: 100%|██████████| 1302/1302 [00:00<00:00, 458867.64it/s]\n"
     ]
    },
    {
     "name": "stdout",
     "output_type": "stream",
     "text": [
      "File: 2025-02-27-09-03-39_3_goal_0.001000000.result took 0.024 seconds to process\n"
     ]
    },
    {
     "name": "stderr",
     "output_type": "stream",
     "text": [
      "Processing records: 100%|██████████| 1303/1303 [00:00<00:00, 365710.53it/s]\n"
     ]
    },
    {
     "name": "stdout",
     "output_type": "stream",
     "text": [
      "File: 2025-02-27-09-04-51_3_goal_0.012000000.result took 0.022 seconds to process\n"
     ]
    },
    {
     "name": "stderr",
     "output_type": "stream",
     "text": [
      "Processing records: 100%|██████████| 1306/1306 [00:00<00:00, 453119.45it/s]\n"
     ]
    },
    {
     "name": "stdout",
     "output_type": "stream",
     "text": [
      "File: 2025-02-27-09-06-02_3_goal_0.023000000.result took 0.029 seconds to process\n"
     ]
    },
    {
     "name": "stderr",
     "output_type": "stream",
     "text": [
      "Processing records: 100%|██████████| 1306/1306 [00:00<00:00, 267887.37it/s]\n"
     ]
    },
    {
     "name": "stdout",
     "output_type": "stream",
     "text": [
      "File: 2025-02-27-09-07-13_3_goal_0.034000000.result took 0.030 seconds to process\n"
     ]
    },
    {
     "name": "stderr",
     "output_type": "stream",
     "text": [
      "Processing records: 100%|██████████| 1222/1222 [00:00<00:00, 437809.81it/s]\n"
     ]
    },
    {
     "name": "stdout",
     "output_type": "stream",
     "text": [
      "File: 2025-02-27-09-08-24_3_goal_0.045000000.result took 0.021 seconds to process\n"
     ]
    },
    {
     "name": "stderr",
     "output_type": "stream",
     "text": [
      "Processing records: 100%|██████████| 1303/1303 [00:00<00:00, 343160.75it/s]\n"
     ]
    },
    {
     "name": "stdout",
     "output_type": "stream",
     "text": [
      "File: 2025-02-27-09-09-36_3_goal_0.056000000.result took 0.022 seconds to process\n"
     ]
    },
    {
     "name": "stderr",
     "output_type": "stream",
     "text": [
      "Processing records: 100%|██████████| 1310/1310 [00:00<00:00, 249275.85it/s]\n"
     ]
    },
    {
     "name": "stdout",
     "output_type": "stream",
     "text": [
      "File: 2025-02-27-09-10-47_3_goal_0.067000000.result took 0.025 seconds to process\n"
     ]
    },
    {
     "name": "stderr",
     "output_type": "stream",
     "text": [
      "Processing records: 100%|██████████| 1301/1301 [00:00<00:00, 454316.00it/s]\n"
     ]
    },
    {
     "name": "stdout",
     "output_type": "stream",
     "text": [
      "File: 2025-02-27-09-11-59_3_goal_0.078000000.result took 0.026 seconds to process\n"
     ]
    },
    {
     "name": "stderr",
     "output_type": "stream",
     "text": [
      "Processing records: 100%|██████████| 1288/1288 [00:00<00:00, 454086.20it/s]\n"
     ]
    },
    {
     "name": "stdout",
     "output_type": "stream",
     "text": [
      "File: 2025-02-27-09-13-10_3_goal_0.089000000.result took 0.025 seconds to process\n"
     ]
    },
    {
     "name": "stderr",
     "output_type": "stream",
     "text": [
      "Processing records: 100%|██████████| 1309/1309 [00:00<00:00, 403998.82it/s]\n"
     ]
    },
    {
     "name": "stdout",
     "output_type": "stream",
     "text": [
      "File: 2025-02-27-09-14-21_3_goal_0.100000000.result took 0.026 seconds to process\n"
     ]
    },
    {
     "name": "stderr",
     "output_type": "stream",
     "text": [
      "Processing records: 100%|██████████| 1215/1215 [00:00<00:00, 451780.09it/s]\n"
     ]
    },
    {
     "name": "stdout",
     "output_type": "stream",
     "text": [
      "File: 2025-02-27-09-15-33_3_obstacle_0.000001000.result took 0.024 seconds to process\n"
     ]
    },
    {
     "name": "stderr",
     "output_type": "stream",
     "text": [
      "Processing records: 100%|██████████| 1306/1306 [00:00<00:00, 444046.78it/s]\n"
     ]
    },
    {
     "name": "stdout",
     "output_type": "stream",
     "text": [
      "File: 2025-02-27-09-16-44_3_obstacle_0.011112000.result took 0.027 seconds to process\n"
     ]
    },
    {
     "name": "stderr",
     "output_type": "stream",
     "text": [
      "Processing records: 100%|██████████| 1306/1306 [00:00<00:00, 451960.48it/s]\n"
     ]
    },
    {
     "name": "stdout",
     "output_type": "stream",
     "text": [
      "File: 2025-02-27-09-17-55_3_obstacle_0.022223000.result took 0.027 seconds to process\n"
     ]
    },
    {
     "name": "stderr",
     "output_type": "stream",
     "text": [
      "Processing records: 100%|██████████| 1306/1306 [00:00<00:00, 430404.73it/s]\n"
     ]
    },
    {
     "name": "stdout",
     "output_type": "stream",
     "text": [
      "File: 2025-02-27-09-19-07_3_obstacle_0.033334000.result took 0.025 seconds to process\n"
     ]
    },
    {
     "name": "stderr",
     "output_type": "stream",
     "text": [
      "Processing records: 100%|██████████| 1304/1304 [00:00<00:00, 299938.16it/s]\n"
     ]
    },
    {
     "name": "stdout",
     "output_type": "stream",
     "text": [
      "File: 2025-02-27-09-20-18_3_obstacle_0.044445000.result took 0.023 seconds to process\n"
     ]
    },
    {
     "name": "stderr",
     "output_type": "stream",
     "text": [
      "Processing records: 100%|██████████| 1306/1306 [00:00<00:00, 433504.35it/s]\n"
     ]
    },
    {
     "name": "stdout",
     "output_type": "stream",
     "text": [
      "File: 2025-02-27-09-21-30_3_obstacle_0.055556000.result took 0.022 seconds to process\n"
     ]
    },
    {
     "name": "stderr",
     "output_type": "stream",
     "text": [
      "Processing records: 100%|██████████| 1297/1297 [00:00<00:00, 435758.75it/s]\n"
     ]
    },
    {
     "name": "stdout",
     "output_type": "stream",
     "text": [
      "File: 2025-02-27-09-22-41_3_obstacle_0.066667000.result took 0.023 seconds to process\n"
     ]
    },
    {
     "name": "stderr",
     "output_type": "stream",
     "text": [
      "Processing records: 100%|██████████| 1306/1306 [00:00<00:00, 266960.43it/s]\n"
     ]
    },
    {
     "name": "stdout",
     "output_type": "stream",
     "text": [
      "File: 2025-02-27-09-23-52_3_obstacle_0.077778000.result took 0.026 seconds to process\n"
     ]
    },
    {
     "name": "stderr",
     "output_type": "stream",
     "text": [
      "Processing records: 100%|██████████| 1306/1306 [00:00<00:00, 417671.45it/s]\n"
     ]
    },
    {
     "name": "stdout",
     "output_type": "stream",
     "text": [
      "File: 2025-02-27-09-25-04_3_obstacle_0.088889000.result took 0.024 seconds to process\n"
     ]
    },
    {
     "name": "stderr",
     "output_type": "stream",
     "text": [
      "Processing records: 100%|██████████| 1306/1306 [00:00<00:00, 80246.13it/s]\n"
     ]
    },
    {
     "name": "stdout",
     "output_type": "stream",
     "text": [
      "File: 2025-02-27-09-26-15_3_obstacle_0.100000000.result took 0.025 seconds to process\n"
     ]
    },
    {
     "name": "stderr",
     "output_type": "stream",
     "text": [
      "Processing records: 100%|██████████| 1306/1306 [00:00<00:00, 452483.15it/s]\n"
     ]
    },
    {
     "name": "stdout",
     "output_type": "stream",
     "text": [
      "File: 2025-02-27-09-27-26_3_goalobstacle_0.000000001.result took 0.024 seconds to process\n"
     ]
    },
    {
     "name": "stderr",
     "output_type": "stream",
     "text": [
      "Processing records: 100%|██████████| 1307/1307 [00:00<00:00, 439224.05it/s]\n"
     ]
    },
    {
     "name": "stdout",
     "output_type": "stream",
     "text": [
      "File: 2025-02-27-09-28-38_3_goalobstacle_0.011111112.result took 0.024 seconds to process\n"
     ]
    },
    {
     "name": "stderr",
     "output_type": "stream",
     "text": [
      "Processing records: 100%|██████████| 1306/1306 [00:00<00:00, 414824.77it/s]\n"
     ]
    },
    {
     "name": "stdout",
     "output_type": "stream",
     "text": [
      "File: 2025-02-27-09-29-49_3_goalobstacle_0.022222223.result took 0.025 seconds to process\n"
     ]
    },
    {
     "name": "stderr",
     "output_type": "stream",
     "text": [
      "Processing records: 100%|██████████| 1306/1306 [00:00<00:00, 357392.90it/s]\n"
     ]
    },
    {
     "name": "stdout",
     "output_type": "stream",
     "text": [
      "File: 2025-02-27-09-31-01_3_goalobstacle_0.033333334.result took 0.025 seconds to process\n"
     ]
    },
    {
     "name": "stderr",
     "output_type": "stream",
     "text": [
      "Processing records: 100%|██████████| 1300/1300 [00:00<00:00, 276641.06it/s]\n"
     ]
    },
    {
     "name": "stdout",
     "output_type": "stream",
     "text": [
      "File: 2025-02-27-09-32-12_3_goalobstacle_0.044444445.result took 0.022 seconds to process\n"
     ]
    },
    {
     "name": "stderr",
     "output_type": "stream",
     "text": [
      "Processing records: 100%|██████████| 1285/1285 [00:00<00:00, 446683.30it/s]\n"
     ]
    },
    {
     "name": "stdout",
     "output_type": "stream",
     "text": [
      "File: 2025-02-27-09-33-23_3_goalobstacle_0.055555556.result took 0.023 seconds to process\n"
     ]
    },
    {
     "name": "stderr",
     "output_type": "stream",
     "text": [
      "Processing records: 100%|██████████| 1306/1306 [00:00<00:00, 474059.80it/s]\n"
     ]
    },
    {
     "name": "stdout",
     "output_type": "stream",
     "text": [
      "File: 2025-02-27-09-34-35_3_goalobstacle_0.066666667.result took 0.024 seconds to process\n"
     ]
    },
    {
     "name": "stderr",
     "output_type": "stream",
     "text": [
      "Processing records: 100%|██████████| 1304/1304 [00:00<00:00, 466590.38it/s]\n"
     ]
    },
    {
     "name": "stdout",
     "output_type": "stream",
     "text": [
      "File: 2025-02-27-09-35-46_3_goalobstacle_0.077777778.result took 0.023 seconds to process\n"
     ]
    },
    {
     "name": "stderr",
     "output_type": "stream",
     "text": [
      "Processing records: 100%|██████████| 1306/1306 [00:00<00:00, 337030.77it/s]\n"
     ]
    },
    {
     "name": "stdout",
     "output_type": "stream",
     "text": [
      "File: 2025-02-27-09-36-58_3_goalobstacle_0.088888889.result took 0.023 seconds to process\n"
     ]
    },
    {
     "name": "stderr",
     "output_type": "stream",
     "text": [
      "Processing records: 100%|██████████| 1306/1306 [00:00<00:00, 469147.06it/s]\n"
     ]
    },
    {
     "name": "stdout",
     "output_type": "stream",
     "text": [
      "File: 2025-02-27-09-38-09_3_goalobstacle_0.100000000.result took 0.028 seconds to process\n"
     ]
    },
    {
     "name": "stderr",
     "output_type": "stream",
     "text": [
      "Processing records: 100%|██████████| 1217/1217 [00:00<00:00, 468256.85it/s]\n"
     ]
    },
    {
     "name": "stdout",
     "output_type": "stream",
     "text": [
      "File: 2025-02-27-09-39-20_4_velocity_0.000001000.result took 0.022 seconds to process\n"
     ]
    },
    {
     "name": "stderr",
     "output_type": "stream",
     "text": [
      "Processing records: 100%|██████████| 1306/1306 [00:00<00:00, 425887.19it/s]\n"
     ]
    },
    {
     "name": "stdout",
     "output_type": "stream",
     "text": [
      "File: 2025-02-27-09-40-31_4_velocity_0.000112000.result took 0.024 seconds to process\n"
     ]
    },
    {
     "name": "stderr",
     "output_type": "stream",
     "text": [
      "Processing records: 100%|██████████| 1309/1309 [00:00<00:00, 441807.67it/s]\n"
     ]
    },
    {
     "name": "stdout",
     "output_type": "stream",
     "text": [
      "File: 2025-02-27-09-41-43_4_velocity_0.000223000.result took 0.026 seconds to process\n"
     ]
    },
    {
     "name": "stderr",
     "output_type": "stream",
     "text": [
      "Processing records: 100%|██████████| 1218/1218 [00:00<00:00, 443460.27it/s]\n"
     ]
    },
    {
     "name": "stdout",
     "output_type": "stream",
     "text": [
      "File: 2025-02-27-09-42-54_4_velocity_0.000334000.result took 0.025 seconds to process\n"
     ]
    },
    {
     "name": "stderr",
     "output_type": "stream",
     "text": [
      "Processing records: 100%|██████████| 1218/1218 [00:00<00:00, 441658.36it/s]\n"
     ]
    },
    {
     "name": "stdout",
     "output_type": "stream",
     "text": [
      "File: 2025-02-27-09-44-05_4_velocity_0.000445000.result took 0.023 seconds to process\n"
     ]
    },
    {
     "name": "stderr",
     "output_type": "stream",
     "text": [
      "Processing records: 100%|██████████| 1306/1306 [00:00<00:00, 304573.87it/s]\n"
     ]
    },
    {
     "name": "stdout",
     "output_type": "stream",
     "text": [
      "File: 2025-02-27-09-45-17_4_velocity_0.000556000.result took 0.024 seconds to process\n"
     ]
    },
    {
     "name": "stderr",
     "output_type": "stream",
     "text": [
      "Processing records: 100%|██████████| 1307/1307 [00:00<00:00, 458204.22it/s]\n"
     ]
    },
    {
     "name": "stdout",
     "output_type": "stream",
     "text": [
      "File: 2025-02-27-09-46-28_4_velocity_0.000667000.result took 0.029 seconds to process\n"
     ]
    },
    {
     "name": "stderr",
     "output_type": "stream",
     "text": [
      "Processing records: 100%|██████████| 1214/1214 [00:00<00:00, 411266.06it/s]\n"
     ]
    },
    {
     "name": "stdout",
     "output_type": "stream",
     "text": [
      "File: 2025-02-27-09-47-39_4_velocity_0.000778000.result took 0.021 seconds to process\n"
     ]
    },
    {
     "name": "stderr",
     "output_type": "stream",
     "text": [
      "Processing records: 100%|██████████| 1303/1303 [00:00<00:00, 454862.93it/s]\n"
     ]
    },
    {
     "name": "stdout",
     "output_type": "stream",
     "text": [
      "File: 2025-02-27-09-48-51_4_velocity_0.000889000.result took 0.024 seconds to process\n"
     ]
    },
    {
     "name": "stderr",
     "output_type": "stream",
     "text": [
      "Processing records: 100%|██████████| 1306/1306 [00:00<00:00, 281763.34it/s]\n"
     ]
    },
    {
     "name": "stdout",
     "output_type": "stream",
     "text": [
      "File: 2025-02-27-09-50-02_4_velocity_0.001000000.result took 0.030 seconds to process\n"
     ]
    },
    {
     "name": "stderr",
     "output_type": "stream",
     "text": [
      "Processing records: 100%|██████████| 1307/1307 [00:00<00:00, 434868.74it/s]\n"
     ]
    },
    {
     "name": "stdout",
     "output_type": "stream",
     "text": [
      "File: 2025-02-27-09-51-14_4_goal_0.001000000.result took 0.022 seconds to process\n"
     ]
    },
    {
     "name": "stderr",
     "output_type": "stream",
     "text": [
      "Processing records: 100%|██████████| 1298/1298 [00:00<00:00, 374352.38it/s]\n"
     ]
    },
    {
     "name": "stdout",
     "output_type": "stream",
     "text": [
      "File: 2025-02-27-09-52-25_4_goal_0.012000000.result took 0.027 seconds to process\n"
     ]
    },
    {
     "name": "stderr",
     "output_type": "stream",
     "text": [
      "Processing records: 100%|██████████| 1220/1220 [00:00<00:00, 346918.70it/s]\n"
     ]
    },
    {
     "name": "stdout",
     "output_type": "stream",
     "text": [
      "File: 2025-02-27-09-53-36_4_goal_0.023000000.result took 0.024 seconds to process\n"
     ]
    },
    {
     "name": "stderr",
     "output_type": "stream",
     "text": [
      "Processing records: 100%|██████████| 1309/1309 [00:00<00:00, 284887.09it/s]\n"
     ]
    },
    {
     "name": "stdout",
     "output_type": "stream",
     "text": [
      "File: 2025-02-27-09-54-48_4_goal_0.034000000.result took 0.024 seconds to process\n"
     ]
    },
    {
     "name": "stderr",
     "output_type": "stream",
     "text": [
      "Processing records: 100%|██████████| 1277/1277 [00:00<00:00, 391215.12it/s]\n"
     ]
    },
    {
     "name": "stdout",
     "output_type": "stream",
     "text": [
      "File: 2025-02-27-09-55-59_4_goal_0.045000000.result took 0.024 seconds to process\n"
     ]
    },
    {
     "name": "stderr",
     "output_type": "stream",
     "text": [
      "Processing records: 100%|██████████| 1212/1212 [00:00<00:00, 380444.28it/s]\n"
     ]
    },
    {
     "name": "stdout",
     "output_type": "stream",
     "text": [
      "File: 2025-02-27-09-57-10_4_goal_0.056000000.result took 0.022 seconds to process\n"
     ]
    },
    {
     "name": "stderr",
     "output_type": "stream",
     "text": [
      "Processing records: 100%|██████████| 1307/1307 [00:00<00:00, 265662.97it/s]\n"
     ]
    },
    {
     "name": "stdout",
     "output_type": "stream",
     "text": [
      "File: 2025-02-27-09-58-22_4_goal_0.067000000.result took 0.025 seconds to process\n"
     ]
    },
    {
     "name": "stderr",
     "output_type": "stream",
     "text": [
      "Processing records: 100%|██████████| 1306/1306 [00:00<00:00, 440582.40it/s]\n"
     ]
    },
    {
     "name": "stdout",
     "output_type": "stream",
     "text": [
      "File: 2025-02-27-09-59-33_4_goal_0.078000000.result took 0.024 seconds to process\n"
     ]
    },
    {
     "name": "stderr",
     "output_type": "stream",
     "text": [
      "Processing records: 100%|██████████| 1307/1307 [00:00<00:00, 388515.62it/s]\n"
     ]
    },
    {
     "name": "stdout",
     "output_type": "stream",
     "text": [
      "File: 2025-02-27-10-00-45_4_goal_0.089000000.result took 0.026 seconds to process\n"
     ]
    },
    {
     "name": "stderr",
     "output_type": "stream",
     "text": [
      "Processing records: 100%|██████████| 1217/1217 [00:00<00:00, 441410.24it/s]\n"
     ]
    },
    {
     "name": "stdout",
     "output_type": "stream",
     "text": [
      "File: 2025-02-27-10-01-56_4_goal_0.100000000.result took 0.023 seconds to process\n"
     ]
    },
    {
     "name": "stderr",
     "output_type": "stream",
     "text": [
      "Processing records: 100%|██████████| 1209/1209 [00:00<00:00, 446069.10it/s]\n"
     ]
    },
    {
     "name": "stdout",
     "output_type": "stream",
     "text": [
      "File: 2025-02-27-10-03-07_4_obstacle_0.000001000.result took 0.023 seconds to process\n"
     ]
    },
    {
     "name": "stderr",
     "output_type": "stream",
     "text": [
      "Processing records: 100%|██████████| 1304/1304 [00:00<00:00, 410829.45it/s]\n"
     ]
    },
    {
     "name": "stdout",
     "output_type": "stream",
     "text": [
      "File: 2025-02-27-10-04-19_4_obstacle_0.011112000.result took 0.024 seconds to process\n"
     ]
    },
    {
     "name": "stderr",
     "output_type": "stream",
     "text": [
      "Processing records: 100%|██████████| 1303/1303 [00:00<00:00, 456496.67it/s]\n"
     ]
    },
    {
     "name": "stdout",
     "output_type": "stream",
     "text": [
      "File: 2025-02-27-10-05-30_4_obstacle_0.022223000.result took 0.029 seconds to process\n"
     ]
    },
    {
     "name": "stderr",
     "output_type": "stream",
     "text": [
      "Processing records: 100%|██████████| 1304/1304 [00:00<00:00, 326334.87it/s]\n"
     ]
    },
    {
     "name": "stdout",
     "output_type": "stream",
     "text": [
      "File: 2025-02-27-10-06-41_4_obstacle_0.033334000.result took 0.024 seconds to process\n"
     ]
    },
    {
     "name": "stderr",
     "output_type": "stream",
     "text": [
      "Processing records: 100%|██████████| 1209/1209 [00:00<00:00, 251745.70it/s]\n"
     ]
    },
    {
     "name": "stdout",
     "output_type": "stream",
     "text": [
      "File: 2025-02-27-10-07-52_4_obstacle_0.044445000.result took 0.028 seconds to process\n"
     ]
    },
    {
     "name": "stderr",
     "output_type": "stream",
     "text": [
      "Processing records: 100%|██████████| 1303/1303 [00:00<00:00, 468792.08it/s]\n"
     ]
    },
    {
     "name": "stdout",
     "output_type": "stream",
     "text": [
      "File: 2025-02-27-10-09-04_4_obstacle_0.055556000.result took 0.028 seconds to process\n"
     ]
    },
    {
     "name": "stderr",
     "output_type": "stream",
     "text": [
      "Processing records: 100%|██████████| 1303/1303 [00:00<00:00, 452228.23it/s]\n"
     ]
    },
    {
     "name": "stdout",
     "output_type": "stream",
     "text": [
      "File: 2025-02-27-10-10-15_4_obstacle_0.066667000.result took 0.024 seconds to process\n"
     ]
    },
    {
     "name": "stderr",
     "output_type": "stream",
     "text": [
      "Processing records: 100%|██████████| 1303/1303 [00:00<00:00, 406635.28it/s]\n"
     ]
    },
    {
     "name": "stdout",
     "output_type": "stream",
     "text": [
      "File: 2025-02-27-10-11-27_4_obstacle_0.077778000.result took 0.027 seconds to process\n"
     ]
    },
    {
     "name": "stderr",
     "output_type": "stream",
     "text": [
      "Processing records: 100%|██████████| 1303/1303 [00:00<00:00, 389979.89it/s]\n"
     ]
    },
    {
     "name": "stdout",
     "output_type": "stream",
     "text": [
      "File: 2025-02-27-10-12-38_4_obstacle_0.088889000.result took 0.034 seconds to process\n"
     ]
    },
    {
     "name": "stderr",
     "output_type": "stream",
     "text": [
      "Processing records: 100%|██████████| 1303/1303 [00:00<00:00, 389174.54it/s]\n"
     ]
    },
    {
     "name": "stdout",
     "output_type": "stream",
     "text": [
      "File: 2025-02-27-10-13-49_4_obstacle_0.100000000.result took 0.027 seconds to process\n"
     ]
    },
    {
     "name": "stderr",
     "output_type": "stream",
     "text": [
      "Processing records: 100%|██████████| 1214/1214 [00:00<00:00, 470381.99it/s]\n"
     ]
    },
    {
     "name": "stdout",
     "output_type": "stream",
     "text": [
      "File: 2025-02-27-10-15-01_4_goalobstacle_0.000000001.result took 0.024 seconds to process\n"
     ]
    },
    {
     "name": "stderr",
     "output_type": "stream",
     "text": [
      "Processing records: 100%|██████████| 1304/1304 [00:00<00:00, 469998.49it/s]\n"
     ]
    },
    {
     "name": "stdout",
     "output_type": "stream",
     "text": [
      "File: 2025-02-27-10-16-12_4_goalobstacle_0.011111112.result took 0.028 seconds to process\n"
     ]
    },
    {
     "name": "stderr",
     "output_type": "stream",
     "text": [
      "Processing records: 100%|██████████| 1214/1214 [00:00<00:00, 431918.32it/s]\n"
     ]
    },
    {
     "name": "stdout",
     "output_type": "stream",
     "text": [
      "File: 2025-02-27-10-17-24_4_goalobstacle_0.022222223.result took 0.025 seconds to process\n"
     ]
    },
    {
     "name": "stderr",
     "output_type": "stream",
     "text": [
      "Processing records: 100%|██████████| 1298/1298 [00:00<00:00, 452063.99it/s]\n"
     ]
    },
    {
     "name": "stdout",
     "output_type": "stream",
     "text": [
      "File: 2025-02-27-10-18-34_4_goalobstacle_0.033333334.result took 0.028 seconds to process\n"
     ]
    },
    {
     "name": "stderr",
     "output_type": "stream",
     "text": [
      "Processing records: 100%|██████████| 1304/1304 [00:00<00:00, 437900.11it/s]\n"
     ]
    },
    {
     "name": "stdout",
     "output_type": "stream",
     "text": [
      "File: 2025-02-27-10-19-46_4_goalobstacle_0.044444445.result took 0.027 seconds to process\n"
     ]
    },
    {
     "name": "stderr",
     "output_type": "stream",
     "text": [
      "Processing records: 100%|██████████| 1306/1306 [00:00<00:00, 264001.21it/s]\n"
     ]
    },
    {
     "name": "stdout",
     "output_type": "stream",
     "text": [
      "File: 2025-02-27-10-20-57_4_goalobstacle_0.055555556.result took 0.028 seconds to process\n"
     ]
    },
    {
     "name": "stderr",
     "output_type": "stream",
     "text": [
      "Processing records: 100%|██████████| 1306/1306 [00:00<00:00, 348746.48it/s]\n"
     ]
    },
    {
     "name": "stdout",
     "output_type": "stream",
     "text": [
      "File: 2025-02-27-10-22-09_4_goalobstacle_0.066666667.result took 0.026 seconds to process\n"
     ]
    },
    {
     "name": "stderr",
     "output_type": "stream",
     "text": [
      "Processing records: 100%|██████████| 1306/1306 [00:00<00:00, 455001.33it/s]\n"
     ]
    },
    {
     "name": "stdout",
     "output_type": "stream",
     "text": [
      "File: 2025-02-27-10-23-20_4_goalobstacle_0.077777778.result took 0.025 seconds to process\n"
     ]
    },
    {
     "name": "stderr",
     "output_type": "stream",
     "text": [
      "Processing records: 100%|██████████| 1300/1300 [00:00<00:00, 260155.31it/s]\n"
     ]
    },
    {
     "name": "stdout",
     "output_type": "stream",
     "text": [
      "Error reading results/250227_htw_hfswp_kswp_randswp_r1/2025-02-27-10-24-31_4_goalobstacle_0.088888889.result: operands could not be broadcast together with shapes (118,3) (117,3) !\n"
     ]
    },
    {
     "name": "stderr",
     "output_type": "stream",
     "text": [
      "Processing records: 100%|██████████| 1304/1304 [00:00<00:00, 263571.51it/s]"
     ]
    },
    {
     "name": "stdout",
     "output_type": "stream",
     "text": [
      "File: 2025-02-27-10-25-43_4_goalobstacle_0.100000000.result took 0.027 seconds to process\n"
     ]
    },
    {
     "name": "stderr",
     "output_type": "stream",
     "text": [
      "\n"
     ]
    }
   ],
   "source": [
    "filepaths = sorted(list(dir_path.glob('*.result')))\n",
    "results_str = {}\n",
    "results = {}\n",
    "for filepath in filepaths:\n",
    "    try:\n",
    "        reader = MetricsReader(\n",
    "            filepath, \n",
    "            success_time_limit=65.0, \n",
    "            acceptable_min_distances_to_target=0.10\n",
    "        )\n",
    "        results[reader.info['label']] = reader\n",
    "        results_str[reader.info['label']] = reader.format_stats()\n",
    "    except Exception as e:\n",
    "        print(f\"Error reading {filepath}: {e}!\")"
   ]
  },
  {
   "cell_type": "code",
   "execution_count": null,
   "metadata": {},
   "outputs": [],
   "source": [
    "self.results['0_goal_0.001000000'].info['success']"
   ]
  },
  {
   "cell_type": "code",
   "execution_count": null,
   "metadata": {},
   "outputs": [],
   "source": [
    "class ResultsAnalyzer:\n",
    "    def __init__(self, results):\n",
    "        self.results = results\n",
    "        self.ret = {}\n",
    "        self.process_heuristics()\n",
    "        self._process_success_rate()\n",
    "\n",
    "    def _process_success_rate(self):\n",
    "        success = {}\n",
    "        # # for k in self.results.keys():\n",
    "\n",
    "        # inner_key = '_'.join(k.split('_')[2:3])\n",
    "        # success[outer_key] = {inner_key: }\n",
    "\n",
    "        # for heuristic_name in [k.split('_')[1] ]:# ['velocity','goal', 'obstacle', 'goalobstacle', ]:\n",
    "        #     success[heuristic_name] = {float(k.split('_')[-1]): v for k, v in self.ret[heuristic_name]['success'].items()}\n",
    "        # # self.success = success\n",
    "        # success_df = pd.DataFrame({k: {kk: v=='True' for kk,v in vv.items()} for k,vv in success.items()})\n",
    "\n",
    "        # print(\"Success rates:\")\n",
    "        # for column in success_df.columns:\n",
    "        #     success_rate = success_df[column].apply(lambda x: 1.0 if x==True else 0.0).sum() / float(len(success_df)) * 100.0\n",
    "        #     print(f\"{column}: {success_rate:.1f}%\")\n",
    "\n",
    "        # self.success = success\n",
    "        # self.success_df = success_df\n",
    "\n",
    "\n",
    "    def process_heuristics(self):\n",
    "        outer_keys = set()\n",
    "        for k in self.results.keys():\n",
    "            outer_keys.add(k.split('_')[0])\n",
    "            self.process_heuristic(k)\n",
    "\n",
    "    def process_heuristic(self, outer_key):\n",
    "        pose_traces = []\n",
    "        min_obstacle_distances = {}\n",
    "        timestamps = {}\n",
    "        success = {}\n",
    "\n",
    "        filenames = [k for k in self.results.keys() if k.split('_')[0] == outer_key]\n",
    "        for filename in filenames:\n",
    "\n",
    "            # did the agent satisfy the success criteria?\n",
    "            success[filename] = self.results[filename].info['success']\n",
    "\n",
    "            # pose traces\n",
    "            poses = self.results[filename].agent_poses['position']\n",
    "            poses_df = pd.DataFrame(poses.values.tolist(), columns=['x', 'y', 'z'])\n",
    "            pose_traces.append(go.Scatter3d(\n",
    "                x=poses_df['x'],\n",
    "                y=poses_df['y'],\n",
    "                z=poses_df['z'],\n",
    "                name=outer_key,\n",
    "            ))\n",
    "            # min obstacle distances\n",
    "            min_d2obs = self.results[filename].info['min_distances_to_obstacles']\n",
    "            min_obstacle_distances[filename] = min_d2obs\n",
    "            timestamps[filename] = self.results[filename].info['timestamps']\n",
    "\n",
    "        ret = {\n",
    "            'pose_traces': pose_traces,\n",
    "            'min_obstacle_distances': min_obstacle_distances,\n",
    "            'timestamps': timestamps,\n",
    "            'success': success,\n",
    "        }\n",
    "        self.ret[outer_key] = ret\n",
    "        # return ret\n",
    "\n",
    "    def plot_heuristic_performance_heatmap(self):\n",
    "        \n",
    "        success_df = self.success_df\n",
    "        # Create a heatmap using plotly\n",
    "        import plotly.graph_objects as go\n",
    "\n",
    "        # Convert success rates to numeric values (0 for False, 1 for True)\n",
    "        heatmap_data = success_df.astype(int)\n",
    "\n",
    "        # Create heatmap\n",
    "        fig = go.Figure(data=go.Heatmap(\n",
    "            z=heatmap_data.T,  # Transpose to get heuristics as y-axis\n",
    "            x=heatmap_data.index,  # Force values\n",
    "            y=heatmap_data.columns,  # Heuristic names\n",
    "            colorscale='RdYlGn',  # Red (0) to Green (1) colorscale\n",
    "            showscale=True,\n",
    "            colorbar=dict(title='Success'),\n",
    "            text=heatmap_data.T,  # Add text values\n",
    "            texttemplate=\"%{text}\",  # Show the actual values\n",
    "            textfont={\"size\": 10},\n",
    "        ))\n",
    "\n",
    "        # Update layout\n",
    "        fig.update_layout(\n",
    "            title=f'Success Heatmap (Heuristic vs K Value), {plan}',\n",
    "            xaxis_title='K Value',\n",
    "            yaxis_title='Heuristic',\n",
    "            xaxis=dict(\n",
    "                # type='log',  # Use log scale for force values\n",
    "                type='linear',\n",
    "                ticktext=[f\"{x:.1e}\" for x in heatmap_data.index],  # Show actual values\n",
    "                tickvals=heatmap_data.index,  # Position ticks at index values\n",
    "            )\n",
    "        )\n",
    "\n",
    "        return fig\n",
    "        \n",
    "\n",
    "analysis = ResultsAnalyzer(results)\n",
    "# analysis.process_heuristics()"
   ]
  },
  {
   "cell_type": "code",
   "execution_count": 23,
   "metadata": {},
   "outputs": [
    {
     "ename": "KeyError",
     "evalue": "'success'",
     "output_type": "error",
     "traceback": [
      "\u001b[0;31m---------------------------------------------------------------------------\u001b[0m",
      "\u001b[0;31mKeyError\u001b[0m                                  Traceback (most recent call last)",
      "Cell \u001b[0;32mIn[23], line 1\u001b[0m\n\u001b[0;32m----> 1\u001b[0m \u001b[43mresults\u001b[49m\u001b[43m[\u001b[49m\u001b[38;5;124;43m'\u001b[39;49m\u001b[38;5;124;43msuccess\u001b[39;49m\u001b[38;5;124;43m'\u001b[39;49m\u001b[43m]\u001b[49m\n",
      "\u001b[0;31mKeyError\u001b[0m: 'success'"
     ]
    }
   ],
   "source": [
    "results['success']"
   ]
  },
  {
   "cell_type": "code",
   "execution_count": 30,
   "metadata": {},
   "outputs": [
    {
     "data": {
      "text/plain": [
       "{'0_velocity_0.000001000': {'pose_traces': [],\n",
       "  'min_obstacle_distances': {},\n",
       "  'timestamps': {},\n",
       "  'success': {}},\n",
       " '0_velocity_0.000112000': {'pose_traces': [],\n",
       "  'min_obstacle_distances': {},\n",
       "  'timestamps': {},\n",
       "  'success': {}},\n",
       " '0_velocity_0.000223000': {'pose_traces': [],\n",
       "  'min_obstacle_distances': {},\n",
       "  'timestamps': {},\n",
       "  'success': {}},\n",
       " '0_velocity_0.000334000': {'pose_traces': [],\n",
       "  'min_obstacle_distances': {},\n",
       "  'timestamps': {},\n",
       "  'success': {}},\n",
       " '0_velocity_0.000445000': {'pose_traces': [],\n",
       "  'min_obstacle_distances': {},\n",
       "  'timestamps': {},\n",
       "  'success': {}},\n",
       " '0_velocity_0.000556000': {'pose_traces': [],\n",
       "  'min_obstacle_distances': {},\n",
       "  'timestamps': {},\n",
       "  'success': {}},\n",
       " '0_velocity_0.000667000': {'pose_traces': [],\n",
       "  'min_obstacle_distances': {},\n",
       "  'timestamps': {},\n",
       "  'success': {}},\n",
       " '0_velocity_0.000778000': {'pose_traces': [],\n",
       "  'min_obstacle_distances': {},\n",
       "  'timestamps': {},\n",
       "  'success': {}},\n",
       " '0_velocity_0.000889000': {'pose_traces': [],\n",
       "  'min_obstacle_distances': {},\n",
       "  'timestamps': {},\n",
       "  'success': {}},\n",
       " '0_velocity_0.001000000': {'pose_traces': [],\n",
       "  'min_obstacle_distances': {},\n",
       "  'timestamps': {},\n",
       "  'success': {}},\n",
       " '0_goal_0.001000000': {'pose_traces': [],\n",
       "  'min_obstacle_distances': {},\n",
       "  'timestamps': {},\n",
       "  'success': {}},\n",
       " '0_goal_0.012000000': {'pose_traces': [],\n",
       "  'min_obstacle_distances': {},\n",
       "  'timestamps': {},\n",
       "  'success': {}},\n",
       " '0_goal_0.023000000': {'pose_traces': [],\n",
       "  'min_obstacle_distances': {},\n",
       "  'timestamps': {},\n",
       "  'success': {}},\n",
       " '0_goal_0.034000000': {'pose_traces': [],\n",
       "  'min_obstacle_distances': {},\n",
       "  'timestamps': {},\n",
       "  'success': {}},\n",
       " '0_goal_0.045000000': {'pose_traces': [],\n",
       "  'min_obstacle_distances': {},\n",
       "  'timestamps': {},\n",
       "  'success': {}},\n",
       " '0_goal_0.056000000': {'pose_traces': [],\n",
       "  'min_obstacle_distances': {},\n",
       "  'timestamps': {},\n",
       "  'success': {}},\n",
       " '0_goal_0.067000000': {'pose_traces': [],\n",
       "  'min_obstacle_distances': {},\n",
       "  'timestamps': {},\n",
       "  'success': {}},\n",
       " '0_goal_0.078000000': {'pose_traces': [],\n",
       "  'min_obstacle_distances': {},\n",
       "  'timestamps': {},\n",
       "  'success': {}},\n",
       " '0_goal_0.089000000': {'pose_traces': [],\n",
       "  'min_obstacle_distances': {},\n",
       "  'timestamps': {},\n",
       "  'success': {}},\n",
       " '0_goal_0.100000000': {'pose_traces': [],\n",
       "  'min_obstacle_distances': {},\n",
       "  'timestamps': {},\n",
       "  'success': {}},\n",
       " '0_obstacle_0.000001000': {'pose_traces': [],\n",
       "  'min_obstacle_distances': {},\n",
       "  'timestamps': {},\n",
       "  'success': {}},\n",
       " '0_obstacle_0.011112000': {'pose_traces': [],\n",
       "  'min_obstacle_distances': {},\n",
       "  'timestamps': {},\n",
       "  'success': {}},\n",
       " '0_obstacle_0.022223000': {'pose_traces': [],\n",
       "  'min_obstacle_distances': {},\n",
       "  'timestamps': {},\n",
       "  'success': {}},\n",
       " '0_obstacle_0.033334000': {'pose_traces': [],\n",
       "  'min_obstacle_distances': {},\n",
       "  'timestamps': {},\n",
       "  'success': {}},\n",
       " '0_obstacle_0.044445000': {'pose_traces': [],\n",
       "  'min_obstacle_distances': {},\n",
       "  'timestamps': {},\n",
       "  'success': {}},\n",
       " '0_obstacle_0.055556000': {'pose_traces': [],\n",
       "  'min_obstacle_distances': {},\n",
       "  'timestamps': {},\n",
       "  'success': {}},\n",
       " '0_obstacle_0.066667000': {'pose_traces': [],\n",
       "  'min_obstacle_distances': {},\n",
       "  'timestamps': {},\n",
       "  'success': {}},\n",
       " '0_obstacle_0.077778000': {'pose_traces': [],\n",
       "  'min_obstacle_distances': {},\n",
       "  'timestamps': {},\n",
       "  'success': {}},\n",
       " '0_obstacle_0.088889000': {'pose_traces': [],\n",
       "  'min_obstacle_distances': {},\n",
       "  'timestamps': {},\n",
       "  'success': {}},\n",
       " '0_obstacle_0.100000000': {'pose_traces': [],\n",
       "  'min_obstacle_distances': {},\n",
       "  'timestamps': {},\n",
       "  'success': {}},\n",
       " '0_goalobstacle_0.000000001': {'pose_traces': [],\n",
       "  'min_obstacle_distances': {},\n",
       "  'timestamps': {},\n",
       "  'success': {}},\n",
       " '0_goalobstacle_0.011111112': {'pose_traces': [],\n",
       "  'min_obstacle_distances': {},\n",
       "  'timestamps': {},\n",
       "  'success': {}},\n",
       " '0_goalobstacle_0.022222223': {'pose_traces': [],\n",
       "  'min_obstacle_distances': {},\n",
       "  'timestamps': {},\n",
       "  'success': {}},\n",
       " '0_goalobstacle_0.033333334': {'pose_traces': [],\n",
       "  'min_obstacle_distances': {},\n",
       "  'timestamps': {},\n",
       "  'success': {}},\n",
       " '0_goalobstacle_0.044444445': {'pose_traces': [],\n",
       "  'min_obstacle_distances': {},\n",
       "  'timestamps': {},\n",
       "  'success': {}},\n",
       " '0_goalobstacle_0.055555556': {'pose_traces': [],\n",
       "  'min_obstacle_distances': {},\n",
       "  'timestamps': {},\n",
       "  'success': {}},\n",
       " '0_goalobstacle_0.066666667': {'pose_traces': [],\n",
       "  'min_obstacle_distances': {},\n",
       "  'timestamps': {},\n",
       "  'success': {}},\n",
       " '0_goalobstacle_0.077777778': {'pose_traces': [],\n",
       "  'min_obstacle_distances': {},\n",
       "  'timestamps': {},\n",
       "  'success': {}},\n",
       " '0_goalobstacle_0.088888889': {'pose_traces': [],\n",
       "  'min_obstacle_distances': {},\n",
       "  'timestamps': {},\n",
       "  'success': {}},\n",
       " '0_goalobstacle_0.100000000': {'pose_traces': [],\n",
       "  'min_obstacle_distances': {},\n",
       "  'timestamps': {},\n",
       "  'success': {}},\n",
       " '1_velocity_0.000001000': {'pose_traces': [],\n",
       "  'min_obstacle_distances': {},\n",
       "  'timestamps': {},\n",
       "  'success': {}},\n",
       " '1_velocity_0.000112000': {'pose_traces': [],\n",
       "  'min_obstacle_distances': {},\n",
       "  'timestamps': {},\n",
       "  'success': {}},\n",
       " '1_velocity_0.000223000': {'pose_traces': [],\n",
       "  'min_obstacle_distances': {},\n",
       "  'timestamps': {},\n",
       "  'success': {}},\n",
       " '1_velocity_0.000334000': {'pose_traces': [],\n",
       "  'min_obstacle_distances': {},\n",
       "  'timestamps': {},\n",
       "  'success': {}},\n",
       " '1_velocity_0.000445000': {'pose_traces': [],\n",
       "  'min_obstacle_distances': {},\n",
       "  'timestamps': {},\n",
       "  'success': {}},\n",
       " '1_velocity_0.000556000': {'pose_traces': [],\n",
       "  'min_obstacle_distances': {},\n",
       "  'timestamps': {},\n",
       "  'success': {}},\n",
       " '1_velocity_0.000667000': {'pose_traces': [],\n",
       "  'min_obstacle_distances': {},\n",
       "  'timestamps': {},\n",
       "  'success': {}},\n",
       " '1_velocity_0.000778000': {'pose_traces': [],\n",
       "  'min_obstacle_distances': {},\n",
       "  'timestamps': {},\n",
       "  'success': {}},\n",
       " '1_velocity_0.000889000': {'pose_traces': [],\n",
       "  'min_obstacle_distances': {},\n",
       "  'timestamps': {},\n",
       "  'success': {}},\n",
       " '1_velocity_0.001000000': {'pose_traces': [],\n",
       "  'min_obstacle_distances': {},\n",
       "  'timestamps': {},\n",
       "  'success': {}},\n",
       " '1_goal_0.001000000': {'pose_traces': [],\n",
       "  'min_obstacle_distances': {},\n",
       "  'timestamps': {},\n",
       "  'success': {}},\n",
       " '1_goal_0.012000000': {'pose_traces': [],\n",
       "  'min_obstacle_distances': {},\n",
       "  'timestamps': {},\n",
       "  'success': {}},\n",
       " '1_goal_0.023000000': {'pose_traces': [],\n",
       "  'min_obstacle_distances': {},\n",
       "  'timestamps': {},\n",
       "  'success': {}},\n",
       " '1_goal_0.034000000': {'pose_traces': [],\n",
       "  'min_obstacle_distances': {},\n",
       "  'timestamps': {},\n",
       "  'success': {}},\n",
       " '1_goal_0.045000000': {'pose_traces': [],\n",
       "  'min_obstacle_distances': {},\n",
       "  'timestamps': {},\n",
       "  'success': {}},\n",
       " '1_goal_0.056000000': {'pose_traces': [],\n",
       "  'min_obstacle_distances': {},\n",
       "  'timestamps': {},\n",
       "  'success': {}},\n",
       " '1_goal_0.067000000': {'pose_traces': [],\n",
       "  'min_obstacle_distances': {},\n",
       "  'timestamps': {},\n",
       "  'success': {}},\n",
       " '1_goal_0.078000000': {'pose_traces': [],\n",
       "  'min_obstacle_distances': {},\n",
       "  'timestamps': {},\n",
       "  'success': {}},\n",
       " '1_goal_0.089000000': {'pose_traces': [],\n",
       "  'min_obstacle_distances': {},\n",
       "  'timestamps': {},\n",
       "  'success': {}},\n",
       " '1_goal_0.100000000': {'pose_traces': [],\n",
       "  'min_obstacle_distances': {},\n",
       "  'timestamps': {},\n",
       "  'success': {}},\n",
       " '1_obstacle_0.000001000': {'pose_traces': [],\n",
       "  'min_obstacle_distances': {},\n",
       "  'timestamps': {},\n",
       "  'success': {}},\n",
       " '1_obstacle_0.011112000': {'pose_traces': [],\n",
       "  'min_obstacle_distances': {},\n",
       "  'timestamps': {},\n",
       "  'success': {}},\n",
       " '1_obstacle_0.022223000': {'pose_traces': [],\n",
       "  'min_obstacle_distances': {},\n",
       "  'timestamps': {},\n",
       "  'success': {}},\n",
       " '1_obstacle_0.033334000': {'pose_traces': [],\n",
       "  'min_obstacle_distances': {},\n",
       "  'timestamps': {},\n",
       "  'success': {}},\n",
       " '1_obstacle_0.044445000': {'pose_traces': [],\n",
       "  'min_obstacle_distances': {},\n",
       "  'timestamps': {},\n",
       "  'success': {}},\n",
       " '1_obstacle_0.055556000': {'pose_traces': [],\n",
       "  'min_obstacle_distances': {},\n",
       "  'timestamps': {},\n",
       "  'success': {}},\n",
       " '1_obstacle_0.066667000': {'pose_traces': [],\n",
       "  'min_obstacle_distances': {},\n",
       "  'timestamps': {},\n",
       "  'success': {}},\n",
       " '1_obstacle_0.077778000': {'pose_traces': [],\n",
       "  'min_obstacle_distances': {},\n",
       "  'timestamps': {},\n",
       "  'success': {}},\n",
       " '1_obstacle_0.088889000': {'pose_traces': [],\n",
       "  'min_obstacle_distances': {},\n",
       "  'timestamps': {},\n",
       "  'success': {}},\n",
       " '1_obstacle_0.100000000': {'pose_traces': [],\n",
       "  'min_obstacle_distances': {},\n",
       "  'timestamps': {},\n",
       "  'success': {}},\n",
       " '1_goalobstacle_0.000000001': {'pose_traces': [],\n",
       "  'min_obstacle_distances': {},\n",
       "  'timestamps': {},\n",
       "  'success': {}},\n",
       " '1_goalobstacle_0.011111112': {'pose_traces': [],\n",
       "  'min_obstacle_distances': {},\n",
       "  'timestamps': {},\n",
       "  'success': {}},\n",
       " '1_goalobstacle_0.022222223': {'pose_traces': [],\n",
       "  'min_obstacle_distances': {},\n",
       "  'timestamps': {},\n",
       "  'success': {}},\n",
       " '1_goalobstacle_0.033333334': {'pose_traces': [],\n",
       "  'min_obstacle_distances': {},\n",
       "  'timestamps': {},\n",
       "  'success': {}},\n",
       " '1_goalobstacle_0.044444445': {'pose_traces': [],\n",
       "  'min_obstacle_distances': {},\n",
       "  'timestamps': {},\n",
       "  'success': {}},\n",
       " '1_goalobstacle_0.055555556': {'pose_traces': [],\n",
       "  'min_obstacle_distances': {},\n",
       "  'timestamps': {},\n",
       "  'success': {}},\n",
       " '1_goalobstacle_0.066666667': {'pose_traces': [],\n",
       "  'min_obstacle_distances': {},\n",
       "  'timestamps': {},\n",
       "  'success': {}},\n",
       " '1_goalobstacle_0.077777778': {'pose_traces': [],\n",
       "  'min_obstacle_distances': {},\n",
       "  'timestamps': {},\n",
       "  'success': {}},\n",
       " '1_goalobstacle_0.088888889': {'pose_traces': [],\n",
       "  'min_obstacle_distances': {},\n",
       "  'timestamps': {},\n",
       "  'success': {}},\n",
       " '1_goalobstacle_0.100000000': {'pose_traces': [],\n",
       "  'min_obstacle_distances': {},\n",
       "  'timestamps': {},\n",
       "  'success': {}},\n",
       " '2_velocity_0.000001000': {'pose_traces': [],\n",
       "  'min_obstacle_distances': {},\n",
       "  'timestamps': {},\n",
       "  'success': {}},\n",
       " '2_velocity_0.000112000': {'pose_traces': [],\n",
       "  'min_obstacle_distances': {},\n",
       "  'timestamps': {},\n",
       "  'success': {}},\n",
       " '2_velocity_0.000223000': {'pose_traces': [],\n",
       "  'min_obstacle_distances': {},\n",
       "  'timestamps': {},\n",
       "  'success': {}},\n",
       " '2_velocity_0.000334000': {'pose_traces': [],\n",
       "  'min_obstacle_distances': {},\n",
       "  'timestamps': {},\n",
       "  'success': {}},\n",
       " '2_velocity_0.000445000': {'pose_traces': [],\n",
       "  'min_obstacle_distances': {},\n",
       "  'timestamps': {},\n",
       "  'success': {}},\n",
       " '2_velocity_0.000556000': {'pose_traces': [],\n",
       "  'min_obstacle_distances': {},\n",
       "  'timestamps': {},\n",
       "  'success': {}},\n",
       " '2_velocity_0.000667000': {'pose_traces': [],\n",
       "  'min_obstacle_distances': {},\n",
       "  'timestamps': {},\n",
       "  'success': {}},\n",
       " '2_velocity_0.000778000': {'pose_traces': [],\n",
       "  'min_obstacle_distances': {},\n",
       "  'timestamps': {},\n",
       "  'success': {}},\n",
       " '2_velocity_0.000889000': {'pose_traces': [],\n",
       "  'min_obstacle_distances': {},\n",
       "  'timestamps': {},\n",
       "  'success': {}},\n",
       " '2_velocity_0.001000000': {'pose_traces': [],\n",
       "  'min_obstacle_distances': {},\n",
       "  'timestamps': {},\n",
       "  'success': {}},\n",
       " '2_goal_0.001000000': {'pose_traces': [],\n",
       "  'min_obstacle_distances': {},\n",
       "  'timestamps': {},\n",
       "  'success': {}},\n",
       " '2_goal_0.012000000': {'pose_traces': [],\n",
       "  'min_obstacle_distances': {},\n",
       "  'timestamps': {},\n",
       "  'success': {}},\n",
       " '2_goal_0.023000000': {'pose_traces': [],\n",
       "  'min_obstacle_distances': {},\n",
       "  'timestamps': {},\n",
       "  'success': {}},\n",
       " '2_goal_0.034000000': {'pose_traces': [],\n",
       "  'min_obstacle_distances': {},\n",
       "  'timestamps': {},\n",
       "  'success': {}},\n",
       " '2_goal_0.045000000': {'pose_traces': [],\n",
       "  'min_obstacle_distances': {},\n",
       "  'timestamps': {},\n",
       "  'success': {}},\n",
       " '2_goal_0.056000000': {'pose_traces': [],\n",
       "  'min_obstacle_distances': {},\n",
       "  'timestamps': {},\n",
       "  'success': {}},\n",
       " '2_goal_0.067000000': {'pose_traces': [],\n",
       "  'min_obstacle_distances': {},\n",
       "  'timestamps': {},\n",
       "  'success': {}},\n",
       " '2_goal_0.078000000': {'pose_traces': [],\n",
       "  'min_obstacle_distances': {},\n",
       "  'timestamps': {},\n",
       "  'success': {}},\n",
       " '2_goal_0.089000000': {'pose_traces': [],\n",
       "  'min_obstacle_distances': {},\n",
       "  'timestamps': {},\n",
       "  'success': {}},\n",
       " '2_goal_0.100000000': {'pose_traces': [],\n",
       "  'min_obstacle_distances': {},\n",
       "  'timestamps': {},\n",
       "  'success': {}},\n",
       " '2_obstacle_0.000001000': {'pose_traces': [],\n",
       "  'min_obstacle_distances': {},\n",
       "  'timestamps': {},\n",
       "  'success': {}},\n",
       " '2_obstacle_0.011112000': {'pose_traces': [],\n",
       "  'min_obstacle_distances': {},\n",
       "  'timestamps': {},\n",
       "  'success': {}},\n",
       " '2_obstacle_0.022223000': {'pose_traces': [],\n",
       "  'min_obstacle_distances': {},\n",
       "  'timestamps': {},\n",
       "  'success': {}},\n",
       " '2_obstacle_0.033334000': {'pose_traces': [],\n",
       "  'min_obstacle_distances': {},\n",
       "  'timestamps': {},\n",
       "  'success': {}},\n",
       " '2_obstacle_0.044445000': {'pose_traces': [],\n",
       "  'min_obstacle_distances': {},\n",
       "  'timestamps': {},\n",
       "  'success': {}},\n",
       " '2_obstacle_0.055556000': {'pose_traces': [],\n",
       "  'min_obstacle_distances': {},\n",
       "  'timestamps': {},\n",
       "  'success': {}},\n",
       " '2_obstacle_0.066667000': {'pose_traces': [],\n",
       "  'min_obstacle_distances': {},\n",
       "  'timestamps': {},\n",
       "  'success': {}},\n",
       " '2_obstacle_0.077778000': {'pose_traces': [],\n",
       "  'min_obstacle_distances': {},\n",
       "  'timestamps': {},\n",
       "  'success': {}},\n",
       " '2_obstacle_0.088889000': {'pose_traces': [],\n",
       "  'min_obstacle_distances': {},\n",
       "  'timestamps': {},\n",
       "  'success': {}},\n",
       " '2_obstacle_0.100000000': {'pose_traces': [],\n",
       "  'min_obstacle_distances': {},\n",
       "  'timestamps': {},\n",
       "  'success': {}},\n",
       " '2_goalobstacle_0.000000001': {'pose_traces': [],\n",
       "  'min_obstacle_distances': {},\n",
       "  'timestamps': {},\n",
       "  'success': {}},\n",
       " '2_goalobstacle_0.011111112': {'pose_traces': [],\n",
       "  'min_obstacle_distances': {},\n",
       "  'timestamps': {},\n",
       "  'success': {}},\n",
       " '2_goalobstacle_0.022222223': {'pose_traces': [],\n",
       "  'min_obstacle_distances': {},\n",
       "  'timestamps': {},\n",
       "  'success': {}},\n",
       " '2_goalobstacle_0.033333334': {'pose_traces': [],\n",
       "  'min_obstacle_distances': {},\n",
       "  'timestamps': {},\n",
       "  'success': {}},\n",
       " '2_goalobstacle_0.044444445': {'pose_traces': [],\n",
       "  'min_obstacle_distances': {},\n",
       "  'timestamps': {},\n",
       "  'success': {}},\n",
       " '2_goalobstacle_0.055555556': {'pose_traces': [],\n",
       "  'min_obstacle_distances': {},\n",
       "  'timestamps': {},\n",
       "  'success': {}},\n",
       " '2_goalobstacle_0.066666667': {'pose_traces': [],\n",
       "  'min_obstacle_distances': {},\n",
       "  'timestamps': {},\n",
       "  'success': {}},\n",
       " '2_goalobstacle_0.077777778': {'pose_traces': [],\n",
       "  'min_obstacle_distances': {},\n",
       "  'timestamps': {},\n",
       "  'success': {}},\n",
       " '2_goalobstacle_0.088888889': {'pose_traces': [],\n",
       "  'min_obstacle_distances': {},\n",
       "  'timestamps': {},\n",
       "  'success': {}},\n",
       " '2_goalobstacle_0.100000000': {'pose_traces': [],\n",
       "  'min_obstacle_distances': {},\n",
       "  'timestamps': {},\n",
       "  'success': {}},\n",
       " '3_velocity_0.000001000': {'pose_traces': [],\n",
       "  'min_obstacle_distances': {},\n",
       "  'timestamps': {},\n",
       "  'success': {}},\n",
       " '3_velocity_0.000112000': {'pose_traces': [],\n",
       "  'min_obstacle_distances': {},\n",
       "  'timestamps': {},\n",
       "  'success': {}},\n",
       " '3_velocity_0.000223000': {'pose_traces': [],\n",
       "  'min_obstacle_distances': {},\n",
       "  'timestamps': {},\n",
       "  'success': {}},\n",
       " '3_velocity_0.000334000': {'pose_traces': [],\n",
       "  'min_obstacle_distances': {},\n",
       "  'timestamps': {},\n",
       "  'success': {}},\n",
       " '3_velocity_0.000445000': {'pose_traces': [],\n",
       "  'min_obstacle_distances': {},\n",
       "  'timestamps': {},\n",
       "  'success': {}},\n",
       " '3_velocity_0.000556000': {'pose_traces': [],\n",
       "  'min_obstacle_distances': {},\n",
       "  'timestamps': {},\n",
       "  'success': {}},\n",
       " '3_velocity_0.000667000': {'pose_traces': [],\n",
       "  'min_obstacle_distances': {},\n",
       "  'timestamps': {},\n",
       "  'success': {}},\n",
       " '3_velocity_0.000778000': {'pose_traces': [],\n",
       "  'min_obstacle_distances': {},\n",
       "  'timestamps': {},\n",
       "  'success': {}},\n",
       " '3_velocity_0.000889000': {'pose_traces': [],\n",
       "  'min_obstacle_distances': {},\n",
       "  'timestamps': {},\n",
       "  'success': {}},\n",
       " '3_velocity_0.001000000': {'pose_traces': [],\n",
       "  'min_obstacle_distances': {},\n",
       "  'timestamps': {},\n",
       "  'success': {}},\n",
       " '3_goal_0.001000000': {'pose_traces': [],\n",
       "  'min_obstacle_distances': {},\n",
       "  'timestamps': {},\n",
       "  'success': {}},\n",
       " '3_goal_0.012000000': {'pose_traces': [],\n",
       "  'min_obstacle_distances': {},\n",
       "  'timestamps': {},\n",
       "  'success': {}},\n",
       " '3_goal_0.023000000': {'pose_traces': [],\n",
       "  'min_obstacle_distances': {},\n",
       "  'timestamps': {},\n",
       "  'success': {}},\n",
       " '3_goal_0.034000000': {'pose_traces': [],\n",
       "  'min_obstacle_distances': {},\n",
       "  'timestamps': {},\n",
       "  'success': {}},\n",
       " '3_goal_0.045000000': {'pose_traces': [],\n",
       "  'min_obstacle_distances': {},\n",
       "  'timestamps': {},\n",
       "  'success': {}},\n",
       " '3_goal_0.056000000': {'pose_traces': [],\n",
       "  'min_obstacle_distances': {},\n",
       "  'timestamps': {},\n",
       "  'success': {}},\n",
       " '3_goal_0.067000000': {'pose_traces': [],\n",
       "  'min_obstacle_distances': {},\n",
       "  'timestamps': {},\n",
       "  'success': {}},\n",
       " '3_goal_0.078000000': {'pose_traces': [],\n",
       "  'min_obstacle_distances': {},\n",
       "  'timestamps': {},\n",
       "  'success': {}},\n",
       " '3_goal_0.089000000': {'pose_traces': [],\n",
       "  'min_obstacle_distances': {},\n",
       "  'timestamps': {},\n",
       "  'success': {}},\n",
       " '3_goal_0.100000000': {'pose_traces': [],\n",
       "  'min_obstacle_distances': {},\n",
       "  'timestamps': {},\n",
       "  'success': {}},\n",
       " '3_obstacle_0.000001000': {'pose_traces': [],\n",
       "  'min_obstacle_distances': {},\n",
       "  'timestamps': {},\n",
       "  'success': {}},\n",
       " '3_obstacle_0.011112000': {'pose_traces': [],\n",
       "  'min_obstacle_distances': {},\n",
       "  'timestamps': {},\n",
       "  'success': {}},\n",
       " '3_obstacle_0.022223000': {'pose_traces': [],\n",
       "  'min_obstacle_distances': {},\n",
       "  'timestamps': {},\n",
       "  'success': {}},\n",
       " '3_obstacle_0.033334000': {'pose_traces': [],\n",
       "  'min_obstacle_distances': {},\n",
       "  'timestamps': {},\n",
       "  'success': {}},\n",
       " '3_obstacle_0.044445000': {'pose_traces': [],\n",
       "  'min_obstacle_distances': {},\n",
       "  'timestamps': {},\n",
       "  'success': {}},\n",
       " '3_obstacle_0.055556000': {'pose_traces': [],\n",
       "  'min_obstacle_distances': {},\n",
       "  'timestamps': {},\n",
       "  'success': {}},\n",
       " '3_obstacle_0.066667000': {'pose_traces': [],\n",
       "  'min_obstacle_distances': {},\n",
       "  'timestamps': {},\n",
       "  'success': {}},\n",
       " '3_obstacle_0.077778000': {'pose_traces': [],\n",
       "  'min_obstacle_distances': {},\n",
       "  'timestamps': {},\n",
       "  'success': {}},\n",
       " '3_obstacle_0.088889000': {'pose_traces': [],\n",
       "  'min_obstacle_distances': {},\n",
       "  'timestamps': {},\n",
       "  'success': {}},\n",
       " '3_obstacle_0.100000000': {'pose_traces': [],\n",
       "  'min_obstacle_distances': {},\n",
       "  'timestamps': {},\n",
       "  'success': {}},\n",
       " '3_goalobstacle_0.000000001': {'pose_traces': [],\n",
       "  'min_obstacle_distances': {},\n",
       "  'timestamps': {},\n",
       "  'success': {}},\n",
       " '3_goalobstacle_0.011111112': {'pose_traces': [],\n",
       "  'min_obstacle_distances': {},\n",
       "  'timestamps': {},\n",
       "  'success': {}},\n",
       " '3_goalobstacle_0.022222223': {'pose_traces': [],\n",
       "  'min_obstacle_distances': {},\n",
       "  'timestamps': {},\n",
       "  'success': {}},\n",
       " '3_goalobstacle_0.033333334': {'pose_traces': [],\n",
       "  'min_obstacle_distances': {},\n",
       "  'timestamps': {},\n",
       "  'success': {}},\n",
       " '3_goalobstacle_0.044444445': {'pose_traces': [],\n",
       "  'min_obstacle_distances': {},\n",
       "  'timestamps': {},\n",
       "  'success': {}},\n",
       " '3_goalobstacle_0.055555556': {'pose_traces': [],\n",
       "  'min_obstacle_distances': {},\n",
       "  'timestamps': {},\n",
       "  'success': {}},\n",
       " '3_goalobstacle_0.066666667': {'pose_traces': [],\n",
       "  'min_obstacle_distances': {},\n",
       "  'timestamps': {},\n",
       "  'success': {}},\n",
       " '3_goalobstacle_0.077777778': {'pose_traces': [],\n",
       "  'min_obstacle_distances': {},\n",
       "  'timestamps': {},\n",
       "  'success': {}},\n",
       " '3_goalobstacle_0.088888889': {'pose_traces': [],\n",
       "  'min_obstacle_distances': {},\n",
       "  'timestamps': {},\n",
       "  'success': {}},\n",
       " '3_goalobstacle_0.100000000': {'pose_traces': [],\n",
       "  'min_obstacle_distances': {},\n",
       "  'timestamps': {},\n",
       "  'success': {}},\n",
       " '4_velocity_0.000001000': {'pose_traces': [],\n",
       "  'min_obstacle_distances': {},\n",
       "  'timestamps': {},\n",
       "  'success': {}},\n",
       " '4_velocity_0.000112000': {'pose_traces': [],\n",
       "  'min_obstacle_distances': {},\n",
       "  'timestamps': {},\n",
       "  'success': {}},\n",
       " '4_velocity_0.000223000': {'pose_traces': [],\n",
       "  'min_obstacle_distances': {},\n",
       "  'timestamps': {},\n",
       "  'success': {}},\n",
       " '4_velocity_0.000334000': {'pose_traces': [],\n",
       "  'min_obstacle_distances': {},\n",
       "  'timestamps': {},\n",
       "  'success': {}},\n",
       " '4_velocity_0.000445000': {'pose_traces': [],\n",
       "  'min_obstacle_distances': {},\n",
       "  'timestamps': {},\n",
       "  'success': {}},\n",
       " '4_velocity_0.000556000': {'pose_traces': [],\n",
       "  'min_obstacle_distances': {},\n",
       "  'timestamps': {},\n",
       "  'success': {}},\n",
       " '4_velocity_0.000667000': {'pose_traces': [],\n",
       "  'min_obstacle_distances': {},\n",
       "  'timestamps': {},\n",
       "  'success': {}},\n",
       " '4_velocity_0.000778000': {'pose_traces': [],\n",
       "  'min_obstacle_distances': {},\n",
       "  'timestamps': {},\n",
       "  'success': {}},\n",
       " '4_velocity_0.000889000': {'pose_traces': [],\n",
       "  'min_obstacle_distances': {},\n",
       "  'timestamps': {},\n",
       "  'success': {}},\n",
       " '4_velocity_0.001000000': {'pose_traces': [],\n",
       "  'min_obstacle_distances': {},\n",
       "  'timestamps': {},\n",
       "  'success': {}},\n",
       " '4_goal_0.001000000': {'pose_traces': [],\n",
       "  'min_obstacle_distances': {},\n",
       "  'timestamps': {},\n",
       "  'success': {}},\n",
       " '4_goal_0.012000000': {'pose_traces': [],\n",
       "  'min_obstacle_distances': {},\n",
       "  'timestamps': {},\n",
       "  'success': {}},\n",
       " '4_goal_0.023000000': {'pose_traces': [],\n",
       "  'min_obstacle_distances': {},\n",
       "  'timestamps': {},\n",
       "  'success': {}},\n",
       " '4_goal_0.034000000': {'pose_traces': [],\n",
       "  'min_obstacle_distances': {},\n",
       "  'timestamps': {},\n",
       "  'success': {}},\n",
       " '4_goal_0.045000000': {'pose_traces': [],\n",
       "  'min_obstacle_distances': {},\n",
       "  'timestamps': {},\n",
       "  'success': {}},\n",
       " '4_goal_0.056000000': {'pose_traces': [],\n",
       "  'min_obstacle_distances': {},\n",
       "  'timestamps': {},\n",
       "  'success': {}},\n",
       " '4_goal_0.067000000': {'pose_traces': [],\n",
       "  'min_obstacle_distances': {},\n",
       "  'timestamps': {},\n",
       "  'success': {}},\n",
       " '4_goal_0.078000000': {'pose_traces': [],\n",
       "  'min_obstacle_distances': {},\n",
       "  'timestamps': {},\n",
       "  'success': {}},\n",
       " '4_goal_0.089000000': {'pose_traces': [],\n",
       "  'min_obstacle_distances': {},\n",
       "  'timestamps': {},\n",
       "  'success': {}},\n",
       " '4_goal_0.100000000': {'pose_traces': [],\n",
       "  'min_obstacle_distances': {},\n",
       "  'timestamps': {},\n",
       "  'success': {}},\n",
       " '4_obstacle_0.000001000': {'pose_traces': [],\n",
       "  'min_obstacle_distances': {},\n",
       "  'timestamps': {},\n",
       "  'success': {}},\n",
       " '4_obstacle_0.011112000': {'pose_traces': [],\n",
       "  'min_obstacle_distances': {},\n",
       "  'timestamps': {},\n",
       "  'success': {}},\n",
       " '4_obstacle_0.022223000': {'pose_traces': [],\n",
       "  'min_obstacle_distances': {},\n",
       "  'timestamps': {},\n",
       "  'success': {}},\n",
       " '4_obstacle_0.033334000': {'pose_traces': [],\n",
       "  'min_obstacle_distances': {},\n",
       "  'timestamps': {},\n",
       "  'success': {}},\n",
       " '4_obstacle_0.044445000': {'pose_traces': [],\n",
       "  'min_obstacle_distances': {},\n",
       "  'timestamps': {},\n",
       "  'success': {}},\n",
       " '4_obstacle_0.055556000': {'pose_traces': [],\n",
       "  'min_obstacle_distances': {},\n",
       "  'timestamps': {},\n",
       "  'success': {}},\n",
       " '4_obstacle_0.066667000': {'pose_traces': [],\n",
       "  'min_obstacle_distances': {},\n",
       "  'timestamps': {},\n",
       "  'success': {}},\n",
       " '4_obstacle_0.077778000': {'pose_traces': [],\n",
       "  'min_obstacle_distances': {},\n",
       "  'timestamps': {},\n",
       "  'success': {}},\n",
       " '4_obstacle_0.088889000': {'pose_traces': [],\n",
       "  'min_obstacle_distances': {},\n",
       "  'timestamps': {},\n",
       "  'success': {}},\n",
       " '4_obstacle_0.100000000': {'pose_traces': [],\n",
       "  'min_obstacle_distances': {},\n",
       "  'timestamps': {},\n",
       "  'success': {}},\n",
       " '4_goalobstacle_0.000000001': {'pose_traces': [],\n",
       "  'min_obstacle_distances': {},\n",
       "  'timestamps': {},\n",
       "  'success': {}},\n",
       " '4_goalobstacle_0.011111112': {'pose_traces': [],\n",
       "  'min_obstacle_distances': {},\n",
       "  'timestamps': {},\n",
       "  'success': {}},\n",
       " '4_goalobstacle_0.022222223': {'pose_traces': [],\n",
       "  'min_obstacle_distances': {},\n",
       "  'timestamps': {},\n",
       "  'success': {}},\n",
       " '4_goalobstacle_0.033333334': {'pose_traces': [],\n",
       "  'min_obstacle_distances': {},\n",
       "  'timestamps': {},\n",
       "  'success': {}},\n",
       " '4_goalobstacle_0.044444445': {'pose_traces': [],\n",
       "  'min_obstacle_distances': {},\n",
       "  'timestamps': {},\n",
       "  'success': {}},\n",
       " '4_goalobstacle_0.055555556': {'pose_traces': [],\n",
       "  'min_obstacle_distances': {},\n",
       "  'timestamps': {},\n",
       "  'success': {}},\n",
       " '4_goalobstacle_0.066666667': {'pose_traces': [],\n",
       "  'min_obstacle_distances': {},\n",
       "  'timestamps': {},\n",
       "  'success': {}},\n",
       " '4_goalobstacle_0.077777778': {'pose_traces': [],\n",
       "  'min_obstacle_distances': {},\n",
       "  'timestamps': {},\n",
       "  'success': {}},\n",
       " '4_goalobstacle_0.100000000': {'pose_traces': [],\n",
       "  'min_obstacle_distances': {},\n",
       "  'timestamps': {},\n",
       "  'success': {}}}"
      ]
     },
     "execution_count": 30,
     "metadata": {},
     "output_type": "execute_result"
    }
   ],
   "source": [
    "analysis.ret"
   ]
  },
  {
   "cell_type": "code",
   "execution_count": 20,
   "metadata": {},
   "outputs": [
    {
     "data": {
      "text/plain": [
       "'True'"
      ]
     },
     "execution_count": 20,
     "metadata": {},
     "output_type": "execute_result"
    }
   ],
   "source": [
    "results['0_goal_0.001000000'].info['success']"
   ]
  },
  {
   "cell_type": "code",
   "execution_count": 18,
   "metadata": {},
   "outputs": [],
   "source": [
    "analysis.plot_heuristic_performance_heatmap()"
   ]
  },
  {
   "cell_type": "markdown",
   "metadata": {},
   "source": [
    "## Analysis"
   ]
  },
  {
   "cell_type": "code",
   "execution_count": 67,
   "metadata": {},
   "outputs": [
    {
     "name": "stdout",
     "output_type": "stream",
     "text": [
      "goalobstacle_heuristic_force_0.01663\n"
     ]
    }
   ],
   "source": [
    "filenames = [k for k in results.keys() if k.split('_')[0] == 'goalobstacle']\n",
    "file_id = 3\n",
    "\n",
    "filename = filenames[file_id]\n",
    "print(results[filename].info['label'])\n",
    "results[filename].plot_scene().show()\n",
    "results[filename].plot_distance_to_goal().show()\n",
    "results[filename].plot_distance_to_closest_obstacle().show()"
   ]
  },
  {
   "cell_type": "code",
   "execution_count": 76,
   "metadata": {},
   "outputs": [
    {
     "name": "stdout",
     "output_type": "stream",
     "text": [
      "['label',\n",
      " 'success',\n",
      " 'timestamps',\n",
      " 'num_agents',\n",
      " 'num_obstacles',\n",
      " 'num_collisions',\n",
      " 'collision_timestamps',\n",
      " 'collision_indices',\n",
      " 'detection_shell_radius',\n",
      " 'agent_switches',\n",
      " 'agent_residency_pct',\n",
      " 'agent_positions',\n",
      " 'distances_to_obstacles',\n",
      " 'min_distances_to_obstacles',\n",
      " 'max_distances_to_obstacles',\n",
      " 'distance_to_target',\n",
      " 'path_length',\n",
      " 'motion_start_timestamp',\n",
      " 'motion_start_pos',\n",
      " 'experiment_start_timestamp',\n",
      " 'experiment_end_timestamp',\n",
      " 'elapsed_experiment_runtime',\n",
      " 'elapsed_motion_runtime',\n",
      " 'min_distances_to_target',\n",
      " 'min_distances_to_target_timestamp',\n",
      " 'average_planning_time']\n"
     ]
    }
   ],
   "source": [
    "from pprint import pprint\n",
    "pprint(list(results[filename].info.keys()))"
   ]
  },
  {
   "cell_type": "code",
   "execution_count": 79,
   "metadata": {},
   "outputs": [
    {
     "data": {
      "text/plain": [
       "65.58363318443298"
      ]
     },
     "execution_count": 79,
     "metadata": {},
     "output_type": "execute_result"
    }
   ],
   "source": [
    "results[filename].info['elapsed_motion_runtime']"
   ]
  },
  {
   "cell_type": "code",
   "execution_count": 66,
   "metadata": {},
   "outputs": [
    {
     "data": {
      "text/plain": [
       "'goalobstacle_heuristic_force_0.01663'"
      ]
     },
     "execution_count": 66,
     "metadata": {},
     "output_type": "execute_result"
    }
   ],
   "source": [
    "filename"
   ]
  },
  {
   "cell_type": "code",
   "execution_count": null,
   "metadata": {},
   "outputs": [],
   "source": [
    "\n",
    "# traces = []\n",
    "\n",
    "# heuristic_name = 'velocity'\n",
    "# filenames = [k for k in results.keys() if k.split('_')[0] == heuristic_name]\n",
    "\n",
    "# for filename in filenames:\n",
    "#     poses = results[filename].agent_poses['position']\n",
    "#     poses_df = pd.DataFrame(poses.values.tolist(), columns=['x', 'y', 'z'])\n",
    "\n",
    "#     traces.append(go.Scatter3d(\n",
    "#         x=poses_df['x'],\n",
    "#         y=poses_df['y'],\n",
    "#         z=poses_df['z'],\n",
    "#         name=filename.split('_')[-1],\n",
    "#         mode='lines+markers',\n",
    "#         marker=dict(size=1, \n",
    "#                 #color='blue', \n",
    "#         symbol='circle'),\n",
    "#     ))\n",
    "\n",
    "# sample_result = results[filename]\n",
    "# pcd_df = pd.DataFrame(sample_result.pointclouds.iloc[0]['points'])\n",
    "# traces.append(go.Scatter3d(\n",
    "#     x=pcd_df[0],\n",
    "#     y=pcd_df[1],\n",
    "#     z=pcd_df[2],\n",
    "#     name='Pointcloud',\n",
    "#     mode='markers',\n",
    "#     marker=dict(size=2, color='red', symbol='circle'),\n",
    "# ))\n",
    "# # Create start and goal markers.\n",
    "# traces.append(go.Scatter3d(\n",
    "#     x=[sample_result.start_pos[0]],\n",
    "#     y=[sample_result.start_pos[1]],\n",
    "#     z=[sample_result.start_pos[2]],\n",
    "#     name='Start',\n",
    "#     mode='markers',\n",
    "#     marker=dict(size=8, color='blue', symbol='diamond'),\n",
    "# ))\n",
    "# traces.append(go.Scatter3d(\n",
    "#     x=[sample_result.goal_pos[0]],\n",
    "#     y=[sample_result.goal_pos[1]],\n",
    "#     z=[sample_result.goal_pos[2]],\n",
    "#     mode='markers',\n",
    "#     marker=dict(size=8, color='green', symbol='diamond'),\n",
    "#     name='Goal'\n",
    "# ))\n",
    "\n",
    "# fig = go.Figure(data=traces)\n",
    "# fig.update_layout(\n",
    "#     title=f'Visualization: {heuristic_name}, param sweep',\n",
    "#     scene=dict(\n",
    "#         xaxis_title='X Position',\n",
    "#         yaxis_title='Y Position',\n",
    "#         zaxis_title='Z Position',\n",
    "#         aspectmode='data'\n",
    "#     )\n",
    "# )\n",
    "# fig.show()"
   ]
  },
  {
   "cell_type": "code",
   "execution_count": 17,
   "metadata": {},
   "outputs": [],
   "source": [
    "traces = []\n",
    "\n",
    "heuristic_name = 'goal'\n",
    "timestamps = results[filename].info['timestamps']\n",
    "\n",
    "\n",
    "for filename in [k for k in results.keys() if k.split('_')[0] == heuristic_name]:\n",
    "    poses = results[filename].agent_poses['position']\n",
    "    # poses_df = pd.DataFrame(poses.values.tolist(), columns=['x', 'y', 'z'])\n",
    "\n",
    "    # traces.append(go.Scatter3d(\n",
    "    #     x=poses_df['x'],\n",
    "    #     y=poses_df['y'],\n",
    "    #     z=poses_df['z'],\n",
    "    #     name=filename.split('_')[-1],\n",
    "    #     mode='lines+markers',\n",
    "    #     marker=dict(size=1, \n",
    "    #             #color='blue', \n",
    "    #     symbol='circle'),\n",
    "    # ))\n",
    "    distances = results[filename].info['min_distances_to_obstacles']\n",
    "    traces.append(go.Scattergl(\n",
    "        x=timestamps,\n",
    "        y=distances,\n",
    "        name=filename.split('_')[-1],\n",
    "\n",
    "    ))\n",
    "\n",
    "# sample_result = results[filename]\n",
    "# pcd_df = pd.DataFrame(sample_result.pointclouds.iloc[0]['points'])\n",
    "# traces.append(go.Scatter3d(\n",
    "#     x=pcd_df[0],\n",
    "#     y=pcd_df[1],\n",
    "#     z=pcd_df[2],\n",
    "#     name='Pointcloud',\n",
    "#     mode='markers',\n",
    "#     marker=dict(size=2, color='red', symbol='circle'),\n",
    "# ))\n",
    "# # Create start and goal markers.\n",
    "# traces.append(go.Scatter3d(\n",
    "#     x=[sample_result.start_pos[0]],\n",
    "#     y=[sample_result.start_pos[1]],\n",
    "#     z=[sample_result.start_pos[2]],\n",
    "#     name='Start',\n",
    "#     mode='markers',\n",
    "#     marker=dict(size=8, color='blue', symbol='diamond'),\n",
    "# ))\n",
    "# traces.append(go.Scatter3d(\n",
    "#     x=[sample_result.goal_pos[0]],\n",
    "#     y=[sample_result.goal_pos[1]],\n",
    "#     z=[sample_result.goal_pos[2]],\n",
    "#     mode='markers',\n",
    "#     marker=dict(size=8, color='green', symbol='diamond'),\n",
    "#     name='Goal'\n",
    "# ))\n",
    "\n",
    "fig = go.Figure(data=traces)\n",
    "# fig.update_layout(\n",
    "#     title=f'Visualization: {heuristic_name}, param sweep',\n",
    "#     scene=dict(\n",
    "#         xaxis_title='X Position',\n",
    "#         yaxis_title='Y Position',\n",
    "#         zaxis_title='Z Position',\n",
    "#         aspectmode='data'\n",
    "#     )\n",
    "# )\n",
    "fig.show()"
   ]
  }
 ],
 "metadata": {
  "kernelspec": {
   "display_name": "percept_env",
   "language": "python",
   "name": "python3"
  },
  "language_info": {
   "codemirror_mode": {
    "name": "ipython",
    "version": 3
   },
   "file_extension": ".py",
   "mimetype": "text/x-python",
   "name": "python",
   "nbconvert_exporter": "python",
   "pygments_lexer": "ipython3",
   "version": "3.10.16"
  }
 },
 "nbformat": 4,
 "nbformat_minor": 2
}
