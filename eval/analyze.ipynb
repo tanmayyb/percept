{
 "cells": [
  {
   "cell_type": "code",
   "execution_count": 2,
   "metadata": {},
   "outputs": [],
   "source": [
    "%load_ext autoreload\n",
    "%autoreload 2\n",
    "\n",
    "from process_results import MetricsReader\n",
    "import yaml\n",
    "import plotly.graph_objects as go\n",
    "import plotly.io as pio\n",
    "import pandas as pd\n",
    "import numpy as np\n",
    "from pathlib import Path\n",
    "pio.templates.default = \"plotly_white\"\n",
    "pio.renderers.default = \"browser\""
   ]
  },
  {
   "cell_type": "code",
   "execution_count": 3,
   "metadata": {},
   "outputs": [],
   "source": [
    "dir_path = Path('results')/'250225_np_hf_k_sweep_r4'"
   ]
  },
  {
   "cell_type": "code",
   "execution_count": 4,
   "metadata": {},
   "outputs": [
    {
     "name": "stderr",
     "output_type": "stream",
     "text": [
      "Processing records: 100%|██████████| 1938/1938 [00:00<00:00, 322843.80it/s]\n"
     ]
    },
    {
     "name": "stdout",
     "output_type": "stream",
     "text": [
      "File: 2025-02-25-06-37-52_velocity_heuristic_force_0.00100.result took 5.366 seconds to process\n"
     ]
    },
    {
     "name": "stderr",
     "output_type": "stream",
     "text": [
      "Processing records: 100%|██████████| 1931/1931 [00:00<00:00, 449630.88it/s]\n"
     ]
    },
    {
     "name": "stdout",
     "output_type": "stream",
     "text": [
      "File: 2025-02-25-06-39-43_velocity_heuristic_force_0.00621.result took 5.104 seconds to process\n"
     ]
    },
    {
     "name": "stderr",
     "output_type": "stream",
     "text": [
      "Processing records: 100%|██████████| 1920/1920 [00:00<00:00, 447641.12it/s]\n"
     ]
    },
    {
     "name": "stdout",
     "output_type": "stream",
     "text": [
      "File: 2025-02-25-06-41-34_velocity_heuristic_force_0.01142.result took 4.962 seconds to process\n"
     ]
    },
    {
     "name": "stderr",
     "output_type": "stream",
     "text": [
      "Processing records: 100%|██████████| 1918/1918 [00:00<00:00, 526311.75it/s]\n"
     ]
    },
    {
     "name": "stdout",
     "output_type": "stream",
     "text": [
      "File: 2025-02-25-06-43-26_velocity_heuristic_force_0.01663.result took 5.172 seconds to process\n"
     ]
    },
    {
     "name": "stderr",
     "output_type": "stream",
     "text": [
      "Processing records: 100%|██████████| 1970/1970 [00:00<00:00, 590789.28it/s]\n"
     ]
    },
    {
     "name": "stdout",
     "output_type": "stream",
     "text": [
      "File: 2025-02-25-06-45-17_velocity_heuristic_force_0.02184.result took 5.049 seconds to process\n"
     ]
    },
    {
     "name": "stderr",
     "output_type": "stream",
     "text": [
      "Processing records: 100%|██████████| 1917/1917 [00:00<00:00, 554248.35it/s]\n"
     ]
    },
    {
     "name": "stdout",
     "output_type": "stream",
     "text": [
      "File: 2025-02-25-06-47-08_velocity_heuristic_force_0.02705.result took 5.914 seconds to process\n"
     ]
    },
    {
     "name": "stderr",
     "output_type": "stream",
     "text": [
      "Processing records: 100%|██████████| 1922/1922 [00:00<00:00, 503809.28it/s]\n"
     ]
    },
    {
     "name": "stdout",
     "output_type": "stream",
     "text": [
      "File: 2025-02-25-06-48-59_velocity_heuristic_force_0.03226.result took 5.456 seconds to process\n"
     ]
    },
    {
     "name": "stderr",
     "output_type": "stream",
     "text": [
      "Processing records: 100%|██████████| 1918/1918 [00:00<00:00, 554461.03it/s]\n"
     ]
    },
    {
     "name": "stdout",
     "output_type": "stream",
     "text": [
      "File: 2025-02-25-06-50-50_velocity_heuristic_force_0.03747.result took 5.348 seconds to process\n"
     ]
    },
    {
     "name": "stderr",
     "output_type": "stream",
     "text": [
      "Processing records: 100%|██████████| 1916/1916 [00:00<00:00, 548664.33it/s]\n"
     ]
    },
    {
     "name": "stdout",
     "output_type": "stream",
     "text": [
      "File: 2025-02-25-06-52-41_velocity_heuristic_force_0.04268.result took 5.171 seconds to process\n"
     ]
    },
    {
     "name": "stderr",
     "output_type": "stream",
     "text": [
      "Processing records: 100%|██████████| 1917/1917 [00:00<00:00, 566151.30it/s]\n"
     ]
    },
    {
     "name": "stdout",
     "output_type": "stream",
     "text": [
      "File: 2025-02-25-06-54-32_velocity_heuristic_force_0.04789.result took 5.400 seconds to process\n"
     ]
    },
    {
     "name": "stderr",
     "output_type": "stream",
     "text": [
      "Processing records: 100%|██████████| 1916/1916 [00:00<00:00, 518670.87it/s]\n"
     ]
    },
    {
     "name": "stdout",
     "output_type": "stream",
     "text": [
      "File: 2025-02-25-06-56-23_velocity_heuristic_force_0.05311.result took 5.302 seconds to process\n"
     ]
    },
    {
     "name": "stderr",
     "output_type": "stream",
     "text": [
      "Processing records: 100%|██████████| 1916/1916 [00:00<00:00, 518637.40it/s]\n"
     ]
    },
    {
     "name": "stdout",
     "output_type": "stream",
     "text": [
      "File: 2025-02-25-06-58-14_velocity_heuristic_force_0.05832.result took 5.136 seconds to process\n"
     ]
    },
    {
     "name": "stderr",
     "output_type": "stream",
     "text": [
      "Processing records: 100%|██████████| 1918/1918 [00:00<00:00, 595593.03it/s]\n"
     ]
    },
    {
     "name": "stdout",
     "output_type": "stream",
     "text": [
      "File: 2025-02-25-07-00-05_velocity_heuristic_force_0.06353.result took 5.151 seconds to process\n"
     ]
    },
    {
     "name": "stderr",
     "output_type": "stream",
     "text": [
      "Processing records: 100%|██████████| 1917/1917 [00:00<00:00, 481148.99it/s]\n"
     ]
    },
    {
     "name": "stdout",
     "output_type": "stream",
     "text": [
      "File: 2025-02-25-07-01-56_velocity_heuristic_force_0.06874.result took 5.201 seconds to process\n"
     ]
    },
    {
     "name": "stderr",
     "output_type": "stream",
     "text": [
      "Processing records: 100%|██████████| 1916/1916 [00:00<00:00, 572629.79it/s]\n"
     ]
    },
    {
     "name": "stdout",
     "output_type": "stream",
     "text": [
      "File: 2025-02-25-07-03-47_velocity_heuristic_force_0.07395.result took 5.210 seconds to process\n"
     ]
    },
    {
     "name": "stderr",
     "output_type": "stream",
     "text": [
      "Processing records: 100%|██████████| 1918/1918 [00:00<00:00, 538573.68it/s]\n"
     ]
    },
    {
     "name": "stdout",
     "output_type": "stream",
     "text": [
      "File: 2025-02-25-07-05-39_velocity_heuristic_force_0.07916.result took 5.395 seconds to process\n"
     ]
    },
    {
     "name": "stderr",
     "output_type": "stream",
     "text": [
      "Processing records: 100%|██████████| 1920/1920 [00:00<00:00, 551466.39it/s]\n"
     ]
    },
    {
     "name": "stdout",
     "output_type": "stream",
     "text": [
      "File: 2025-02-25-07-07-30_velocity_heuristic_force_0.08437.result took 5.358 seconds to process\n"
     ]
    },
    {
     "name": "stderr",
     "output_type": "stream",
     "text": [
      "Processing records: 100%|██████████| 1917/1917 [00:00<00:00, 576130.75it/s]\n"
     ]
    },
    {
     "name": "stdout",
     "output_type": "stream",
     "text": [
      "File: 2025-02-25-07-09-21_velocity_heuristic_force_0.08958.result took 5.148 seconds to process\n"
     ]
    },
    {
     "name": "stderr",
     "output_type": "stream",
     "text": [
      "Processing records: 100%|██████████| 1916/1916 [00:00<00:00, 544906.87it/s]\n"
     ]
    },
    {
     "name": "stdout",
     "output_type": "stream",
     "text": [
      "File: 2025-02-25-07-11-12_velocity_heuristic_force_0.09479.result took 5.172 seconds to process\n"
     ]
    },
    {
     "name": "stderr",
     "output_type": "stream",
     "text": [
      "Processing records: 100%|██████████| 1919/1919 [00:00<00:00, 494888.67it/s]\n"
     ]
    },
    {
     "name": "stdout",
     "output_type": "stream",
     "text": [
      "File: 2025-02-25-07-13-03_velocity_heuristic_force_0.10000.result took 5.361 seconds to process\n"
     ]
    },
    {
     "name": "stderr",
     "output_type": "stream",
     "text": [
      "Processing records: 100%|██████████| 1918/1918 [00:00<00:00, 455634.07it/s]\n"
     ]
    },
    {
     "name": "stdout",
     "output_type": "stream",
     "text": [
      "File: 2025-02-25-07-14-54_goal_heuristic_force_0.00100.result took 5.137 seconds to process\n"
     ]
    },
    {
     "name": "stderr",
     "output_type": "stream",
     "text": [
      "Processing records: 100%|██████████| 1918/1918 [00:00<00:00, 546439.01it/s]\n"
     ]
    },
    {
     "name": "stdout",
     "output_type": "stream",
     "text": [
      "File: 2025-02-25-07-16-45_goal_heuristic_force_0.00621.result took 5.112 seconds to process\n"
     ]
    },
    {
     "name": "stderr",
     "output_type": "stream",
     "text": [
      "Processing records: 100%|██████████| 1901/1901 [00:00<00:00, 552249.06it/s]\n"
     ]
    },
    {
     "name": "stdout",
     "output_type": "stream",
     "text": [
      "File: 2025-02-25-07-18-36_goal_heuristic_force_0.01142.result took 5.253 seconds to process\n"
     ]
    },
    {
     "name": "stderr",
     "output_type": "stream",
     "text": [
      "Processing records: 100%|██████████| 1916/1916 [00:00<00:00, 501171.59it/s]\n"
     ]
    },
    {
     "name": "stdout",
     "output_type": "stream",
     "text": [
      "File: 2025-02-25-07-20-27_goal_heuristic_force_0.01663.result took 5.157 seconds to process\n"
     ]
    },
    {
     "name": "stderr",
     "output_type": "stream",
     "text": [
      "Processing records: 100%|██████████| 1918/1918 [00:00<00:00, 462789.80it/s]\n"
     ]
    },
    {
     "name": "stdout",
     "output_type": "stream",
     "text": [
      "File: 2025-02-25-07-22-18_goal_heuristic_force_0.02184.result took 5.194 seconds to process\n"
     ]
    },
    {
     "name": "stderr",
     "output_type": "stream",
     "text": [
      "Processing records: 100%|██████████| 1919/1919 [00:00<00:00, 530438.21it/s]\n"
     ]
    },
    {
     "name": "stdout",
     "output_type": "stream",
     "text": [
      "File: 2025-02-25-07-24-09_goal_heuristic_force_0.02705.result took 5.181 seconds to process\n"
     ]
    },
    {
     "name": "stderr",
     "output_type": "stream",
     "text": [
      "Processing records: 100%|██████████| 1920/1920 [00:00<00:00, 536298.86it/s]\n"
     ]
    },
    {
     "name": "stdout",
     "output_type": "stream",
     "text": [
      "File: 2025-02-25-07-26-01_goal_heuristic_force_0.03226.result took 5.105 seconds to process\n"
     ]
    },
    {
     "name": "stderr",
     "output_type": "stream",
     "text": [
      "Processing records: 100%|██████████| 1920/1920 [00:00<00:00, 404859.67it/s]\n"
     ]
    },
    {
     "name": "stdout",
     "output_type": "stream",
     "text": [
      "File: 2025-02-25-07-27-52_goal_heuristic_force_0.03747.result took 5.228 seconds to process\n"
     ]
    },
    {
     "name": "stderr",
     "output_type": "stream",
     "text": [
      "Processing records: 100%|██████████| 1921/1921 [00:00<00:00, 518986.02it/s]\n"
     ]
    },
    {
     "name": "stdout",
     "output_type": "stream",
     "text": [
      "File: 2025-02-25-07-29-43_goal_heuristic_force_0.04268.result took 5.141 seconds to process\n"
     ]
    },
    {
     "name": "stderr",
     "output_type": "stream",
     "text": [
      "Processing records: 100%|██████████| 1919/1919 [00:00<00:00, 567541.21it/s]\n"
     ]
    },
    {
     "name": "stdout",
     "output_type": "stream",
     "text": [
      "File: 2025-02-25-07-31-34_goal_heuristic_force_0.04789.result took 5.152 seconds to process\n"
     ]
    },
    {
     "name": "stderr",
     "output_type": "stream",
     "text": [
      "Processing records: 100%|██████████| 1919/1919 [00:00<00:00, 492044.83it/s]\n"
     ]
    },
    {
     "name": "stdout",
     "output_type": "stream",
     "text": [
      "File: 2025-02-25-07-33-25_goal_heuristic_force_0.05311.result took 5.143 seconds to process\n"
     ]
    },
    {
     "name": "stderr",
     "output_type": "stream",
     "text": [
      "Processing records: 100%|██████████| 1918/1918 [00:00<00:00, 579963.60it/s]\n"
     ]
    },
    {
     "name": "stdout",
     "output_type": "stream",
     "text": [
      "File: 2025-02-25-07-35-16_goal_heuristic_force_0.05832.result took 5.087 seconds to process\n"
     ]
    },
    {
     "name": "stderr",
     "output_type": "stream",
     "text": [
      "Processing records: 100%|██████████| 1917/1917 [00:00<00:00, 518941.58it/s]\n"
     ]
    },
    {
     "name": "stdout",
     "output_type": "stream",
     "text": [
      "File: 2025-02-25-07-37-07_goal_heuristic_force_0.06353.result took 5.364 seconds to process\n"
     ]
    },
    {
     "name": "stderr",
     "output_type": "stream",
     "text": [
      "Processing records: 100%|██████████| 1917/1917 [00:00<00:00, 504105.38it/s]\n"
     ]
    },
    {
     "name": "stdout",
     "output_type": "stream",
     "text": [
      "File: 2025-02-25-07-38-58_goal_heuristic_force_0.06874.result took 5.136 seconds to process\n"
     ]
    },
    {
     "name": "stderr",
     "output_type": "stream",
     "text": [
      "Processing records: 100%|██████████| 1919/1919 [00:00<00:00, 553339.02it/s]\n"
     ]
    },
    {
     "name": "stdout",
     "output_type": "stream",
     "text": [
      "File: 2025-02-25-07-40-49_goal_heuristic_force_0.07395.result took 5.142 seconds to process\n"
     ]
    },
    {
     "name": "stderr",
     "output_type": "stream",
     "text": [
      "Processing records: 100%|██████████| 1918/1918 [00:00<00:00, 506081.72it/s]\n"
     ]
    },
    {
     "name": "stdout",
     "output_type": "stream",
     "text": [
      "File: 2025-02-25-07-42-40_goal_heuristic_force_0.07916.result took 5.438 seconds to process\n"
     ]
    },
    {
     "name": "stderr",
     "output_type": "stream",
     "text": [
      "Processing records: 100%|██████████| 1918/1918 [00:00<00:00, 555149.75it/s]\n"
     ]
    },
    {
     "name": "stdout",
     "output_type": "stream",
     "text": [
      "File: 2025-02-25-07-44-31_goal_heuristic_force_0.08437.result took 5.209 seconds to process\n"
     ]
    },
    {
     "name": "stderr",
     "output_type": "stream",
     "text": [
      "Processing records: 100%|██████████| 1916/1916 [00:00<00:00, 535502.53it/s]\n"
     ]
    },
    {
     "name": "stdout",
     "output_type": "stream",
     "text": [
      "File: 2025-02-25-07-46-22_goal_heuristic_force_0.08958.result took 5.267 seconds to process\n"
     ]
    },
    {
     "name": "stderr",
     "output_type": "stream",
     "text": [
      "Processing records: 100%|██████████| 1918/1918 [00:00<00:00, 499142.21it/s]\n"
     ]
    },
    {
     "name": "stdout",
     "output_type": "stream",
     "text": [
      "File: 2025-02-25-07-48-14_goal_heuristic_force_0.09479.result took 5.283 seconds to process\n"
     ]
    },
    {
     "name": "stderr",
     "output_type": "stream",
     "text": [
      "Processing records: 100%|██████████| 1920/1920 [00:00<00:00, 470334.29it/s]\n"
     ]
    },
    {
     "name": "stdout",
     "output_type": "stream",
     "text": [
      "File: 2025-02-25-07-50-05_goal_heuristic_force_0.10000.result took 5.133 seconds to process\n"
     ]
    },
    {
     "name": "stderr",
     "output_type": "stream",
     "text": [
      "Processing records: 100%|██████████| 1335/1335 [00:00<00:00, 503497.51it/s]\n"
     ]
    },
    {
     "name": "stdout",
     "output_type": "stream",
     "text": [
      "File: 2025-02-25-07-51-56_obstacle_heuristic_force_0.00100.result took 5.136 seconds to process\n"
     ]
    },
    {
     "name": "stderr",
     "output_type": "stream",
     "text": [
      "Processing records: 100%|██████████| 1336/1336 [00:00<00:00, 377219.13it/s]\n"
     ]
    },
    {
     "name": "stdout",
     "output_type": "stream",
     "text": [
      "File: 2025-02-25-07-53-47_obstacle_heuristic_force_0.00621.result took 5.180 seconds to process\n"
     ]
    },
    {
     "name": "stderr",
     "output_type": "stream",
     "text": [
      "Processing records: 100%|██████████| 1334/1334 [00:00<00:00, 540181.65it/s]\n"
     ]
    },
    {
     "name": "stdout",
     "output_type": "stream",
     "text": [
      "File: 2025-02-25-07-55-38_obstacle_heuristic_force_0.01142.result took 5.112 seconds to process\n"
     ]
    },
    {
     "name": "stderr",
     "output_type": "stream",
     "text": [
      "Processing records: 100%|██████████| 1336/1336 [00:00<00:00, 536074.82it/s]\n"
     ]
    },
    {
     "name": "stdout",
     "output_type": "stream",
     "text": [
      "File: 2025-02-25-07-57-29_obstacle_heuristic_force_0.01663.result took 5.146 seconds to process\n"
     ]
    },
    {
     "name": "stderr",
     "output_type": "stream",
     "text": [
      "Processing records: 100%|██████████| 1336/1336 [00:00<00:00, 581285.28it/s]\n"
     ]
    },
    {
     "name": "stdout",
     "output_type": "stream",
     "text": [
      "File: 2025-02-25-07-59-20_obstacle_heuristic_force_0.02184.result took 5.102 seconds to process\n"
     ]
    },
    {
     "name": "stderr",
     "output_type": "stream",
     "text": [
      "Processing records: 100%|██████████| 1334/1334 [00:00<00:00, 573866.82it/s]\n"
     ]
    },
    {
     "name": "stdout",
     "output_type": "stream",
     "text": [
      "File: 2025-02-25-08-01-11_obstacle_heuristic_force_0.02705.result took 5.368 seconds to process\n"
     ]
    },
    {
     "name": "stderr",
     "output_type": "stream",
     "text": [
      "Processing records: 100%|██████████| 1334/1334 [00:00<00:00, 562671.11it/s]\n"
     ]
    },
    {
     "name": "stdout",
     "output_type": "stream",
     "text": [
      "File: 2025-02-25-08-03-02_obstacle_heuristic_force_0.03226.result took 5.185 seconds to process\n"
     ]
    },
    {
     "name": "stderr",
     "output_type": "stream",
     "text": [
      "Processing records: 100%|██████████| 1334/1334 [00:00<00:00, 541540.99it/s]\n"
     ]
    },
    {
     "name": "stdout",
     "output_type": "stream",
     "text": [
      "File: 2025-02-25-08-04-53_obstacle_heuristic_force_0.03747.result took 5.338 seconds to process\n"
     ]
    },
    {
     "name": "stderr",
     "output_type": "stream",
     "text": [
      "Processing records: 100%|██████████| 1336/1336 [00:00<00:00, 538910.38it/s]\n"
     ]
    },
    {
     "name": "stdout",
     "output_type": "stream",
     "text": [
      "File: 2025-02-25-08-06-44_obstacle_heuristic_force_0.04268.result took 5.374 seconds to process\n"
     ]
    },
    {
     "name": "stderr",
     "output_type": "stream",
     "text": [
      "Processing records: 100%|██████████| 1334/1334 [00:00<00:00, 512615.81it/s]\n"
     ]
    },
    {
     "name": "stdout",
     "output_type": "stream",
     "text": [
      "File: 2025-02-25-08-08-36_obstacle_heuristic_force_0.04789.result took 5.167 seconds to process\n"
     ]
    },
    {
     "name": "stderr",
     "output_type": "stream",
     "text": [
      "Processing records: 100%|██████████| 1334/1334 [00:00<00:00, 587176.15it/s]\n"
     ]
    },
    {
     "name": "stdout",
     "output_type": "stream",
     "text": [
      "File: 2025-02-25-08-10-27_obstacle_heuristic_force_0.05311.result took 5.192 seconds to process\n"
     ]
    },
    {
     "name": "stderr",
     "output_type": "stream",
     "text": [
      "Processing records: 100%|██████████| 1335/1335 [00:00<00:00, 584732.23it/s]\n"
     ]
    },
    {
     "name": "stdout",
     "output_type": "stream",
     "text": [
      "File: 2025-02-25-08-12-18_obstacle_heuristic_force_0.05832.result took 5.130 seconds to process\n"
     ]
    },
    {
     "name": "stderr",
     "output_type": "stream",
     "text": [
      "Processing records: 100%|██████████| 1334/1334 [00:00<00:00, 589527.08it/s]\n"
     ]
    },
    {
     "name": "stdout",
     "output_type": "stream",
     "text": [
      "File: 2025-02-25-08-14-09_obstacle_heuristic_force_0.06353.result took 5.427 seconds to process\n"
     ]
    },
    {
     "name": "stderr",
     "output_type": "stream",
     "text": [
      "Processing records: 100%|██████████| 1334/1334 [00:00<00:00, 526260.49it/s]\n"
     ]
    },
    {
     "name": "stdout",
     "output_type": "stream",
     "text": [
      "File: 2025-02-25-08-16-00_obstacle_heuristic_force_0.06874.result took 5.087 seconds to process\n"
     ]
    },
    {
     "name": "stderr",
     "output_type": "stream",
     "text": [
      "Processing records: 100%|██████████| 1335/1335 [00:00<00:00, 569739.10it/s]\n"
     ]
    },
    {
     "name": "stdout",
     "output_type": "stream",
     "text": [
      "File: 2025-02-25-08-17-51_obstacle_heuristic_force_0.07395.result took 5.077 seconds to process\n"
     ]
    },
    {
     "name": "stderr",
     "output_type": "stream",
     "text": [
      "Processing records: 100%|██████████| 1333/1333 [00:00<00:00, 622884.05it/s]\n"
     ]
    },
    {
     "name": "stdout",
     "output_type": "stream",
     "text": [
      "File: 2025-02-25-08-19-42_obstacle_heuristic_force_0.07916.result took 5.434 seconds to process\n"
     ]
    },
    {
     "name": "stderr",
     "output_type": "stream",
     "text": [
      "Processing records: 100%|██████████| 1334/1334 [00:00<00:00, 567637.37it/s]\n"
     ]
    },
    {
     "name": "stdout",
     "output_type": "stream",
     "text": [
      "File: 2025-02-25-08-21-33_obstacle_heuristic_force_0.08437.result took 5.080 seconds to process\n"
     ]
    },
    {
     "name": "stderr",
     "output_type": "stream",
     "text": [
      "Processing records: 100%|██████████| 1334/1334 [00:00<00:00, 538310.71it/s]\n"
     ]
    },
    {
     "name": "stdout",
     "output_type": "stream",
     "text": [
      "File: 2025-02-25-08-23-24_obstacle_heuristic_force_0.08958.result took 5.144 seconds to process\n"
     ]
    },
    {
     "name": "stderr",
     "output_type": "stream",
     "text": [
      "Processing records: 100%|██████████| 1334/1334 [00:00<00:00, 525371.04it/s]\n"
     ]
    },
    {
     "name": "stdout",
     "output_type": "stream",
     "text": [
      "File: 2025-02-25-08-25-15_obstacle_heuristic_force_0.09479.result took 5.144 seconds to process\n"
     ]
    },
    {
     "name": "stderr",
     "output_type": "stream",
     "text": [
      "Processing records: 100%|██████████| 1334/1334 [00:00<00:00, 473968.79it/s]\n"
     ]
    },
    {
     "name": "stdout",
     "output_type": "stream",
     "text": [
      "File: 2025-02-25-08-27-06_obstacle_heuristic_force_0.10000.result took 5.095 seconds to process\n"
     ]
    },
    {
     "name": "stderr",
     "output_type": "stream",
     "text": [
      "Processing records: 100%|██████████| 1334/1334 [00:00<00:00, 535733.58it/s]\n"
     ]
    },
    {
     "name": "stdout",
     "output_type": "stream",
     "text": [
      "File: 2025-02-25-08-28-57_goalobstacle_heuristic_force_0.00100.result took 5.231 seconds to process\n"
     ]
    },
    {
     "name": "stderr",
     "output_type": "stream",
     "text": [
      "Processing records: 100%|██████████| 1334/1334 [00:00<00:00, 496468.64it/s]\n"
     ]
    },
    {
     "name": "stdout",
     "output_type": "stream",
     "text": [
      "File: 2025-02-25-08-30-49_goalobstacle_heuristic_force_0.00621.result took 5.152 seconds to process\n"
     ]
    },
    {
     "name": "stderr",
     "output_type": "stream",
     "text": [
      "Processing records: 100%|██████████| 1333/1333 [00:00<00:00, 509895.78it/s]\n"
     ]
    },
    {
     "name": "stdout",
     "output_type": "stream",
     "text": [
      "File: 2025-02-25-08-32-40_goalobstacle_heuristic_force_0.01142.result took 5.269 seconds to process\n"
     ]
    },
    {
     "name": "stderr",
     "output_type": "stream",
     "text": [
      "Processing records: 100%|██████████| 1334/1334 [00:00<00:00, 421801.85it/s]\n"
     ]
    },
    {
     "name": "stdout",
     "output_type": "stream",
     "text": [
      "File: 2025-02-25-08-34-31_goalobstacle_heuristic_force_0.01663.result took 5.219 seconds to process\n"
     ]
    },
    {
     "name": "stderr",
     "output_type": "stream",
     "text": [
      "Processing records: 100%|██████████| 1333/1333 [00:00<00:00, 456818.96it/s]\n"
     ]
    },
    {
     "name": "stdout",
     "output_type": "stream",
     "text": [
      "File: 2025-02-25-08-36-22_goalobstacle_heuristic_force_0.02184.result took 5.376 seconds to process\n"
     ]
    },
    {
     "name": "stderr",
     "output_type": "stream",
     "text": [
      "Processing records: 100%|██████████| 1334/1334 [00:00<00:00, 572165.00it/s]\n"
     ]
    },
    {
     "name": "stdout",
     "output_type": "stream",
     "text": [
      "File: 2025-02-25-08-38-13_goalobstacle_heuristic_force_0.02705.result took 5.144 seconds to process\n"
     ]
    },
    {
     "name": "stderr",
     "output_type": "stream",
     "text": [
      "Processing records: 100%|██████████| 1333/1333 [00:00<00:00, 411557.40it/s]\n"
     ]
    },
    {
     "name": "stdout",
     "output_type": "stream",
     "text": [
      "File: 2025-02-25-08-40-04_goalobstacle_heuristic_force_0.03226.result took 5.195 seconds to process\n"
     ]
    },
    {
     "name": "stderr",
     "output_type": "stream",
     "text": [
      "Processing records: 100%|██████████| 1334/1334 [00:00<00:00, 556293.65it/s]\n"
     ]
    },
    {
     "name": "stdout",
     "output_type": "stream",
     "text": [
      "File: 2025-02-25-08-41-55_goalobstacle_heuristic_force_0.03747.result took 5.121 seconds to process\n"
     ]
    },
    {
     "name": "stderr",
     "output_type": "stream",
     "text": [
      "Processing records: 100%|██████████| 1334/1334 [00:00<00:00, 278257.49it/s]\n"
     ]
    },
    {
     "name": "stdout",
     "output_type": "stream",
     "text": [
      "File: 2025-02-25-08-43-46_goalobstacle_heuristic_force_0.04268.result took 5.398 seconds to process\n"
     ]
    },
    {
     "name": "stderr",
     "output_type": "stream",
     "text": [
      "Processing records: 100%|██████████| 1334/1334 [00:00<00:00, 466967.25it/s]\n"
     ]
    },
    {
     "name": "stdout",
     "output_type": "stream",
     "text": [
      "File: 2025-02-25-08-45-37_goalobstacle_heuristic_force_0.04789.result took 5.144 seconds to process\n"
     ]
    },
    {
     "name": "stderr",
     "output_type": "stream",
     "text": [
      "Processing records: 100%|██████████| 1333/1333 [00:00<00:00, 557762.09it/s]\n"
     ]
    },
    {
     "name": "stdout",
     "output_type": "stream",
     "text": [
      "File: 2025-02-25-08-47-28_goalobstacle_heuristic_force_0.05311.result took 5.200 seconds to process\n"
     ]
    },
    {
     "name": "stderr",
     "output_type": "stream",
     "text": [
      "Processing records: 100%|██████████| 1334/1334 [00:00<00:00, 548656.75it/s]\n"
     ]
    },
    {
     "name": "stdout",
     "output_type": "stream",
     "text": [
      "File: 2025-02-25-08-49-19_goalobstacle_heuristic_force_0.05832.result took 5.066 seconds to process\n"
     ]
    },
    {
     "name": "stderr",
     "output_type": "stream",
     "text": [
      "Processing records: 100%|██████████| 1333/1333 [00:00<00:00, 545251.34it/s]\n"
     ]
    },
    {
     "name": "stdout",
     "output_type": "stream",
     "text": [
      "File: 2025-02-25-08-51-10_goalobstacle_heuristic_force_0.06353.result took 5.161 seconds to process\n"
     ]
    },
    {
     "name": "stderr",
     "output_type": "stream",
     "text": [
      "Processing records: 100%|██████████| 1330/1330 [00:00<00:00, 414999.58it/s]\n"
     ]
    },
    {
     "name": "stdout",
     "output_type": "stream",
     "text": [
      "File: 2025-02-25-08-53-02_goalobstacle_heuristic_force_0.06874.result took 5.145 seconds to process\n"
     ]
    },
    {
     "name": "stderr",
     "output_type": "stream",
     "text": [
      "Processing records: 100%|██████████| 1334/1334 [00:00<00:00, 567752.57it/s]\n"
     ]
    },
    {
     "name": "stdout",
     "output_type": "stream",
     "text": [
      "File: 2025-02-25-08-54-53_goalobstacle_heuristic_force_0.07395.result took 5.165 seconds to process\n"
     ]
    },
    {
     "name": "stderr",
     "output_type": "stream",
     "text": [
      "Processing records: 100%|██████████| 1334/1334 [00:00<00:00, 474410.85it/s]\n"
     ]
    },
    {
     "name": "stdout",
     "output_type": "stream",
     "text": [
      "File: 2025-02-25-08-56-44_goalobstacle_heuristic_force_0.07916.result took 5.169 seconds to process\n"
     ]
    },
    {
     "name": "stderr",
     "output_type": "stream",
     "text": [
      "Processing records: 100%|██████████| 1332/1332 [00:00<00:00, 515341.11it/s]\n"
     ]
    },
    {
     "name": "stdout",
     "output_type": "stream",
     "text": [
      "File: 2025-02-25-08-58-35_goalobstacle_heuristic_force_0.08437.result took 5.113 seconds to process\n"
     ]
    },
    {
     "name": "stderr",
     "output_type": "stream",
     "text": [
      "Processing records: 100%|██████████| 1331/1331 [00:00<00:00, 445860.44it/s]\n"
     ]
    },
    {
     "name": "stdout",
     "output_type": "stream",
     "text": [
      "File: 2025-02-25-09-00-26_goalobstacle_heuristic_force_0.08958.result took 5.138 seconds to process\n"
     ]
    },
    {
     "name": "stderr",
     "output_type": "stream",
     "text": [
      "Processing records: 100%|██████████| 1332/1332 [00:00<00:00, 527854.59it/s]\n"
     ]
    },
    {
     "name": "stdout",
     "output_type": "stream",
     "text": [
      "File: 2025-02-25-09-02-17_goalobstacle_heuristic_force_0.09479.result took 5.124 seconds to process\n"
     ]
    },
    {
     "name": "stderr",
     "output_type": "stream",
     "text": [
      "Processing records: 100%|██████████| 1330/1330 [00:00<00:00, 525522.78it/s]\n"
     ]
    },
    {
     "name": "stdout",
     "output_type": "stream",
     "text": [
      "File: 2025-02-25-09-04-08_goalobstacle_heuristic_force_0.10000.result took 5.148 seconds to process\n"
     ]
    }
   ],
   "source": [
    "filepaths = sorted(list(dir_path.glob('*.result')))\n",
    "results_str = {}\n",
    "results = {}\n",
    "for filepath in filepaths:\n",
    "    reader = MetricsReader(filepath, success_time_limit=None, acceptable_min_distances_to_target=None)\n",
    "    results[reader.info['label']] = reader\n",
    "    results_str[reader.info['label']] = reader.format_stats()"
   ]
  },
  {
   "cell_type": "code",
   "execution_count": 11,
   "metadata": {},
   "outputs": [],
   "source": [
    "\n",
    "filename = 'velocity_heuristic_force_0.00621'\n",
    "results[filename].plot_scene()"
   ]
  },
  {
   "cell_type": "code",
   "execution_count": 7,
   "metadata": {},
   "outputs": [
    {
     "data": {
      "text/plain": [
       "['velocity_heuristic_force_0.00100',\n",
       " 'velocity_heuristic_force_0.00621',\n",
       " 'velocity_heuristic_force_0.01142',\n",
       " 'velocity_heuristic_force_0.01663',\n",
       " 'velocity_heuristic_force_0.02184',\n",
       " 'velocity_heuristic_force_0.02705',\n",
       " 'velocity_heuristic_force_0.03226',\n",
       " 'velocity_heuristic_force_0.03747',\n",
       " 'velocity_heuristic_force_0.04268',\n",
       " 'velocity_heuristic_force_0.04789',\n",
       " 'velocity_heuristic_force_0.05311',\n",
       " 'velocity_heuristic_force_0.05832',\n",
       " 'velocity_heuristic_force_0.06353',\n",
       " 'velocity_heuristic_force_0.06874',\n",
       " 'velocity_heuristic_force_0.07395',\n",
       " 'velocity_heuristic_force_0.07916',\n",
       " 'velocity_heuristic_force_0.08437',\n",
       " 'velocity_heuristic_force_0.08958',\n",
       " 'velocity_heuristic_force_0.09479',\n",
       " 'velocity_heuristic_force_0.10000',\n",
       " 'goal_heuristic_force_0.00100',\n",
       " 'goal_heuristic_force_0.00621',\n",
       " 'goal_heuristic_force_0.01142',\n",
       " 'goal_heuristic_force_0.01663',\n",
       " 'goal_heuristic_force_0.02184',\n",
       " 'goal_heuristic_force_0.02705',\n",
       " 'goal_heuristic_force_0.03226',\n",
       " 'goal_heuristic_force_0.03747',\n",
       " 'goal_heuristic_force_0.04268',\n",
       " 'goal_heuristic_force_0.04789',\n",
       " 'goal_heuristic_force_0.05311',\n",
       " 'goal_heuristic_force_0.05832',\n",
       " 'goal_heuristic_force_0.06353',\n",
       " 'goal_heuristic_force_0.06874',\n",
       " 'goal_heuristic_force_0.07395',\n",
       " 'goal_heuristic_force_0.07916',\n",
       " 'goal_heuristic_force_0.08437',\n",
       " 'goal_heuristic_force_0.08958',\n",
       " 'goal_heuristic_force_0.09479',\n",
       " 'goal_heuristic_force_0.10000',\n",
       " 'obstacle_heuristic_force_0.00100',\n",
       " 'obstacle_heuristic_force_0.00621',\n",
       " 'obstacle_heuristic_force_0.01142',\n",
       " 'obstacle_heuristic_force_0.01663',\n",
       " 'obstacle_heuristic_force_0.02184',\n",
       " 'obstacle_heuristic_force_0.02705',\n",
       " 'obstacle_heuristic_force_0.03226',\n",
       " 'obstacle_heuristic_force_0.03747',\n",
       " 'obstacle_heuristic_force_0.04268',\n",
       " 'obstacle_heuristic_force_0.04789',\n",
       " 'obstacle_heuristic_force_0.05311',\n",
       " 'obstacle_heuristic_force_0.05832',\n",
       " 'obstacle_heuristic_force_0.06353',\n",
       " 'obstacle_heuristic_force_0.06874',\n",
       " 'obstacle_heuristic_force_0.07395',\n",
       " 'obstacle_heuristic_force_0.07916',\n",
       " 'obstacle_heuristic_force_0.08437',\n",
       " 'obstacle_heuristic_force_0.08958',\n",
       " 'obstacle_heuristic_force_0.09479',\n",
       " 'obstacle_heuristic_force_0.10000',\n",
       " 'goalobstacle_heuristic_force_0.00100',\n",
       " 'goalobstacle_heuristic_force_0.00621',\n",
       " 'goalobstacle_heuristic_force_0.01142',\n",
       " 'goalobstacle_heuristic_force_0.01663',\n",
       " 'goalobstacle_heuristic_force_0.02184',\n",
       " 'goalobstacle_heuristic_force_0.02705',\n",
       " 'goalobstacle_heuristic_force_0.03226',\n",
       " 'goalobstacle_heuristic_force_0.03747',\n",
       " 'goalobstacle_heuristic_force_0.04268',\n",
       " 'goalobstacle_heuristic_force_0.04789',\n",
       " 'goalobstacle_heuristic_force_0.05311',\n",
       " 'goalobstacle_heuristic_force_0.05832',\n",
       " 'goalobstacle_heuristic_force_0.06353',\n",
       " 'goalobstacle_heuristic_force_0.06874',\n",
       " 'goalobstacle_heuristic_force_0.07395',\n",
       " 'goalobstacle_heuristic_force_0.07916',\n",
       " 'goalobstacle_heuristic_force_0.08437',\n",
       " 'goalobstacle_heuristic_force_0.08958',\n",
       " 'goalobstacle_heuristic_force_0.09479',\n",
       " 'goalobstacle_heuristic_force_0.10000']"
      ]
     },
     "execution_count": 7,
     "metadata": {},
     "output_type": "execute_result"
    }
   ],
   "source": [
    "list(results.keys())"
   ]
  },
  {
   "cell_type": "code",
   "execution_count": 14,
   "metadata": {},
   "outputs": [],
   "source": [
    "poses = results[filename].agent_poses['position']"
   ]
  },
  {
   "cell_type": "code",
   "execution_count": null,
   "metadata": {},
   "outputs": [
    {
     "data": {
      "text/html": [
       "<div>\n",
       "<style scoped>\n",
       "    .dataframe tbody tr th:only-of-type {\n",
       "        vertical-align: middle;\n",
       "    }\n",
       "\n",
       "    .dataframe tbody tr th {\n",
       "        vertical-align: top;\n",
       "    }\n",
       "\n",
       "    .dataframe thead th {\n",
       "        text-align: right;\n",
       "    }\n",
       "</style>\n",
       "<table border=\"1\" class=\"dataframe\">\n",
       "  <thead>\n",
       "    <tr style=\"text-align: right;\">\n",
       "      <th></th>\n",
       "      <th>x</th>\n",
       "      <th>y</th>\n",
       "      <th>z</th>\n",
       "    </tr>\n",
       "  </thead>\n",
       "  <tbody>\n",
       "    <tr>\n",
       "      <th>0</th>\n",
       "      <td>-0.000000</td>\n",
       "      <td>-0.000000</td>\n",
       "      <td>-0.000000e+00</td>\n",
       "    </tr>\n",
       "    <tr>\n",
       "      <th>1</th>\n",
       "      <td>-0.000000</td>\n",
       "      <td>-0.000000</td>\n",
       "      <td>-0.000000e+00</td>\n",
       "    </tr>\n",
       "    <tr>\n",
       "      <th>2</th>\n",
       "      <td>-0.000000</td>\n",
       "      <td>-0.000000</td>\n",
       "      <td>-0.000000e+00</td>\n",
       "    </tr>\n",
       "    <tr>\n",
       "      <th>3</th>\n",
       "      <td>-0.000000</td>\n",
       "      <td>-0.000000</td>\n",
       "      <td>-0.000000e+00</td>\n",
       "    </tr>\n",
       "    <tr>\n",
       "      <th>4</th>\n",
       "      <td>-0.000000</td>\n",
       "      <td>-0.000000</td>\n",
       "      <td>-0.000000e+00</td>\n",
       "    </tr>\n",
       "    <tr>\n",
       "      <th>...</th>\n",
       "      <td>...</td>\n",
       "      <td>...</td>\n",
       "      <td>...</td>\n",
       "    </tr>\n",
       "    <tr>\n",
       "      <th>192</th>\n",
       "      <td>-0.056993</td>\n",
       "      <td>1.593588</td>\n",
       "      <td>2.470108e-13</td>\n",
       "    </tr>\n",
       "    <tr>\n",
       "      <th>193</th>\n",
       "      <td>-0.055877</td>\n",
       "      <td>1.593118</td>\n",
       "      <td>2.463723e-13</td>\n",
       "    </tr>\n",
       "    <tr>\n",
       "      <th>194</th>\n",
       "      <td>-0.054753</td>\n",
       "      <td>1.592642</td>\n",
       "      <td>2.455839e-13</td>\n",
       "    </tr>\n",
       "    <tr>\n",
       "      <th>195</th>\n",
       "      <td>-0.053623</td>\n",
       "      <td>1.592159</td>\n",
       "      <td>2.446555e-13</td>\n",
       "    </tr>\n",
       "    <tr>\n",
       "      <th>196</th>\n",
       "      <td>-0.052488</td>\n",
       "      <td>1.591670</td>\n",
       "      <td>2.435968e-13</td>\n",
       "    </tr>\n",
       "  </tbody>\n",
       "</table>\n",
       "<p>197 rows × 3 columns</p>\n",
       "</div>"
      ],
      "text/plain": [
       "            x         y             z\n",
       "0   -0.000000 -0.000000 -0.000000e+00\n",
       "1   -0.000000 -0.000000 -0.000000e+00\n",
       "2   -0.000000 -0.000000 -0.000000e+00\n",
       "3   -0.000000 -0.000000 -0.000000e+00\n",
       "4   -0.000000 -0.000000 -0.000000e+00\n",
       "..        ...       ...           ...\n",
       "192 -0.056993  1.593588  2.470108e-13\n",
       "193 -0.055877  1.593118  2.463723e-13\n",
       "194 -0.054753  1.592642  2.455839e-13\n",
       "195 -0.053623  1.592159  2.446555e-13\n",
       "196 -0.052488  1.591670  2.435968e-13\n",
       "\n",
       "[197 rows x 3 columns]"
      ]
     },
     "execution_count": 22,
     "metadata": {},
     "output_type": "execute_result"
    }
   ],
   "source": []
  },
  {
   "cell_type": "code",
   "execution_count": 45,
   "metadata": {},
   "outputs": [],
   "source": [
    "traces = []\n",
    "\n",
    "heuristic_name = 'goal'\n",
    "\n",
    "for filename in [k for k in results.keys() if k.split('_')[0] == heuristic_name]:\n",
    "    poses = results[filename].agent_poses['position']\n",
    "    poses_df = pd.DataFrame(poses.values.tolist(), columns=['x', 'y', 'z'])\n",
    "\n",
    "    traces.append(go.Scatter3d(\n",
    "        x=poses_df['x'],\n",
    "        y=poses_df['y'],\n",
    "        z=poses_df['z'],\n",
    "        name=filename.split('_')[-1],\n",
    "        mode='lines+markers',\n",
    "        marker=dict(size=1, \n",
    "                #color='blue', \n",
    "        symbol='circle'),\n",
    "    ))\n",
    "\n",
    "sample_result = results[filename]\n",
    "pcd_df = pd.DataFrame(sample_result.pointclouds.iloc[0]['points'])\n",
    "traces.append(go.Scatter3d(\n",
    "    x=pcd_df[0],\n",
    "    y=pcd_df[1],\n",
    "    z=pcd_df[2],\n",
    "    name='Pointcloud',\n",
    "    mode='markers',\n",
    "    marker=dict(size=2, color='red', symbol='circle'),\n",
    "))\n",
    "# Create start and goal markers.\n",
    "traces.append(go.Scatter3d(\n",
    "    x=[sample_result.start_pos[0]],\n",
    "    y=[sample_result.start_pos[1]],\n",
    "    z=[sample_result.start_pos[2]],\n",
    "    name='Start',\n",
    "    mode='markers',\n",
    "    marker=dict(size=8, color='blue', symbol='diamond'),\n",
    "))\n",
    "traces.append(go.Scatter3d(\n",
    "    x=[sample_result.goal_pos[0]],\n",
    "    y=[sample_result.goal_pos[1]],\n",
    "    z=[sample_result.goal_pos[2]],\n",
    "    mode='markers',\n",
    "    marker=dict(size=8, color='green', symbol='diamond'),\n",
    "    name='Goal'\n",
    "))\n",
    "\n",
    "fig = go.Figure(data=traces)\n",
    "fig.update_layout(\n",
    "    title=f'Visualization: {heuristic_name}, param sweep',\n",
    "    scene=dict(\n",
    "        xaxis_title='X Position',\n",
    "        yaxis_title='Y Position',\n",
    "        zaxis_title='Z Position',\n",
    "        aspectmode='data'\n",
    "    )\n",
    ")\n",
    "fig.show()"
   ]
  },
  {
   "cell_type": "code",
   "execution_count": 46,
   "metadata": {},
   "outputs": [],
   "source": [
    "results[filename].plot_distance_to_goal()"
   ]
  },
  {
   "cell_type": "code",
   "execution_count": 31,
   "metadata": {},
   "outputs": [
    {
     "data": {
      "text/html": [
       "<div>\n",
       "<style scoped>\n",
       "    .dataframe tbody tr th:only-of-type {\n",
       "        vertical-align: middle;\n",
       "    }\n",
       "\n",
       "    .dataframe tbody tr th {\n",
       "        vertical-align: top;\n",
       "    }\n",
       "\n",
       "    .dataframe thead th {\n",
       "        text-align: right;\n",
       "    }\n",
       "</style>\n",
       "<table border=\"1\" class=\"dataframe\">\n",
       "  <thead>\n",
       "    <tr style=\"text-align: right;\">\n",
       "      <th></th>\n",
       "      <th>0</th>\n",
       "      <th>1</th>\n",
       "      <th>2</th>\n",
       "    </tr>\n",
       "  </thead>\n",
       "  <tbody>\n",
       "    <tr>\n",
       "      <th>0</th>\n",
       "      <td>-2.95</td>\n",
       "      <td>0.5</td>\n",
       "      <td>-2.95</td>\n",
       "    </tr>\n",
       "    <tr>\n",
       "      <th>1</th>\n",
       "      <td>-2.95</td>\n",
       "      <td>0.5</td>\n",
       "      <td>-2.85</td>\n",
       "    </tr>\n",
       "    <tr>\n",
       "      <th>2</th>\n",
       "      <td>-2.95</td>\n",
       "      <td>0.5</td>\n",
       "      <td>-2.75</td>\n",
       "    </tr>\n",
       "    <tr>\n",
       "      <th>3</th>\n",
       "      <td>-2.95</td>\n",
       "      <td>0.5</td>\n",
       "      <td>-2.65</td>\n",
       "    </tr>\n",
       "    <tr>\n",
       "      <th>4</th>\n",
       "      <td>-2.95</td>\n",
       "      <td>0.5</td>\n",
       "      <td>-2.55</td>\n",
       "    </tr>\n",
       "    <tr>\n",
       "      <th>...</th>\n",
       "      <td>...</td>\n",
       "      <td>...</td>\n",
       "      <td>...</td>\n",
       "    </tr>\n",
       "    <tr>\n",
       "      <th>5995</th>\n",
       "      <td>2.95</td>\n",
       "      <td>1.0</td>\n",
       "      <td>2.55</td>\n",
       "    </tr>\n",
       "    <tr>\n",
       "      <th>5996</th>\n",
       "      <td>2.95</td>\n",
       "      <td>1.0</td>\n",
       "      <td>2.65</td>\n",
       "    </tr>\n",
       "    <tr>\n",
       "      <th>5997</th>\n",
       "      <td>2.95</td>\n",
       "      <td>1.0</td>\n",
       "      <td>2.75</td>\n",
       "    </tr>\n",
       "    <tr>\n",
       "      <th>5998</th>\n",
       "      <td>2.95</td>\n",
       "      <td>1.0</td>\n",
       "      <td>2.85</td>\n",
       "    </tr>\n",
       "    <tr>\n",
       "      <th>5999</th>\n",
       "      <td>2.95</td>\n",
       "      <td>1.0</td>\n",
       "      <td>2.95</td>\n",
       "    </tr>\n",
       "  </tbody>\n",
       "</table>\n",
       "<p>6000 rows × 3 columns</p>\n",
       "</div>"
      ],
      "text/plain": [
       "         0    1     2\n",
       "0    -2.95  0.5 -2.95\n",
       "1    -2.95  0.5 -2.85\n",
       "2    -2.95  0.5 -2.75\n",
       "3    -2.95  0.5 -2.65\n",
       "4    -2.95  0.5 -2.55\n",
       "...    ...  ...   ...\n",
       "5995  2.95  1.0  2.55\n",
       "5996  2.95  1.0  2.65\n",
       "5997  2.95  1.0  2.75\n",
       "5998  2.95  1.0  2.85\n",
       "5999  2.95  1.0  2.95\n",
       "\n",
       "[6000 rows x 3 columns]"
      ]
     },
     "execution_count": 31,
     "metadata": {},
     "output_type": "execute_result"
    }
   ],
   "source": [
    "pd.DataFrame(results[filename].pointclouds.iloc[0]['points'])\n"
   ]
  }
 ],
 "metadata": {
  "kernelspec": {
   "display_name": "percept_env",
   "language": "python",
   "name": "python3"
  },
  "language_info": {
   "codemirror_mode": {
    "name": "ipython",
    "version": 3
   },
   "file_extension": ".py",
   "mimetype": "text/x-python",
   "name": "python",
   "nbconvert_exporter": "python",
   "pygments_lexer": "ipython3",
   "version": "3.10.16"
  }
 },
 "nbformat": 4,
 "nbformat_minor": 2
}
