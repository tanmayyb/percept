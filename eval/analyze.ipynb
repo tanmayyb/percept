{
 "cells": [
  {
   "cell_type": "code",
   "execution_count": 2,
   "metadata": {},
   "outputs": [],
   "source": [
    "%load_ext autoreload\n",
    "%autoreload 2\n",
    "\n",
    "from process_results import MetricsReader\n",
    "import yaml\n",
    "import plotly.graph_objects as go\n",
    "import plotly.io as pio\n",
    "import pandas as pd\n",
    "import numpy as np\n",
    "from pathlib import Path\n",
    "pio.templates.default = \"plotly_white\"\n",
    "pio.renderers.default = \"browser\""
   ]
  },
  {
   "cell_type": "code",
   "execution_count": 44,
   "metadata": {},
   "outputs": [],
   "source": [
    "plan ='250225_np_hf_k_sweep_r4'\n",
    "dir_path = Path('results')/plan"
   ]
  },
  {
   "cell_type": "code",
   "execution_count": 45,
   "metadata": {},
   "outputs": [
    {
     "name": "stderr",
     "output_type": "stream",
     "text": [
      "Processing records: 100%|██████████| 1938/1938 [00:00<00:00, 530031.37it/s]\n"
     ]
    },
    {
     "name": "stdout",
     "output_type": "stream",
     "text": [
      "File: 2025-02-25-06-37-52_velocity_heuristic_force_0.00100.result took 0.076 seconds to process\n"
     ]
    },
    {
     "name": "stderr",
     "output_type": "stream",
     "text": [
      "Processing records: 100%|██████████| 1931/1931 [00:00<00:00, 359038.97it/s]\n"
     ]
    },
    {
     "name": "stdout",
     "output_type": "stream",
     "text": [
      "File: 2025-02-25-06-39-43_velocity_heuristic_force_0.00621.result took 0.093 seconds to process\n"
     ]
    },
    {
     "name": "stderr",
     "output_type": "stream",
     "text": [
      "Processing records: 100%|██████████| 1920/1920 [00:00<00:00, 516785.19it/s]\n"
     ]
    },
    {
     "name": "stdout",
     "output_type": "stream",
     "text": [
      "File: 2025-02-25-06-41-34_velocity_heuristic_force_0.01142.result took 0.076 seconds to process\n"
     ]
    },
    {
     "name": "stderr",
     "output_type": "stream",
     "text": [
      "Processing records: 100%|██████████| 1918/1918 [00:00<00:00, 538501.58it/s]\n"
     ]
    },
    {
     "name": "stdout",
     "output_type": "stream",
     "text": [
      "File: 2025-02-25-06-43-26_velocity_heuristic_force_0.01663.result took 0.077 seconds to process\n"
     ]
    },
    {
     "name": "stderr",
     "output_type": "stream",
     "text": [
      "Processing records: 100%|██████████| 1970/1970 [00:00<00:00, 529156.51it/s]\n"
     ]
    },
    {
     "name": "stdout",
     "output_type": "stream",
     "text": [
      "File: 2025-02-25-06-45-17_velocity_heuristic_force_0.02184.result took 0.079 seconds to process\n"
     ]
    },
    {
     "name": "stderr",
     "output_type": "stream",
     "text": [
      "Processing records: 100%|██████████| 1917/1917 [00:00<00:00, 461884.24it/s]\n"
     ]
    },
    {
     "name": "stdout",
     "output_type": "stream",
     "text": [
      "File: 2025-02-25-06-47-08_velocity_heuristic_force_0.02705.result took 0.075 seconds to process\n"
     ]
    },
    {
     "name": "stderr",
     "output_type": "stream",
     "text": [
      "Processing records: 100%|██████████| 1922/1922 [00:00<00:00, 582096.35it/s]\n"
     ]
    },
    {
     "name": "stdout",
     "output_type": "stream",
     "text": [
      "File: 2025-02-25-06-48-59_velocity_heuristic_force_0.03226.result took 0.073 seconds to process\n"
     ]
    },
    {
     "name": "stderr",
     "output_type": "stream",
     "text": [
      "Processing records: 100%|██████████| 1918/1918 [00:00<00:00, 534245.92it/s]\n"
     ]
    },
    {
     "name": "stdout",
     "output_type": "stream",
     "text": [
      "File: 2025-02-25-06-50-50_velocity_heuristic_force_0.03747.result took 0.075 seconds to process\n"
     ]
    },
    {
     "name": "stderr",
     "output_type": "stream",
     "text": [
      "Processing records: 100%|██████████| 1916/1916 [00:00<00:00, 471640.73it/s]\n"
     ]
    },
    {
     "name": "stdout",
     "output_type": "stream",
     "text": [
      "File: 2025-02-25-06-52-41_velocity_heuristic_force_0.04268.result took 0.076 seconds to process\n"
     ]
    },
    {
     "name": "stderr",
     "output_type": "stream",
     "text": [
      "Processing records: 100%|██████████| 1917/1917 [00:00<00:00, 430294.38it/s]\n"
     ]
    },
    {
     "name": "stdout",
     "output_type": "stream",
     "text": [
      "File: 2025-02-25-06-54-32_velocity_heuristic_force_0.04789.result took 0.078 seconds to process\n"
     ]
    },
    {
     "name": "stderr",
     "output_type": "stream",
     "text": [
      "Processing records: 100%|██████████| 1916/1916 [00:00<00:00, 449507.02it/s]\n"
     ]
    },
    {
     "name": "stdout",
     "output_type": "stream",
     "text": [
      "File: 2025-02-25-06-56-23_velocity_heuristic_force_0.05311.result took 0.093 seconds to process\n"
     ]
    },
    {
     "name": "stderr",
     "output_type": "stream",
     "text": [
      "Processing records: 100%|██████████| 1916/1916 [00:00<00:00, 291761.78it/s]\n"
     ]
    },
    {
     "name": "stdout",
     "output_type": "stream",
     "text": [
      "File: 2025-02-25-06-58-14_velocity_heuristic_force_0.05832.result took 0.090 seconds to process\n"
     ]
    },
    {
     "name": "stderr",
     "output_type": "stream",
     "text": [
      "Processing records: 100%|██████████| 1918/1918 [00:00<00:00, 220383.94it/s]\n"
     ]
    },
    {
     "name": "stdout",
     "output_type": "stream",
     "text": [
      "File: 2025-02-25-07-00-05_velocity_heuristic_force_0.06353.result took 0.137 seconds to process\n"
     ]
    },
    {
     "name": "stderr",
     "output_type": "stream",
     "text": [
      "Processing records: 100%|██████████| 1917/1917 [00:00<00:00, 528874.61it/s]\n"
     ]
    },
    {
     "name": "stdout",
     "output_type": "stream",
     "text": [
      "File: 2025-02-25-07-01-56_velocity_heuristic_force_0.06874.result took 0.096 seconds to process\n"
     ]
    },
    {
     "name": "stderr",
     "output_type": "stream",
     "text": [
      "Processing records: 100%|██████████| 1916/1916 [00:00<00:00, 565935.67it/s]\n"
     ]
    },
    {
     "name": "stdout",
     "output_type": "stream",
     "text": [
      "File: 2025-02-25-07-03-47_velocity_heuristic_force_0.07395.result took 0.087 seconds to process\n"
     ]
    },
    {
     "name": "stderr",
     "output_type": "stream",
     "text": [
      "Processing records: 100%|██████████| 1918/1918 [00:00<00:00, 408857.24it/s]\n"
     ]
    },
    {
     "name": "stdout",
     "output_type": "stream",
     "text": [
      "File: 2025-02-25-07-05-39_velocity_heuristic_force_0.07916.result took 0.098 seconds to process\n"
     ]
    },
    {
     "name": "stderr",
     "output_type": "stream",
     "text": [
      "Processing records: 100%|██████████| 1920/1920 [00:00<00:00, 305758.36it/s]\n"
     ]
    },
    {
     "name": "stdout",
     "output_type": "stream",
     "text": [
      "File: 2025-02-25-07-07-30_velocity_heuristic_force_0.08437.result took 0.087 seconds to process\n"
     ]
    },
    {
     "name": "stderr",
     "output_type": "stream",
     "text": [
      "Processing records: 100%|██████████| 1917/1917 [00:00<00:00, 442246.34it/s]\n"
     ]
    },
    {
     "name": "stdout",
     "output_type": "stream",
     "text": [
      "File: 2025-02-25-07-09-21_velocity_heuristic_force_0.08958.result took 0.095 seconds to process\n"
     ]
    },
    {
     "name": "stderr",
     "output_type": "stream",
     "text": [
      "Processing records: 100%|██████████| 1916/1916 [00:00<00:00, 569142.10it/s]\n"
     ]
    },
    {
     "name": "stdout",
     "output_type": "stream",
     "text": [
      "File: 2025-02-25-07-11-12_velocity_heuristic_force_0.09479.result took 0.083 seconds to process\n"
     ]
    },
    {
     "name": "stderr",
     "output_type": "stream",
     "text": [
      "Processing records: 100%|██████████| 1919/1919 [00:00<00:00, 519080.96it/s]\n"
     ]
    },
    {
     "name": "stdout",
     "output_type": "stream",
     "text": [
      "File: 2025-02-25-07-13-03_velocity_heuristic_force_0.10000.result took 0.099 seconds to process\n"
     ]
    },
    {
     "name": "stderr",
     "output_type": "stream",
     "text": [
      "Processing records: 100%|██████████| 1918/1918 [00:00<00:00, 461833.35it/s]\n"
     ]
    },
    {
     "name": "stdout",
     "output_type": "stream",
     "text": [
      "File: 2025-02-25-07-14-54_goal_heuristic_force_0.00100.result took 0.086 seconds to process\n"
     ]
    },
    {
     "name": "stderr",
     "output_type": "stream",
     "text": [
      "Processing records: 100%|██████████| 1918/1918 [00:00<00:00, 535990.08it/s]\n"
     ]
    },
    {
     "name": "stdout",
     "output_type": "stream",
     "text": [
      "File: 2025-02-25-07-16-45_goal_heuristic_force_0.00621.result took 0.073 seconds to process\n"
     ]
    },
    {
     "name": "stderr",
     "output_type": "stream",
     "text": [
      "Processing records: 100%|██████████| 1901/1901 [00:00<00:00, 555171.42it/s]\n"
     ]
    },
    {
     "name": "stdout",
     "output_type": "stream",
     "text": [
      "File: 2025-02-25-07-18-36_goal_heuristic_force_0.01142.result took 0.075 seconds to process\n"
     ]
    },
    {
     "name": "stderr",
     "output_type": "stream",
     "text": [
      "Processing records: 100%|██████████| 1916/1916 [00:00<00:00, 491485.93it/s]\n"
     ]
    },
    {
     "name": "stdout",
     "output_type": "stream",
     "text": [
      "File: 2025-02-25-07-20-27_goal_heuristic_force_0.01663.result took 0.083 seconds to process\n"
     ]
    },
    {
     "name": "stderr",
     "output_type": "stream",
     "text": [
      "Processing records: 100%|██████████| 1918/1918 [00:00<00:00, 466357.98it/s]\n"
     ]
    },
    {
     "name": "stdout",
     "output_type": "stream",
     "text": [
      "File: 2025-02-25-07-22-18_goal_heuristic_force_0.02184.result took 0.083 seconds to process\n"
     ]
    },
    {
     "name": "stderr",
     "output_type": "stream",
     "text": [
      "Processing records: 100%|██████████| 1919/1919 [00:00<00:00, 297478.26it/s]\n"
     ]
    },
    {
     "name": "stdout",
     "output_type": "stream",
     "text": [
      "File: 2025-02-25-07-24-09_goal_heuristic_force_0.02705.result took 0.088 seconds to process\n"
     ]
    },
    {
     "name": "stderr",
     "output_type": "stream",
     "text": [
      "Processing records: 100%|██████████| 1920/1920 [00:00<00:00, 299214.67it/s]\n"
     ]
    },
    {
     "name": "stdout",
     "output_type": "stream",
     "text": [
      "File: 2025-02-25-07-26-01_goal_heuristic_force_0.03226.result took 0.092 seconds to process\n"
     ]
    },
    {
     "name": "stderr",
     "output_type": "stream",
     "text": [
      "Processing records: 100%|██████████| 1920/1920 [00:00<00:00, 537085.75it/s]\n"
     ]
    },
    {
     "name": "stdout",
     "output_type": "stream",
     "text": [
      "File: 2025-02-25-07-27-52_goal_heuristic_force_0.03747.result took 0.092 seconds to process\n"
     ]
    },
    {
     "name": "stderr",
     "output_type": "stream",
     "text": [
      "Processing records: 100%|██████████| 1921/1921 [00:00<00:00, 542065.26it/s]\n"
     ]
    },
    {
     "name": "stdout",
     "output_type": "stream",
     "text": [
      "File: 2025-02-25-07-29-43_goal_heuristic_force_0.04268.result took 0.080 seconds to process\n"
     ]
    },
    {
     "name": "stderr",
     "output_type": "stream",
     "text": [
      "Processing records: 100%|██████████| 1919/1919 [00:00<00:00, 527483.41it/s]\n"
     ]
    },
    {
     "name": "stdout",
     "output_type": "stream",
     "text": [
      "File: 2025-02-25-07-31-34_goal_heuristic_force_0.04789.result took 0.095 seconds to process\n"
     ]
    },
    {
     "name": "stderr",
     "output_type": "stream",
     "text": [
      "Processing records: 100%|██████████| 1919/1919 [00:00<00:00, 447060.06it/s]\n"
     ]
    },
    {
     "name": "stdout",
     "output_type": "stream",
     "text": [
      "File: 2025-02-25-07-33-25_goal_heuristic_force_0.05311.result took 0.086 seconds to process\n"
     ]
    },
    {
     "name": "stderr",
     "output_type": "stream",
     "text": [
      "Processing records: 100%|██████████| 1918/1918 [00:00<00:00, 491818.49it/s]\n"
     ]
    },
    {
     "name": "stdout",
     "output_type": "stream",
     "text": [
      "File: 2025-02-25-07-35-16_goal_heuristic_force_0.05832.result took 0.107 seconds to process\n"
     ]
    },
    {
     "name": "stderr",
     "output_type": "stream",
     "text": [
      "Processing records: 100%|██████████| 1917/1917 [00:00<00:00, 463001.31it/s]\n"
     ]
    },
    {
     "name": "stdout",
     "output_type": "stream",
     "text": [
      "File: 2025-02-25-07-37-07_goal_heuristic_force_0.06353.result took 0.098 seconds to process\n"
     ]
    },
    {
     "name": "stderr",
     "output_type": "stream",
     "text": [
      "Processing records: 100%|██████████| 1917/1917 [00:00<00:00, 537357.53it/s]\n"
     ]
    },
    {
     "name": "stdout",
     "output_type": "stream",
     "text": [
      "File: 2025-02-25-07-38-58_goal_heuristic_force_0.06874.result took 0.089 seconds to process\n"
     ]
    },
    {
     "name": "stderr",
     "output_type": "stream",
     "text": [
      "Processing records: 100%|██████████| 1919/1919 [00:00<00:00, 493371.91it/s]\n"
     ]
    },
    {
     "name": "stdout",
     "output_type": "stream",
     "text": [
      "File: 2025-02-25-07-40-49_goal_heuristic_force_0.07395.result took 0.084 seconds to process\n"
     ]
    },
    {
     "name": "stderr",
     "output_type": "stream",
     "text": [
      "Processing records: 100%|██████████| 1918/1918 [00:00<00:00, 539512.78it/s]\n"
     ]
    },
    {
     "name": "stdout",
     "output_type": "stream",
     "text": [
      "File: 2025-02-25-07-42-40_goal_heuristic_force_0.07916.result took 0.090 seconds to process\n"
     ]
    },
    {
     "name": "stderr",
     "output_type": "stream",
     "text": [
      "Processing records: 100%|██████████| 1918/1918 [00:00<00:00, 458673.53it/s]\n"
     ]
    },
    {
     "name": "stdout",
     "output_type": "stream",
     "text": [
      "File: 2025-02-25-07-44-31_goal_heuristic_force_0.08437.result took 0.100 seconds to process\n"
     ]
    },
    {
     "name": "stderr",
     "output_type": "stream",
     "text": [
      "Processing records: 100%|██████████| 1916/1916 [00:00<00:00, 555068.83it/s]\n"
     ]
    },
    {
     "name": "stdout",
     "output_type": "stream",
     "text": [
      "File: 2025-02-25-07-46-22_goal_heuristic_force_0.08958.result took 0.101 seconds to process\n"
     ]
    },
    {
     "name": "stderr",
     "output_type": "stream",
     "text": [
      "Processing records: 100%|██████████| 1918/1918 [00:00<00:00, 503957.59it/s]\n"
     ]
    },
    {
     "name": "stdout",
     "output_type": "stream",
     "text": [
      "File: 2025-02-25-07-48-14_goal_heuristic_force_0.09479.result took 0.079 seconds to process\n"
     ]
    },
    {
     "name": "stderr",
     "output_type": "stream",
     "text": [
      "Processing records: 100%|██████████| 1920/1920 [00:00<00:00, 502030.03it/s]\n"
     ]
    },
    {
     "name": "stdout",
     "output_type": "stream",
     "text": [
      "File: 2025-02-25-07-50-05_goal_heuristic_force_0.10000.result took 0.076 seconds to process\n"
     ]
    },
    {
     "name": "stderr",
     "output_type": "stream",
     "text": [
      "Processing records: 100%|██████████| 1335/1335 [00:00<00:00, 517839.25it/s]\n"
     ]
    },
    {
     "name": "stdout",
     "output_type": "stream",
     "text": [
      "File: 2025-02-25-07-51-56_obstacle_heuristic_force_0.00100.result took 0.074 seconds to process\n"
     ]
    },
    {
     "name": "stderr",
     "output_type": "stream",
     "text": [
      "Processing records: 100%|██████████| 1336/1336 [00:00<00:00, 459876.09it/s]\n"
     ]
    },
    {
     "name": "stdout",
     "output_type": "stream",
     "text": [
      "File: 2025-02-25-07-53-47_obstacle_heuristic_force_0.00621.result took 0.076 seconds to process\n"
     ]
    },
    {
     "name": "stderr",
     "output_type": "stream",
     "text": [
      "Processing records: 100%|██████████| 1334/1334 [00:00<00:00, 444416.33it/s]\n"
     ]
    },
    {
     "name": "stdout",
     "output_type": "stream",
     "text": [
      "File: 2025-02-25-07-55-38_obstacle_heuristic_force_0.01142.result took 0.073 seconds to process\n"
     ]
    },
    {
     "name": "stderr",
     "output_type": "stream",
     "text": [
      "Processing records: 100%|██████████| 1336/1336 [00:00<00:00, 556519.03it/s]\n"
     ]
    },
    {
     "name": "stdout",
     "output_type": "stream",
     "text": [
      "File: 2025-02-25-07-57-29_obstacle_heuristic_force_0.01663.result took 0.077 seconds to process\n"
     ]
    },
    {
     "name": "stderr",
     "output_type": "stream",
     "text": [
      "Processing records: 100%|██████████| 1336/1336 [00:00<00:00, 372554.36it/s]\n"
     ]
    },
    {
     "name": "stdout",
     "output_type": "stream",
     "text": [
      "File: 2025-02-25-07-59-20_obstacle_heuristic_force_0.02184.result took 0.090 seconds to process\n"
     ]
    },
    {
     "name": "stderr",
     "output_type": "stream",
     "text": [
      "Processing records: 100%|██████████| 1334/1334 [00:00<00:00, 585578.39it/s]\n"
     ]
    },
    {
     "name": "stdout",
     "output_type": "stream",
     "text": [
      "File: 2025-02-25-08-01-11_obstacle_heuristic_force_0.02705.result took 0.085 seconds to process\n"
     ]
    },
    {
     "name": "stderr",
     "output_type": "stream",
     "text": [
      "Processing records: 100%|██████████| 1334/1334 [00:00<00:00, 576171.51it/s]\n"
     ]
    },
    {
     "name": "stdout",
     "output_type": "stream",
     "text": [
      "File: 2025-02-25-08-03-02_obstacle_heuristic_force_0.03226.result took 0.075 seconds to process\n"
     ]
    },
    {
     "name": "stderr",
     "output_type": "stream",
     "text": [
      "Processing records: 100%|██████████| 1334/1334 [00:00<00:00, 293418.72it/s]\n"
     ]
    },
    {
     "name": "stdout",
     "output_type": "stream",
     "text": [
      "File: 2025-02-25-08-04-53_obstacle_heuristic_force_0.03747.result took 0.103 seconds to process\n"
     ]
    },
    {
     "name": "stderr",
     "output_type": "stream",
     "text": [
      "Processing records: 100%|██████████| 1336/1336 [00:00<00:00, 521652.41it/s]\n"
     ]
    },
    {
     "name": "stdout",
     "output_type": "stream",
     "text": [
      "File: 2025-02-25-08-06-44_obstacle_heuristic_force_0.04268.result took 0.089 seconds to process\n"
     ]
    },
    {
     "name": "stderr",
     "output_type": "stream",
     "text": [
      "Processing records: 100%|██████████| 1334/1334 [00:00<00:00, 509999.23it/s]\n"
     ]
    },
    {
     "name": "stdout",
     "output_type": "stream",
     "text": [
      "File: 2025-02-25-08-08-36_obstacle_heuristic_force_0.04789.result took 0.104 seconds to process\n"
     ]
    },
    {
     "name": "stderr",
     "output_type": "stream",
     "text": [
      "Processing records: 100%|██████████| 1334/1334 [00:00<00:00, 546726.75it/s]\n"
     ]
    },
    {
     "name": "stdout",
     "output_type": "stream",
     "text": [
      "File: 2025-02-25-08-10-27_obstacle_heuristic_force_0.05311.result took 0.078 seconds to process\n"
     ]
    },
    {
     "name": "stderr",
     "output_type": "stream",
     "text": [
      "Processing records: 100%|██████████| 1335/1335 [00:00<00:00, 480469.87it/s]\n"
     ]
    },
    {
     "name": "stdout",
     "output_type": "stream",
     "text": [
      "File: 2025-02-25-08-12-18_obstacle_heuristic_force_0.05832.result took 0.089 seconds to process\n"
     ]
    },
    {
     "name": "stderr",
     "output_type": "stream",
     "text": [
      "Processing records: 100%|██████████| 1334/1334 [00:00<00:00, 538103.63it/s]\n"
     ]
    },
    {
     "name": "stdout",
     "output_type": "stream",
     "text": [
      "File: 2025-02-25-08-14-09_obstacle_heuristic_force_0.06353.result took 0.072 seconds to process\n"
     ]
    },
    {
     "name": "stderr",
     "output_type": "stream",
     "text": [
      "Processing records: 100%|██████████| 1334/1334 [00:00<00:00, 595487.60it/s]\n"
     ]
    },
    {
     "name": "stdout",
     "output_type": "stream",
     "text": [
      "File: 2025-02-25-08-16-00_obstacle_heuristic_force_0.06874.result took 0.080 seconds to process\n"
     ]
    },
    {
     "name": "stderr",
     "output_type": "stream",
     "text": [
      "Processing records: 100%|██████████| 1335/1335 [00:00<00:00, 503045.17it/s]\n"
     ]
    },
    {
     "name": "stdout",
     "output_type": "stream",
     "text": [
      "File: 2025-02-25-08-17-51_obstacle_heuristic_force_0.07395.result took 0.074 seconds to process\n"
     ]
    },
    {
     "name": "stderr",
     "output_type": "stream",
     "text": [
      "Processing records: 100%|██████████| 1333/1333 [00:00<00:00, 475668.47it/s]\n"
     ]
    },
    {
     "name": "stdout",
     "output_type": "stream",
     "text": [
      "File: 2025-02-25-08-19-42_obstacle_heuristic_force_0.07916.result took 0.089 seconds to process\n"
     ]
    },
    {
     "name": "stderr",
     "output_type": "stream",
     "text": [
      "Processing records: 100%|██████████| 1334/1334 [00:00<00:00, 501362.14it/s]\n"
     ]
    },
    {
     "name": "stdout",
     "output_type": "stream",
     "text": [
      "File: 2025-02-25-08-21-33_obstacle_heuristic_force_0.08437.result took 0.076 seconds to process\n"
     ]
    },
    {
     "name": "stderr",
     "output_type": "stream",
     "text": [
      "Processing records: 100%|██████████| 1334/1334 [00:00<00:00, 458247.46it/s]\n"
     ]
    },
    {
     "name": "stdout",
     "output_type": "stream",
     "text": [
      "File: 2025-02-25-08-23-24_obstacle_heuristic_force_0.08958.result took 0.067 seconds to process\n"
     ]
    },
    {
     "name": "stderr",
     "output_type": "stream",
     "text": [
      "Processing records: 100%|██████████| 1334/1334 [00:00<00:00, 577956.98it/s]\n"
     ]
    },
    {
     "name": "stdout",
     "output_type": "stream",
     "text": [
      "File: 2025-02-25-08-25-15_obstacle_heuristic_force_0.09479.result took 0.076 seconds to process\n"
     ]
    },
    {
     "name": "stderr",
     "output_type": "stream",
     "text": [
      "Processing records: 100%|██████████| 1334/1334 [00:00<00:00, 582894.21it/s]\n"
     ]
    },
    {
     "name": "stdout",
     "output_type": "stream",
     "text": [
      "File: 2025-02-25-08-27-06_obstacle_heuristic_force_0.10000.result took 0.072 seconds to process\n"
     ]
    },
    {
     "name": "stderr",
     "output_type": "stream",
     "text": [
      "Processing records: 100%|██████████| 1334/1334 [00:00<00:00, 487514.29it/s]\n"
     ]
    },
    {
     "name": "stdout",
     "output_type": "stream",
     "text": [
      "File: 2025-02-25-08-28-57_goalobstacle_heuristic_force_0.00100.result took 0.075 seconds to process\n"
     ]
    },
    {
     "name": "stderr",
     "output_type": "stream",
     "text": [
      "Processing records: 100%|██████████| 1334/1334 [00:00<00:00, 548764.37it/s]\n"
     ]
    },
    {
     "name": "stdout",
     "output_type": "stream",
     "text": [
      "File: 2025-02-25-08-30-49_goalobstacle_heuristic_force_0.00621.result took 0.106 seconds to process\n"
     ]
    },
    {
     "name": "stderr",
     "output_type": "stream",
     "text": [
      "Processing records: 100%|██████████| 1333/1333 [00:00<00:00, 491128.53it/s]\n"
     ]
    },
    {
     "name": "stdout",
     "output_type": "stream",
     "text": [
      "File: 2025-02-25-08-32-40_goalobstacle_heuristic_force_0.01142.result took 0.068 seconds to process\n"
     ]
    },
    {
     "name": "stderr",
     "output_type": "stream",
     "text": [
      "Processing records: 100%|██████████| 1334/1334 [00:00<00:00, 400658.90it/s]\n"
     ]
    },
    {
     "name": "stdout",
     "output_type": "stream",
     "text": [
      "File: 2025-02-25-08-34-31_goalobstacle_heuristic_force_0.01663.result took 0.101 seconds to process\n"
     ]
    },
    {
     "name": "stderr",
     "output_type": "stream",
     "text": [
      "Processing records: 100%|██████████| 1333/1333 [00:00<00:00, 611439.99it/s]\n"
     ]
    },
    {
     "name": "stdout",
     "output_type": "stream",
     "text": [
      "File: 2025-02-25-08-36-22_goalobstacle_heuristic_force_0.02184.result took 0.073 seconds to process\n"
     ]
    },
    {
     "name": "stderr",
     "output_type": "stream",
     "text": [
      "Processing records: 100%|██████████| 1334/1334 [00:00<00:00, 547690.05it/s]\n"
     ]
    },
    {
     "name": "stdout",
     "output_type": "stream",
     "text": [
      "File: 2025-02-25-08-38-13_goalobstacle_heuristic_force_0.02705.result took 0.094 seconds to process\n"
     ]
    },
    {
     "name": "stderr",
     "output_type": "stream",
     "text": [
      "Processing records: 100%|██████████| 1333/1333 [00:00<00:00, 517350.54it/s]\n"
     ]
    },
    {
     "name": "stdout",
     "output_type": "stream",
     "text": [
      "File: 2025-02-25-08-40-04_goalobstacle_heuristic_force_0.03226.result took 0.075 seconds to process\n"
     ]
    },
    {
     "name": "stderr",
     "output_type": "stream",
     "text": [
      "Processing records: 100%|██████████| 1334/1334 [00:00<00:00, 447974.50it/s]\n"
     ]
    },
    {
     "name": "stdout",
     "output_type": "stream",
     "text": [
      "File: 2025-02-25-08-41-55_goalobstacle_heuristic_force_0.03747.result took 0.103 seconds to process\n"
     ]
    },
    {
     "name": "stderr",
     "output_type": "stream",
     "text": [
      "Processing records: 100%|██████████| 1334/1334 [00:00<00:00, 291903.25it/s]\n"
     ]
    },
    {
     "name": "stdout",
     "output_type": "stream",
     "text": [
      "File: 2025-02-25-08-43-46_goalobstacle_heuristic_force_0.04268.result took 0.069 seconds to process\n"
     ]
    },
    {
     "name": "stderr",
     "output_type": "stream",
     "text": [
      "Processing records: 100%|██████████| 1334/1334 [00:00<00:00, 526260.49it/s]\n"
     ]
    },
    {
     "name": "stdout",
     "output_type": "stream",
     "text": [
      "File: 2025-02-25-08-45-37_goalobstacle_heuristic_force_0.04789.result took 0.074 seconds to process\n"
     ]
    },
    {
     "name": "stderr",
     "output_type": "stream",
     "text": [
      "Processing records: 100%|██████████| 1333/1333 [00:00<00:00, 505470.32it/s]\n"
     ]
    },
    {
     "name": "stdout",
     "output_type": "stream",
     "text": [
      "File: 2025-02-25-08-47-28_goalobstacle_heuristic_force_0.05311.result took 0.100 seconds to process\n"
     ]
    },
    {
     "name": "stderr",
     "output_type": "stream",
     "text": [
      "Processing records: 100%|██████████| 1334/1334 [00:00<00:00, 439839.76it/s]\n"
     ]
    },
    {
     "name": "stdout",
     "output_type": "stream",
     "text": [
      "File: 2025-02-25-08-49-19_goalobstacle_heuristic_force_0.05832.result took 0.073 seconds to process\n"
     ]
    },
    {
     "name": "stderr",
     "output_type": "stream",
     "text": [
      "Processing records: 100%|██████████| 1333/1333 [00:00<00:00, 521549.18it/s]\n"
     ]
    },
    {
     "name": "stdout",
     "output_type": "stream",
     "text": [
      "File: 2025-02-25-08-51-10_goalobstacle_heuristic_force_0.06353.result took 0.092 seconds to process\n"
     ]
    },
    {
     "name": "stderr",
     "output_type": "stream",
     "text": [
      "Processing records: 100%|██████████| 1330/1330 [00:00<00:00, 560814.75it/s]\n"
     ]
    },
    {
     "name": "stdout",
     "output_type": "stream",
     "text": [
      "File: 2025-02-25-08-53-02_goalobstacle_heuristic_force_0.06874.result took 0.071 seconds to process\n"
     ]
    },
    {
     "name": "stderr",
     "output_type": "stream",
     "text": [
      "Processing records: 100%|██████████| 1334/1334 [00:00<00:00, 552776.28it/s]\n"
     ]
    },
    {
     "name": "stdout",
     "output_type": "stream",
     "text": [
      "File: 2025-02-25-08-54-53_goalobstacle_heuristic_force_0.07395.result took 0.097 seconds to process\n"
     ]
    },
    {
     "name": "stderr",
     "output_type": "stream",
     "text": [
      "Processing records: 100%|██████████| 1334/1334 [00:00<00:00, 531509.60it/s]\n"
     ]
    },
    {
     "name": "stdout",
     "output_type": "stream",
     "text": [
      "File: 2025-02-25-08-56-44_goalobstacle_heuristic_force_0.07916.result took 0.087 seconds to process\n"
     ]
    },
    {
     "name": "stderr",
     "output_type": "stream",
     "text": [
      "Processing records: 100%|██████████| 1332/1332 [00:00<00:00, 243126.90it/s]\n"
     ]
    },
    {
     "name": "stdout",
     "output_type": "stream",
     "text": [
      "File: 2025-02-25-08-58-35_goalobstacle_heuristic_force_0.08437.result took 0.076 seconds to process\n"
     ]
    },
    {
     "name": "stderr",
     "output_type": "stream",
     "text": [
      "Processing records: 100%|██████████| 1331/1331 [00:00<00:00, 489789.32it/s]\n"
     ]
    },
    {
     "name": "stdout",
     "output_type": "stream",
     "text": [
      "File: 2025-02-25-09-00-26_goalobstacle_heuristic_force_0.08958.result took 0.086 seconds to process\n"
     ]
    },
    {
     "name": "stderr",
     "output_type": "stream",
     "text": [
      "Processing records: 100%|██████████| 1332/1332 [00:00<00:00, 498956.23it/s]\n"
     ]
    },
    {
     "name": "stdout",
     "output_type": "stream",
     "text": [
      "File: 2025-02-25-09-02-17_goalobstacle_heuristic_force_0.09479.result took 0.070 seconds to process\n"
     ]
    },
    {
     "name": "stderr",
     "output_type": "stream",
     "text": [
      "Processing records: 100%|██████████| 1330/1330 [00:00<00:00, 491404.54it/s]"
     ]
    },
    {
     "name": "stdout",
     "output_type": "stream",
     "text": [
      "File: 2025-02-25-09-04-08_goalobstacle_heuristic_force_0.10000.result took 0.112 seconds to process\n"
     ]
    },
    {
     "name": "stderr",
     "output_type": "stream",
     "text": [
      "\n"
     ]
    }
   ],
   "source": [
    "filepaths = sorted(list(dir_path.glob('*.result')))\n",
    "results_str = {}\n",
    "results = {}\n",
    "for filepath in filepaths:\n",
    "    reader = MetricsReader(\n",
    "        filepath, \n",
    "        success_time_limit=65.0, \n",
    "        acceptable_min_distances_to_target=0.10\n",
    "    )\n",
    "    results[reader.info['label']] = reader\n",
    "    results_str[reader.info['label']] = reader.format_stats()"
   ]
  },
  {
   "cell_type": "code",
   "execution_count": 85,
   "metadata": {},
   "outputs": [
    {
     "name": "stdout",
     "output_type": "stream",
     "text": [
      "Success rates:\n",
      "velocity: 5.0%\n",
      "goal: 0.0%\n",
      "obstacle: 0.0%\n",
      "goalobstacle: 85.0%\n"
     ]
    }
   ],
   "source": [
    "class ResultsAnalyzer:\n",
    "    def __init__(self, results):\n",
    "        self.results = results\n",
    "        self.ret = {}\n",
    "        self.process_heuristics()\n",
    "        self._process_success_rate()\n",
    "\n",
    "    def _process_success_rate(self):\n",
    "        success = {}\n",
    "        for heuristic_name in ['velocity','goal', 'obstacle', 'goalobstacle', ]:\n",
    "            success[heuristic_name] = {float(k.split('_')[-1]): v for k, v in analysis.ret[heuristic_name]['success'].items()}\n",
    "        # self.success = success\n",
    "        success_df = pd.DataFrame({k: {kk: v=='True' for kk,v in vv.items()} for k,vv in success.items()})\n",
    "\n",
    "        print(\"Success rates:\")\n",
    "        for column in success_df.columns:\n",
    "            success_rate = success_df[column].apply(lambda x: 1.0 if x==True else 0.0).sum() / float(len(success_df)) * 100.0\n",
    "            print(f\"{column}: {success_rate:.1f}%\")\n",
    "\n",
    "        self.success = success\n",
    "        self.success_df = success_df\n",
    "\n",
    "\n",
    "    def process_heuristics(self):\n",
    "        for heuristic_name in ['velocity', 'goal', 'obstacle', 'goalobstacle']:\n",
    "            self.process_heuristic(heuristic_name)\n",
    "\n",
    "    def process_heuristic(self, heuristic_name):\n",
    "        pose_traces = []\n",
    "        min_obstacle_distances = {}\n",
    "        timestamps = {}\n",
    "        success = {}\n",
    "\n",
    "        filenames = [k for k in self.results.keys() if k.split('_')[0] == heuristic_name]\n",
    "        for filename in filenames:\n",
    "\n",
    "            # did the agent satisfy the success criteria?\n",
    "            success[filename] = self.results[filename].info['success']\n",
    "\n",
    "            # pose traces\n",
    "            poses = self.results[filename].agent_poses['position']\n",
    "            poses_df = pd.DataFrame(poses.values.tolist(), columns=['x', 'y', 'z'])\n",
    "            pose_traces.append(go.Scatter3d(\n",
    "                x=poses_df['x'],\n",
    "                y=poses_df['y'],\n",
    "                z=poses_df['z'],\n",
    "                name=heuristic_name,\n",
    "            ))\n",
    "            # min obstacle distances\n",
    "            min_d2obs = self.results[filename].info['min_distances_to_obstacles']\n",
    "            min_obstacle_distances[filename] = min_d2obs\n",
    "            timestamps[filename] = self.results[filename].info['timestamps']\n",
    "\n",
    "        ret = {\n",
    "            'pose_traces': pose_traces,\n",
    "            'min_obstacle_distances': min_obstacle_distances,\n",
    "            'timestamps': timestamps,\n",
    "            'success': success,\n",
    "        }\n",
    "        self.ret[heuristic_name] = ret\n",
    "        # return ret\n",
    "\n",
    "    def plot_heuristic_performance_heatmap(self):\n",
    "        \n",
    "        success_df = self.success_df\n",
    "        # Create a heatmap using plotly\n",
    "        import plotly.graph_objects as go\n",
    "\n",
    "        # Convert success rates to numeric values (0 for False, 1 for True)\n",
    "        heatmap_data = success_df.astype(int)\n",
    "\n",
    "        # Create heatmap\n",
    "        fig = go.Figure(data=go.Heatmap(\n",
    "            z=heatmap_data.T,  # Transpose to get heuristics as y-axis\n",
    "            x=heatmap_data.index,  # Force values\n",
    "            y=heatmap_data.columns,  # Heuristic names\n",
    "            colorscale='RdYlGn',  # Red (0) to Green (1) colorscale\n",
    "            showscale=True,\n",
    "            colorbar=dict(title='Success'),\n",
    "            text=heatmap_data.T,  # Add text values\n",
    "            texttemplate=\"%{text}\",  # Show the actual values\n",
    "            textfont={\"size\": 10},\n",
    "        ))\n",
    "\n",
    "        # Update layout\n",
    "        fig.update_layout(\n",
    "            title=f'Success Heatmap (Heuristic vs K Value), {plan}',\n",
    "            xaxis_title='K Value',\n",
    "            yaxis_title='Heuristic',\n",
    "            xaxis=dict(\n",
    "                # type='log',  # Use log scale for force values\n",
    "                type='linear',\n",
    "                ticktext=[f\"{x:.1e}\" for x in heatmap_data.index],  # Show actual values\n",
    "                tickvals=heatmap_data.index,  # Position ticks at index values\n",
    "            )\n",
    "        )\n",
    "\n",
    "        return fig\n",
    "        \n",
    "\n",
    "analysis = ResultsAnalyzer(results)\n",
    "# analysis.process_heuristics()"
   ]
  },
  {
   "cell_type": "code",
   "execution_count": 61,
   "metadata": {},
   "outputs": [],
   "source": [
    "analysis.plot_heuristic_performance_heatmap()"
   ]
  },
  {
   "cell_type": "markdown",
   "metadata": {},
   "source": [
    "## Analysis"
   ]
  },
  {
   "cell_type": "code",
   "execution_count": 67,
   "metadata": {},
   "outputs": [
    {
     "name": "stdout",
     "output_type": "stream",
     "text": [
      "goalobstacle_heuristic_force_0.01663\n"
     ]
    }
   ],
   "source": [
    "filenames = [k for k in results.keys() if k.split('_')[0] == 'goalobstacle']\n",
    "file_id = 3\n",
    "\n",
    "filename = filenames[file_id]\n",
    "print(results[filename].info['label'])\n",
    "results[filename].plot_scene().show()\n",
    "results[filename].plot_distance_to_goal().show()\n",
    "results[filename].plot_distance_to_closest_obstacle().show()"
   ]
  },
  {
   "cell_type": "code",
   "execution_count": 76,
   "metadata": {},
   "outputs": [
    {
     "name": "stdout",
     "output_type": "stream",
     "text": [
      "['label',\n",
      " 'success',\n",
      " 'timestamps',\n",
      " 'num_agents',\n",
      " 'num_obstacles',\n",
      " 'num_collisions',\n",
      " 'collision_timestamps',\n",
      " 'collision_indices',\n",
      " 'detection_shell_radius',\n",
      " 'agent_switches',\n",
      " 'agent_residency_pct',\n",
      " 'agent_positions',\n",
      " 'distances_to_obstacles',\n",
      " 'min_distances_to_obstacles',\n",
      " 'max_distances_to_obstacles',\n",
      " 'distance_to_target',\n",
      " 'path_length',\n",
      " 'motion_start_timestamp',\n",
      " 'motion_start_pos',\n",
      " 'experiment_start_timestamp',\n",
      " 'experiment_end_timestamp',\n",
      " 'elapsed_experiment_runtime',\n",
      " 'elapsed_motion_runtime',\n",
      " 'min_distances_to_target',\n",
      " 'min_distances_to_target_timestamp',\n",
      " 'average_planning_time']\n"
     ]
    }
   ],
   "source": [
    "from pprint import pprint\n",
    "pprint(list(results[filename].info.keys()))"
   ]
  },
  {
   "cell_type": "code",
   "execution_count": 79,
   "metadata": {},
   "outputs": [
    {
     "data": {
      "text/plain": [
       "65.58363318443298"
      ]
     },
     "execution_count": 79,
     "metadata": {},
     "output_type": "execute_result"
    }
   ],
   "source": [
    "results[filename].info['elapsed_motion_runtime']"
   ]
  },
  {
   "cell_type": "code",
   "execution_count": 66,
   "metadata": {},
   "outputs": [
    {
     "data": {
      "text/plain": [
       "'goalobstacle_heuristic_force_0.01663'"
      ]
     },
     "execution_count": 66,
     "metadata": {},
     "output_type": "execute_result"
    }
   ],
   "source": [
    "filename"
   ]
  },
  {
   "cell_type": "code",
   "execution_count": null,
   "metadata": {},
   "outputs": [],
   "source": [
    "\n",
    "# traces = []\n",
    "\n",
    "# heuristic_name = 'velocity'\n",
    "# filenames = [k for k in results.keys() if k.split('_')[0] == heuristic_name]\n",
    "\n",
    "# for filename in filenames:\n",
    "#     poses = results[filename].agent_poses['position']\n",
    "#     poses_df = pd.DataFrame(poses.values.tolist(), columns=['x', 'y', 'z'])\n",
    "\n",
    "#     traces.append(go.Scatter3d(\n",
    "#         x=poses_df['x'],\n",
    "#         y=poses_df['y'],\n",
    "#         z=poses_df['z'],\n",
    "#         name=filename.split('_')[-1],\n",
    "#         mode='lines+markers',\n",
    "#         marker=dict(size=1, \n",
    "#                 #color='blue', \n",
    "#         symbol='circle'),\n",
    "#     ))\n",
    "\n",
    "# sample_result = results[filename]\n",
    "# pcd_df = pd.DataFrame(sample_result.pointclouds.iloc[0]['points'])\n",
    "# traces.append(go.Scatter3d(\n",
    "#     x=pcd_df[0],\n",
    "#     y=pcd_df[1],\n",
    "#     z=pcd_df[2],\n",
    "#     name='Pointcloud',\n",
    "#     mode='markers',\n",
    "#     marker=dict(size=2, color='red', symbol='circle'),\n",
    "# ))\n",
    "# # Create start and goal markers.\n",
    "# traces.append(go.Scatter3d(\n",
    "#     x=[sample_result.start_pos[0]],\n",
    "#     y=[sample_result.start_pos[1]],\n",
    "#     z=[sample_result.start_pos[2]],\n",
    "#     name='Start',\n",
    "#     mode='markers',\n",
    "#     marker=dict(size=8, color='blue', symbol='diamond'),\n",
    "# ))\n",
    "# traces.append(go.Scatter3d(\n",
    "#     x=[sample_result.goal_pos[0]],\n",
    "#     y=[sample_result.goal_pos[1]],\n",
    "#     z=[sample_result.goal_pos[2]],\n",
    "#     mode='markers',\n",
    "#     marker=dict(size=8, color='green', symbol='diamond'),\n",
    "#     name='Goal'\n",
    "# ))\n",
    "\n",
    "# fig = go.Figure(data=traces)\n",
    "# fig.update_layout(\n",
    "#     title=f'Visualization: {heuristic_name}, param sweep',\n",
    "#     scene=dict(\n",
    "#         xaxis_title='X Position',\n",
    "#         yaxis_title='Y Position',\n",
    "#         zaxis_title='Z Position',\n",
    "#         aspectmode='data'\n",
    "#     )\n",
    "# )\n",
    "# fig.show()"
   ]
  },
  {
   "cell_type": "code",
   "execution_count": 17,
   "metadata": {},
   "outputs": [],
   "source": [
    "traces = []\n",
    "\n",
    "heuristic_name = 'goal'\n",
    "timestamps = results[filename].info['timestamps']\n",
    "\n",
    "\n",
    "for filename in [k for k in results.keys() if k.split('_')[0] == heuristic_name]:\n",
    "    poses = results[filename].agent_poses['position']\n",
    "    # poses_df = pd.DataFrame(poses.values.tolist(), columns=['x', 'y', 'z'])\n",
    "\n",
    "    # traces.append(go.Scatter3d(\n",
    "    #     x=poses_df['x'],\n",
    "    #     y=poses_df['y'],\n",
    "    #     z=poses_df['z'],\n",
    "    #     name=filename.split('_')[-1],\n",
    "    #     mode='lines+markers',\n",
    "    #     marker=dict(size=1, \n",
    "    #             #color='blue', \n",
    "    #     symbol='circle'),\n",
    "    # ))\n",
    "    distances = results[filename].info['min_distances_to_obstacles']\n",
    "    traces.append(go.Scattergl(\n",
    "        x=timestamps,\n",
    "        y=distances,\n",
    "        name=filename.split('_')[-1],\n",
    "\n",
    "    ))\n",
    "\n",
    "# sample_result = results[filename]\n",
    "# pcd_df = pd.DataFrame(sample_result.pointclouds.iloc[0]['points'])\n",
    "# traces.append(go.Scatter3d(\n",
    "#     x=pcd_df[0],\n",
    "#     y=pcd_df[1],\n",
    "#     z=pcd_df[2],\n",
    "#     name='Pointcloud',\n",
    "#     mode='markers',\n",
    "#     marker=dict(size=2, color='red', symbol='circle'),\n",
    "# ))\n",
    "# # Create start and goal markers.\n",
    "# traces.append(go.Scatter3d(\n",
    "#     x=[sample_result.start_pos[0]],\n",
    "#     y=[sample_result.start_pos[1]],\n",
    "#     z=[sample_result.start_pos[2]],\n",
    "#     name='Start',\n",
    "#     mode='markers',\n",
    "#     marker=dict(size=8, color='blue', symbol='diamond'),\n",
    "# ))\n",
    "# traces.append(go.Scatter3d(\n",
    "#     x=[sample_result.goal_pos[0]],\n",
    "#     y=[sample_result.goal_pos[1]],\n",
    "#     z=[sample_result.goal_pos[2]],\n",
    "#     mode='markers',\n",
    "#     marker=dict(size=8, color='green', symbol='diamond'),\n",
    "#     name='Goal'\n",
    "# ))\n",
    "\n",
    "fig = go.Figure(data=traces)\n",
    "# fig.update_layout(\n",
    "#     title=f'Visualization: {heuristic_name}, param sweep',\n",
    "#     scene=dict(\n",
    "#         xaxis_title='X Position',\n",
    "#         yaxis_title='Y Position',\n",
    "#         zaxis_title='Z Position',\n",
    "#         aspectmode='data'\n",
    "#     )\n",
    "# )\n",
    "fig.show()"
   ]
  }
 ],
 "metadata": {
  "kernelspec": {
   "display_name": "percept_env",
   "language": "python",
   "name": "python3"
  },
  "language_info": {
   "codemirror_mode": {
    "name": "ipython",
    "version": 3
   },
   "file_extension": ".py",
   "mimetype": "text/x-python",
   "name": "python",
   "nbconvert_exporter": "python",
   "pygments_lexer": "ipython3",
   "version": "3.10.16"
  }
 },
 "nbformat": 4,
 "nbformat_minor": 2
}
